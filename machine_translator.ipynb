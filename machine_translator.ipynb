{
 "cells": [
  {
   "cell_type": "code",
   "execution_count": 5,
   "metadata": {
    "execution": {
     "iopub.execute_input": "2023-06-19T14:39:07.906110Z",
     "iopub.status.busy": "2023-06-19T14:39:07.904490Z",
     "iopub.status.idle": "2023-06-19T14:39:08.985717Z",
     "shell.execute_reply": "2023-06-19T14:39:08.984324Z",
     "shell.execute_reply.started": "2023-06-19T14:39:07.906036Z"
    }
   },
   "outputs": [
    {
     "name": "stdout",
     "output_type": "stream",
     "text": [
      "README.md\t    ctx.subwords\t      requirements.txt\n",
      "corpus.en_ru.1m.en  machine_translator.ipynb  rus.txt\n",
      "corpus.en_ru.1m.ru  mt2.ipynb\t\t      trg.subwords\n"
     ]
    }
   ],
   "source": [
    "!ls /notebooks"
   ]
  },
  {
   "cell_type": "code",
   "execution_count": 3,
   "metadata": {
    "execution": {
     "iopub.execute_input": "2023-06-19T14:38:05.974511Z",
     "iopub.status.busy": "2023-06-19T14:38:05.974161Z",
     "iopub.status.idle": "2023-06-19T14:38:09.055864Z",
     "shell.execute_reply": "2023-06-19T14:38:09.054101Z",
     "shell.execute_reply.started": "2023-06-19T14:38:05.974486Z"
    }
   },
   "outputs": [],
   "source": [
    "!pip list > /notebooks/requirements.txt"
   ]
  },
  {
   "cell_type": "code",
   "execution_count": 1,
   "metadata": {
    "colab": {
     "base_uri": "https://localhost:8080/",
     "height": 1000
    },
    "execution": {
     "iopub.execute_input": "2023-06-19T14:37:20.445956Z",
     "iopub.status.busy": "2023-06-19T14:37:20.445535Z",
     "iopub.status.idle": "2023-06-19T14:37:23.888603Z",
     "shell.execute_reply": "2023-06-19T14:37:23.887532Z",
     "shell.execute_reply.started": "2023-06-19T14:37:20.445924Z"
    },
    "id": "Nc1jqZZHzEsQ",
    "outputId": "152ec7b8-c3dc-4839-f3d0-945770f264f4",
    "tags": []
   },
   "outputs": [
    {
     "name": "stdout",
     "output_type": "stream",
     "text": [
      "\u001b[33mDEPRECATION: --no-binary currently disables reading from the cache of locally built wheels. In the future --no-binary will not influence the wheel cache. pip 23.1 will enforce this behaviour change. A possible replacement is to use the --no-cache-dir option. You can use the flag --use-feature=no-binary-enable-wheel-cache to test the upcoming behaviour. Discussion can be found at https://github.com/pypa/pip/issues/11453\u001b[0m\u001b[33m\n",
      "\u001b[0mRequirement already satisfied: transformers in /usr/local/lib/python3.9/dist-packages (4.21.3)\n",
      "Requirement already satisfied: sentencepiece in /usr/local/lib/python3.9/dist-packages (0.1.97)\n",
      "Requirement already satisfied: datasets in /usr/local/lib/python3.9/dist-packages (2.4.0)\n",
      "\u001b[31mERROR: Could not find a version that satisfies the requirement tensorflow_text (from versions: none)\u001b[0m\u001b[31m\n",
      "\u001b[0m\u001b[31mERROR: No matching distribution found for tensorflow_text\u001b[0m\u001b[31m\n",
      "\u001b[0m"
     ]
    }
   ],
   "source": [
    "!pip install transformers sentencepiece datasets tensorflow_text einops subword-nmt langid tensorrt --no-binary :all: tensorflow"
   ]
  },
  {
   "cell_type": "markdown",
   "metadata": {
    "id": "kQmabPo1qwV0"
   },
   "source": [
    "# Neural Machine Translation for English and Russian: A BERT-Based Approach\n",
    "\n",
    "\n",
    "---\n",
    "\n",
    "\n"
   ]
  },
  {
   "cell_type": "markdown",
   "metadata": {
    "id": "xwbGqMCHruOE"
   },
   "source": [
    "## Mathematical knowledge for Text-Data Manipulation"
   ]
  },
  {
   "cell_type": "markdown",
   "metadata": {
    "id": "rHJGSX2JkSvs"
   },
   "source": [
    "### initial step: imports and necessary tools"
   ]
  },
  {
   "cell_type": "code",
   "execution_count": 183,
   "metadata": {
    "execution": {
     "iopub.execute_input": "2023-06-15T19:55:37.429039Z",
     "iopub.status.busy": "2023-06-15T19:55:37.428459Z",
     "iopub.status.idle": "2023-06-15T19:55:37.440741Z",
     "shell.execute_reply": "2023-06-15T19:55:37.439338Z",
     "shell.execute_reply.started": "2023-06-15T19:55:37.429039Z"
    },
    "id": "8F3zAEyqPh59",
    "tags": []
   },
   "outputs": [],
   "source": [
    "import langid\n",
    "import random\n",
    "import os\n",
    "import pathlib\n",
    "\n",
    "import typing\n",
    "from typing import Any, Tuple\n",
    "\n",
    "import string\n",
    "import re\n",
    "from string import punctuation\n",
    "import nltk\n",
    "\n",
    "import numpy as np\n",
    "import pandas as pd\n",
    "\n",
    "import einops\n",
    "import matplotlib.pyplot as plt\n",
    "import matplotlib.ticker as ticker\n",
    "import transformers as trns\n",
    "\n",
    "import tensorflow as tf\n",
    "from tensorflow import keras\n",
    "from tensorflow.keras import layers\n",
    "import tensorflow_datasets as tfds\n",
    "from tensorflow.keras.layers import TextVectorization\n",
    "import tensorflow_text as tf_text"
   ]
  },
  {
   "cell_type": "code",
   "execution_count": 184,
   "metadata": {
    "execution": {
     "iopub.execute_input": "2023-06-15T19:55:40.157066Z",
     "iopub.status.busy": "2023-06-15T19:55:40.156700Z",
     "iopub.status.idle": "2023-06-15T19:55:40.166432Z",
     "shell.execute_reply": "2023-06-15T19:55:40.165047Z",
     "shell.execute_reply.started": "2023-06-15T19:55:40.157039Z"
    },
    "id": "MUTynOZ3QGir",
    "tags": []
   },
   "outputs": [],
   "source": [
    "#@title\n",
    "class ShapeChecker():\n",
    "  def __init__(self):\n",
    "    # Keep a cache of every axis-name seen\n",
    "    self.shapes = {}\n",
    "\n",
    "  def __call__(self, tensor, names, broadcast=False):\n",
    "    if not tf.executing_eagerly():\n",
    "      return[item for item in dir(tokenizers.en) if not item.startswith('_')]\n",
    "\n",
    "    parsed = einops.parse_shape(tensor, names)\n",
    "\n",
    "    for name, new_dim in parsed.items():\n",
    "      old_dim = self.shapes.get(name, None)\n",
    "\n",
    "      if (broadcast and new_dim == 1):\n",
    "        continue\n",
    "\n",
    "      if old_dim is None:\n",
    "        # If the axis name is new, add its length to the cache.\n",
    "        self.shapes[name] = new_dim\n",
    "        continue\n",
    "\n",
    "      if new_dim != old_dim:\n",
    "        raise ValueError(f\"Shape mismatch for dimension: '{name}'\\n\"\n",
    "                         f\"    found: {new_dim}\\n\"\n",
    "                         f\"    expected: {old_dim}\\n\")"
   ]
  },
  {
   "cell_type": "markdown",
   "metadata": {},
   "source": [
    "### HYPERPARAMETERS AND CONSTANTS"
   ]
  },
  {
   "cell_type": "code",
   "execution_count": 185,
   "metadata": {
    "execution": {
     "iopub.execute_input": "2023-06-15T19:55:44.155183Z",
     "iopub.status.busy": "2023-06-15T19:55:44.154653Z",
     "iopub.status.idle": "2023-06-15T19:55:44.163573Z",
     "shell.execute_reply": "2023-06-15T19:55:44.161993Z",
     "shell.execute_reply.started": "2023-06-15T19:55:44.155138Z"
    }
   },
   "outputs": [],
   "source": [
    "MAX_TOKENS_LENGTH = 128\n",
    "BUFFER_SIZE=None\n",
    "BATCH_SIZE=64\n",
    "\n",
    "MAX_VOCAB_SIZE = 150000 # MAXIMUM AMOUNT OF WORDS\n",
    "UNITS = 256\n",
    "\n",
    "NUM_HEADS = 8\n",
    "DENSE_LAYER_NEURONS = 2048\n",
    "NUM_LAYER = 6\n",
    "DROPOUT_RATE=0.1\n",
    "\n",
    "en_vocab_size=None\n",
    "ru_vocab_size=None\n",
    "\n",
    "max_subword_length = 10\n",
    "\n",
    "reserved_tokens = [\"[START]\", \"[END]\", \"[UNK]\", \"[SEP]\"]"
   ]
  },
  {
   "cell_type": "markdown",
   "metadata": {
    "id": "FZF6rFH4JVyA"
   },
   "source": [
    "### Data Collection:\n",
    "Collect a large parallel corpus of text data for the language pairs that you want to translate. A parallel corpus contains sentences in one language and their corresponding translations in another language. You can use existing parallel corpora or create your own."
   ]
  },
  {
   "cell_type": "code",
   "execution_count": 186,
   "metadata": {
    "execution": {
     "iopub.execute_input": "2023-06-15T19:55:46.698069Z",
     "iopub.status.busy": "2023-06-15T19:55:46.696712Z",
     "iopub.status.idle": "2023-06-15T19:55:46.703769Z",
     "shell.execute_reply": "2023-06-15T19:55:46.700999Z",
     "shell.execute_reply.started": "2023-06-15T19:55:46.698024Z"
    },
    "id": "N_YCQRoTQuRW",
    "tags": []
   },
   "outputs": [],
   "source": [
    "# path_to_file = pathlib.Path(\"/content/drive/MyDrive/rus.txt\")\n",
    "# # corpus = pathlib.Path(\"/content/drive/MyDrive/corpus\")\n",
    "\n",
    "# rus_path = \"/content/drive/MyDrive/corpus.en_ru.1m.ru\"\n",
    "# en_path = \"/content/drive/MyDrive/corpus.en_ru.1m.en\""
   ]
  },
  {
   "cell_type": "code",
   "execution_count": 187,
   "metadata": {
    "execution": {
     "iopub.execute_input": "2023-06-15T19:55:47.926097Z",
     "iopub.status.busy": "2023-06-15T19:55:47.925541Z",
     "iopub.status.idle": "2023-06-15T19:55:47.934396Z",
     "shell.execute_reply": "2023-06-15T19:55:47.932661Z",
     "shell.execute_reply.started": "2023-06-15T19:55:47.926058Z"
    }
   },
   "outputs": [],
   "source": [
    "rus_path = \"../datasets/yandex_rus/corpus.en_ru.1m.ru\"\n",
    "en_path = \"../datasets/yandex_en/corpus.en_ru.1m.en\""
   ]
  },
  {
   "cell_type": "code",
   "execution_count": 188,
   "metadata": {
    "execution": {
     "iopub.execute_input": "2023-06-15T19:55:50.741730Z",
     "iopub.status.busy": "2023-06-15T19:55:50.741271Z",
     "iopub.status.idle": "2023-06-15T19:55:50.750072Z",
     "shell.execute_reply": "2023-06-15T19:55:50.746670Z",
     "shell.execute_reply.started": "2023-06-15T19:55:50.741700Z"
    },
    "id": "Jbzt-LloYyaw",
    "tags": []
   },
   "outputs": [],
   "source": [
    "langid.set_languages(['en', 'ru'])"
   ]
  },
  {
   "cell_type": "markdown",
   "metadata": {
    "id": "4kYeO3ooJcY9",
    "tags": []
   },
   "source": [
    "### Data Preprocessing:\n",
    "Preprocess the data by cleaning, tokenizing, and normalizing the text. Therafter, forming a vocabulary from them."
   ]
  },
  {
   "cell_type": "code",
   "execution_count": 189,
   "metadata": {
    "execution": {
     "iopub.execute_input": "2023-06-15T19:55:52.768369Z",
     "iopub.status.busy": "2023-06-15T19:55:52.767852Z",
     "iopub.status.idle": "2023-06-15T19:55:52.776698Z",
     "shell.execute_reply": "2023-06-15T19:55:52.775118Z",
     "shell.execute_reply.started": "2023-06-15T19:55:52.768332Z"
    },
    "id": "l4_IJYjj9Wc7",
    "tags": []
   },
   "outputs": [],
   "source": [
    "def lower_and_split_punct(text):\n",
    "    # Нормализация символов.\n",
    "    # text = tf_text.normalize_utf8(text, \"NFKD\")\n",
    "    text = tf.strings.lower(text, encoding=\"utf-8\")\n",
    "    # Оставляем пробелы, буквы а-я a-z и выбранные знаки препинания.\n",
    "    text = tf.strings.regex_replace(text, '[^ a-zа-я.?!,¿ёйъь-]', '')\n",
    "    # Добавляем пробелы вокруг знаков препинания.\n",
    "    text = tf.strings.regex_replace(text, r'([.?!,¿-])', r'  \\1')\n",
    "    # Удаляем лишние пробелы.\n",
    "    text = tf.strings.strip(text)\n",
    "\n",
    "    text = tf.strings.join(['[START]', text, '[END]'], separator=' ')\n",
    "    return text"
   ]
  },
  {
   "cell_type": "code",
   "execution_count": 190,
   "metadata": {
    "execution": {
     "iopub.execute_input": "2023-06-15T19:55:56.513433Z",
     "iopub.status.busy": "2023-06-15T19:55:56.512897Z",
     "iopub.status.idle": "2023-06-15T19:55:56.520272Z",
     "shell.execute_reply": "2023-06-15T19:55:56.518524Z",
     "shell.execute_reply.started": "2023-06-15T19:55:56.513402Z"
    },
    "id": "zYiEeiHJu6uV",
    "tags": []
   },
   "outputs": [],
   "source": [
    "txt = tf.constant(\"Последний я ё ъь\")"
   ]
  },
  {
   "cell_type": "code",
   "execution_count": 191,
   "metadata": {
    "colab": {
     "base_uri": "https://localhost:8080/",
     "height": 35
    },
    "execution": {
     "iopub.execute_input": "2023-06-15T19:55:57.327747Z",
     "iopub.status.busy": "2023-06-15T19:55:57.326198Z",
     "iopub.status.idle": "2023-06-15T19:55:57.337601Z",
     "shell.execute_reply": "2023-06-15T19:55:57.336762Z",
     "shell.execute_reply.started": "2023-06-15T19:55:57.327726Z"
    },
    "id": "ZsaGK1chvArw",
    "outputId": "1ec601a2-8b6f-47dc-9ff8-7e0007391a11",
    "tags": []
   },
   "outputs": [
    {
     "data": {
      "text/plain": [
       "'[START] последний я ё ъь [END]'"
      ]
     },
     "execution_count": 191,
     "metadata": {},
     "output_type": "execute_result"
    }
   ],
   "source": [
    "lower_and_split_punct(txt).numpy().decode(\"utf-8\")"
   ]
  },
  {
   "cell_type": "markdown",
   "metadata": {
    "id": "ip7wryjifqbQ",
    "jp-MarkdownHeadingCollapsed": true,
    "tags": []
   },
   "source": [
    "##### Dataset with parallel sentences sized 467000"
   ]
  },
  {
   "cell_type": "code",
   "execution_count": 42,
   "metadata": {
    "id": "vxTpZXSRQ9V_",
    "tags": []
   },
   "outputs": [],
   "source": [
    "def load_data(path):\n",
    "    data=pd.read_csv(path,delimiter='\\t',header=None, encoding='utf8')\n",
    "    data=data.iloc[:,:2]\n",
    "    data.rename(columns={0: \"English\", 1: \"Russian\"}, inplace=True)\n",
    "    print(data.head())\n",
    "    context = data['English'].values\n",
    "    target = data['Russian'].values\n",
    "    return target, context"
   ]
  },
  {
   "cell_type": "code",
   "execution_count": 43,
   "metadata": {
    "colab": {
     "base_uri": "https://localhost:8080/"
    },
    "id": "Xs8r2zX5f7YJ",
    "outputId": "9d9fa58e-190d-4c25-8ca1-595d480bba72",
    "tags": []
   },
   "outputs": [
    {
     "name": "stdout",
     "output_type": "stream",
     "text": [
      "  English        Russian\n",
      "0     Go.          Марш!\n",
      "1     Go.           Иди.\n",
      "2     Go.         Идите.\n",
      "3     Hi.  Здравствуйте.\n",
      "4     Hi.        Привет!\n"
     ]
    }
   ],
   "source": [
    "target_raw, context_raw = load_data(path_to_file)"
   ]
  },
  {
   "cell_type": "code",
   "execution_count": 44,
   "metadata": {
    "colab": {
     "base_uri": "https://localhost:8080/"
    },
    "id": "ZdR2dhMbgFDj",
    "outputId": "51d64b62-2ce7-41ad-e9c3-e0d9cb80c89c",
    "tags": []
   },
   "outputs": [
    {
     "name": "stdout",
     "output_type": "stream",
     "text": [
      "33385\n",
      "33385\n"
     ]
    }
   ],
   "source": [
    "print(len(context_raw))\n",
    "print(len(target_raw))"
   ]
  },
  {
   "cell_type": "code",
   "execution_count": null,
   "metadata": {
    "colab": {
     "base_uri": "https://localhost:8080/",
     "height": 123
    },
    "id": "jCifWG4pgJZC",
    "outputId": "8e573a19-1168-4aca-a59a-11a6557e7741"
   },
   "outputs": [],
   "source": [
    "context_raw[6]"
   ]
  },
  {
   "cell_type": "code",
   "execution_count": null,
   "metadata": {
    "colab": {
     "base_uri": "https://localhost:8080/",
     "height": 310
    },
    "id": "4LYRt9LwgLDz",
    "outputId": "9bcfcea6-1b65-43c1-f104-d3d9e3cbe333"
   },
   "outputs": [],
   "source": [
    "target_raw[898]"
   ]
  },
  {
   "cell_type": "code",
   "execution_count": null,
   "metadata": {
    "id": "2mJEj9RTgOu3"
   },
   "outputs": [],
   "source": [
    "# a = np.vectorize(lower_and_split_punct)\n",
    "# target_raw = a(target_raw)\n",
    "# context_raw = a(context_raw)"
   ]
  },
  {
   "cell_type": "code",
   "execution_count": null,
   "metadata": {
    "colab": {
     "base_uri": "https://localhost:8080/"
    },
    "id": "sRzFjSxjgSd1",
    "outputId": "62b89af9-553a-4675-e7ed-e89cb1fd125a"
   },
   "outputs": [],
   "source": [
    "len(context_raw)//64"
   ]
  },
  {
   "cell_type": "code",
   "execution_count": null,
   "metadata": {
    "id": "PkMJPe1EgVGx"
   },
   "outputs": [],
   "source": [
    "# BUFFER_SIZE = len(context_raw)\n",
    "# # BUFFER_SIZE = 20000\n",
    "# BATCH_SIZE = 64\n",
    "\n",
    "# is_train = np.random.uniform(size=(len(target_raw),)) < 0.8\n",
    "\n",
    "# train_raw = (\n",
    "#     tf.data.Dataset\n",
    "#     .from_tensor_slices((context_raw[is_train], target_raw[is_train]))\n",
    "#     .shuffle(BUFFER_SIZE)\n",
    "#     .batch(BATCH_SIZE))\n",
    "# val_raw = (\n",
    "#     tf.data.Dataset\n",
    "#     .from_tensor_slices((context_raw[~is_train], target_raw[~is_train]))\n",
    "#     .shuffle(BUFFER_SIZE)\n",
    "#     .batch(BATCH_SIZE))"
   ]
  },
  {
   "cell_type": "code",
   "execution_count": null,
   "metadata": {
    "id": "rJ1sMd1yYCur"
   },
   "outputs": [],
   "source": [
    "# for example_context_strings, example_target_strings in train_raw.take(1):\n",
    "#   # print(example_context_strings[:5])\n",
    "#   # print(example_context_strings[1])\n",
    "#   # print(example_target_strings[1])\n",
    "#   # print(example_target_strings[:5])\n",
    "#   print(len(example_context_strings))\n",
    "#   print(len(example_target_strings))\n",
    "#   # break"
   ]
  },
  {
   "cell_type": "markdown",
   "metadata": {
    "id": "f0d2BmuWf0Vw",
    "tags": []
   },
   "source": [
    "##### Dataset with parallel sentences sized 1000000 from Yandex Parallel Corpus"
   ]
  },
  {
   "cell_type": "code",
   "execution_count": 192,
   "metadata": {
    "execution": {
     "iopub.execute_input": "2023-06-15T19:56:04.812049Z",
     "iopub.status.busy": "2023-06-15T19:56:04.811474Z",
     "iopub.status.idle": "2023-06-15T19:56:04.822452Z",
     "shell.execute_reply": "2023-06-15T19:56:04.821524Z",
     "shell.execute_reply.started": "2023-06-15T19:56:04.812005Z"
    },
    "id": "pD700plqVwle",
    "tags": []
   },
   "outputs": [],
   "source": [
    "def load_data_yandex_corpus(rus_path, en_path):\n",
    "    with open(rus_path, 'rb') as russian_file:\n",
    "      russian_sentences = russian_file.readlines()\n",
    "\n",
    "    with open(en_path, 'r', encoding='utf-8') as english_file:\n",
    "      english_sentences = english_file.readlines()\n",
    "\n",
    "    data = {\n",
    "        'Russian': russian_sentences,\n",
    "        'English': english_sentences\n",
    "    }\n",
    "    df = pd.DataFrame(data)\n",
    "\n",
    "    target = df['Russian'].values\n",
    "    context = df['English'].values\n",
    "\n",
    "    filter_context = []\n",
    "    filter_target = []\n",
    "\n",
    "    for src, trg in zip(context, target):\n",
    "      if len(src)>=4 and len(trg)>=4:\n",
    "        filter_context.append(src)\n",
    "        filter_target.append(trg)\n",
    "\n",
    "    target = np.array(filter_target)\n",
    "    context = np.array(filter_context)\n",
    "\n",
    "    # filtered_source_sentences = []\n",
    "    # filtered_target_sentences = []\n",
    "\n",
    "    # for source_sentence, target_sentence in zip(context, target):\n",
    "    # # Classify the source sentence language\n",
    "    #     source_lang, _ = langid.classify(source_sentence)\n",
    "\n",
    "    # # Classify the target sentence language\n",
    "    #     target_lang, _ = langid.classify(target_sentence)\n",
    "\n",
    "    # # Only keep the sentences where both the source and target are identified as the expected languages\n",
    "    #     if source_lang == 'en' and target_lang == 'ru':\n",
    "    #         filtered_source_sentences.append(source_sentence)\n",
    "    #         filtered_target_sentences.append(target_sentence)\n",
    "\n",
    "    # return filtered_source_sentences, filtered_target_sentences\n",
    "    return target, context"
   ]
  },
  {
   "cell_type": "code",
   "execution_count": 193,
   "metadata": {
    "execution": {
     "iopub.execute_input": "2023-06-15T19:56:06.237291Z",
     "iopub.status.busy": "2023-06-15T19:56:06.237048Z",
     "iopub.status.idle": "2023-06-15T19:56:11.924949Z",
     "shell.execute_reply": "2023-06-15T19:56:11.923683Z",
     "shell.execute_reply.started": "2023-06-15T19:56:06.237291Z"
    },
    "id": "GTC6rAM1dAc_",
    "tags": []
   },
   "outputs": [],
   "source": [
    "target_raw_corpus, context_raw_corpus = load_data_yandex_corpus(rus_path, en_path)"
   ]
  },
  {
   "cell_type": "code",
   "execution_count": 194,
   "metadata": {
    "colab": {
     "base_uri": "https://localhost:8080/"
    },
    "execution": {
     "iopub.execute_input": "2023-06-15T19:56:11.930567Z",
     "iopub.status.busy": "2023-06-15T19:56:11.930025Z",
     "iopub.status.idle": "2023-06-15T19:56:11.939444Z",
     "shell.execute_reply": "2023-06-15T19:56:11.937885Z",
     "shell.execute_reply.started": "2023-06-15T19:56:11.930526Z"
    },
    "id": "XcHRf1kDdrBb",
    "outputId": "36d39065-e5a4-4ad0-c2fb-c962135631f6"
   },
   "outputs": [
    {
     "name": "stdout",
     "output_type": "stream",
     "text": [
      "999999\n",
      "999999\n"
     ]
    }
   ],
   "source": [
    "print(len(target_raw_corpus))\n",
    "print(len(context_raw_corpus))"
   ]
  },
  {
   "cell_type": "code",
   "execution_count": 195,
   "metadata": {
    "colab": {
     "base_uri": "https://localhost:8080/",
     "height": 1000
    },
    "execution": {
     "iopub.execute_input": "2023-06-15T19:56:11.941712Z",
     "iopub.status.busy": "2023-06-15T19:56:11.941289Z",
     "iopub.status.idle": "2023-06-15T19:56:11.952396Z",
     "shell.execute_reply": "2023-06-15T19:56:11.950676Z",
     "shell.execute_reply.started": "2023-06-15T19:56:11.941676Z"
    },
    "id": "Ih8ZVWJKeDt-",
    "outputId": "91114f5c-e739-4804-f6a8-663f01ca91ed"
   },
   "outputs": [
    {
     "data": {
      "text/plain": [
       "'В эру Интернета, мобильных телефонов, систем видеоигр, кабельного телевидения по востребованию, DVR-ов и других технологий, уже не так легко \"дойти\" до потребителя посредством рекламы для массового рынка (такой, как телевидение или печать).\\n'"
      ]
     },
     "execution_count": 195,
     "metadata": {},
     "output_type": "execute_result"
    }
   ],
   "source": [
    "target_raw_corpus[500].decode(\"utf-8\")"
   ]
  },
  {
   "cell_type": "code",
   "execution_count": 196,
   "metadata": {
    "colab": {
     "base_uri": "https://localhost:8080/",
     "height": 1000
    },
    "execution": {
     "iopub.execute_input": "2023-06-15T19:56:11.955109Z",
     "iopub.status.busy": "2023-06-15T19:56:11.954676Z",
     "iopub.status.idle": "2023-06-15T19:56:11.966998Z",
     "shell.execute_reply": "2023-06-15T19:56:11.965777Z",
     "shell.execute_reply.started": "2023-06-15T19:56:11.955069Z"
    },
    "id": "gJb9xtBKeGdn",
    "outputId": "364d5a4f-e3bd-493a-f1ff-23908771a2df"
   },
   "outputs": [
    {
     "data": {
      "text/plain": [
       "'With the internet, cellular phones, video game systems, on-demand cable, DVRs and other technologies, consumers are not as accessible via mass market advertising like televison or print.\\n'"
      ]
     },
     "execution_count": 196,
     "metadata": {},
     "output_type": "execute_result"
    }
   ],
   "source": [
    "context_raw_corpus[500]"
   ]
  },
  {
   "cell_type": "markdown",
   "metadata": {
    "id": "t7cF_O1Ea4lV",
    "jp-MarkdownHeadingCollapsed": true,
    "tags": []
   },
   "source": [
    "#### Combining datasets"
   ]
  },
  {
   "cell_type": "code",
   "execution_count": 197,
   "metadata": {
    "execution": {
     "iopub.execute_input": "2023-06-15T19:56:12.212565Z",
     "iopub.status.busy": "2023-06-15T19:56:12.212081Z",
     "iopub.status.idle": "2023-06-15T19:56:12.235485Z",
     "shell.execute_reply": "2023-06-15T19:56:12.234235Z",
     "shell.execute_reply.started": "2023-06-15T19:56:12.212522Z"
    },
    "id": "OtcCDK6qa7h3"
   },
   "outputs": [
    {
     "ename": "NameError",
     "evalue": "name 'target_raw' is not defined",
     "output_type": "error",
     "traceback": [
      "\u001b[0;31m---------------------------------------------------------------------------\u001b[0m",
      "\u001b[0;31mNameError\u001b[0m                                 Traceback (most recent call last)",
      "Cell \u001b[0;32mIn [197], line 1\u001b[0m\n\u001b[0;32m----> 1\u001b[0m target_raw_corpus, context_raw_corpus \u001b[38;5;241m=\u001b[39m np\u001b[38;5;241m.\u001b[39mconcatenate((target_raw_corpus, \u001b[43mtarget_raw\u001b[49m)), np\u001b[38;5;241m.\u001b[39mconcatenate((context_raw_corpus, context_raw))\n",
      "\u001b[0;31mNameError\u001b[0m: name 'target_raw' is not defined"
     ]
    }
   ],
   "source": [
    "target_raw_corpus, context_raw_corpus = np.concatenate((target_raw_corpus, target_raw)), np.concatenate((context_raw_corpus, context_raw))"
   ]
  },
  {
   "cell_type": "code",
   "execution_count": null,
   "metadata": {
    "id": "rGiEnfkAa_8Q"
   },
   "outputs": [],
   "source": [
    "# Generate a permutation index\n",
    "permutation = np.random.permutation(len(target_raw_corpus))\n",
    "\n",
    "# Shuffle both arrays using the permutation index\n",
    "target_raw_corpus = target_raw_corpus[permutation]\n",
    "context_raw_corpus = context_raw_corpus[permutation]"
   ]
  },
  {
   "cell_type": "markdown",
   "metadata": {
    "jp-MarkdownHeadingCollapsed": true,
    "tags": []
   },
   "source": [
    "#### Subword different approaches"
   ]
  },
  {
   "cell_type": "code",
   "execution_count": 81,
   "metadata": {},
   "outputs": [
    {
     "data": {
      "application/vnd.jupyter.widget-view+json": {
       "model_id": "8723b3e17f734252b2d88c383cf5d8fb",
       "version_major": 2,
       "version_minor": 0
      },
      "text/plain": [
       "Downloading vocab.txt:   0%|          | 0.00/972k [00:00<?, ?B/s]"
      ]
     },
     "metadata": {},
     "output_type": "display_data"
    },
    {
     "data": {
      "application/vnd.jupyter.widget-view+json": {
       "model_id": "0d82c7f154774211a391507068cd703b",
       "version_major": 2,
       "version_minor": 0
      },
      "text/plain": [
       "Downloading tokenizer_config.json:   0%|          | 0.00/29.0 [00:00<?, ?B/s]"
      ]
     },
     "metadata": {},
     "output_type": "display_data"
    },
    {
     "data": {
      "application/vnd.jupyter.widget-view+json": {
       "model_id": "df85a4436dbc4ef297143418b074f6e2",
       "version_major": 2,
       "version_minor": 0
      },
      "text/plain": [
       "Downloading config.json:   0%|          | 0.00/625 [00:00<?, ?B/s]"
      ]
     },
     "metadata": {},
     "output_type": "display_data"
    },
    {
     "name": "stdout",
     "output_type": "stream",
     "text": [
      "\n"
     ]
    },
    {
     "ename": "AttributeError",
     "evalue": "'BertTokenizer' object has no attribute 'build_vocab'",
     "output_type": "error",
     "traceback": [
      "\u001b[0;31m---------------------------------------------------------------------------\u001b[0m",
      "\u001b[0;31mAttributeError\u001b[0m                            Traceback (most recent call last)",
      "Cell \u001b[0;32mIn [81], line 10\u001b[0m\n\u001b[1;32m      8\u001b[0m \u001b[38;5;28mprint\u001b[39m()\n\u001b[1;32m      9\u001b[0m \u001b[38;5;66;03m# Build the subword vocabulary\u001b[39;00m\n\u001b[0;32m---> 10\u001b[0m \u001b[43mtokenizer\u001b[49m\u001b[38;5;241;43m.\u001b[39;49m\u001b[43mbuild_vocab\u001b[49m(rus_path, en_path)\n\u001b[1;32m     12\u001b[0m \u001b[38;5;66;03m# Save the vocabulary\u001b[39;00m\n\u001b[1;32m     13\u001b[0m vocab_path \u001b[38;5;241m=\u001b[39m \u001b[38;5;124m\"\u001b[39m\u001b[38;5;124mbert_subword_vocab.txt\u001b[39m\u001b[38;5;124m\"\u001b[39m\n",
      "\u001b[0;31mAttributeError\u001b[0m: 'BertTokenizer' object has no attribute 'build_vocab'"
     ]
    }
   ],
   "source": [
    "from transformers import BertTokenizer\n",
    "\n",
    "rus_path = \"/notebooks/trg.txt.subwords\"\n",
    "en_path = \"/notebooks/ctx.txt.subwords\"\n",
    "\n",
    "# Initialize the tokenizer\n",
    "tokenizer = BertTokenizer.from_pretrained(\"bert-base-multilingual-cased\")\n",
    "print()\n",
    "# Build the subword vocabulary\n",
    "tokenizer.build_vocab(rus_path, en_path)\n",
    "\n",
    "# Save the vocabulary\n",
    "vocab_path = \"bert_subword_vocab.txt\"\n",
    "tokenizer.save_vocabulary(vocab_path)\n",
    "\n",
    "# Example usage\n",
    "text = \"Hello, how are you?\"\n",
    "encoded_tokens = tokenizer.encode(text)\n",
    "decoded_text = tokenizer.decode(encoded_tokens)\n",
    "\n",
    "print(decoded_text)\n",
    "print(encoded_tokens)\n"
   ]
  },
  {
   "cell_type": "code",
   "execution_count": 30,
   "metadata": {},
   "outputs": [],
   "source": [
    "BUFFER_SIZE = len(context_raw_corpus)\n",
    "max_vocab_size = 100000 \n",
    "BATCH_SIZE = 1\n",
    "\n",
    "is_train = np.random.uniform(size=(len(target_raw_corpus),)) < 0.8\n",
    "\n",
    "context_raw_train = context_raw_corpus[is_train]\n",
    "context_raw_val = context_raw_corpus[~is_train]\n",
    "\n",
    "target_raw_train = target_raw_corpus[is_train]\n",
    "target_raw_val = target_raw_corpus[~is_train]\n",
    "\n",
    "# train_raw = (\n",
    "#     tf.data.Dataset\n",
    "#     .from_tensor_slices((context_raw_train, target_raw_train))\n",
    "#     .shuffle(BUFFER_SIZE)\n",
    "#     .batch(BATCH_SIZE))\n",
    "# val_raw = (\n",
    "#     tf.data.Dataset\n",
    "#     .from_tensor_slices((context_raw_val, target_raw_val))\n",
    "#     .shuffle(BUFFER_SIZE)\n",
    "#     .batch(BATCH_SIZE))\n",
    "\n",
    "train_raw = (\n",
    "    tf.data.Dataset\n",
    "    .from_tensor_slices((context_raw_train, target_raw_train)))\n",
    "    # .shuffle(BUFFER_SIZE))\n",
    "    # .batch(BATCH_SIZE))\n",
    "val_raw = (\n",
    "    tf.data.Dataset\n",
    "    .from_tensor_slices((context_raw_val, target_raw_val)))\n",
    "    # .shuffle(BUFFER_SIZE))\n",
    "    # .batch(BATCH_SIZE))"
   ]
  },
  {
   "cell_type": "code",
   "execution_count": 46,
   "metadata": {},
   "outputs": [
    {
     "name": "stdout",
     "output_type": "stream",
     "text": [
      "This new development in Harry's character may be a disappointment to those readers who enjoyed his old vindictive ways, but it also reinforces the position of pro-Potter people who do not see beneath the surface appearance of the characters and plots.\n",
      "\n",
      "\n",
      "Такое развитие характера Гарри может разочаровать читателей, полюбивших его былую мстительность, но с другой стороны это преображение укрепляет позицию тех, кто не видит глубже сюжета и изображения героев.\n",
      "\n"
     ]
    },
    {
     "name": "stderr",
     "output_type": "stream",
     "text": [
      "2023-06-15 07:45:13.082870: I tensorflow/core/common_runtime/executor.cc:1197] [/device:CPU:0] (DEBUG INFO) Executor start aborting (this does not indicate an error and you can ignore this message): INVALID_ARGUMENT: You must feed a value for placeholder tensor 'Placeholder/_1' with dtype string and shape [799998]\n",
      "\t [[{{node Placeholder/_1}}]]\n"
     ]
    }
   ],
   "source": [
    "for en, ru in train_raw.take(1):\n",
    "    print(en.numpy().decode(\"utf-8\"))\n",
    "    print()\n",
    "    print(ru.numpy().decode(\"utf-8\"))"
   ]
  },
  {
   "cell_type": "code",
   "execution_count": 36,
   "metadata": {},
   "outputs": [],
   "source": [
    "train_raw_ds = train_raw.map(lambda context, target: (lower_and_split_punct(context), lower_and_split_punct(target)), tf.data.AUTOTUNE)\n",
    "val_raw_ds = val_raw.map(lambda context, target: (lower_and_split_punct(context), lower_and_split_punct(target)), tf.data.AUTOTUNE)"
   ]
  },
  {
   "cell_type": "code",
   "execution_count": 82,
   "metadata": {},
   "outputs": [],
   "source": [
    "bert_tokenizer_params=dict(lower_case=True)\n",
    "reserved_tokens=[\"[PAD]\", \"[UNK]\", \"[START]\", \"[END]\"]\n",
    "\n",
    "bert_vocab_args = dict(\n",
    "    # The target vocabulary size\n",
    "    vocab_size = 100000,\n",
    "    # Reserved tokens that must be included in the vocabulary\n",
    "    reserved_tokens=reserved_tokens,\n",
    "    # Arguments for `text.BertTokenizer`\n",
    "    bert_tokenizer_params=bert_tokenizer_params,\n",
    "    # Arguments for `wordpiece_vocab.wordpiece_tokenizer_learner_lib.learn`\n",
    "    learn_params={},\n",
    ")"
   ]
  },
  {
   "cell_type": "code",
   "execution_count": 101,
   "metadata": {},
   "outputs": [],
   "source": [
    "rus_path = \"../datasets/yandex_rus/corpus.en_ru.1m.ru\"\n",
    "en_path = \"../datasets/yandex_en/corpus.en_ru.1m.en\""
   ]
  },
  {
   "cell_type": "code",
   "execution_count": 84,
   "metadata": {},
   "outputs": [
    {
     "ename": "TypeError",
     "evalue": "__init__() missing 1 required positional argument: 'vocab_lookup_table'",
     "output_type": "error",
     "traceback": [
      "\u001b[0;31m---------------------------------------------------------------------------\u001b[0m",
      "\u001b[0;31mTypeError\u001b[0m                                 Traceback (most recent call last)",
      "Cell \u001b[0;32mIn [84], line 15\u001b[0m\n\u001b[1;32m     12\u001b[0m     trg_text \u001b[38;5;241m=\u001b[39m f\u001b[38;5;241m.\u001b[39mread()\n\u001b[1;32m     14\u001b[0m \u001b[38;5;66;03m# Load the BERT tokenizer\u001b[39;00m\n\u001b[0;32m---> 15\u001b[0m tokenizer \u001b[38;5;241m=\u001b[39m \u001b[43mtext\u001b[49m\u001b[38;5;241;43m.\u001b[39;49m\u001b[43mBertTokenizer\u001b[49m\u001b[43m(\u001b[49m\u001b[43m)\u001b[49m\n\u001b[1;32m     17\u001b[0m \u001b[38;5;66;03m# Tokenize the text\u001b[39;00m\n\u001b[1;32m     18\u001b[0m ctx_tokens \u001b[38;5;241m=\u001b[39m tokenizer\u001b[38;5;241m.\u001b[39mtokenize(ctx_text)\n",
      "\u001b[0;31mTypeError\u001b[0m: __init__() missing 1 required positional argument: 'vocab_lookup_table'"
     ]
    }
   ],
   "source": [
    "import tensorflow as tf\n",
    "import tensorflow_text as text\n",
    "\n",
    "# Read the context and target files\n",
    "ctx_file = \"ctx.txt.subwords\"\n",
    "trg_file = \"trg.txt.subwords\"\n",
    "\n",
    "with open(ctx_file, \"r\") as f:\n",
    "    ctx_text = f.read()\n",
    "\n",
    "with open(trg_file, \"r\") as f:\n",
    "    trg_text = f.read()\n",
    "\n",
    "# Load the BERT tokenizer\n",
    "tokenizer = text.BertTokenizer()\n",
    "\n",
    "# Tokenize the text\n",
    "ctx_tokens = tokenizer.tokenize(ctx_text)\n",
    "trg_tokens = tokenizer.tokenize(trg_text)\n",
    "\n",
    "# Convert tokens to integer sequences\n",
    "ctx_token_ids = tokenizer.convert_tokens_to_ids(ctx_tokens)\n",
    "trg_token_ids = tokenizer.convert_tokens_to_ids(trg_tokens)\n",
    "\n",
    "# Create TensorFlow datasets\n",
    "ctx_dataset = tf.data.Dataset.from_tensor_slices(ctx_token_ids)\n",
    "trg_dataset = tf.data.Dataset.from_tensor_slices(trg_token_ids)\n",
    "\n",
    "# Print some example token sequences\n",
    "for ctx_tokens, trg_tokens in zip(ctx_dataset.take(5), trg_dataset.take(5)):\n",
    "    print(\"Context tokens:\", ctx_tokens)\n",
    "    print(\"Target tokens:\", trg_tokens)\n",
    "    print()\n"
   ]
  },
  {
   "cell_type": "code",
   "execution_count": 83,
   "metadata": {},
   "outputs": [
    {
     "name": "stderr",
     "output_type": "stream",
     "text": [
      "2023-06-15 16:28:03.012886: W tensorflow/core/framework/op_kernel.cc:1830] OP_REQUIRES failed at lookup_table_init_op.cc:148 : FAILED_PRECONDITION: HashTable has different value for same key. Key '[END]' has 3 and trying to add value 8\n"
     ]
    },
    {
     "ename": "FailedPreconditionError",
     "evalue": "{{function_node __wrapped__InitializeTableFromTextFileV2_device_/job:localhost/replica:0/task:0/device:CPU:0}} HashTable has different value for same key. Key '[END]' has 3 and trying to add value 8 [Op:InitializeTableFromTextFileV2]",
     "output_type": "error",
     "traceback": [
      "\u001b[0;31m---------------------------------------------------------------------------\u001b[0m",
      "\u001b[0;31mFailedPreconditionError\u001b[0m                   Traceback (most recent call last)",
      "Cell \u001b[0;32mIn [83], line 1\u001b[0m\n\u001b[0;32m----> 1\u001b[0m rus_tokenizer \u001b[38;5;241m=\u001b[39m \u001b[43mtf_text\u001b[49m\u001b[38;5;241;43m.\u001b[39;49m\u001b[43mBertTokenizer\u001b[49m\u001b[43m(\u001b[49m\u001b[43mrus_path\u001b[49m\u001b[43m,\u001b[49m\u001b[43m \u001b[49m\u001b[38;5;241;43m*\u001b[39;49m\u001b[38;5;241;43m*\u001b[39;49m\u001b[43mbert_tokenizer_params\u001b[49m\u001b[43m)\u001b[49m\n\u001b[1;32m      2\u001b[0m en_tokenizer \u001b[38;5;241m=\u001b[39m tf_text\u001b[38;5;241m.\u001b[39mBertTokenizer(en_path, \u001b[38;5;241m*\u001b[39m\u001b[38;5;241m*\u001b[39mbert_tokenizer_params)\n",
      "File \u001b[0;32m/usr/local/lib/python3.9/dist-packages/tensorflow_text/python/ops/bert_tokenizer.py:229\u001b[0m, in \u001b[0;36mBertTokenizer.__init__\u001b[0;34m(self, vocab_lookup_table, suffix_indicator, max_bytes_per_word, max_chars_per_token, token_out_type, unknown_token, split_unknown_characters, lower_case, keep_whitespace, normalization_form, preserve_unused_token, basic_tokenizer_class)\u001b[0m\n\u001b[1;32m    224\u001b[0m _tf_text_bert_tokenizer_op_create_counter\u001b[38;5;241m.\u001b[39mget_cell()\u001b[38;5;241m.\u001b[39mincrease_by(\u001b[38;5;241m1\u001b[39m)\n\u001b[1;32m    226\u001b[0m \u001b[38;5;28mself\u001b[39m\u001b[38;5;241m.\u001b[39m_basic_tokenizer \u001b[38;5;241m=\u001b[39m basic_tokenizer_class(lower_case, keep_whitespace,\n\u001b[1;32m    227\u001b[0m                                               normalization_form,\n\u001b[1;32m    228\u001b[0m                                               preserve_unused_token)\n\u001b[0;32m--> 229\u001b[0m \u001b[38;5;28mself\u001b[39m\u001b[38;5;241m.\u001b[39m_wordpiece_tokenizer \u001b[38;5;241m=\u001b[39m \u001b[43mWordpieceTokenizer\u001b[49m\u001b[43m(\u001b[49m\n\u001b[1;32m    230\u001b[0m \u001b[43m    \u001b[49m\u001b[43mvocab_lookup_table\u001b[49m\u001b[43m,\u001b[49m\u001b[43m \u001b[49m\u001b[43msuffix_indicator\u001b[49m\u001b[43m,\u001b[49m\u001b[43m \u001b[49m\u001b[43mmax_bytes_per_word\u001b[49m\u001b[43m,\u001b[49m\n\u001b[1;32m    231\u001b[0m \u001b[43m    \u001b[49m\u001b[43mmax_chars_per_token\u001b[49m\u001b[43m,\u001b[49m\u001b[43m \u001b[49m\u001b[43mtoken_out_type\u001b[49m\u001b[43m,\u001b[49m\u001b[43m \u001b[49m\u001b[43munknown_token\u001b[49m\u001b[43m,\u001b[49m\n\u001b[1;32m    232\u001b[0m \u001b[43m    \u001b[49m\u001b[43msplit_unknown_characters\u001b[49m\u001b[43m)\u001b[49m\n",
      "File \u001b[0;32m/usr/local/lib/python3.9/dist-packages/tensorflow_text/python/ops/wordpiece_tokenizer.py:145\u001b[0m, in \u001b[0;36mWordpieceTokenizer.__init__\u001b[0;34m(self, vocab_lookup_table, suffix_indicator, max_bytes_per_word, max_chars_per_token, token_out_type, unknown_token, split_unknown_characters)\u001b[0m\n\u001b[1;32m    141\u001b[0m \u001b[38;5;28;01mif\u001b[39;00m \u001b[38;5;28misinstance\u001b[39m(vocab_lookup_table, \u001b[38;5;28mstr\u001b[39m) \u001b[38;5;129;01mor\u001b[39;00m (\n\u001b[1;32m    142\u001b[0m     \u001b[38;5;28misinstance\u001b[39m(vocab_lookup_table, ops\u001b[38;5;241m.\u001b[39mTensor) \u001b[38;5;129;01mand\u001b[39;00m\n\u001b[1;32m    143\u001b[0m     vocab_lookup_table\u001b[38;5;241m.\u001b[39mdtype \u001b[38;5;241m==\u001b[39m dtypes\u001b[38;5;241m.\u001b[39mstring):\n\u001b[1;32m    144\u001b[0m   init \u001b[38;5;241m=\u001b[39m lookup_ops\u001b[38;5;241m.\u001b[39mTextFileIdTableInitializer(vocab_lookup_table)\n\u001b[0;32m--> 145\u001b[0m   vocab_lookup_table \u001b[38;5;241m=\u001b[39m \u001b[43mlookup_ops\u001b[49m\u001b[38;5;241;43m.\u001b[39;49m\u001b[43mStaticVocabularyTableV1\u001b[49m\u001b[43m(\u001b[49m\n\u001b[1;32m    146\u001b[0m \u001b[43m      \u001b[49m\u001b[43minit\u001b[49m\u001b[43m,\u001b[49m\u001b[43m \u001b[49m\u001b[43mnum_oov_buckets\u001b[49m\u001b[38;5;241;43m=\u001b[39;49m\u001b[38;5;241;43m1\u001b[39;49m\u001b[43m,\u001b[49m\u001b[43m \u001b[49m\u001b[43mlookup_key_dtype\u001b[49m\u001b[38;5;241;43m=\u001b[39;49m\u001b[43mdtypes\u001b[49m\u001b[38;5;241;43m.\u001b[39;49m\u001b[43mstring\u001b[49m\u001b[43m)\u001b[49m\n\u001b[1;32m    148\u001b[0m \u001b[38;5;28;01mif\u001b[39;00m \u001b[38;5;129;01mnot\u001b[39;00m \u001b[38;5;28misinstance\u001b[39m(vocab_lookup_table, lookup_ops\u001b[38;5;241m.\u001b[39mLookupInterface):\n\u001b[1;32m    149\u001b[0m   \u001b[38;5;28;01mraise\u001b[39;00m \u001b[38;5;167;01mTypeError\u001b[39;00m(\n\u001b[1;32m    150\u001b[0m       \u001b[38;5;124m'\u001b[39m\u001b[38;5;124mUnable to build a lookup table from \u001b[39m\u001b[38;5;132;01m{}\u001b[39;00m\u001b[38;5;124m'\u001b[39m\u001b[38;5;241m.\u001b[39mformat(vocab_lookup_table))\n",
      "File \u001b[0;32m/usr/local/lib/python3.9/dist-packages/tensorflow/python/trackable/resource.py:102\u001b[0m, in \u001b[0;36m_ResourceMetaclass.__call__\u001b[0;34m(cls, *args, **kwargs)\u001b[0m\n\u001b[1;32m     99\u001b[0m \u001b[38;5;28;01mfor\u001b[39;00m getter \u001b[38;5;129;01min\u001b[39;00m resource_creator_stack[\u001b[38;5;28mcls\u001b[39m\u001b[38;5;241m.\u001b[39m_resource_type()]:\n\u001b[1;32m    100\u001b[0m   previous_getter \u001b[38;5;241m=\u001b[39m _make_getter(getter, previous_getter)\n\u001b[0;32m--> 102\u001b[0m \u001b[38;5;28;01mreturn\u001b[39;00m \u001b[43mprevious_getter\u001b[49m\u001b[43m(\u001b[49m\u001b[38;5;241;43m*\u001b[39;49m\u001b[43margs\u001b[49m\u001b[43m,\u001b[49m\u001b[43m \u001b[49m\u001b[38;5;241;43m*\u001b[39;49m\u001b[38;5;241;43m*\u001b[39;49m\u001b[43mkwargs\u001b[49m\u001b[43m)\u001b[49m\n",
      "File \u001b[0;32m/usr/local/lib/python3.9/dist-packages/tensorflow/python/trackable/resource.py:97\u001b[0m, in \u001b[0;36m_ResourceMetaclass.__call__.<locals>.<lambda>\u001b[0;34m(*a, **kw)\u001b[0m\n\u001b[1;32m     94\u001b[0m   obj\u001b[38;5;241m.\u001b[39m\u001b[38;5;21m__init__\u001b[39m(\u001b[38;5;241m*\u001b[39ma, \u001b[38;5;241m*\u001b[39m\u001b[38;5;241m*\u001b[39mkw)\n\u001b[1;32m     95\u001b[0m   \u001b[38;5;28;01mreturn\u001b[39;00m obj\n\u001b[0;32m---> 97\u001b[0m previous_getter \u001b[38;5;241m=\u001b[39m \u001b[38;5;28;01mlambda\u001b[39;00m \u001b[38;5;241m*\u001b[39ma, \u001b[38;5;241m*\u001b[39m\u001b[38;5;241m*\u001b[39mkw: \u001b[43mdefault_resource_creator\u001b[49m\u001b[43m(\u001b[49m\u001b[38;5;28;43;01mNone\u001b[39;49;00m\u001b[43m,\u001b[49m\u001b[43m \u001b[49m\u001b[38;5;241;43m*\u001b[39;49m\u001b[43ma\u001b[49m\u001b[43m,\u001b[49m\u001b[43m \u001b[49m\u001b[38;5;241;43m*\u001b[39;49m\u001b[38;5;241;43m*\u001b[39;49m\u001b[43mkw\u001b[49m\u001b[43m)\u001b[49m\n\u001b[1;32m     98\u001b[0m resource_creator_stack \u001b[38;5;241m=\u001b[39m ops\u001b[38;5;241m.\u001b[39mget_default_graph()\u001b[38;5;241m.\u001b[39m_resource_creator_stack\n\u001b[1;32m     99\u001b[0m \u001b[38;5;28;01mfor\u001b[39;00m getter \u001b[38;5;129;01min\u001b[39;00m resource_creator_stack[\u001b[38;5;28mcls\u001b[39m\u001b[38;5;241m.\u001b[39m_resource_type()]:\n",
      "File \u001b[0;32m/usr/local/lib/python3.9/dist-packages/tensorflow/python/trackable/resource.py:94\u001b[0m, in \u001b[0;36m_ResourceMetaclass.__call__.<locals>.default_resource_creator\u001b[0;34m(next_creator, *a, **kw)\u001b[0m\n\u001b[1;32m     92\u001b[0m \u001b[38;5;28;01massert\u001b[39;00m next_creator \u001b[38;5;129;01mis\u001b[39;00m \u001b[38;5;28;01mNone\u001b[39;00m\n\u001b[1;32m     93\u001b[0m obj \u001b[38;5;241m=\u001b[39m \u001b[38;5;28mcls\u001b[39m\u001b[38;5;241m.\u001b[39m\u001b[38;5;21m__new__\u001b[39m(\u001b[38;5;28mcls\u001b[39m, \u001b[38;5;241m*\u001b[39ma, \u001b[38;5;241m*\u001b[39m\u001b[38;5;241m*\u001b[39mkw)\n\u001b[0;32m---> 94\u001b[0m \u001b[43mobj\u001b[49m\u001b[38;5;241;43m.\u001b[39;49m\u001b[38;5;21;43m__init__\u001b[39;49m\u001b[43m(\u001b[49m\u001b[38;5;241;43m*\u001b[39;49m\u001b[43ma\u001b[49m\u001b[43m,\u001b[49m\u001b[43m \u001b[49m\u001b[38;5;241;43m*\u001b[39;49m\u001b[38;5;241;43m*\u001b[39;49m\u001b[43mkw\u001b[49m\u001b[43m)\u001b[49m\n\u001b[1;32m     95\u001b[0m \u001b[38;5;28;01mreturn\u001b[39;00m obj\n",
      "File \u001b[0;32m/usr/local/lib/python3.9/dist-packages/tensorflow/python/ops/lookup_ops.py:1303\u001b[0m, in \u001b[0;36mStaticVocabularyTable.__init__\u001b[0;34m(self, initializer, num_oov_buckets, lookup_key_dtype, name, experimental_is_anonymous)\u001b[0m\n\u001b[1;32m   1301\u001b[0m   \u001b[38;5;28;01mif\u001b[39;00m \u001b[38;5;28misinstance\u001b[39m(initializer, trackable_base\u001b[38;5;241m.\u001b[39mTrackable):\n\u001b[1;32m   1302\u001b[0m     \u001b[38;5;28mself\u001b[39m\u001b[38;5;241m.\u001b[39m_initializer \u001b[38;5;241m=\u001b[39m \u001b[38;5;28mself\u001b[39m\u001b[38;5;241m.\u001b[39m_track_trackable(initializer, \u001b[38;5;124m\"\u001b[39m\u001b[38;5;124m_initializer\u001b[39m\u001b[38;5;124m\"\u001b[39m)\n\u001b[0;32m-> 1303\u001b[0m   \u001b[38;5;28mself\u001b[39m\u001b[38;5;241m.\u001b[39m_table \u001b[38;5;241m=\u001b[39m \u001b[43mHashTable\u001b[49m\u001b[43m(\u001b[49m\n\u001b[1;32m   1304\u001b[0m \u001b[43m      \u001b[49m\u001b[43minitializer\u001b[49m\u001b[43m,\u001b[49m\n\u001b[1;32m   1305\u001b[0m \u001b[43m      \u001b[49m\u001b[43mdefault_value\u001b[49m\u001b[38;5;241;43m=\u001b[39;49m\u001b[38;5;241;43m-\u001b[39;49m\u001b[38;5;241;43m1\u001b[39;49m\u001b[43m,\u001b[49m\n\u001b[1;32m   1306\u001b[0m \u001b[43m      \u001b[49m\u001b[43mexperimental_is_anonymous\u001b[49m\u001b[38;5;241;43m=\u001b[39;49m\u001b[43mexperimental_is_anonymous\u001b[49m\u001b[43m)\u001b[49m\n\u001b[1;32m   1307\u001b[0m   name \u001b[38;5;241m=\u001b[39m name \u001b[38;5;129;01mor\u001b[39;00m \u001b[38;5;28mself\u001b[39m\u001b[38;5;241m.\u001b[39m_table\u001b[38;5;241m.\u001b[39mname\n\u001b[1;32m   1308\u001b[0m \u001b[38;5;28;01melse\u001b[39;00m:\n",
      "File \u001b[0;32m/usr/local/lib/python3.9/dist-packages/tensorflow/python/trackable/resource.py:102\u001b[0m, in \u001b[0;36m_ResourceMetaclass.__call__\u001b[0;34m(cls, *args, **kwargs)\u001b[0m\n\u001b[1;32m     99\u001b[0m \u001b[38;5;28;01mfor\u001b[39;00m getter \u001b[38;5;129;01min\u001b[39;00m resource_creator_stack[\u001b[38;5;28mcls\u001b[39m\u001b[38;5;241m.\u001b[39m_resource_type()]:\n\u001b[1;32m    100\u001b[0m   previous_getter \u001b[38;5;241m=\u001b[39m _make_getter(getter, previous_getter)\n\u001b[0;32m--> 102\u001b[0m \u001b[38;5;28;01mreturn\u001b[39;00m \u001b[43mprevious_getter\u001b[49m\u001b[43m(\u001b[49m\u001b[38;5;241;43m*\u001b[39;49m\u001b[43margs\u001b[49m\u001b[43m,\u001b[49m\u001b[43m \u001b[49m\u001b[38;5;241;43m*\u001b[39;49m\u001b[38;5;241;43m*\u001b[39;49m\u001b[43mkwargs\u001b[49m\u001b[43m)\u001b[49m\n",
      "File \u001b[0;32m/usr/local/lib/python3.9/dist-packages/tensorflow/python/trackable/resource.py:97\u001b[0m, in \u001b[0;36m_ResourceMetaclass.__call__.<locals>.<lambda>\u001b[0;34m(*a, **kw)\u001b[0m\n\u001b[1;32m     94\u001b[0m   obj\u001b[38;5;241m.\u001b[39m\u001b[38;5;21m__init__\u001b[39m(\u001b[38;5;241m*\u001b[39ma, \u001b[38;5;241m*\u001b[39m\u001b[38;5;241m*\u001b[39mkw)\n\u001b[1;32m     95\u001b[0m   \u001b[38;5;28;01mreturn\u001b[39;00m obj\n\u001b[0;32m---> 97\u001b[0m previous_getter \u001b[38;5;241m=\u001b[39m \u001b[38;5;28;01mlambda\u001b[39;00m \u001b[38;5;241m*\u001b[39ma, \u001b[38;5;241m*\u001b[39m\u001b[38;5;241m*\u001b[39mkw: \u001b[43mdefault_resource_creator\u001b[49m\u001b[43m(\u001b[49m\u001b[38;5;28;43;01mNone\u001b[39;49;00m\u001b[43m,\u001b[49m\u001b[43m \u001b[49m\u001b[38;5;241;43m*\u001b[39;49m\u001b[43ma\u001b[49m\u001b[43m,\u001b[49m\u001b[43m \u001b[49m\u001b[38;5;241;43m*\u001b[39;49m\u001b[38;5;241;43m*\u001b[39;49m\u001b[43mkw\u001b[49m\u001b[43m)\u001b[49m\n\u001b[1;32m     98\u001b[0m resource_creator_stack \u001b[38;5;241m=\u001b[39m ops\u001b[38;5;241m.\u001b[39mget_default_graph()\u001b[38;5;241m.\u001b[39m_resource_creator_stack\n\u001b[1;32m     99\u001b[0m \u001b[38;5;28;01mfor\u001b[39;00m getter \u001b[38;5;129;01min\u001b[39;00m resource_creator_stack[\u001b[38;5;28mcls\u001b[39m\u001b[38;5;241m.\u001b[39m_resource_type()]:\n",
      "File \u001b[0;32m/usr/local/lib/python3.9/dist-packages/tensorflow/python/trackable/resource.py:94\u001b[0m, in \u001b[0;36m_ResourceMetaclass.__call__.<locals>.default_resource_creator\u001b[0;34m(next_creator, *a, **kw)\u001b[0m\n\u001b[1;32m     92\u001b[0m \u001b[38;5;28;01massert\u001b[39;00m next_creator \u001b[38;5;129;01mis\u001b[39;00m \u001b[38;5;28;01mNone\u001b[39;00m\n\u001b[1;32m     93\u001b[0m obj \u001b[38;5;241m=\u001b[39m \u001b[38;5;28mcls\u001b[39m\u001b[38;5;241m.\u001b[39m\u001b[38;5;21m__new__\u001b[39m(\u001b[38;5;28mcls\u001b[39m, \u001b[38;5;241m*\u001b[39ma, \u001b[38;5;241m*\u001b[39m\u001b[38;5;241m*\u001b[39mkw)\n\u001b[0;32m---> 94\u001b[0m \u001b[43mobj\u001b[49m\u001b[38;5;241;43m.\u001b[39;49m\u001b[38;5;21;43m__init__\u001b[39;49m\u001b[43m(\u001b[49m\u001b[38;5;241;43m*\u001b[39;49m\u001b[43ma\u001b[49m\u001b[43m,\u001b[49m\u001b[43m \u001b[49m\u001b[38;5;241;43m*\u001b[39;49m\u001b[38;5;241;43m*\u001b[39;49m\u001b[43mkw\u001b[49m\u001b[43m)\u001b[49m\n\u001b[1;32m     95\u001b[0m \u001b[38;5;28;01mreturn\u001b[39;00m obj\n",
      "File \u001b[0;32m/usr/local/lib/python3.9/dist-packages/tensorflow/python/ops/lookup_ops.py:347\u001b[0m, in \u001b[0;36mStaticHashTable.__init__\u001b[0;34m(self, initializer, default_value, name, experimental_is_anonymous)\u001b[0m\n\u001b[1;32m    345\u001b[0m \u001b[38;5;28mself\u001b[39m\u001b[38;5;241m.\u001b[39m_name \u001b[38;5;241m=\u001b[39m name \u001b[38;5;129;01mor\u001b[39;00m \u001b[38;5;124m\"\u001b[39m\u001b[38;5;124mhash_table\u001b[39m\u001b[38;5;124m\"\u001b[39m\n\u001b[1;32m    346\u001b[0m \u001b[38;5;28mself\u001b[39m\u001b[38;5;241m.\u001b[39m_table_name \u001b[38;5;241m=\u001b[39m \u001b[38;5;28;01mNone\u001b[39;00m\n\u001b[0;32m--> 347\u001b[0m \u001b[38;5;28;43msuper\u001b[39;49m\u001b[43m(\u001b[49m\u001b[43mStaticHashTable\u001b[49m\u001b[43m,\u001b[49m\u001b[43m \u001b[49m\u001b[38;5;28;43mself\u001b[39;49m\u001b[43m)\u001b[49m\u001b[38;5;241;43m.\u001b[39;49m\u001b[38;5;21;43m__init__\u001b[39;49m\u001b[43m(\u001b[49m\u001b[43mdefault_value\u001b[49m\u001b[43m,\u001b[49m\u001b[43m \u001b[49m\u001b[43minitializer\u001b[49m\u001b[43m)\u001b[49m\n\u001b[1;32m    348\u001b[0m \u001b[38;5;28mself\u001b[39m\u001b[38;5;241m.\u001b[39m_value_shape \u001b[38;5;241m=\u001b[39m \u001b[38;5;28mself\u001b[39m\u001b[38;5;241m.\u001b[39m_default_value\u001b[38;5;241m.\u001b[39mget_shape()\n",
      "File \u001b[0;32m/usr/local/lib/python3.9/dist-packages/tensorflow/python/ops/lookup_ops.py:204\u001b[0m, in \u001b[0;36mInitializableLookupTableBase.__init__\u001b[0;34m(self, default_value, initializer)\u001b[0m\n\u001b[1;32m    202\u001b[0m     \u001b[38;5;28mself\u001b[39m\u001b[38;5;241m.\u001b[39m_init_op \u001b[38;5;241m=\u001b[39m \u001b[38;5;28mself\u001b[39m\u001b[38;5;241m.\u001b[39m_initialize()\n\u001b[1;32m    203\u001b[0m \u001b[38;5;28;01melse\u001b[39;00m:\n\u001b[0;32m--> 204\u001b[0m   \u001b[38;5;28mself\u001b[39m\u001b[38;5;241m.\u001b[39m_init_op \u001b[38;5;241m=\u001b[39m \u001b[38;5;28;43mself\u001b[39;49m\u001b[38;5;241;43m.\u001b[39;49m\u001b[43m_initialize\u001b[49m\u001b[43m(\u001b[49m\u001b[43m)\u001b[49m\n",
      "File \u001b[0;32m/usr/local/lib/python3.9/dist-packages/tensorflow/python/ops/lookup_ops.py:207\u001b[0m, in \u001b[0;36mInitializableLookupTableBase._initialize\u001b[0;34m(self)\u001b[0m\n\u001b[1;32m    206\u001b[0m \u001b[38;5;28;01mdef\u001b[39;00m \u001b[38;5;21m_initialize\u001b[39m(\u001b[38;5;28mself\u001b[39m):\n\u001b[0;32m--> 207\u001b[0m   \u001b[38;5;28;01mreturn\u001b[39;00m \u001b[38;5;28;43mself\u001b[39;49m\u001b[38;5;241;43m.\u001b[39;49m\u001b[43m_initializer\u001b[49m\u001b[38;5;241;43m.\u001b[39;49m\u001b[43minitialize\u001b[49m\u001b[43m(\u001b[49m\u001b[38;5;28;43mself\u001b[39;49m\u001b[43m)\u001b[49m\n",
      "File \u001b[0;32m/usr/local/lib/python3.9/dist-packages/tensorflow/python/ops/lookup_ops.py:771\u001b[0m, in \u001b[0;36mTextFileInitializer.initialize\u001b[0;34m(self, table)\u001b[0m\n\u001b[1;32m    768\u001b[0m \u001b[38;5;28;01mwith\u001b[39;00m ops\u001b[38;5;241m.\u001b[39mname_scope(\u001b[38;5;28mself\u001b[39m\u001b[38;5;241m.\u001b[39m_name, \u001b[38;5;124m\"\u001b[39m\u001b[38;5;124mtext_file_init\u001b[39m\u001b[38;5;124m\"\u001b[39m, (table\u001b[38;5;241m.\u001b[39mresource_handle,)):\n\u001b[1;32m    769\u001b[0m   filename \u001b[38;5;241m=\u001b[39m ops\u001b[38;5;241m.\u001b[39mconvert_to_tensor(\n\u001b[1;32m    770\u001b[0m       \u001b[38;5;28mself\u001b[39m\u001b[38;5;241m.\u001b[39m_filename, dtypes\u001b[38;5;241m.\u001b[39mstring, name\u001b[38;5;241m=\u001b[39m\u001b[38;5;124m\"\u001b[39m\u001b[38;5;124masset_filepath\u001b[39m\u001b[38;5;124m\"\u001b[39m)\n\u001b[0;32m--> 771\u001b[0m   init_op \u001b[38;5;241m=\u001b[39m \u001b[43mgen_lookup_ops\u001b[49m\u001b[38;5;241;43m.\u001b[39;49m\u001b[43minitialize_table_from_text_file_v2\u001b[49m\u001b[43m(\u001b[49m\n\u001b[1;32m    772\u001b[0m \u001b[43m      \u001b[49m\u001b[43mtable\u001b[49m\u001b[38;5;241;43m.\u001b[39;49m\u001b[43mresource_handle\u001b[49m\u001b[43m,\u001b[49m\u001b[43m \u001b[49m\u001b[43mfilename\u001b[49m\u001b[43m,\u001b[49m\u001b[43m \u001b[49m\u001b[38;5;28;43mself\u001b[39;49m\u001b[38;5;241;43m.\u001b[39;49m\u001b[43m_key_index\u001b[49m\u001b[43m,\u001b[49m\u001b[43m \u001b[49m\u001b[38;5;28;43mself\u001b[39;49m\u001b[38;5;241;43m.\u001b[39;49m\u001b[43m_value_index\u001b[49m\u001b[43m,\u001b[49m\n\u001b[1;32m    773\u001b[0m \u001b[43m      \u001b[49m\u001b[38;5;241;43m-\u001b[39;49m\u001b[38;5;241;43m1\u001b[39;49m\u001b[43m \u001b[49m\u001b[38;5;28;43;01mif\u001b[39;49;00m\u001b[43m \u001b[49m\u001b[38;5;28;43mself\u001b[39;49m\u001b[38;5;241;43m.\u001b[39;49m\u001b[43m_vocab_size\u001b[49m\u001b[43m \u001b[49m\u001b[38;5;129;43;01mis\u001b[39;49;00m\u001b[43m \u001b[49m\u001b[38;5;28;43;01mNone\u001b[39;49;00m\u001b[43m \u001b[49m\u001b[38;5;28;43;01melse\u001b[39;49;00m\u001b[43m \u001b[49m\u001b[38;5;28;43mself\u001b[39;49m\u001b[38;5;241;43m.\u001b[39;49m\u001b[43m_vocab_size\u001b[49m\u001b[43m,\u001b[49m\u001b[43m \u001b[49m\u001b[38;5;28;43mself\u001b[39;49m\u001b[38;5;241;43m.\u001b[39;49m\u001b[43m_delimiter\u001b[49m\u001b[43m,\u001b[49m\n\u001b[1;32m    774\u001b[0m \u001b[43m      \u001b[49m\u001b[38;5;28;43mself\u001b[39;49m\u001b[38;5;241;43m.\u001b[39;49m\u001b[43m_offset\u001b[49m\u001b[43m)\u001b[49m\n\u001b[1;32m    775\u001b[0m ops\u001b[38;5;241m.\u001b[39madd_to_collection(ops\u001b[38;5;241m.\u001b[39mGraphKeys\u001b[38;5;241m.\u001b[39mTABLE_INITIALIZERS, init_op)\n\u001b[1;32m    776\u001b[0m \u001b[38;5;66;03m# If the filename tensor is anything other than a string constant (e.g.,\u001b[39;00m\n\u001b[1;32m    777\u001b[0m \u001b[38;5;66;03m# if it is a placeholder) then it does not make sense to track it as an\u001b[39;00m\n\u001b[1;32m    778\u001b[0m \u001b[38;5;66;03m# asset.\u001b[39;00m\n",
      "File \u001b[0;32m/usr/local/lib/python3.9/dist-packages/tensorflow/python/ops/gen_lookup_ops.py:666\u001b[0m, in \u001b[0;36minitialize_table_from_text_file_v2\u001b[0;34m(table_handle, filename, key_index, value_index, vocab_size, delimiter, offset, name)\u001b[0m\n\u001b[1;32m    664\u001b[0m   \u001b[38;5;28;01mreturn\u001b[39;00m _result\n\u001b[1;32m    665\u001b[0m \u001b[38;5;28;01mexcept\u001b[39;00m _core\u001b[38;5;241m.\u001b[39m_NotOkStatusException \u001b[38;5;28;01mas\u001b[39;00m e:\n\u001b[0;32m--> 666\u001b[0m   \u001b[43m_ops\u001b[49m\u001b[38;5;241;43m.\u001b[39;49m\u001b[43mraise_from_not_ok_status\u001b[49m\u001b[43m(\u001b[49m\u001b[43me\u001b[49m\u001b[43m,\u001b[49m\u001b[43m \u001b[49m\u001b[43mname\u001b[49m\u001b[43m)\u001b[49m\n\u001b[1;32m    667\u001b[0m \u001b[38;5;28;01mexcept\u001b[39;00m _core\u001b[38;5;241m.\u001b[39m_FallbackException:\n\u001b[1;32m    668\u001b[0m   \u001b[38;5;28;01mpass\u001b[39;00m\n",
      "File \u001b[0;32m/usr/local/lib/python3.9/dist-packages/tensorflow/python/framework/ops.py:7262\u001b[0m, in \u001b[0;36mraise_from_not_ok_status\u001b[0;34m(e, name)\u001b[0m\n\u001b[1;32m   7260\u001b[0m \u001b[38;5;28;01mdef\u001b[39;00m \u001b[38;5;21mraise_from_not_ok_status\u001b[39m(e, name):\n\u001b[1;32m   7261\u001b[0m   e\u001b[38;5;241m.\u001b[39mmessage \u001b[38;5;241m+\u001b[39m\u001b[38;5;241m=\u001b[39m (\u001b[38;5;124m\"\u001b[39m\u001b[38;5;124m name: \u001b[39m\u001b[38;5;124m\"\u001b[39m \u001b[38;5;241m+\u001b[39m name \u001b[38;5;28;01mif\u001b[39;00m name \u001b[38;5;129;01mis\u001b[39;00m \u001b[38;5;129;01mnot\u001b[39;00m \u001b[38;5;28;01mNone\u001b[39;00m \u001b[38;5;28;01melse\u001b[39;00m \u001b[38;5;124m\"\u001b[39m\u001b[38;5;124m\"\u001b[39m)\n\u001b[0;32m-> 7262\u001b[0m   \u001b[38;5;28;01mraise\u001b[39;00m core\u001b[38;5;241m.\u001b[39m_status_to_exception(e) \u001b[38;5;28;01mfrom\u001b[39;00m \u001b[38;5;28mNone\u001b[39m\n",
      "\u001b[0;31mFailedPreconditionError\u001b[0m: {{function_node __wrapped__InitializeTableFromTextFileV2_device_/job:localhost/replica:0/task:0/device:CPU:0}} HashTable has different value for same key. Key '[END]' has 3 and trying to add value 8 [Op:InitializeTableFromTextFileV2]"
     ]
    }
   ],
   "source": [
    "rus_tokenizer = tf_text.BertTokenizer(rus_path, **bert_tokenizer_params)\n",
    "en_tokenizer = tf_text.BertTokenizer(en_path, **bert_tokenizer_params)"
   ]
  },
  {
   "cell_type": "code",
   "execution_count": null,
   "metadata": {},
   "outputs": [],
   "source": [
    "# for en, ru in train_raw_ds.take(1):\n",
    "#     print(en.numpy().decode(\"utf-8\"))\n",
    "#     print()\n",
    "#     print(ru.numpy().decode(\"utf-8\"))"
   ]
  },
  {
   "cell_type": "code",
   "execution_count": null,
   "metadata": {},
   "outputs": [],
   "source": [
    "# tokenizer_en = tf_text.BertTokenizer(en_path)"
   ]
  },
  {
   "cell_type": "code",
   "execution_count": null,
   "metadata": {},
   "outputs": [
    {
     "name": "stdout",
     "output_type": "stream",
     "text": [
      "['т', '##ы', 'о', '##ч', '##е', '##н', '##ь', 'д', '##о', '##б', '##р', '##ы', '##и']\n",
      "[1197, 29113, 1193, 29752, 15290, 18947, 23742, 1184, 14150, 29740, 16856, 29113, 10325]\n"
     ]
    }
   ],
   "source": [
    "tokenizer = trns.BertTokenizer.from_pretrained('bert-base-uncased')\n",
    "\n",
    "text = \"ты очень добрый\"\n",
    "tokens = tokenizer.tokenize(text)\n",
    "print(tokens)\n",
    "input_ids = tokenizer.convert_tokens_to_ids(tokens)\n",
    "\n",
    "print(input_ids)"
   ]
  },
  {
   "cell_type": "code",
   "execution_count": 48,
   "metadata": {},
   "outputs": [
    {
     "name": "stdout",
     "output_type": "stream",
     "text": [
      "English text:  this new development in harrys character may be a disappointment to those readers who enjoyed his old vindictive ways  , but it also reinforces the position of pro  -potter people who do not see beneath the surface appearance of the characters and plots  .\n",
      "Tokens English:  ['this', 'new', 'development', 'in', 'harry', '##s', 'character', 'may', 'be', 'a', 'disappointment', 'to', 'those', 'readers', 'who', 'enjoyed', 'his', 'old', 'vin', '##dict', '##ive', 'ways', ',', 'but', 'it', 'also', 'reinforce', '##s', 'the', 'position', 'of', 'pro', '-', 'potter', 'people', 'who', 'do', 'not', 'see', 'beneath', 'the', 'surface', 'appearance', 'of', 'the', 'characters', 'and', 'plots', '.']\n",
      "English ids:  [2023, 2047, 2458, 1999, 4302, 2015, 2839, 2089, 2022, 1037, 10520, 2000, 2216, 8141, 2040, 5632, 2010, 2214, 19354, 29201, 3512, 3971, 1010, 2021, 2009, 2036, 19444, 2015, 1996, 2597, 1997, 4013, 1011, 10693, 2111, 2040, 2079, 2025, 2156, 4218, 1996, 3302, 3311, 1997, 1996, 3494, 1998, 14811, 1012]\n",
      "\n",
      "Russian text:  такое развитие характера гарри может разочаровать читателей  , полюбивших его былую мстительность  , но с другой стороны это преображение укрепляет позицию тех  , кто не видит глубже сюжета и изображения героев  .\n",
      "Tokens Russian:  ['т', '##а', '##к', '##о', '##е', 'р', '##а', '##з', '##в', '##и', '##т', '##и', '##е', 'х', '##а', '##р', '##а', '##к', '##т', '##е', '##р', '##а', 'г', '##а', '##р', '##р', '##и', 'м', '##о', '##ж', '##е', '##т', 'р', '##а', '##з', '##о', '##ч', '##а', '##р', '##ов', '##а', '##т', '##ь', 'ч', '##и', '##т', '##а', '##т', '##е', '##л', '##е', '##и', ',', 'п', '##о', '##л', '##ю', '##б', '##и', '##в', '##ш', '##и', '##х', 'е', '##г', '##о', 'б', '##ы', '##л', '##у', '##ю', 'м', '##с', '##т', '##и', '##т', '##е', '##л', '##ь', '##н', '##о', '##с', '##т', '##ь', ',', 'н', '##о', 'с', 'д', '##р', '##у', '##г', '##о', '##и', 'с', '##т', '##о', '##р', '##о', '##н', '##ы', 'э', '##т', '##о', 'п', '##р', '##е', '##о', '##б', '##р', '##а', '##ж', '##е', '##н', '##и', '##е', 'у', '##к', '##р', '##е', '##п', '##л', '##я', '##е', '##т', 'п', '##о', '##з', '##и', '##ц', '##и', '##ю', 'т', '##е', '##х', ',', 'к', '##т', '##о', 'н', '##е', 'в', '##и', '##д', '##и', '##т', 'г', '##л', '##у', '##б', '##ж', '##е', 'с', '##ю', '##ж', '##е', '##т', '##а', 'и', 'и', '##з', '##о', '##б', '##р', '##а', '##ж', '##е', '##н', '##ия', 'г', '##е', '##р', '##о', '##е', '##в', '.']\n",
      "Russian ids:  [1197, 10260, 23925, 14150, 15290, 1195, 10260, 29744, 25529, 10325, 22919, 10325, 15290, 1200, 10260, 16856, 10260, 23925, 22919, 15290, 16856, 10260, 1183, 10260, 16856, 16856, 10325, 1191, 14150, 29743, 15290, 22919, 1195, 10260, 29744, 14150, 29752, 10260, 16856, 19259, 10260, 22919, 23742, 1202, 10325, 22919, 10260, 22919, 15290, 29436, 15290, 10325, 1010, 1194, 14150, 29436, 29757, 29740, 10325, 25529, 29753, 10325, 29750, 1185, 29741, 14150, 1181, 29113, 29436, 29748, 29757, 1191, 29747, 22919, 10325, 22919, 15290, 29436, 23742, 18947, 14150, 29747, 22919, 23742, 1010, 1192, 14150, 1196, 1184, 16856, 29748, 29741, 14150, 10325, 1196, 22919, 14150, 16856, 14150, 18947, 29113, 1208, 22919, 14150, 1194, 16856, 15290, 14150, 29740, 16856, 10260, 29743, 15290, 18947, 10325, 15290, 1198, 23925, 16856, 15290, 29746, 29436, 17432, 15290, 22919, 1194, 14150, 29744, 10325, 29751, 10325, 29757, 1197, 15290, 29750, 1010, 1189, 22919, 14150, 1192, 15290, 1182, 10325, 29742, 10325, 22919, 1183, 29436, 29748, 29740, 29743, 15290, 1196, 29757, 29743, 15290, 22919, 10260, 1188, 1188, 29744, 14150, 29740, 16856, 10260, 29743, 15290, 18947, 23483, 1183, 15290, 16856, 14150, 15290, 25529, 1012]\n"
     ]
    },
    {
     "name": "stderr",
     "output_type": "stream",
     "text": [
      "2023-06-15 07:51:07.129043: I tensorflow/core/common_runtime/executor.cc:1197] [/device:CPU:0] (DEBUG INFO) Executor start aborting (this does not indicate an error and you can ignore this message): INVALID_ARGUMENT: You must feed a value for placeholder tensor 'Placeholder/_1' with dtype string and shape [799998]\n",
      "\t [[{{node Placeholder/_1}}]]\n"
     ]
    }
   ],
   "source": [
    "for en, ru in train_raw_ds.take(1):\n",
    "    en_tokens = tokenizer.tokenize(en.numpy().decode(\"utf-8\"))\n",
    "    print(\"English text: \", en.numpy().decode(\"utf-8\"))\n",
    "    print(\"Tokens English: \", en_tokens)\n",
    "    print(\"English ids: \", tokenizer.convert_tokens_to_ids(en_tokens))\n",
    "    print()\n",
    "    rus_tokens = tokenizer.tokenize(ru.numpy().decode(\"utf-8\"))\n",
    "    print(\"Russian text: \", ru.numpy().decode(\"utf-8\"))\n",
    "    print(\"Tokens Russian: \", rus_tokens)\n",
    "    print(\"Russian ids: \", tokenizer.convert_tokens_to_ids(rus_tokens))"
   ]
  },
  {
   "cell_type": "code",
   "execution_count": 35,
   "metadata": {},
   "outputs": [],
   "source": [
    "# [item for item in dir(tokenizer) if not item.startswith('_')]"
   ]
  },
  {
   "cell_type": "code",
   "execution_count": null,
   "metadata": {},
   "outputs": [],
   "source": [
    "[item for item in dir(tokenizer) if not item.startswith('_')]"
   ]
  },
  {
   "cell_type": "code",
   "execution_count": null,
   "metadata": {},
   "outputs": [],
   "source": []
  },
  {
   "cell_type": "markdown",
   "metadata": {
    "id": "s32MGXsoEzgr",
    "jp-MarkdownHeadingCollapsed": true,
    "tags": []
   },
   "source": [
    "#### Subword tokenization"
   ]
  },
  {
   "cell_type": "code",
   "execution_count": 101,
   "metadata": {
    "id": "cp8XBF_Ed0MG"
   },
   "outputs": [],
   "source": [
    "BUFFER_SIZE = len(context_raw_corpus)\n",
    "\n",
    "is_train = np.random.uniform(size=(len(target_raw_corpus),)) < 0.8\n",
    "\n",
    "context_raw_train = context_raw_corpus[is_train]\n",
    "context_raw_val = context_raw_corpus[~is_train]\n",
    "\n",
    "target_raw_train = target_raw_corpus[is_train]\n",
    "target_raw_val = target_raw_corpus[~is_train]\n",
    "\n",
    "train_raw = (\n",
    "    tf.data.Dataset\n",
    "    .from_tensor_slices((context_raw_train, target_raw_train)))\n",
    "val_raw = (\n",
    "    tf.data.Dataset\n",
    "    .from_tensor_slices((context_raw_val, target_raw_val)))"
   ]
  },
  {
   "cell_type": "code",
   "execution_count": 102,
   "metadata": {
    "id": "eVwobGJcegIA"
   },
   "outputs": [],
   "source": [
    "train_raw_ds = train_raw.map(lambda context, target: (lower_and_split_punct(context), lower_and_split_punct(target)), tf.data.AUTOTUNE)\n",
    "val_raw_ds = val_raw.map(lambda context, target: (lower_and_split_punct(context), lower_and_split_punct(target)), tf.data.AUTOTUNE)"
   ]
  },
  {
   "cell_type": "code",
   "execution_count": 119,
   "metadata": {},
   "outputs": [
    {
     "name": "stdout",
     "output_type": "stream",
     "text": [
      "[26, 60, 117, 11, 30402, 1843, 80, 21, 12, 15116, 10, 112, 4368, 61, 4226, 49, 301, 84428, 96072, 3379, 6, 41, 23, 57, 24378, 5, 667, 8, 3145, 16, 15722, 86, 61, 79, 30, 131, 7483, 5, 1918, 3020, 8, 5, 3217, 9, 21725, 7]\n",
      "376\n"
     ]
    },
    {
     "name": "stderr",
     "output_type": "stream",
     "text": [
      "2023-06-15 17:15:10.299256: I tensorflow/core/common_runtime/executor.cc:1197] [/device:CPU:0] (DEBUG INFO) Executor start aborting (this does not indicate an error and you can ignore this message): INVALID_ARGUMENT: You must feed a value for placeholder tensor 'Placeholder/_1' with dtype string and shape [799214]\n",
      "\t [[{{node Placeholder/_1}}]]\n"
     ]
    }
   ],
   "source": [
    "for cnt, en in train_raw_ds.take(1):\n",
    "    print(context_subword_processor.encode(cnt.numpy()))\n",
    "    print(len(context_subword_processor.encode(en.numpy().decode(\"utf-8\"))))"
   ]
  },
  {
   "cell_type": "code",
   "execution_count": 103,
   "metadata": {
    "id": "eqOHLCO1e5kE"
   },
   "outputs": [
    {
     "name": "stdout",
     "output_type": "stream",
     "text": [
      "Context: tf.Tensor(b'this new development in harrys character may be a disappointment to those readers who enjoyed his old vindictive ways  , but it also reinforces the position of pro  -potter people who do not see beneath the surface appearance of the characters and plots  .', shape=(), dtype=string)\n",
      "Target: такое развитие характера гарри может разочаровать читателей  , полюбивших его былую мстительность  , но с другой стороны это преображение укрепляет позицию тех  , кто не видит глубже сюжета и изображения героев  .\n",
      "\n"
     ]
    },
    {
     "name": "stderr",
     "output_type": "stream",
     "text": [
      "2023-06-15 16:31:56.432707: I tensorflow/core/common_runtime/executor.cc:1197] [/device:CPU:0] (DEBUG INFO) Executor start aborting (this does not indicate an error and you can ignore this message): INVALID_ARGUMENT: You must feed a value for placeholder tensor 'Placeholder/_1' with dtype string and shape [799214]\n",
      "\t [[{{node Placeholder/_1}}]]\n"
     ]
    }
   ],
   "source": [
    "num_elements = 1\n",
    "\n",
    "# Take the first num_elements from the train_ds dataset\n",
    "sample_elements = train_raw_ds.take(num_elements)\n",
    "\n",
    "# Iterate over the sample_elements dataset and print the context and target\n",
    "for context, target in sample_elements:\n",
    "    print(\"Context:\", context)\n",
    "    print(\"Target:\", target.numpy().decode(\"utf-8\"))\n",
    "    # print(\"Context:\", len(context))\n",
    "    # print(\"Target:\", len(target))\n",
    "    print()"
   ]
  },
  {
   "cell_type": "code",
   "execution_count": 121,
   "metadata": {
    "id": "jA3cVKd3gBzm"
   },
   "outputs": [
    {
     "name": "stdout",
     "output_type": "stream",
     "text": [
      "CPU times: user 10min 47s, sys: 18 s, total: 11min 5s\n",
      "Wall time: 9min 27s\n"
     ]
    }
   ],
   "source": [
    "%%time\n",
    "context_subword_processor = tfds.deprecated.text.SubwordTextEncoder.build_from_corpus( # convertation of a text to encoded tokens using subword\n",
    "    (context.numpy() for context, target in train_raw_ds),\n",
    "    target_vocab_size=MAX_VOCAB_SIZE,\n",
    "    reserved_tokens=reserved_tokens,\n",
    "    max_subword_length=max_subword_length)"
   ]
  },
  {
   "cell_type": "code",
   "execution_count": 109,
   "metadata": {},
   "outputs": [
    {
     "name": "stdout",
     "output_type": "stream",
     "text": [
      "README.md\t    corpus.en_ru.1m.ru\t      rus.txt\n",
      "corpus.en_ru.1m.en  machine_translator.ipynb\n"
     ]
    }
   ],
   "source": [
    "!ls /notebooks"
   ]
  },
  {
   "cell_type": "code",
   "execution_count": 122,
   "metadata": {},
   "outputs": [],
   "source": [
    "context_subword_processor.save_to_file(\"/notebooks/ctx\")"
   ]
  },
  {
   "cell_type": "code",
   "execution_count": 123,
   "metadata": {
    "id": "eaNimFIugE7p"
   },
   "outputs": [
    {
     "name": "stdout",
     "output_type": "stream",
     "text": [
      "CPU times: user 23min 59s, sys: 20.2 s, total: 24min 20s\n",
      "Wall time: 22min 42s\n"
     ]
    }
   ],
   "source": [
    "%%time\n",
    "target_subword_processor = tfds.deprecated.text.SubwordTextEncoder.build_from_corpus(\n",
    "    (target.numpy() for context, target in train_raw_ds),\n",
    "    target_vocab_size=MAX_VOCAB_SIZE,\n",
    "    reserved_tokens=reserved_tokens,\n",
    "    max_subword_length=max_subword_length)"
   ]
  },
  {
   "cell_type": "code",
   "execution_count": 124,
   "metadata": {},
   "outputs": [],
   "source": [
    "context_subword_processor.save_to_file(\"/notebooks/trg\")"
   ]
  },
  {
   "cell_type": "code",
   "execution_count": 24,
   "metadata": {
    "id": "8yOb1LXDmBxc"
   },
   "outputs": [
    {
     "name": "stderr",
     "output_type": "stream",
     "text": [
      "2023-06-15 14:50:51.368299: I tensorflow/core/common_runtime/executor.cc:1197] [/device:CPU:0] (DEBUG INFO) Executor start aborting (this does not indicate an error and you can ignore this message): INVALID_ARGUMENT: You must feed a value for placeholder tensor 'Placeholder/_1' with dtype string and shape [200761]\n",
      "\t [[{{node Placeholder/_1}}]]\n"
     ]
    },
    {
     "name": "stdout",
     "output_type": "stream",
     "text": [
      "CPU times: user 3min 5s, sys: 12 s, total: 3min 17s\n",
      "Wall time: 3min 6s\n"
     ]
    }
   ],
   "source": [
    "%%time\n",
    "context_encoded_train = [context_subword_processor.encode(s.numpy()) for s, t in train_raw]\n",
    "context_encoded_val = [context_subword_processor.encode(s.numpy()) for s, t in val_raw]"
   ]
  },
  {
   "cell_type": "code",
   "execution_count": 25,
   "metadata": {
    "id": "7XRu2iBtmC7Q"
   },
   "outputs": [
    {
     "name": "stdout",
     "output_type": "stream",
     "text": [
      "CPU times: user 3min 30s, sys: 12.9 s, total: 3min 43s\n",
      "Wall time: 3min 32s\n"
     ]
    }
   ],
   "source": [
    "%%time\n",
    "target_encoded_train = [target_subword_processor.encode(t.numpy()) for s, t in train_raw]\n",
    "target_encoded_val = [target_subword_processor.encode(t.numpy()) for s, t in val_raw]"
   ]
  },
  {
   "cell_type": "code",
   "execution_count": 86,
   "metadata": {
    "id": "ZE5I7P-yb2xl"
   },
   "outputs": [],
   "source": [
    "start_text = \"[START]\"\n",
    "end_text = \"[END]\""
   ]
  },
  {
   "cell_type": "code",
   "execution_count": 67,
   "metadata": {
    "id": "Enp9ENeWb-uz"
   },
   "outputs": [],
   "source": [
    "context_subword_processor.subwords.insert(0, start_text)\n",
    "context_subword_processor.subwords.insert(1, end_text)\n",
    "target_subword_processor.subwords.insert(0, start_text)\n",
    "target_subword_processor.subwords.insert(1, end_text)"
   ]
  },
  {
   "cell_type": "code",
   "execution_count": 31,
   "metadata": {},
   "outputs": [
    {
     "name": "stdout",
     "output_type": "stream",
     "text": [
      "Found 'START' token.\n",
      "Found 'END' token.\n"
     ]
    }
   ],
   "source": [
    "start_token = \"START\"\n",
    "end_token = \"END\"\n",
    "\n",
    "for subword in context_subword_processor.subwords:\n",
    "    if subword == start_token:\n",
    "        print(f\"Found '{start_token}' token.\")\n",
    "    elif subword == end_token:\n",
    "        print(f\"Found '{end_token}' token.\")"
   ]
  },
  {
   "cell_type": "code",
   "execution_count": 28,
   "metadata": {},
   "outputs": [
    {
     "data": {
      "text/plain": [
       "['build_from_corpus',\n",
       " 'decode',\n",
       " 'encode',\n",
       " 'load_from_file',\n",
       " 'save_to_file',\n",
       " 'subwords',\n",
       " 'vocab_size']"
      ]
     },
     "execution_count": 28,
     "metadata": {},
     "output_type": "execute_result"
    }
   ],
   "source": [
    "[item for item in dir(context_subword_processor) if not item.startswith('_')]"
   ]
  },
  {
   "cell_type": "code",
   "execution_count": 29,
   "metadata": {},
   "outputs": [
    {
     "data": {
      "text/plain": [
       "['build_from_corpus',\n",
       " 'decode',\n",
       " 'encode',\n",
       " 'load_from_file',\n",
       " 'save_to_file',\n",
       " 'subwords',\n",
       " 'vocab_size']"
      ]
     },
     "execution_count": 29,
     "metadata": {},
     "output_type": "execute_result"
    }
   ],
   "source": [
    "[item for item in dir(target_subword_processor) if not item.startswith('_')]"
   ]
  },
  {
   "cell_type": "code",
   "execution_count": 109,
   "metadata": {
    "id": "h26xQiPqmUtW"
   },
   "outputs": [],
   "source": [
    "START_TOKEN, END_TOKEN = [0], [1] # adding additional tokens to start and end a sentence"
   ]
  },
  {
   "cell_type": "code",
   "execution_count": 35,
   "metadata": {
    "id": "PgD9ME99cN_s"
   },
   "outputs": [
    {
     "name": "stdout",
     "output_type": "stream",
     "text": [
      "96271\n",
      "100981\n"
     ]
    }
   ],
   "source": [
    "print(context_subword_processor.vocab_size)\n",
    "print(target_subword_processor.vocab_size)"
   ]
  },
  {
   "cell_type": "code",
   "execution_count": 36,
   "metadata": {
    "id": "1U1KFmm04lc8"
   },
   "outputs": [
    {
     "data": {
      "text/plain": [
       "'before_'"
      ]
     },
     "execution_count": 36,
     "metadata": {},
     "output_type": "execute_result"
    }
   ],
   "source": [
    "context_subword_processor.subwords[150]"
   ]
  },
  {
   "cell_type": "code",
   "execution_count": 37,
   "metadata": {},
   "outputs": [
    {
     "data": {
      "text/plain": [
       "'например'"
      ]
     },
     "execution_count": 37,
     "metadata": {},
     "output_type": "execute_result"
    }
   ],
   "source": [
    "target_subword_processor.subwords[150]"
   ]
  },
  {
   "cell_type": "code",
   "execution_count": 112,
   "metadata": {
    "id": "P4KFF_3hmZqw"
   },
   "outputs": [],
   "source": [
    "# context_vocab_size = context_subword_processor.vocab_size + 2\n",
    "# target_vocab_size = target_subword_processor.vocab_size + 2"
   ]
  },
  {
   "cell_type": "code",
   "execution_count": 61,
   "metadata": {},
   "outputs": [],
   "source": [
    "def prepare_dataset(context, target):\n",
    "    \n",
    "    context_tensor = context_subword_processor.encode(context.numpy())\n",
    "    context_tensor = tf.constant(context_tensor[:MAX_TOKENS_LENGTH])\n",
    "    context_tensor = tf.\n",
    "    \n",
    "    target_tensor = target_subword_processor.encode(target_numpy())\n",
    "    target_tensor_in = \n",
    "    \n",
    "    # context_tensor = tf.keras.utils.pad_sequences(context, maxlen=MAX_TOKENS_LENGTH, dtype=\"int64\", padding='post', truncating='post')\n",
    "    context_tensor = tf.keras.preprocessing.sequence.pad_sequences(context, maxlen=MAX_TOKENS_LENGTH, dtype=\"int64\", padding='post', truncating='post')\n",
    "    target_tensor = tf.keras.preprocessing.sequence.pad_sequences(target, maxlen=MAX_TOKENS_LENGTH, dtype=\"int64\", padding='post', truncating='post')\n",
    "    # target_tensor = tf.keras.utils.pad_sequences(target, maxlen=MAX_TOKENS_LENGTH, dtype=\"int64\", padding='post', truncating='post')\n",
    "    target_tensor_in = target_tensor[:, :-1]\n",
    "    target_tensor_out = target_tensor[:, 1:]\n",
    "    return (context_tensor, target_tensor_in), target_tensor_out"
   ]
  },
  {
   "cell_type": "code",
   "execution_count": 73,
   "metadata": {},
   "outputs": [
    {
     "data": {
      "text/plain": [
       "<tf.RaggedTensor [[100933, 100885, 86893, 415, 3090, 100757, 100765, 502, 14492, 120, 31801,\n",
       "  17, 100794, 6070, 16265, 9835, 100794, 84095, 34406, 12069, 100766,\n",
       "  100757, 76001, 22, 7899, 54702, 87, 266, 9431, 37125, 7888, 100933,\n",
       "  100888, 4291, 70306, 100757, 6, 11, 4110, 210, 73543, 4135, 468, 11161,\n",
       "  100771, 100735]                                                          ,\n",
       " [100933, 100879, 24077, 666, 1632, 100774, 100781, 100757, 21, 100774,\n",
       "  100782, 100757, 254, 4157, 686, 59833, 132, 91281, 415, 39156, 99504, 6,\n",
       "  23184, 42, 7, 7963, 100771, 100735]                                     ,\n",
       " [100933, 100869, 100757, 269, 43055, 5168, 27312, 158, 147, 70, 559,\n",
       "  100791, 100801, 100790, 100792, 100800, 100757, 100808, 100790, 100791,\n",
       "  100791, 100790, 100809, 100797, 100757, 6, 100800, 100798, 100808, 100808,\n",
       "  100771, 100735]                                                           ,\n",
       " [100933, 100900, 100757, 71, 46585, 4157, 155, 36342, 31232, 34, 58627, 8,\n",
       "  35567, 52, 100771, 100735]                                               ,\n",
       " [100933, 100883, 33129, 33, 26, 57774, 1234, 7, 100780, 100783, 100776,\n",
       "  100773, 4157, 57548, 119, 4215, 6, 3038, 12, 5780, 7, 1153, 45088, 4157,\n",
       "  8, 20522, 6, 7, 12952, 620, 100779, 100773, 100773, 100757, 74696, 100757,\n",
       "  13194, 6, 985, 7408, 429, 100771, 100735]                                 ,\n",
       " [100933, 100871, 100757, 1672, 22508, 3040, 234, 5029, 4157, 16523, 94501,\n",
       "  100757, 63845, 16, 8, 27593, 5325, 100771, 100735]                       ,\n",
       " [100933, 100871, 54569, 41704, 23, 82916, 12898, 100771, 100735],\n",
       " [100933, 100898, 1631, 3508, 11, 1633, 110, 60, 7, 1528, 34, 57686, 23, 10,\n",
       "  322, 28006, 4157, 33, 11, 110, 6, 47313, 361, 100771, 100735]             ,\n",
       " [100933, 100898, 1082, 67011, 12161, 7742, 14784, 9227, 4157, 15432, 4157,\n",
       "  64439, 279, 1322, 28466, 10309, 100771, 100735]                          ,\n",
       " [100933, 100871, 27270, 100757, 1116, 84, 5661, 4531, 4247, 100933, 100886,\n",
       "  39434, 16, 100933, 100872, 15496, 4157, 6, 35, 31305, 145, 42, 8, 377,\n",
       "  15070, 92, 100771, 100735]                                                ]>"
      ]
     },
     "execution_count": 73,
     "metadata": {},
     "output_type": "execute_result"
    }
   ],
   "source": [
    "tf.ragged.constant(target_encoded_train[:10])"
   ]
  },
  {
   "cell_type": "code",
   "execution_count": 65,
   "metadata": {},
   "outputs": [],
   "source": [
    "def prepare_dataset(context: list, target: list):\n",
    "    context_tensor = tf.ragged.constant(context)\n",
    "    target_tensor = tf.ragged.constant(target)\n",
    "\n",
    "    # Pad sequences to a maximum length\n",
    "    context_tensor = context_tensor.to_tensor(default_value=0)\n",
    "    target_tensor = target_tensor.to_tensor(default_value=0)\n",
    "\n",
    "    target_tensor_in = target_tensor[:, :-1]\n",
    "    target_tensor_out = target_tensor[:, 1:]\n",
    "\n",
    "    return (context_tensor, target_tensor_in), target_tensor_out"
   ]
  },
  {
   "cell_type": "code",
   "execution_count": 62,
   "metadata": {},
   "outputs": [
    {
     "data": {
      "text/plain": [
       "46"
      ]
     },
     "execution_count": 62,
     "metadata": {},
     "output_type": "execute_result"
    }
   ],
   "source": [
    "len(target_encoded_train[0])"
   ]
  },
  {
   "cell_type": "code",
   "execution_count": 63,
   "metadata": {},
   "outputs": [
    {
     "data": {
      "text/plain": [
       "40"
      ]
     },
     "execution_count": 63,
     "metadata": {},
     "output_type": "execute_result"
    }
   ],
   "source": [
    "len(context_encoded_train[0])"
   ]
  },
  {
   "cell_type": "code",
   "execution_count": 71,
   "metadata": {},
   "outputs": [],
   "source": [
    "a = prepare_batch(context_encoded_train[:15], target_encoded_train[:15])"
   ]
  },
  {
   "cell_type": "code",
   "execution_count": 72,
   "metadata": {},
   "outputs": [
    {
     "name": "stdout",
     "output_type": "stream",
     "text": [
      "(15, 40)\n",
      "(15, 45)\n",
      "(15, 45)\n"
     ]
    }
   ],
   "source": [
    "print(a[0][0].shape)\n",
    "print(a[0][1].shape)\n",
    "print(a[1].shape)"
   ]
  },
  {
   "cell_type": "code",
   "execution_count": 135,
   "metadata": {
    "id": "AEF6ed45p_im"
   },
   "outputs": [],
   "source": [
    "def seq_dataset(context: list, target: list):\n",
    "    return (tf.data.Dataset.from_tensor_slices((context, target))\n",
    "            .shuffle(BUFFER_SIZE)\n",
    "            .map(prepare_dataset, tf.data.AUTOTUNE)\n",
    "            .batch(BATCH_SIZE)\n",
    "            .prefetch(buffer_size=tf.data.AUTOTUNE))"
   ]
  },
  {
   "cell_type": "code",
   "execution_count": null,
   "metadata": {},
   "outputs": [],
   "source": [
    "def seq_dataset(ds):\n",
    "    return (ds\n",
    "            .map(prepare_dataset, tf.data.AUTOTUNE)\n",
    "            .shuffle(BUFFER_SIZE)\n",
    "            .batch(BATCH_SIZE)\n",
    "            .prefetch(buffer_size=tf.data.AUTOTUNE))"
   ]
  },
  {
   "cell_type": "code",
   "execution_count": null,
   "metadata": {
    "id": "uuyEINxQtDfP"
   },
   "outputs": [],
   "source": [
    "%%time\n",
    "train_ds = seq_dataset(context_encoded_train, target_encoded_train)\n",
    "val_ds = seq_dataset(context_encoded_val, target_encoded_val)"
   ]
  },
  {
   "cell_type": "code",
   "execution_count": null,
   "metadata": {},
   "outputs": [],
   "source": [
    "%%time\n",
    "train_ds = seq_dataset(train_raw_ds)\n",
    "val_ds = seq_dataset(val_raw_ds)"
   ]
  },
  {
   "cell_type": "code",
   "execution_count": null,
   "metadata": {
    "id": "eLw0cCijuB3N"
   },
   "outputs": [],
   "source": [
    "for (ex_context_tok, ex_tar_in), ex_tar_out in train_ds.take(1):\n",
    "  print(ex_context_tok[0, :].numpy())\n",
    "  print()\n",
    "  print(ex_tar_in[0, :].numpy())\n",
    "  print(ex_tar_out[0, :].numpy())"
   ]
  },
  {
   "cell_type": "code",
   "execution_count": 53,
   "metadata": {
    "id": "2jfidRvt3nsZ"
   },
   "outputs": [
    {
     "ename": "NameError",
     "evalue": "name 'context_subword_processor' is not defined",
     "output_type": "error",
     "traceback": [
      "\u001b[0;31m---------------------------------------------------------------------------\u001b[0m",
      "\u001b[0;31mNameError\u001b[0m                                 Traceback (most recent call last)",
      "Cell \u001b[0;32mIn [53], line 1\u001b[0m\n\u001b[0;32m----> 1\u001b[0m \u001b[38;5;28mprint\u001b[39m(\u001b[43mcontext_subword_processor\u001b[49m\u001b[38;5;241m.\u001b[39mdecode(ex_context_tok[\u001b[38;5;241m0\u001b[39m, :]))\n\u001b[1;32m      2\u001b[0m \u001b[38;5;28mprint\u001b[39m(target_subword_processor\u001b[38;5;241m.\u001b[39mdecode(ex_tar_in[\u001b[38;5;241m0\u001b[39m, :]))\n\u001b[1;32m      3\u001b[0m \u001b[38;5;28mprint\u001b[39m(target_subword_processor\u001b[38;5;241m.\u001b[39mdecode(ex_tar_out[\u001b[38;5;241m0\u001b[39m, :]))\n",
      "\u001b[0;31mNameError\u001b[0m: name 'context_subword_processor' is not defined"
     ]
    }
   ],
   "source": [
    "print(context_subword_processor.decode(ex_context_tok[0, :]))\n",
    "print(target_subword_processor.decode(ex_tar_in[0, :]))\n",
    "print(target_subword_processor.decode(ex_tar_out[0, :]))"
   ]
  },
  {
   "cell_type": "markdown",
   "metadata": {
    "id": "W-zl5MdAbcnu",
    "tags": []
   },
   "source": [
    "#### Word tokenization"
   ]
  },
  {
   "cell_type": "code",
   "execution_count": 198,
   "metadata": {
    "colab": {
     "base_uri": "https://localhost:8080/",
     "height": 237
    },
    "execution": {
     "iopub.execute_input": "2023-06-15T19:56:35.328107Z",
     "iopub.status.busy": "2023-06-15T19:56:35.328107Z",
     "iopub.status.idle": "2023-06-15T19:56:41.455422Z",
     "shell.execute_reply": "2023-06-15T19:56:41.454307Z",
     "shell.execute_reply.started": "2023-06-15T19:56:35.328107Z"
    },
    "id": "cHQQdk6wdk-i",
    "outputId": "4bd7c7f3-aa5e-4b41-8266-a8a2fdc5c0b7"
   },
   "outputs": [],
   "source": [
    "BUFFER_SIZE = len(context_raw_corpus)\n",
    "\n",
    "is_train = np.random.uniform(size=(len(target_raw_corpus),)) < 0.8\n",
    "\n",
    "train_raw = (\n",
    "    tf.data.Dataset\n",
    "    .from_tensor_slices((context_raw_corpus[is_train], target_raw_corpus[is_train]))\n",
    "    .shuffle(BUFFER_SIZE)\n",
    "    .batch(BATCH_SIZE))\n",
    "val_raw = (\n",
    "    tf.data.Dataset\n",
    "    .from_tensor_slices((context_raw_corpus[~is_train], target_raw_corpus[~is_train]))\n",
    "    .shuffle(BUFFER_SIZE)\n",
    "    .batch(BATCH_SIZE))"
   ]
  },
  {
   "cell_type": "code",
   "execution_count": 199,
   "metadata": {
    "execution": {
     "iopub.execute_input": "2023-06-15T19:56:41.458563Z",
     "iopub.status.busy": "2023-06-15T19:56:41.457444Z",
     "iopub.status.idle": "2023-06-15T19:56:44.796547Z",
     "shell.execute_reply": "2023-06-15T19:56:44.794867Z",
     "shell.execute_reply.started": "2023-06-15T19:56:41.458556Z"
    },
    "id": "hdUQS7EIdmnt"
   },
   "outputs": [
    {
     "name": "stderr",
     "output_type": "stream",
     "text": [
      "2023-06-15 19:56:41.490047: I tensorflow/core/common_runtime/executor.cc:1197] [/device:CPU:0] (DEBUG INFO) Executor start aborting (this does not indicate an error and you can ignore this message): INVALID_ARGUMENT: You must feed a value for placeholder tensor 'Placeholder/_1' with dtype string and shape [800046]\n",
      "\t [[{{node Placeholder/_1}}]]\n",
      "2023-06-15 19:56:41.490519: I tensorflow/core/common_runtime/executor.cc:1197] [/device:CPU:0] (DEBUG INFO) Executor start aborting (this does not indicate an error and you can ignore this message): INVALID_ARGUMENT: You must feed a value for placeholder tensor 'Placeholder/_0' with dtype string and shape [800046]\n",
      "\t [[{{node Placeholder/_0}}]]\n"
     ]
    },
    {
     "name": "stdout",
     "output_type": "stream",
     "text": [
      "64\n",
      "64\n"
     ]
    }
   ],
   "source": [
    "for example_context_strings, example_target_strings in train_raw.take(1):\n",
    "  # print(example_context_strings[:5])\n",
    "  # print(example_context_strings[1])\n",
    "  # print(example_target_strings[1])\n",
    "  # print(example_target_strings[:5])\n",
    "  print(len(example_context_strings))\n",
    "  print(len(example_target_strings))\n",
    "  # break"
   ]
  },
  {
   "cell_type": "markdown",
   "metadata": {
    "id": "ZhrtYa3JE_no"
   },
   "source": [
    "##### Tokenizing context words, in our case english words"
   ]
  },
  {
   "cell_type": "code",
   "execution_count": 200,
   "metadata": {
    "execution": {
     "iopub.execute_input": "2023-06-15T19:56:44.799241Z",
     "iopub.status.busy": "2023-06-15T19:56:44.798444Z",
     "iopub.status.idle": "2023-06-15T19:56:44.818291Z",
     "shell.execute_reply": "2023-06-15T19:56:44.816860Z",
     "shell.execute_reply.started": "2023-06-15T19:56:44.799241Z"
    },
    "id": "EKIG8bjKbF-T"
   },
   "outputs": [],
   "source": [
    "context_text_processor = tf.keras.layers.TextVectorization(\n",
    "    standardize=lower_and_split_punct,\n",
    "    max_tokens=MAX_VOCAB_SIZE,\n",
    "    ragged=True)"
   ]
  },
  {
   "cell_type": "code",
   "execution_count": 201,
   "metadata": {
    "execution": {
     "iopub.execute_input": "2023-06-15T19:56:44.821839Z",
     "iopub.status.busy": "2023-06-15T19:56:44.820887Z",
     "iopub.status.idle": "2023-06-15T19:56:51.295630Z",
     "shell.execute_reply": "2023-06-15T19:56:51.291719Z",
     "shell.execute_reply.started": "2023-06-15T19:56:44.821783Z"
    },
    "id": "IpovRNaTbMmx"
   },
   "outputs": [
    {
     "name": "stderr",
     "output_type": "stream",
     "text": [
      "2023-06-15 19:56:44.871745: I tensorflow/core/common_runtime/executor.cc:1197] [/device:CPU:0] (DEBUG INFO) Executor start aborting (this does not indicate an error and you can ignore this message): INVALID_ARGUMENT: You must feed a value for placeholder tensor 'Placeholder/_0' with dtype string and shape [800046]\n",
      "\t [[{{node Placeholder/_0}}]]\n",
      "2023-06-15 19:56:44.872097: I tensorflow/core/common_runtime/executor.cc:1197] [/device:CPU:0] (DEBUG INFO) Executor start aborting (this does not indicate an error and you can ignore this message): INVALID_ARGUMENT: You must feed a value for placeholder tensor 'Placeholder/_1' with dtype string and shape [800046]\n",
      "\t [[{{node Placeholder/_1}}]]\n"
     ]
    },
    {
     "ename": "KeyboardInterrupt",
     "evalue": "",
     "output_type": "error",
     "traceback": [
      "\u001b[0;31m---------------------------------------------------------------------------\u001b[0m",
      "\u001b[0;31mKeyboardInterrupt\u001b[0m                         Traceback (most recent call last)",
      "Cell \u001b[0;32mIn [201], line 1\u001b[0m\n\u001b[0;32m----> 1\u001b[0m \u001b[43mcontext_text_processor\u001b[49m\u001b[38;5;241;43m.\u001b[39;49m\u001b[43madapt\u001b[49m\u001b[43m(\u001b[49m\u001b[43mtrain_raw\u001b[49m\u001b[38;5;241;43m.\u001b[39;49m\u001b[43mmap\u001b[49m\u001b[43m(\u001b[49m\u001b[38;5;28;43;01mlambda\u001b[39;49;00m\u001b[43m \u001b[49m\u001b[43mcontext\u001b[49m\u001b[43m,\u001b[49m\u001b[43m \u001b[49m\u001b[43mtarget\u001b[49m\u001b[43m:\u001b[49m\u001b[43m \u001b[49m\u001b[43mcontext\u001b[49m\u001b[43m,\u001b[49m\u001b[43m \u001b[49m\u001b[43mtf\u001b[49m\u001b[38;5;241;43m.\u001b[39;49m\u001b[43mdata\u001b[49m\u001b[38;5;241;43m.\u001b[39;49m\u001b[43mAUTOTUNE\u001b[49m\u001b[43m)\u001b[49m\u001b[38;5;241;43m.\u001b[39;49m\u001b[43mprefetch\u001b[49m\u001b[43m(\u001b[49m\u001b[43mbuffer_size\u001b[49m\u001b[38;5;241;43m=\u001b[39;49m\u001b[43mtf\u001b[49m\u001b[38;5;241;43m.\u001b[39;49m\u001b[43mdata\u001b[49m\u001b[38;5;241;43m.\u001b[39;49m\u001b[43mAUTOTUNE\u001b[49m\u001b[43m)\u001b[49m\u001b[43m)\u001b[49m\n\u001b[1;32m      3\u001b[0m \u001b[38;5;66;03m# Here are the first 10 words from the vocabulary:\u001b[39;00m\n\u001b[1;32m      4\u001b[0m context_text_processor\u001b[38;5;241m.\u001b[39mget_vocabulary()[:\u001b[38;5;241m5\u001b[39m]\n",
      "File \u001b[0;32m/usr/local/lib/python3.9/dist-packages/keras/layers/preprocessing/text_vectorization.py:472\u001b[0m, in \u001b[0;36mTextVectorization.adapt\u001b[0;34m(self, data, batch_size, steps)\u001b[0m\n\u001b[1;32m    422\u001b[0m \u001b[38;5;28;01mdef\u001b[39;00m \u001b[38;5;21madapt\u001b[39m(\u001b[38;5;28mself\u001b[39m, data, batch_size\u001b[38;5;241m=\u001b[39m\u001b[38;5;28;01mNone\u001b[39;00m, steps\u001b[38;5;241m=\u001b[39m\u001b[38;5;28;01mNone\u001b[39;00m):\n\u001b[1;32m    423\u001b[0m \u001b[38;5;250m    \u001b[39m\u001b[38;5;124;03m\"\"\"Computes a vocabulary of string terms from tokens in a dataset.\u001b[39;00m\n\u001b[1;32m    424\u001b[0m \n\u001b[1;32m    425\u001b[0m \u001b[38;5;124;03m    Calling `adapt()` on a `TextVectorization` layer is an alternative to\u001b[39;00m\n\u001b[0;32m   (...)\u001b[0m\n\u001b[1;32m    470\u001b[0m \u001b[38;5;124;03m          argument is not supported with array inputs.\u001b[39;00m\n\u001b[1;32m    471\u001b[0m \u001b[38;5;124;03m    \"\"\"\u001b[39;00m\n\u001b[0;32m--> 472\u001b[0m     \u001b[38;5;28;43msuper\u001b[39;49m\u001b[43m(\u001b[49m\u001b[43m)\u001b[49m\u001b[38;5;241;43m.\u001b[39;49m\u001b[43madapt\u001b[49m\u001b[43m(\u001b[49m\u001b[43mdata\u001b[49m\u001b[43m,\u001b[49m\u001b[43m \u001b[49m\u001b[43mbatch_size\u001b[49m\u001b[38;5;241;43m=\u001b[39;49m\u001b[43mbatch_size\u001b[49m\u001b[43m,\u001b[49m\u001b[43m \u001b[49m\u001b[43msteps\u001b[49m\u001b[38;5;241;43m=\u001b[39;49m\u001b[43msteps\u001b[49m\u001b[43m)\u001b[49m\n",
      "File \u001b[0;32m/usr/local/lib/python3.9/dist-packages/keras/engine/base_preprocessing_layer.py:258\u001b[0m, in \u001b[0;36mPreprocessingLayer.adapt\u001b[0;34m(self, data, batch_size, steps)\u001b[0m\n\u001b[1;32m    256\u001b[0m \u001b[38;5;28;01mwith\u001b[39;00m data_handler\u001b[38;5;241m.\u001b[39mcatch_stop_iteration():\n\u001b[1;32m    257\u001b[0m     \u001b[38;5;28;01mfor\u001b[39;00m _ \u001b[38;5;129;01min\u001b[39;00m data_handler\u001b[38;5;241m.\u001b[39msteps():\n\u001b[0;32m--> 258\u001b[0m         \u001b[38;5;28;43mself\u001b[39;49m\u001b[38;5;241;43m.\u001b[39;49m\u001b[43m_adapt_function\u001b[49m\u001b[43m(\u001b[49m\u001b[43miterator\u001b[49m\u001b[43m)\u001b[49m\n\u001b[1;32m    259\u001b[0m         \u001b[38;5;28;01mif\u001b[39;00m data_handler\u001b[38;5;241m.\u001b[39mshould_sync:\n\u001b[1;32m    260\u001b[0m             context\u001b[38;5;241m.\u001b[39masync_wait()\n",
      "File \u001b[0;32m/usr/local/lib/python3.9/dist-packages/tensorflow/python/util/traceback_utils.py:150\u001b[0m, in \u001b[0;36mfilter_traceback.<locals>.error_handler\u001b[0;34m(*args, **kwargs)\u001b[0m\n\u001b[1;32m    148\u001b[0m filtered_tb \u001b[38;5;241m=\u001b[39m \u001b[38;5;28;01mNone\u001b[39;00m\n\u001b[1;32m    149\u001b[0m \u001b[38;5;28;01mtry\u001b[39;00m:\n\u001b[0;32m--> 150\u001b[0m   \u001b[38;5;28;01mreturn\u001b[39;00m \u001b[43mfn\u001b[49m\u001b[43m(\u001b[49m\u001b[38;5;241;43m*\u001b[39;49m\u001b[43margs\u001b[49m\u001b[43m,\u001b[49m\u001b[43m \u001b[49m\u001b[38;5;241;43m*\u001b[39;49m\u001b[38;5;241;43m*\u001b[39;49m\u001b[43mkwargs\u001b[49m\u001b[43m)\u001b[49m\n\u001b[1;32m    151\u001b[0m \u001b[38;5;28;01mexcept\u001b[39;00m \u001b[38;5;167;01mException\u001b[39;00m \u001b[38;5;28;01mas\u001b[39;00m e:\n\u001b[1;32m    152\u001b[0m   filtered_tb \u001b[38;5;241m=\u001b[39m _process_traceback_frames(e\u001b[38;5;241m.\u001b[39m__traceback__)\n",
      "File \u001b[0;32m/usr/local/lib/python3.9/dist-packages/tensorflow/python/eager/polymorphic_function/polymorphic_function.py:894\u001b[0m, in \u001b[0;36mFunction.__call__\u001b[0;34m(self, *args, **kwds)\u001b[0m\n\u001b[1;32m    891\u001b[0m compiler \u001b[38;5;241m=\u001b[39m \u001b[38;5;124m\"\u001b[39m\u001b[38;5;124mxla\u001b[39m\u001b[38;5;124m\"\u001b[39m \u001b[38;5;28;01mif\u001b[39;00m \u001b[38;5;28mself\u001b[39m\u001b[38;5;241m.\u001b[39m_jit_compile \u001b[38;5;28;01melse\u001b[39;00m \u001b[38;5;124m\"\u001b[39m\u001b[38;5;124mnonXla\u001b[39m\u001b[38;5;124m\"\u001b[39m\n\u001b[1;32m    893\u001b[0m \u001b[38;5;28;01mwith\u001b[39;00m OptionalXlaContext(\u001b[38;5;28mself\u001b[39m\u001b[38;5;241m.\u001b[39m_jit_compile):\n\u001b[0;32m--> 894\u001b[0m   result \u001b[38;5;241m=\u001b[39m \u001b[38;5;28;43mself\u001b[39;49m\u001b[38;5;241;43m.\u001b[39;49m\u001b[43m_call\u001b[49m\u001b[43m(\u001b[49m\u001b[38;5;241;43m*\u001b[39;49m\u001b[43margs\u001b[49m\u001b[43m,\u001b[49m\u001b[43m \u001b[49m\u001b[38;5;241;43m*\u001b[39;49m\u001b[38;5;241;43m*\u001b[39;49m\u001b[43mkwds\u001b[49m\u001b[43m)\u001b[49m\n\u001b[1;32m    896\u001b[0m new_tracing_count \u001b[38;5;241m=\u001b[39m \u001b[38;5;28mself\u001b[39m\u001b[38;5;241m.\u001b[39mexperimental_get_tracing_count()\n\u001b[1;32m    897\u001b[0m without_tracing \u001b[38;5;241m=\u001b[39m (tracing_count \u001b[38;5;241m==\u001b[39m new_tracing_count)\n",
      "File \u001b[0;32m/usr/local/lib/python3.9/dist-packages/tensorflow/python/eager/polymorphic_function/polymorphic_function.py:933\u001b[0m, in \u001b[0;36mFunction._call\u001b[0;34m(self, *args, **kwds)\u001b[0m\n\u001b[1;32m    930\u001b[0m \u001b[38;5;28mself\u001b[39m\u001b[38;5;241m.\u001b[39m_lock\u001b[38;5;241m.\u001b[39mrelease()\n\u001b[1;32m    931\u001b[0m \u001b[38;5;66;03m# In this case we have not created variables on the first call. So we can\u001b[39;00m\n\u001b[1;32m    932\u001b[0m \u001b[38;5;66;03m# run the first trace but we should fail if variables are created.\u001b[39;00m\n\u001b[0;32m--> 933\u001b[0m results \u001b[38;5;241m=\u001b[39m \u001b[38;5;28;43mself\u001b[39;49m\u001b[38;5;241;43m.\u001b[39;49m\u001b[43m_variable_creation_fn\u001b[49m\u001b[43m(\u001b[49m\u001b[38;5;241;43m*\u001b[39;49m\u001b[43margs\u001b[49m\u001b[43m,\u001b[49m\u001b[43m \u001b[49m\u001b[38;5;241;43m*\u001b[39;49m\u001b[38;5;241;43m*\u001b[39;49m\u001b[43mkwds\u001b[49m\u001b[43m)\u001b[49m\n\u001b[1;32m    934\u001b[0m \u001b[38;5;28;01mif\u001b[39;00m \u001b[38;5;28mself\u001b[39m\u001b[38;5;241m.\u001b[39m_created_variables \u001b[38;5;129;01mand\u001b[39;00m \u001b[38;5;129;01mnot\u001b[39;00m ALLOW_DYNAMIC_VARIABLE_CREATION:\n\u001b[1;32m    935\u001b[0m   \u001b[38;5;28;01mraise\u001b[39;00m \u001b[38;5;167;01mValueError\u001b[39;00m(\u001b[38;5;124m\"\u001b[39m\u001b[38;5;124mCreating variables on a non-first call to a function\u001b[39m\u001b[38;5;124m\"\u001b[39m\n\u001b[1;32m    936\u001b[0m                    \u001b[38;5;124m\"\u001b[39m\u001b[38;5;124m decorated with tf.function.\u001b[39m\u001b[38;5;124m\"\u001b[39m)\n",
      "File \u001b[0;32m/usr/local/lib/python3.9/dist-packages/tensorflow/python/eager/polymorphic_function/tracing_compiler.py:143\u001b[0m, in \u001b[0;36mTracingCompiler.__call__\u001b[0;34m(self, *args, **kwargs)\u001b[0m\n\u001b[1;32m    140\u001b[0m \u001b[38;5;28;01mwith\u001b[39;00m \u001b[38;5;28mself\u001b[39m\u001b[38;5;241m.\u001b[39m_lock:\n\u001b[1;32m    141\u001b[0m   (concrete_function,\n\u001b[1;32m    142\u001b[0m    filtered_flat_args) \u001b[38;5;241m=\u001b[39m \u001b[38;5;28mself\u001b[39m\u001b[38;5;241m.\u001b[39m_maybe_define_function(args, kwargs)\n\u001b[0;32m--> 143\u001b[0m \u001b[38;5;28;01mreturn\u001b[39;00m \u001b[43mconcrete_function\u001b[49m\u001b[38;5;241;43m.\u001b[39;49m\u001b[43m_call_flat\u001b[49m\u001b[43m(\u001b[49m\n\u001b[1;32m    144\u001b[0m \u001b[43m    \u001b[49m\u001b[43mfiltered_flat_args\u001b[49m\u001b[43m,\u001b[49m\u001b[43m \u001b[49m\u001b[43mcaptured_inputs\u001b[49m\u001b[38;5;241;43m=\u001b[39;49m\u001b[43mconcrete_function\u001b[49m\u001b[38;5;241;43m.\u001b[39;49m\u001b[43mcaptured_inputs\u001b[49m\u001b[43m)\u001b[49m\n",
      "File \u001b[0;32m/usr/local/lib/python3.9/dist-packages/tensorflow/python/eager/polymorphic_function/monomorphic_function.py:1757\u001b[0m, in \u001b[0;36mConcreteFunction._call_flat\u001b[0;34m(self, args, captured_inputs, cancellation_manager)\u001b[0m\n\u001b[1;32m   1753\u001b[0m possible_gradient_type \u001b[38;5;241m=\u001b[39m gradients_util\u001b[38;5;241m.\u001b[39mPossibleTapeGradientTypes(args)\n\u001b[1;32m   1754\u001b[0m \u001b[38;5;28;01mif\u001b[39;00m (possible_gradient_type \u001b[38;5;241m==\u001b[39m gradients_util\u001b[38;5;241m.\u001b[39mPOSSIBLE_GRADIENT_TYPES_NONE\n\u001b[1;32m   1755\u001b[0m     \u001b[38;5;129;01mand\u001b[39;00m executing_eagerly):\n\u001b[1;32m   1756\u001b[0m   \u001b[38;5;66;03m# No tape is watching; skip to running the function.\u001b[39;00m\n\u001b[0;32m-> 1757\u001b[0m   \u001b[38;5;28;01mreturn\u001b[39;00m \u001b[38;5;28mself\u001b[39m\u001b[38;5;241m.\u001b[39m_build_call_outputs(\u001b[38;5;28;43mself\u001b[39;49m\u001b[38;5;241;43m.\u001b[39;49m\u001b[43m_inference_function\u001b[49m\u001b[38;5;241;43m.\u001b[39;49m\u001b[43mcall\u001b[49m\u001b[43m(\u001b[49m\n\u001b[1;32m   1758\u001b[0m \u001b[43m      \u001b[49m\u001b[43mctx\u001b[49m\u001b[43m,\u001b[49m\u001b[43m \u001b[49m\u001b[43margs\u001b[49m\u001b[43m,\u001b[49m\u001b[43m \u001b[49m\u001b[43mcancellation_manager\u001b[49m\u001b[38;5;241;43m=\u001b[39;49m\u001b[43mcancellation_manager\u001b[49m\u001b[43m)\u001b[49m)\n\u001b[1;32m   1759\u001b[0m forward_backward \u001b[38;5;241m=\u001b[39m \u001b[38;5;28mself\u001b[39m\u001b[38;5;241m.\u001b[39m_select_forward_and_backward_functions(\n\u001b[1;32m   1760\u001b[0m     args,\n\u001b[1;32m   1761\u001b[0m     possible_gradient_type,\n\u001b[1;32m   1762\u001b[0m     executing_eagerly)\n\u001b[1;32m   1763\u001b[0m forward_function, args_with_tangents \u001b[38;5;241m=\u001b[39m forward_backward\u001b[38;5;241m.\u001b[39mforward()\n",
      "File \u001b[0;32m/usr/local/lib/python3.9/dist-packages/tensorflow/python/eager/polymorphic_function/monomorphic_function.py:381\u001b[0m, in \u001b[0;36m_EagerDefinedFunction.call\u001b[0;34m(self, ctx, args, cancellation_manager)\u001b[0m\n\u001b[1;32m    379\u001b[0m \u001b[38;5;28;01mwith\u001b[39;00m _InterpolateFunctionError(\u001b[38;5;28mself\u001b[39m):\n\u001b[1;32m    380\u001b[0m   \u001b[38;5;28;01mif\u001b[39;00m cancellation_manager \u001b[38;5;129;01mis\u001b[39;00m \u001b[38;5;28;01mNone\u001b[39;00m:\n\u001b[0;32m--> 381\u001b[0m     outputs \u001b[38;5;241m=\u001b[39m \u001b[43mexecute\u001b[49m\u001b[38;5;241;43m.\u001b[39;49m\u001b[43mexecute\u001b[49m\u001b[43m(\u001b[49m\n\u001b[1;32m    382\u001b[0m \u001b[43m        \u001b[49m\u001b[38;5;28;43mstr\u001b[39;49m\u001b[43m(\u001b[49m\u001b[38;5;28;43mself\u001b[39;49m\u001b[38;5;241;43m.\u001b[39;49m\u001b[43msignature\u001b[49m\u001b[38;5;241;43m.\u001b[39;49m\u001b[43mname\u001b[49m\u001b[43m)\u001b[49m\u001b[43m,\u001b[49m\n\u001b[1;32m    383\u001b[0m \u001b[43m        \u001b[49m\u001b[43mnum_outputs\u001b[49m\u001b[38;5;241;43m=\u001b[39;49m\u001b[38;5;28;43mself\u001b[39;49m\u001b[38;5;241;43m.\u001b[39;49m\u001b[43m_num_outputs\u001b[49m\u001b[43m,\u001b[49m\n\u001b[1;32m    384\u001b[0m \u001b[43m        \u001b[49m\u001b[43minputs\u001b[49m\u001b[38;5;241;43m=\u001b[39;49m\u001b[43margs\u001b[49m\u001b[43m,\u001b[49m\n\u001b[1;32m    385\u001b[0m \u001b[43m        \u001b[49m\u001b[43mattrs\u001b[49m\u001b[38;5;241;43m=\u001b[39;49m\u001b[43mattrs\u001b[49m\u001b[43m,\u001b[49m\n\u001b[1;32m    386\u001b[0m \u001b[43m        \u001b[49m\u001b[43mctx\u001b[49m\u001b[38;5;241;43m=\u001b[39;49m\u001b[43mctx\u001b[49m\u001b[43m)\u001b[49m\n\u001b[1;32m    387\u001b[0m   \u001b[38;5;28;01melse\u001b[39;00m:\n\u001b[1;32m    388\u001b[0m     outputs \u001b[38;5;241m=\u001b[39m execute\u001b[38;5;241m.\u001b[39mexecute_with_cancellation(\n\u001b[1;32m    389\u001b[0m         \u001b[38;5;28mstr\u001b[39m(\u001b[38;5;28mself\u001b[39m\u001b[38;5;241m.\u001b[39msignature\u001b[38;5;241m.\u001b[39mname),\n\u001b[1;32m    390\u001b[0m         num_outputs\u001b[38;5;241m=\u001b[39m\u001b[38;5;28mself\u001b[39m\u001b[38;5;241m.\u001b[39m_num_outputs,\n\u001b[0;32m   (...)\u001b[0m\n\u001b[1;32m    393\u001b[0m         ctx\u001b[38;5;241m=\u001b[39mctx,\n\u001b[1;32m    394\u001b[0m         cancellation_manager\u001b[38;5;241m=\u001b[39mcancellation_manager)\n",
      "File \u001b[0;32m/usr/local/lib/python3.9/dist-packages/tensorflow/python/eager/execute.py:52\u001b[0m, in \u001b[0;36mquick_execute\u001b[0;34m(op_name, num_outputs, inputs, attrs, ctx, name)\u001b[0m\n\u001b[1;32m     50\u001b[0m \u001b[38;5;28;01mtry\u001b[39;00m:\n\u001b[1;32m     51\u001b[0m   ctx\u001b[38;5;241m.\u001b[39mensure_initialized()\n\u001b[0;32m---> 52\u001b[0m   tensors \u001b[38;5;241m=\u001b[39m \u001b[43mpywrap_tfe\u001b[49m\u001b[38;5;241;43m.\u001b[39;49m\u001b[43mTFE_Py_Execute\u001b[49m\u001b[43m(\u001b[49m\u001b[43mctx\u001b[49m\u001b[38;5;241;43m.\u001b[39;49m\u001b[43m_handle\u001b[49m\u001b[43m,\u001b[49m\u001b[43m \u001b[49m\u001b[43mdevice_name\u001b[49m\u001b[43m,\u001b[49m\u001b[43m \u001b[49m\u001b[43mop_name\u001b[49m\u001b[43m,\u001b[49m\n\u001b[1;32m     53\u001b[0m \u001b[43m                                      \u001b[49m\u001b[43minputs\u001b[49m\u001b[43m,\u001b[49m\u001b[43m \u001b[49m\u001b[43mattrs\u001b[49m\u001b[43m,\u001b[49m\u001b[43m \u001b[49m\u001b[43mnum_outputs\u001b[49m\u001b[43m)\u001b[49m\n\u001b[1;32m     54\u001b[0m \u001b[38;5;28;01mexcept\u001b[39;00m core\u001b[38;5;241m.\u001b[39m_NotOkStatusException \u001b[38;5;28;01mas\u001b[39;00m e:\n\u001b[1;32m     55\u001b[0m   \u001b[38;5;28;01mif\u001b[39;00m name \u001b[38;5;129;01mis\u001b[39;00m \u001b[38;5;129;01mnot\u001b[39;00m \u001b[38;5;28;01mNone\u001b[39;00m:\n",
      "\u001b[0;31mKeyboardInterrupt\u001b[0m: "
     ]
    }
   ],
   "source": [
    "context_text_processor.adapt(train_raw.map(lambda context, target: context, tf.data.AUTOTUNE).prefetch(buffer_size=tf.data.AUTOTUNE))\n",
    "\n",
    "# Here are the first 10 words from the vocabulary:\n",
    "context_text_processor.get_vocabulary()[:5]"
   ]
  },
  {
   "cell_type": "markdown",
   "metadata": {
    "id": "_cdeMLpEErHC"
   },
   "source": [
    "##### Tokenizing target words, in our case russian words"
   ]
  },
  {
   "cell_type": "code",
   "execution_count": null,
   "metadata": {
    "execution": {
     "iopub.status.busy": "2023-06-15T19:56:51.297581Z",
     "iopub.status.idle": "2023-06-15T19:56:51.298310Z",
     "shell.execute_reply": "2023-06-15T19:56:51.297920Z",
     "shell.execute_reply.started": "2023-06-15T19:56:51.297920Z"
    },
    "id": "kDBN7S-PZPl5"
   },
   "outputs": [],
   "source": [
    "len(context_text_processor.get_vocabulary())"
   ]
  },
  {
   "cell_type": "code",
   "execution_count": null,
   "metadata": {
    "execution": {
     "iopub.status.busy": "2023-06-15T19:56:51.300218Z",
     "iopub.status.idle": "2023-06-15T19:56:51.300717Z",
     "shell.execute_reply": "2023-06-15T19:56:51.300717Z",
     "shell.execute_reply.started": "2023-06-15T19:56:51.300717Z"
    },
    "id": "jP5_M8oPFP_9"
   },
   "outputs": [],
   "source": [
    "target_text_processor = tf.keras.layers.TextVectorization(\n",
    "    standardize=lower_and_split_punct,\n",
    "    max_tokens=MAX_VOCAB_SIZE,\n",
    "    ragged=True)\n",
    "\n",
    "target_text_processor.adapt(train_raw.map(lambda context, target: target, tf.data.AUTOTUNE).prefetch(buffer_size=tf.data.AUTOTUNE))\n",
    "target_text_processor.get_vocabulary()[:10]"
   ]
  },
  {
   "cell_type": "code",
   "execution_count": 202,
   "metadata": {
    "execution": {
     "iopub.execute_input": "2023-06-15T19:56:53.292663Z",
     "iopub.status.busy": "2023-06-15T19:56:53.292262Z",
     "iopub.status.idle": "2023-06-15T19:56:53.299490Z",
     "shell.execute_reply": "2023-06-15T19:56:53.297387Z",
     "shell.execute_reply.started": "2023-06-15T19:56:53.292634Z"
    },
    "id": "VeIZALpL3BGS"
   },
   "outputs": [],
   "source": [
    "# target_text_processor.get_vocabulary()"
   ]
  },
  {
   "cell_type": "code",
   "execution_count": 203,
   "metadata": {
    "execution": {
     "iopub.execute_input": "2023-06-15T19:56:54.475618Z",
     "iopub.status.busy": "2023-06-15T19:56:54.474554Z",
     "iopub.status.idle": "2023-06-15T19:56:54.937664Z",
     "shell.execute_reply": "2023-06-15T19:56:54.936613Z",
     "shell.execute_reply.started": "2023-06-15T19:56:54.475584Z"
    },
    "id": "Fx5gXkKi3NKL"
   },
   "outputs": [
    {
     "data": {
      "text/plain": [
       "150000"
      ]
     },
     "execution_count": 203,
     "metadata": {},
     "output_type": "execute_result"
    }
   ],
   "source": [
    "len(target_text_processor.get_vocabulary())"
   ]
  },
  {
   "cell_type": "markdown",
   "metadata": {
    "id": "vPICdNG0GYcs"
   },
   "source": [
    "We divided our parallel sentences into 64 batches. We vectorized words and assigned at each word its own index id, and this is a vocabulary.\n",
    "And we gave one batch sized 64 to vectorized and here what we have"
   ]
  },
  {
   "cell_type": "code",
   "execution_count": 204,
   "metadata": {
    "execution": {
     "iopub.execute_input": "2023-06-15T19:56:57.847582Z",
     "iopub.status.busy": "2023-06-15T19:56:57.846295Z",
     "iopub.status.idle": "2023-06-15T19:56:58.010133Z",
     "shell.execute_reply": "2023-06-15T19:56:58.008811Z",
     "shell.execute_reply.started": "2023-06-15T19:56:57.847533Z"
    },
    "id": "04SNR9kkFRqJ"
   },
   "outputs": [
    {
     "name": "stderr",
     "output_type": "stream",
     "text": [
      "2023-06-15 19:56:57.862467: W tensorflow/core/framework/op_kernel.cc:1830] OP_REQUIRES failed at lookup_table_op.cc:929 : FAILED_PRECONDITION: Table not initialized.\n"
     ]
    },
    {
     "ename": "FailedPreconditionError",
     "evalue": "Exception encountered when calling layer 'string_lookup_8' (type StringLookup).\n\n{{function_node __wrapped__LookupTableFindV2_device_/job:localhost/replica:0/task:0/device:CPU:0}} Table not initialized. [Op:LookupTableFindV2]\n\nCall arguments received by layer 'string_lookup_8' (type StringLookup):\n  • inputs=<tf.RaggedTensor [[b'[START]', b'special', b'attention', b'should', b'also', b'be', b'given',\n  b'to', b'the', b'mv', b'cable', b'the', b'outermost', b'insulation',\n  b'of', b'cables', b'shall', b'be', b'considered', b'at', b'ground',\n  b'potential', b',', b'therefore', b'shall', b'be', b'kept', b'at', b'a',\n  b'certain', b'distance', b'from', b'the', b'transformer', b'live',\n  b'parts', b'in', b'the', b'same', b'way', b'as', b'for', b'the', b'other',\n  b'accessories', b',', b'in', b'compliance', b'with', b'table', b'.',\n  b'on', b'request', b'we', b'can', b'supply', b'connections', b'and',\n  b'busbars', b'based', b'on', b'customers', b'specification', b'.',\n  b'[END]']                                                                 ,\n [b'[START]', b'as', b'alexander', b'zmeul', b'atafisha', b'the', b'age',\n  b'of', b'architectural', b'blockbusters', b'is', b'upon', b'us', b'.',\n  b'[END]']                                                              ,\n [b'[START]', b'orco', b'-molcom', b'has', b'adopted', b'the', b'best',\n  b'traditions', b'of', b'european', b'development', b',', b'which', b',',\n  b'consolidated', b'with', b'many', b'years', b'of', b'experience', b'on',\n  b'the', b'russian', b'market', b',', b'undoubtedly', b'makes', b'the',\n  b'company', b'one', b'of', b'the', b'key', b'players', b'on', b'the',\n  b'real', b'estate', b'market', b'.', b'[END]']                           ,\n [b'[START]', b'engineering', b'and', b'consulting', b'services', b',',\n  b'drawing', b'up', b'of', b'analytical', b'reviews', b'about',\n  b'situation', b'on', b'market', b'of', b'control', b'and', b'automation',\n  b'systems', b'[END]']                                                    ,\n [b'[START]', b'if', b'arriving', b'and', b'departing', b'via',\n  b'chhatarpati', b'shivaji', b'international', b'airport', b'it', b'is',\n  b'worth', b'noting', b'the', b'kilometres', b'to', b'kamran',\n  b'residency', b'.', b'[END]']                                          ,\n [b'[START]', b'undef', b'recognizes', b'the', b'important', b'role',\n  b'that', b'political', b'parties', b'play', b'in', b'democratization',\n  b'.', b'[END]']                                                       ,\n [b'[START]', b'these', b'gold', b'antennas', b'act', b'physically',\n  b'like', b'radio', b'antennas', b'.', b'[END]']                   ,\n [b'[START]', b'the', b'documents', b'to', b'be', b'submitted', b'should',\n  b'be', b'translated', b'into', b'russian', b'and', b'be', b'affixed',\n  b'with', b'apostille', b'.', b'[END]']                                  ,\n [b'[START]', b'windows', b'system', b'resource', b'manager', b'looks',\n  b'for', b'states', b'to', b'be', b'evaluated', b'when', b'the', b'event',\n  b'occurs', b'.', b'[END]']                                               ,\n [b'[START]', b'yet', b'he', b'too', b'is', b'a', b'product', b'of', b'the',\n  b's', b',', b'an', b'unemployed', b'ex', b'-spy', b'who', b'became', b'a',\n  b'top', b'official', b'in', b'the', b'yeltsin', b'kremlin', b'.',\n  b'[END]']                                                                 ,\n [b'[START]', b'.', b'.', b'.', b'.', b'.', b'.', b'.', b'.', b'.', b'.',\n  b'.', b'.', b'.', b'.', b'.', b'.', b'pension', b'assets', b'nominal',\n  b'income', b'ratio', b'mos', b'.', b'-', b'own', b'capital', b'is',\n  b'calculated', b'in', b'accordance', b'with', b'the', b'prudential',\n  b'rules', b'key', b'indicators', b'of', b'financial', b'market', b'of',\n  b'the', b'republic', b'of', b'kazakhstan', b'as', b'of', b'october', b',',\n  b'kzt', b'bln', b'.', b'[END]']                                           ,\n [b'[START]', b'if', b'you', b'have', b'registered', b'and', b'for',\n  b'some', b'reason', b'cannot', b'attend', b',', b'you', b'are',\n  b'requested', b'to', b'cancel', b'your', b'registration', b'online', b'.',\n  b'[END]']                                                                 ,\n [b'[START]', b'the', b'revisions', b'entered', b'into', b'force', b'on',\n  b'february', b'.', b'[END]']                                           ,\n [b'[START]', b'it', b'is', b'noted', b',', b'that', b'selection', b'of',\n  b'events', b'on', b'centrality', b'in', b'cumulative', b'region',\n  b'could', b'help', b'to', b'localize', b'a', b'position', b'of', b'a',\n  b'critical', b'point', b'.', b'[END]']                                 ,\n [b'[START]', b'despite', b'the', b'assertions', b'of', b'some',\n  b'theoreticians', b',', b'print', b'did', b'not', b'lose', b'its',\n  b'function', b'and', b'importance', b'when', b'radio', b'and',\n  b'television', b'developed', b'in', b'the', b'th', b'century', b'on',\n  b'the', b'contrary', b',', b'the', b'continuing', b'growth', b'of',\n  b'the', b'print', b'media', b'throughout', b'the', b'world', b'attests',\n  b'to', b'extension', b'and', b'expansion', b'of', b'both', b'the',\n  b'function', b'and', b'importance', b'of', b'print', b'.', b'[END]']    ,\n [b'[START]', b'you', b'might', b'know', b'that', b'you', b'have', b'a',\n  b'certain', b'feeling', b'sometimes', b'and', b'you', b'might', b'call',\n  b'it', b'an', b'anxiety', b'in', b'my', b'stomach', b'.', b'[END]']     ,\n [b'[START]', b'our', b'players', b'confronted', b'indeed', b'strong',\n  b'fun', b'support', b',', b'therefore', b',', b'it', b'physiologically',\n  b'influenced', b'them', b'.', b'[END]']                                 ,\n [b'[START]', b'a', b'dead', b'journalist', b',', b'his', b'headless',\n  b'corpse', b'found', b'in', b'a', b'shallow', b'grave', b'.', b'[END]'],\n [b'[START]', b'how', b'many', b'times', b'have', b'i', b'seen', b'a',\n  b'television', b'broadcaster', b'afraid', b'to', b'tell', b'the',\n  b'truth', b'on', b'-air', b',', b'although', b'no', b'one', b'was',\n  b'forcing', b'him', b'to', b'do', b'it', b'.', b'[END]']            ,\n [b'[START]', b'cancers', b'of', b'the', b'colon', b'and', b'breast',\n  b'are', b'some', b'of', b'the', b'most', b'common', b'forms', b'of',\n  b'the', b'disease', b',', b'and', b'the', b'report', b'says', b'the',\n  b'evidence', b'is', b'convincing', b'that', b'body', b'fat', b'plays',\n  b'a', b'key', b'role', b'in', b'the', b'development', b'of', b'these',\n  b'tumours', b'.', b'[END]']                                           ,\n [b'[START]', b'.', b'more', b'handicapped', b'parking', b'.', b'[END]'],\n [b'[START]', b'painting', b'over', b'the', b'aluminum', b'paint', b'or',\n  b'foil', b'with', b'ordinary', b'paint', b'changes', b'the', b'surface',\n  b'to', b'emissivity', b'.', b'[END]']                                   ,\n [b'[START]', b'this', b'year', b'we', b'held', b'seminars', b'in', b'all',\n  b'areas', b'of', b'the', b'region', b',', b'the', b'focus', b'is', b'not',\n  b'on', b'the', b'extras', b',', b'ie', b'quantity', b',', b'but', b'the',\n  b'quality', b'of', b'education', b'.', b'[END]']                          ,\n [b'[START]', b'.', b'organization', b'of', b'the', b'judiciary', b'.',\n  b'[END]']                                                            ,\n [b'[START]', b'the', b'assembly', b'resolves', b'.', b'to', b'accept',\n  b'the', b'statute', b'of', b'the', b'joint', b'inspection', b'unit', b',',\n  b'which', b'will', b'continue', b'to', b'be', b'responsible', b'to',\n  b'the', b'council', b'in', b'so', b'far', b'as', b'the', b'activities',\n  b'of', b'the', b'unit', b'relating', b'to', b'icao', b'are', b'concerned',\n  b'.', b'that', b'the', b'competence', b'of', b'the', b'unit', b'shall',\n  b'continue', b'to', b'extend', b'over', b'the', b'functions', b'of',\n  b'the', b'secretary', b'general', b',', b'but', b'not', b'over', b'those',\n  b'of', b'the', b'assembly', b',', b'the', b'council', b'[END]']           ,\n [b'[START]', b'in', b'november', b'slavik', b'fell', b'ill', b'seriously',\n  b'.', b'[END]']                                                          ,\n [b'[START]', b'the', b'house', b'was', b'a', b'three', b'-bedroom',\n  b'built', b'in', b'the', b'sixties', b'.', b'[END]']              ,\n [b'[START]', b'the', b'pre', b'-hellenic', b'cultures', b'of', b'the',\n  b'aegean', b'sea', b'-', b'the', b'minoan', b'on', b'the', b'island',\n  b'of', b'crete', b'and', b'the', b'mycenaean', b'on', b'the', b'greek',\n  b'mainland', b'-', b'revealed', b'evidence', b'that', b'the', b'near',\n  b'eastern', b',', b'not', b'the', b'egyptian', b',', b'culture', b'had',\n  b'been', b'adopted', b'.', b'[END]']                                    ,\n [b'[START]', b'another', b'quarter', b'consists', b'of', b'russian',\n  b'-speaking', b'ethnic', b'ukrainians', b'who', b'have', b'generally',\n  b'sided', b',', b'though', b'not', b'unconditionally', b',', b'with',\n  b'the', b'russians', b'in', b'their', b'voting', b'patterns', b'this',\n  b'third', b'group', b'will', b'now', b'split', b',', b'with', b'a',\n  b'significant', b'portion', b'probably', b'concluding', b'that', b'its',\n  b'time', b'to', b'resist', b'moscows', b'bullying', b'by', b'joining',\n  b'forces', b'with', b'the', b'orange', b'ukrainians', b'.', b'[END]']   ,\n [b'[START]', b'ruka', b'i', b'think', b'we', b'have', b'become', b'better',\n  b'.', b'[END]']                                                           ,\n [b'[START]', b'libby', b'is', b'unliky', b'to', b'nix', b'this', b'deal',\n  b'by', b'turning', b'on', b'cheney', b',', b'unless', b'something',\n  b'happens', b'to', b'both', b'bush', b'and', b'cheney', b'and', b'he',\n  b'is', b'forced', b'to', b'deal', b'with', b'fitzgerald', b'.', b'[END]'],\n [b'[START]', b'a', b'lone', b'woman', b'is', b'troubled', b'with', b'such',\n  b'dreams', b'and', b'such', b'thoughts', b'that', b'shes', b'afeard',\n  b'of', b'herself', b'sometimes', b'.', b'[END]']                          ,\n [b'[START]', b'in', b'particular', b',', b'the', b'sc', b'recalled',\n  b'again', b'the', b'principle', b'that', b'the', b'defender', b'should',\n  b'be', b'given', b'actual', b'notice', b'in', b'sufficient', b'time',\n  b'to', b'allow', b'him', b'or', b'her', b'to', b'organise', b'a',\n  b'defence', b'.', b'[END]']                                             ,\n [b'[START]', b'in', b'order', b'to', b'answer', b'this', b'question',\n  b'it', b'is', b'worth', b'to', b'mention', b',', b'that', b'about', b'of',\n  b'danish', b'territorial', b'claims', b'in', b'the', b'arctic',\n  b'coincide', b'with', b'the', b'ones', b'of', b'canada', b'.', b'[END]']  ,\n [b'[START]', b'vga', b'camera', b'for', b'video', b'telephony', b'no',\n  b'vga', b'camera', b'in', b'k', b'[END]']                            ,\n [b'[START]', b'afterwards', b',', b'williams', b'addressed', b'the',\n  b'issue', b'in', b'the', b'bands', b'livejournal', b',', b'with', b'a',\n  b'post', b'saying', b',', b'we', b'couldve', b'done', b'without', b'a',\n  b'cover', b'piece', b'.', b'sorry', b',', b'if', b'it', b'offends',\n  b'anyone', b'at', b'kerrang', b'!', b'but', b'i', b'dont', b'think',\n  b'there', b'was', b'one', b'bit', b'of', b'truth', b'in', b'that',\n  b'article', b'.', b'[END]']                                            ,\n [b'[START]', b'when', b'he', b'used', b'to', b'go', b'back', b'to', b'the',\n  b'river', b'later', b'in', b'the', b'day', b'-', b'everything', b'there',\n  b'was', b'cleaned', b'up', b'as', b'well', b'-', b'even', b'the',\n  b'place', b'where', b'he', b'passed', b'stool', b'.', b'[END]']           ,\n [b'[START]', b'be', b'sure', b'fresh', b'water', b'is', b'available',\n  b'at', b'all', b'times', b'.', b'[END]']                            ,\n [b'[START]', b'the', b'provisions', b'of', b'the', b'convention', b'on',\n  b'withdrawal', b'from', b'the', b'agency', b',', b'suspension', b'of',\n  b'membership', b'and', b'cessation', b'of', b'operations', b'are',\n  b'generally', b'patterned', b'on', b'those', b'of', b'the', b'bank', b'.',\n  b'[END]']                                                                 ,\n [b'[START]', b'to', b'verify', b'that', b'there', b'really', b'is', b'a',\n  b'database', b'there', b',', b'type', b'in', b'this', b'query', b'[END]'],\n [b'[START]', b'for', b'information', b'about', b'how', b'to', b'contact',\n  b'hardware', b'manufacturers', b',', b'click', b'the', b'appropriate',\n  b'article', b'number', b'in', b'the', b'following', b'list', b'to',\n  b'view', b'the', b'article', b'in', b'the', b'microsoft', b'knowledge',\n  b'base', b'[END]']                                                      ,\n [b'[START]', b'incisions', b'must', b'be', b'made', b'in', b'nearly',\n  b'invisible', b'places', b'while', b'plastic', b'surgery', b'[END]'],\n [b'[START]', b'if', b'you', b'have', b'a', b'content', b'which', b'is',\n  b'unique', b'and', b'necessary', b'to', b'users', b'it', b'can', b'be',\n  b'spread', b'in', b'fail', b'changing', b'work', b'and', b'to',\n  b'publish', b'the', b'reference', b'in', b'forums', b'and',\n  b'communities', b'.', b'[END]']                                        ,\n [b'[START]', b'we', b'must', b'take', b'part', b'in', b'regional',\n  b'elections', b'.', b'[END]']                                    ,\n [b'[START]', b'sudan', b'is', b'the', b'largest', b'country', b'in',\n  b'africa', b'in', b'area', b'.', b'[END]']                         ,\n [b'[START]', b'more', b'detailed', b'information', b'on', b'password',\n  b'change', b'is', b'provided', b'in', b'section', b'of', b'this',\n  b'guide', b'.', b'[END]']                                            ,\n [b'[START]', b'we', b'can', b'see', b'more', b'holistically', b'how',\n  b'projects', b'in', b'different', b'sectors', b'such', b'as', b'economic',\n  b'growth', b',', b'agriculture', b',', b'natural', b'resource',\n  b'management', b',', b'health', b'and', b'governance', b'can', b'be',\n  b'linked', b'to', b'reinforce', b'each', b'other', b',', b'she', b'added',\n  b'.', b'[END]']                                                           ,\n [b'[START]', b'at', b'least', b'for', b'the', b'topographic', b'accuracy',\n  b'.', b'[END]']                                                          ,\n [b'[START]', b'wharram', b',', b'tiki', b',', b'sailing', b'yacht', b',',\n  b',', b',', b'catamaran', b',', b'wood', b',', b'tiller', b',', b',',\n  b'other', b'-', b',', b'm', b',', b'ft', b'[END]']                      ,\n [b'[START]', b'keep', b'the', b'send', b'to', b'back', b'set', b'as',\n  b'background', b'opacity', b'left', b'mouse', b'button', b'pressed',\n  b'and', b'drag', b'left', b'low', b'or', b'right', b'high', b'to',\n  b'adjust', b'the', b'opacity', b'of', b'your', b'selected', b'photo',\n  b'.', b'[END]']                                                      ,\n [b'[START]', b'in', b'his', b'diary', b'sven', b'hedin', b'made', b'a',\n  b'note', b'portal', b'of', b'the', b'mosque', b'-mausoleum', b'is',\n  b'extremely', b'high', b'and', b'decorated', b'with', b'two',\n  b'picturesque', b'towers', b',', b'and', b'the', b'mosque', b'itself',\n  b'is', b'topped', b'with', b'a', b'number', b'of', b'cupolas', b'.',\n  b'[END]']                                                             ,\n [b'[START]', b'the', b'doctor', b'never', b'loses', b',', b'though', b'he',\n  b'plays', b'both', b'sides', b'against', b'the', b'middle', b'and',\n  b'takes', b'bigger', b'risks', b'than', b'necessary', b'.', b'[END]']     ,\n [b'[START]', b'there', b'are', b'two', b'important', b'landmarks', b'in',\n  b'the', b'history', b'of', b'bratislava', b'the', b'year', b'when',\n  b'the', b'city', b'obtained', b'the', b'status', b'of', b'a', b'free',\n  b'royal', b'city', b',', b'and', b'the', b'period', b'between', b'and',\n  b'when', b'bratislava', b'was', b'the', b'coronation', b'city', b'of',\n  b'the', b'kingdom', b'of', b'hungary', b'.', b'[END]']                  ,\n [b'[START]', b'no', b'proceedings', b'for', b'the', b'forfeiture', b'or',\n  b'revocation', b'of', b'a', b'patent', b'may', b'be', b'instituted',\n  b'before', b'the', b'expiration', b'of', b'two', b'years', b'from',\n  b'the', b'grant', b'of', b'the', b'first', b'compulsory', b'license',\n  b'.', b'[END]']                                                         ,\n [b'[START]', b'the', b'corporation', b'takes', b'part', b'in', b'creating',\n  b'a', b'nano', b'-technologic', b'infrastructure', b',', b'for',\n  b'example', b',', b'collective', b'use', b'centers', b',', b'business',\n  b'incubators', b',', b'and', b'early', b'investment', b'funds', b'.',\n  b'[END]']                                                                 ,\n [b'[START]', b'apart', b'from', b'this', b'there', b'were', b'over', b',',\n  b'cases', b'of', b'administrative', b'influence', b'.', b'[END]']        ,\n [b'[START]', b'after', b'opening', b'of', b'the', b'subsidiaries', b'in',\n  b'st', b'.', b'petersburg', b'and', b'magadan', b'aeroflot', b'pays',\n  b'taxes', b'to', b'the', b'budgets', b'of', b'these', b'cities', b'as',\n  b'well', b'.', b'[END]']                                                ,\n [b'[START]', b'russia', b'could', b'not', b'do', b'that', b',', b'and',\n  b'so', b'took', b'the', b'only', b'correct', b'decision', b'to',\n  b'defend', b'the', b'peoples', b'of', b'abkhazia', b'and', b'south',\n  b'ossetia', b',', b'and', b'to', b'recognise', b'their', b'independence',\n  b'.', b'[END]']                                                          ,\n [b'[START]', b'loading', b'audio', b'data', b'from', b'file', b'[END]'],\n [b'[START]', b'the', b'javadoc', b'manager', b'was', b'added', b'to',\n  b'the', b'tools', b'menu', b'to', b'enable', b'mounting', b'of',\n  b'filesystems', b'of', b'documentation', b'generated', b'with', b'the',\n  b'javadoc', b'tool', b'.', b'[END]']                                   ,\n [b'[START]', b'but', b',', b'if', b'an', b'athlete', b'has', b'one', b'or',\n  b'more', b'distances', b'to', b'take', b',', b'then', b'a', b'dance',\n  b'tournament', b'finalist', b'performs', b'about', b'dances', b'.',\n  b'[END]']                                                                 ,\n [b'[START]', b'in', b'our', b'opinion', b',', b'the', b'entire',\n  b'problem', b'is', b'that', b'the', b'founder', b'of', b'the', b'modern',\n  b'turkey', b'has', b'forced', b'the', b'european', b'dressing', b'style',\n  b'and', b'the', b'republican', b'government', b'.', b'[END]']            ,\n [b'[START]', b'why', b'would', b'the', b'united', b'states', b'welcome',\n  b'another', b'close', b'ally', b',', b'akhmadov', b',', b'as', b'it',\n  b'has', b'recently', b'?', b'[END]']                                   ,\n [b'[START]', b'ea', b'sports', b'unveils', b'creation', b'centre', b'for',\n  b'fifa', b'[END]']                                                       ]>",
     "output_type": "error",
     "traceback": [
      "\u001b[0;31m---------------------------------------------------------------------------\u001b[0m",
      "\u001b[0;31mFailedPreconditionError\u001b[0m                   Traceback (most recent call last)",
      "Cell \u001b[0;32mIn [204], line 1\u001b[0m\n\u001b[0;32m----> 1\u001b[0m example_tokens_c \u001b[38;5;241m=\u001b[39m \u001b[43mcontext_text_processor\u001b[49m\u001b[43m(\u001b[49m\u001b[43mexample_context_strings\u001b[49m\u001b[43m)\u001b[49m\n\u001b[1;32m      2\u001b[0m example_tokens_c[:\u001b[38;5;241m3\u001b[39m, :]\n",
      "File \u001b[0;32m/usr/local/lib/python3.9/dist-packages/keras/utils/traceback_utils.py:70\u001b[0m, in \u001b[0;36mfilter_traceback.<locals>.error_handler\u001b[0;34m(*args, **kwargs)\u001b[0m\n\u001b[1;32m     67\u001b[0m     filtered_tb \u001b[38;5;241m=\u001b[39m _process_traceback_frames(e\u001b[38;5;241m.\u001b[39m__traceback__)\n\u001b[1;32m     68\u001b[0m     \u001b[38;5;66;03m# To get the full stack trace, call:\u001b[39;00m\n\u001b[1;32m     69\u001b[0m     \u001b[38;5;66;03m# `tf.debugging.disable_traceback_filtering()`\u001b[39;00m\n\u001b[0;32m---> 70\u001b[0m     \u001b[38;5;28;01mraise\u001b[39;00m e\u001b[38;5;241m.\u001b[39mwith_traceback(filtered_tb) \u001b[38;5;28;01mfrom\u001b[39;00m \u001b[38;5;28mNone\u001b[39m\n\u001b[1;32m     71\u001b[0m \u001b[38;5;28;01mfinally\u001b[39;00m:\n\u001b[1;32m     72\u001b[0m     \u001b[38;5;28;01mdel\u001b[39;00m filtered_tb\n",
      "File \u001b[0;32m/usr/local/lib/python3.9/dist-packages/keras/layers/preprocessing/index_lookup.py:791\u001b[0m, in \u001b[0;36mIndexLookup._lookup_dense\u001b[0;34m(self, inputs)\u001b[0m\n\u001b[1;32m    789\u001b[0m     lookups \u001b[38;5;241m=\u001b[39m tf\u001b[38;5;241m.\u001b[39mzeros_like(inputs, dtype\u001b[38;5;241m=\u001b[39m\u001b[38;5;28mself\u001b[39m\u001b[38;5;241m.\u001b[39m_value_dtype)\n\u001b[1;32m    790\u001b[0m \u001b[38;5;28;01melse\u001b[39;00m:\n\u001b[0;32m--> 791\u001b[0m     lookups \u001b[38;5;241m=\u001b[39m \u001b[38;5;28;43mself\u001b[39;49m\u001b[38;5;241;43m.\u001b[39;49m\u001b[43mlookup_table\u001b[49m\u001b[38;5;241;43m.\u001b[39;49m\u001b[43mlookup\u001b[49m\u001b[43m(\u001b[49m\u001b[43minputs\u001b[49m\u001b[43m)\u001b[49m\n\u001b[1;32m    793\u001b[0m \u001b[38;5;28;01mif\u001b[39;00m \u001b[38;5;28mself\u001b[39m\u001b[38;5;241m.\u001b[39mmask_token \u001b[38;5;129;01mis\u001b[39;00m \u001b[38;5;129;01mnot\u001b[39;00m \u001b[38;5;28;01mNone\u001b[39;00m:\n\u001b[1;32m    794\u001b[0m     mask_locations \u001b[38;5;241m=\u001b[39m tf\u001b[38;5;241m.\u001b[39mequal(inputs, \u001b[38;5;28mself\u001b[39m\u001b[38;5;241m.\u001b[39m_mask_key)\n",
      "\u001b[0;31mFailedPreconditionError\u001b[0m: Exception encountered when calling layer 'string_lookup_8' (type StringLookup).\n\n{{function_node __wrapped__LookupTableFindV2_device_/job:localhost/replica:0/task:0/device:CPU:0}} Table not initialized. [Op:LookupTableFindV2]\n\nCall arguments received by layer 'string_lookup_8' (type StringLookup):\n  • inputs=<tf.RaggedTensor [[b'[START]', b'special', b'attention', b'should', b'also', b'be', b'given',\n  b'to', b'the', b'mv', b'cable', b'the', b'outermost', b'insulation',\n  b'of', b'cables', b'shall', b'be', b'considered', b'at', b'ground',\n  b'potential', b',', b'therefore', b'shall', b'be', b'kept', b'at', b'a',\n  b'certain', b'distance', b'from', b'the', b'transformer', b'live',\n  b'parts', b'in', b'the', b'same', b'way', b'as', b'for', b'the', b'other',\n  b'accessories', b',', b'in', b'compliance', b'with', b'table', b'.',\n  b'on', b'request', b'we', b'can', b'supply', b'connections', b'and',\n  b'busbars', b'based', b'on', b'customers', b'specification', b'.',\n  b'[END]']                                                                 ,\n [b'[START]', b'as', b'alexander', b'zmeul', b'atafisha', b'the', b'age',\n  b'of', b'architectural', b'blockbusters', b'is', b'upon', b'us', b'.',\n  b'[END]']                                                              ,\n [b'[START]', b'orco', b'-molcom', b'has', b'adopted', b'the', b'best',\n  b'traditions', b'of', b'european', b'development', b',', b'which', b',',\n  b'consolidated', b'with', b'many', b'years', b'of', b'experience', b'on',\n  b'the', b'russian', b'market', b',', b'undoubtedly', b'makes', b'the',\n  b'company', b'one', b'of', b'the', b'key', b'players', b'on', b'the',\n  b'real', b'estate', b'market', b'.', b'[END]']                           ,\n [b'[START]', b'engineering', b'and', b'consulting', b'services', b',',\n  b'drawing', b'up', b'of', b'analytical', b'reviews', b'about',\n  b'situation', b'on', b'market', b'of', b'control', b'and', b'automation',\n  b'systems', b'[END]']                                                    ,\n [b'[START]', b'if', b'arriving', b'and', b'departing', b'via',\n  b'chhatarpati', b'shivaji', b'international', b'airport', b'it', b'is',\n  b'worth', b'noting', b'the', b'kilometres', b'to', b'kamran',\n  b'residency', b'.', b'[END]']                                          ,\n [b'[START]', b'undef', b'recognizes', b'the', b'important', b'role',\n  b'that', b'political', b'parties', b'play', b'in', b'democratization',\n  b'.', b'[END]']                                                       ,\n [b'[START]', b'these', b'gold', b'antennas', b'act', b'physically',\n  b'like', b'radio', b'antennas', b'.', b'[END]']                   ,\n [b'[START]', b'the', b'documents', b'to', b'be', b'submitted', b'should',\n  b'be', b'translated', b'into', b'russian', b'and', b'be', b'affixed',\n  b'with', b'apostille', b'.', b'[END]']                                  ,\n [b'[START]', b'windows', b'system', b'resource', b'manager', b'looks',\n  b'for', b'states', b'to', b'be', b'evaluated', b'when', b'the', b'event',\n  b'occurs', b'.', b'[END]']                                               ,\n [b'[START]', b'yet', b'he', b'too', b'is', b'a', b'product', b'of', b'the',\n  b's', b',', b'an', b'unemployed', b'ex', b'-spy', b'who', b'became', b'a',\n  b'top', b'official', b'in', b'the', b'yeltsin', b'kremlin', b'.',\n  b'[END]']                                                                 ,\n [b'[START]', b'.', b'.', b'.', b'.', b'.', b'.', b'.', b'.', b'.', b'.',\n  b'.', b'.', b'.', b'.', b'.', b'.', b'pension', b'assets', b'nominal',\n  b'income', b'ratio', b'mos', b'.', b'-', b'own', b'capital', b'is',\n  b'calculated', b'in', b'accordance', b'with', b'the', b'prudential',\n  b'rules', b'key', b'indicators', b'of', b'financial', b'market', b'of',\n  b'the', b'republic', b'of', b'kazakhstan', b'as', b'of', b'october', b',',\n  b'kzt', b'bln', b'.', b'[END]']                                           ,\n [b'[START]', b'if', b'you', b'have', b'registered', b'and', b'for',\n  b'some', b'reason', b'cannot', b'attend', b',', b'you', b'are',\n  b'requested', b'to', b'cancel', b'your', b'registration', b'online', b'.',\n  b'[END]']                                                                 ,\n [b'[START]', b'the', b'revisions', b'entered', b'into', b'force', b'on',\n  b'february', b'.', b'[END]']                                           ,\n [b'[START]', b'it', b'is', b'noted', b',', b'that', b'selection', b'of',\n  b'events', b'on', b'centrality', b'in', b'cumulative', b'region',\n  b'could', b'help', b'to', b'localize', b'a', b'position', b'of', b'a',\n  b'critical', b'point', b'.', b'[END]']                                 ,\n [b'[START]', b'despite', b'the', b'assertions', b'of', b'some',\n  b'theoreticians', b',', b'print', b'did', b'not', b'lose', b'its',\n  b'function', b'and', b'importance', b'when', b'radio', b'and',\n  b'television', b'developed', b'in', b'the', b'th', b'century', b'on',\n  b'the', b'contrary', b',', b'the', b'continuing', b'growth', b'of',\n  b'the', b'print', b'media', b'throughout', b'the', b'world', b'attests',\n  b'to', b'extension', b'and', b'expansion', b'of', b'both', b'the',\n  b'function', b'and', b'importance', b'of', b'print', b'.', b'[END]']    ,\n [b'[START]', b'you', b'might', b'know', b'that', b'you', b'have', b'a',\n  b'certain', b'feeling', b'sometimes', b'and', b'you', b'might', b'call',\n  b'it', b'an', b'anxiety', b'in', b'my', b'stomach', b'.', b'[END]']     ,\n [b'[START]', b'our', b'players', b'confronted', b'indeed', b'strong',\n  b'fun', b'support', b',', b'therefore', b',', b'it', b'physiologically',\n  b'influenced', b'them', b'.', b'[END]']                                 ,\n [b'[START]', b'a', b'dead', b'journalist', b',', b'his', b'headless',\n  b'corpse', b'found', b'in', b'a', b'shallow', b'grave', b'.', b'[END]'],\n [b'[START]', b'how', b'many', b'times', b'have', b'i', b'seen', b'a',\n  b'television', b'broadcaster', b'afraid', b'to', b'tell', b'the',\n  b'truth', b'on', b'-air', b',', b'although', b'no', b'one', b'was',\n  b'forcing', b'him', b'to', b'do', b'it', b'.', b'[END]']            ,\n [b'[START]', b'cancers', b'of', b'the', b'colon', b'and', b'breast',\n  b'are', b'some', b'of', b'the', b'most', b'common', b'forms', b'of',\n  b'the', b'disease', b',', b'and', b'the', b'report', b'says', b'the',\n  b'evidence', b'is', b'convincing', b'that', b'body', b'fat', b'plays',\n  b'a', b'key', b'role', b'in', b'the', b'development', b'of', b'these',\n  b'tumours', b'.', b'[END]']                                           ,\n [b'[START]', b'.', b'more', b'handicapped', b'parking', b'.', b'[END]'],\n [b'[START]', b'painting', b'over', b'the', b'aluminum', b'paint', b'or',\n  b'foil', b'with', b'ordinary', b'paint', b'changes', b'the', b'surface',\n  b'to', b'emissivity', b'.', b'[END]']                                   ,\n [b'[START]', b'this', b'year', b'we', b'held', b'seminars', b'in', b'all',\n  b'areas', b'of', b'the', b'region', b',', b'the', b'focus', b'is', b'not',\n  b'on', b'the', b'extras', b',', b'ie', b'quantity', b',', b'but', b'the',\n  b'quality', b'of', b'education', b'.', b'[END]']                          ,\n [b'[START]', b'.', b'organization', b'of', b'the', b'judiciary', b'.',\n  b'[END]']                                                            ,\n [b'[START]', b'the', b'assembly', b'resolves', b'.', b'to', b'accept',\n  b'the', b'statute', b'of', b'the', b'joint', b'inspection', b'unit', b',',\n  b'which', b'will', b'continue', b'to', b'be', b'responsible', b'to',\n  b'the', b'council', b'in', b'so', b'far', b'as', b'the', b'activities',\n  b'of', b'the', b'unit', b'relating', b'to', b'icao', b'are', b'concerned',\n  b'.', b'that', b'the', b'competence', b'of', b'the', b'unit', b'shall',\n  b'continue', b'to', b'extend', b'over', b'the', b'functions', b'of',\n  b'the', b'secretary', b'general', b',', b'but', b'not', b'over', b'those',\n  b'of', b'the', b'assembly', b',', b'the', b'council', b'[END]']           ,\n [b'[START]', b'in', b'november', b'slavik', b'fell', b'ill', b'seriously',\n  b'.', b'[END]']                                                          ,\n [b'[START]', b'the', b'house', b'was', b'a', b'three', b'-bedroom',\n  b'built', b'in', b'the', b'sixties', b'.', b'[END]']              ,\n [b'[START]', b'the', b'pre', b'-hellenic', b'cultures', b'of', b'the',\n  b'aegean', b'sea', b'-', b'the', b'minoan', b'on', b'the', b'island',\n  b'of', b'crete', b'and', b'the', b'mycenaean', b'on', b'the', b'greek',\n  b'mainland', b'-', b'revealed', b'evidence', b'that', b'the', b'near',\n  b'eastern', b',', b'not', b'the', b'egyptian', b',', b'culture', b'had',\n  b'been', b'adopted', b'.', b'[END]']                                    ,\n [b'[START]', b'another', b'quarter', b'consists', b'of', b'russian',\n  b'-speaking', b'ethnic', b'ukrainians', b'who', b'have', b'generally',\n  b'sided', b',', b'though', b'not', b'unconditionally', b',', b'with',\n  b'the', b'russians', b'in', b'their', b'voting', b'patterns', b'this',\n  b'third', b'group', b'will', b'now', b'split', b',', b'with', b'a',\n  b'significant', b'portion', b'probably', b'concluding', b'that', b'its',\n  b'time', b'to', b'resist', b'moscows', b'bullying', b'by', b'joining',\n  b'forces', b'with', b'the', b'orange', b'ukrainians', b'.', b'[END]']   ,\n [b'[START]', b'ruka', b'i', b'think', b'we', b'have', b'become', b'better',\n  b'.', b'[END]']                                                           ,\n [b'[START]', b'libby', b'is', b'unliky', b'to', b'nix', b'this', b'deal',\n  b'by', b'turning', b'on', b'cheney', b',', b'unless', b'something',\n  b'happens', b'to', b'both', b'bush', b'and', b'cheney', b'and', b'he',\n  b'is', b'forced', b'to', b'deal', b'with', b'fitzgerald', b'.', b'[END]'],\n [b'[START]', b'a', b'lone', b'woman', b'is', b'troubled', b'with', b'such',\n  b'dreams', b'and', b'such', b'thoughts', b'that', b'shes', b'afeard',\n  b'of', b'herself', b'sometimes', b'.', b'[END]']                          ,\n [b'[START]', b'in', b'particular', b',', b'the', b'sc', b'recalled',\n  b'again', b'the', b'principle', b'that', b'the', b'defender', b'should',\n  b'be', b'given', b'actual', b'notice', b'in', b'sufficient', b'time',\n  b'to', b'allow', b'him', b'or', b'her', b'to', b'organise', b'a',\n  b'defence', b'.', b'[END]']                                             ,\n [b'[START]', b'in', b'order', b'to', b'answer', b'this', b'question',\n  b'it', b'is', b'worth', b'to', b'mention', b',', b'that', b'about', b'of',\n  b'danish', b'territorial', b'claims', b'in', b'the', b'arctic',\n  b'coincide', b'with', b'the', b'ones', b'of', b'canada', b'.', b'[END]']  ,\n [b'[START]', b'vga', b'camera', b'for', b'video', b'telephony', b'no',\n  b'vga', b'camera', b'in', b'k', b'[END]']                            ,\n [b'[START]', b'afterwards', b',', b'williams', b'addressed', b'the',\n  b'issue', b'in', b'the', b'bands', b'livejournal', b',', b'with', b'a',\n  b'post', b'saying', b',', b'we', b'couldve', b'done', b'without', b'a',\n  b'cover', b'piece', b'.', b'sorry', b',', b'if', b'it', b'offends',\n  b'anyone', b'at', b'kerrang', b'!', b'but', b'i', b'dont', b'think',\n  b'there', b'was', b'one', b'bit', b'of', b'truth', b'in', b'that',\n  b'article', b'.', b'[END]']                                            ,\n [b'[START]', b'when', b'he', b'used', b'to', b'go', b'back', b'to', b'the',\n  b'river', b'later', b'in', b'the', b'day', b'-', b'everything', b'there',\n  b'was', b'cleaned', b'up', b'as', b'well', b'-', b'even', b'the',\n  b'place', b'where', b'he', b'passed', b'stool', b'.', b'[END]']           ,\n [b'[START]', b'be', b'sure', b'fresh', b'water', b'is', b'available',\n  b'at', b'all', b'times', b'.', b'[END]']                            ,\n [b'[START]', b'the', b'provisions', b'of', b'the', b'convention', b'on',\n  b'withdrawal', b'from', b'the', b'agency', b',', b'suspension', b'of',\n  b'membership', b'and', b'cessation', b'of', b'operations', b'are',\n  b'generally', b'patterned', b'on', b'those', b'of', b'the', b'bank', b'.',\n  b'[END]']                                                                 ,\n [b'[START]', b'to', b'verify', b'that', b'there', b'really', b'is', b'a',\n  b'database', b'there', b',', b'type', b'in', b'this', b'query', b'[END]'],\n [b'[START]', b'for', b'information', b'about', b'how', b'to', b'contact',\n  b'hardware', b'manufacturers', b',', b'click', b'the', b'appropriate',\n  b'article', b'number', b'in', b'the', b'following', b'list', b'to',\n  b'view', b'the', b'article', b'in', b'the', b'microsoft', b'knowledge',\n  b'base', b'[END]']                                                      ,\n [b'[START]', b'incisions', b'must', b'be', b'made', b'in', b'nearly',\n  b'invisible', b'places', b'while', b'plastic', b'surgery', b'[END]'],\n [b'[START]', b'if', b'you', b'have', b'a', b'content', b'which', b'is',\n  b'unique', b'and', b'necessary', b'to', b'users', b'it', b'can', b'be',\n  b'spread', b'in', b'fail', b'changing', b'work', b'and', b'to',\n  b'publish', b'the', b'reference', b'in', b'forums', b'and',\n  b'communities', b'.', b'[END]']                                        ,\n [b'[START]', b'we', b'must', b'take', b'part', b'in', b'regional',\n  b'elections', b'.', b'[END]']                                    ,\n [b'[START]', b'sudan', b'is', b'the', b'largest', b'country', b'in',\n  b'africa', b'in', b'area', b'.', b'[END]']                         ,\n [b'[START]', b'more', b'detailed', b'information', b'on', b'password',\n  b'change', b'is', b'provided', b'in', b'section', b'of', b'this',\n  b'guide', b'.', b'[END]']                                            ,\n [b'[START]', b'we', b'can', b'see', b'more', b'holistically', b'how',\n  b'projects', b'in', b'different', b'sectors', b'such', b'as', b'economic',\n  b'growth', b',', b'agriculture', b',', b'natural', b'resource',\n  b'management', b',', b'health', b'and', b'governance', b'can', b'be',\n  b'linked', b'to', b'reinforce', b'each', b'other', b',', b'she', b'added',\n  b'.', b'[END]']                                                           ,\n [b'[START]', b'at', b'least', b'for', b'the', b'topographic', b'accuracy',\n  b'.', b'[END]']                                                          ,\n [b'[START]', b'wharram', b',', b'tiki', b',', b'sailing', b'yacht', b',',\n  b',', b',', b'catamaran', b',', b'wood', b',', b'tiller', b',', b',',\n  b'other', b'-', b',', b'm', b',', b'ft', b'[END]']                      ,\n [b'[START]', b'keep', b'the', b'send', b'to', b'back', b'set', b'as',\n  b'background', b'opacity', b'left', b'mouse', b'button', b'pressed',\n  b'and', b'drag', b'left', b'low', b'or', b'right', b'high', b'to',\n  b'adjust', b'the', b'opacity', b'of', b'your', b'selected', b'photo',\n  b'.', b'[END]']                                                      ,\n [b'[START]', b'in', b'his', b'diary', b'sven', b'hedin', b'made', b'a',\n  b'note', b'portal', b'of', b'the', b'mosque', b'-mausoleum', b'is',\n  b'extremely', b'high', b'and', b'decorated', b'with', b'two',\n  b'picturesque', b'towers', b',', b'and', b'the', b'mosque', b'itself',\n  b'is', b'topped', b'with', b'a', b'number', b'of', b'cupolas', b'.',\n  b'[END]']                                                             ,\n [b'[START]', b'the', b'doctor', b'never', b'loses', b',', b'though', b'he',\n  b'plays', b'both', b'sides', b'against', b'the', b'middle', b'and',\n  b'takes', b'bigger', b'risks', b'than', b'necessary', b'.', b'[END]']     ,\n [b'[START]', b'there', b'are', b'two', b'important', b'landmarks', b'in',\n  b'the', b'history', b'of', b'bratislava', b'the', b'year', b'when',\n  b'the', b'city', b'obtained', b'the', b'status', b'of', b'a', b'free',\n  b'royal', b'city', b',', b'and', b'the', b'period', b'between', b'and',\n  b'when', b'bratislava', b'was', b'the', b'coronation', b'city', b'of',\n  b'the', b'kingdom', b'of', b'hungary', b'.', b'[END]']                  ,\n [b'[START]', b'no', b'proceedings', b'for', b'the', b'forfeiture', b'or',\n  b'revocation', b'of', b'a', b'patent', b'may', b'be', b'instituted',\n  b'before', b'the', b'expiration', b'of', b'two', b'years', b'from',\n  b'the', b'grant', b'of', b'the', b'first', b'compulsory', b'license',\n  b'.', b'[END]']                                                         ,\n [b'[START]', b'the', b'corporation', b'takes', b'part', b'in', b'creating',\n  b'a', b'nano', b'-technologic', b'infrastructure', b',', b'for',\n  b'example', b',', b'collective', b'use', b'centers', b',', b'business',\n  b'incubators', b',', b'and', b'early', b'investment', b'funds', b'.',\n  b'[END]']                                                                 ,\n [b'[START]', b'apart', b'from', b'this', b'there', b'were', b'over', b',',\n  b'cases', b'of', b'administrative', b'influence', b'.', b'[END]']        ,\n [b'[START]', b'after', b'opening', b'of', b'the', b'subsidiaries', b'in',\n  b'st', b'.', b'petersburg', b'and', b'magadan', b'aeroflot', b'pays',\n  b'taxes', b'to', b'the', b'budgets', b'of', b'these', b'cities', b'as',\n  b'well', b'.', b'[END]']                                                ,\n [b'[START]', b'russia', b'could', b'not', b'do', b'that', b',', b'and',\n  b'so', b'took', b'the', b'only', b'correct', b'decision', b'to',\n  b'defend', b'the', b'peoples', b'of', b'abkhazia', b'and', b'south',\n  b'ossetia', b',', b'and', b'to', b'recognise', b'their', b'independence',\n  b'.', b'[END]']                                                          ,\n [b'[START]', b'loading', b'audio', b'data', b'from', b'file', b'[END]'],\n [b'[START]', b'the', b'javadoc', b'manager', b'was', b'added', b'to',\n  b'the', b'tools', b'menu', b'to', b'enable', b'mounting', b'of',\n  b'filesystems', b'of', b'documentation', b'generated', b'with', b'the',\n  b'javadoc', b'tool', b'.', b'[END]']                                   ,\n [b'[START]', b'but', b',', b'if', b'an', b'athlete', b'has', b'one', b'or',\n  b'more', b'distances', b'to', b'take', b',', b'then', b'a', b'dance',\n  b'tournament', b'finalist', b'performs', b'about', b'dances', b'.',\n  b'[END]']                                                                 ,\n [b'[START]', b'in', b'our', b'opinion', b',', b'the', b'entire',\n  b'problem', b'is', b'that', b'the', b'founder', b'of', b'the', b'modern',\n  b'turkey', b'has', b'forced', b'the', b'european', b'dressing', b'style',\n  b'and', b'the', b'republican', b'government', b'.', b'[END]']            ,\n [b'[START]', b'why', b'would', b'the', b'united', b'states', b'welcome',\n  b'another', b'close', b'ally', b',', b'akhmadov', b',', b'as', b'it',\n  b'has', b'recently', b'?', b'[END]']                                   ,\n [b'[START]', b'ea', b'sports', b'unveils', b'creation', b'centre', b'for',\n  b'fifa', b'[END]']                                                       ]>"
     ]
    }
   ],
   "source": [
    "example_tokens_c = context_text_processor(example_context_strings)\n",
    "example_tokens_c[:3, :]"
   ]
  },
  {
   "cell_type": "code",
   "execution_count": 151,
   "metadata": {
    "id": "PE3tSlix65cE"
   },
   "outputs": [
    {
     "data": {
      "text/plain": [
       "<tf.Tensor: shape=(64, 72), dtype=int64, numpy=\n",
       "array([[   5,  181, 3774, ...,    0,    0,    0],\n",
       "       [   5,   10,   23, ...,    0,    0,    0],\n",
       "       [   5,   46,   22, ...,    0,    0,    0],\n",
       "       ...,\n",
       "       [   5,    2,  352, ...,    0,    0,    0],\n",
       "       [   5,  517,   51, ...,    0,    0,    0],\n",
       "       [   5,  158,    3, ...,    0,    0,    0]])>"
      ]
     },
     "execution_count": 151,
     "metadata": {},
     "output_type": "execute_result"
    }
   ],
   "source": [
    "example_tokens_c.to_tensor()"
   ]
  },
  {
   "cell_type": "code",
   "execution_count": 152,
   "metadata": {
    "id": "6AN2shEJIXqE"
   },
   "outputs": [
    {
     "data": {
      "text/plain": [
       "<tf.Tensor: shape=(3,), dtype=string, numpy=\n",
       "array([b'\\xd0\\x9f\\xd0\\xbe\\xd1\\x81\\xd0\\xbb\\xd0\\xb5 \\xd0\\xbf\\xd0\\xbe\\xd0\\xb1\\xd0\\xb5\\xd0\\xb4\\xd1\\x8b \\xd0\\xbd\\xd0\\xb0 \\xd1\\x87\\xd0\\xb5\\xd0\\xbc\\xd0\\xbf\\xd0\\xb8\\xd0\\xbe\\xd0\\xbd\\xd0\\xb0\\xd1\\x82\\xd0\\xb5 \\xd0\\x95\\xd0\\xb2\\xd1\\x80\\xd0\\xbe\\xd0\\xbf\\xd1\\x8b 2005 \\xd0\\xb3\\xd0\\xbe\\xd0\\xb4\\xd0\\xb0 \\xd0\\xb6\\xd0\\xb5\\xd0\\xbd\\xd1\\x81\\xd0\\xba\\xd0\\xb0\\xd1\\x8f \\xd1\\x81\\xd0\\xb1\\xd0\\xbe\\xd1\\x80\\xd0\\xbd\\xd0\\xb0\\xd1\\x8f \\xd0\\x93\\xd0\\xb5\\xd1\\x80\\xd0\\xbc\\xd0\\xb0\\xd0\\xbd\\xd0\\xb8\\xd0\\xb8 \\xd0\\xbf\\xd0\\xbe \\xd1\\x84\\xd1\\x83\\xd1\\x82\\xd0\\xb1\\xd0\\xbe\\xd0\\xbb\\xd1\\x83 \\xd0\\xb2\\xd1\\x8b\\xd1\\x88\\xd0\\xbb\\xd0\\xb0 \\xd0\\xbd\\xd0\\xb0 \\xd0\\xbf\\xd0\\xb5\\xd1\\x80\\xd0\\xb2\\xd0\\xbe\\xd0\\xb5 \\xd0\\xbc\\xd0\\xb5\\xd1\\x81\\xd1\\x82\\xd0\\xbe \\xd0\\xb2 \\xd0\\xbc\\xd0\\xb8\\xd1\\x80\\xd0\\xbe\\xd0\\xb2\\xd0\\xbe\\xd0\\xbc \\xd1\\x80\\xd0\\xb5\\xd0\\xb9\\xd1\\x82\\xd0\\xb8\\xd0\\xbd\\xd0\\xb3\\xd0\\xb5 \\xd0\\xa4\\xd0\\x98\\xd0\\xa4\\xd0\\x90.\\n',\n",
       "       b'\\xd0\\xa2\\xd0\\xb0\\xd0\\xba \\xd0\\xb6\\xd0\\xb5 \\xd0\\xb8 \\xd0\\xb2 \\xd1\\x8d\\xd1\\x82\\xd0\\xbe\\xd0\\xbc \\xd0\\xb3\\xd0\\xb8\\xd0\\xbc\\xd0\\xbd\\xd0\\xb5 \\xd0\\xb4\\xd0\\xb5\\xd0\\xb9\\xd1\\x81\\xd1\\x82\\xd0\\xb2\\xd0\\xb8\\xd0\\xb5 \\xd0\\xa1\\xd0\\xb0\\xd1\\x80\\xd0\\xb0\\xd0\\xbc\\xd1\\x8b \\xd0\\xb5\\xd1\\x81\\xd1\\x82\\xd1\\x8c \\xd1\\x82\\xd0\\xbe\\xd1\\x87\\xd0\\xbd\\xd0\\xbe\\xd0\\xb5 \\xd0\\xb4\\xd0\\xb5\\xd0\\xb9\\xd1\\x81\\xd1\\x82\\xd0\\xb2\\xd0\\xb8\\xd0\\xb5 \\xd0\\x98\\xd0\\xbd\\xd1\\x82\\xd1\\x83\\xd0\\xb8\\xd1\\x86\\xd0\\xb8\\xd0\\xb8, \\xd0\\xba\\xd0\\xbe\\xd1\\x82\\xd0\\xbe\\xd1\\x80\\xd0\\xb0\\xd1\\x8f \\xd0\\xb4\\xd0\\xb2\\xd0\\xb8\\xd0\\xb6\\xd0\\xb5\\xd1\\x82\\xd1\\x81\\xd1\\x8f \\xd0\\xbd\\xd0\\xb5\\xd0\\xbf\\xd0\\xbe\\xd1\\x81\\xd1\\x80\\xd0\\xb5\\xd0\\xb4 \\xd1\\x81\\xd1\\x82\\xd0\\xb2\\xd0\\xb5\\xd0\\xbd\\xd0\\xbd\\xd0\\xbe \\xd0\\xba \\xd0\\x98\\xd1\\x81\\xd1\\x82\\xd0\\xb8\\xd0\\xbd\\xd0\\xb5 \\xd0\\xbf\\xd1\\x80\\xd1\\x8f\\xd0\\xbc\\xd1\\x8b\\xd0\\xbc \\xd0\\xbf\\xd1\\x83\\xd1\\x82\\xd0\\xb5\\xd0\\xbc \\xd0\\x98\\xd1\\x81\\xd1\\x82\\xd0\\xb8\\xd0\\xbd\\xd1\\x8b, \\xd0\\xb0 \\xd0\\xbd\\xd0\\xb5 \\xd0\\xbe\\xd0\\xba\\xd0\\xbe\\xd0\\xbb\\xd1\\x8c\\xd0\\xbd\\xd1\\x8b\\xd0\\xbc\\xd0\\xb8 \\xd1\\x82\\xd1\\x80\\xd0\\xbe\\xd0\\xbf\\xd0\\xb0\\xd0\\xbc\\xd0\\xb8 \\xd1\\x81\\xd0\\xbe \\xd0\\xbc\\xd0\\xbd\\xd0\\xb5\\xd0\\xbd\\xd0\\xb8\\xd0\\xb9 \\xd0\\xb8 \\xd0\\xbe\\xd1\\x88\\xd0\\xb8\\xd0\\xb1\\xd0\\xbe\\xd0\\xba, \\xd0\\xb8 \\xd0\\xbe\\xd1\\x81\\xd0\\xb2\\xd0\\xbe\\xd0\\xb1\\xd0\\xbe\\xd0\\xb6\\xd0\\xb4\\xd0\\xb0\\xd0\\xb5\\xd1\\x82 \\xd0\\x98\\xd1\\x81\\xd1\\x82\\xd0\\xb8\\xd0\\xbd\\xd1\\x83 \\xd0\\xbe\\xd1\\x82 \\xd0\\xbf\\xd0\\xbe\\xd0\\xba\\xd1\\x80\\xd0\\xbe\\xd0\\xb2\\xd0\\xb0 \\xd0\\xbc\\xd1\\x80\\xd0\\xb0\\xd0\\xba\\xd0\\xb0 \\xd0\\xb8 \\xd0\\xbb\\xd0\\xb8\\xd1\\x87\\xd0\\xb8\\xd0\\xbd \\xd0\\xbb\\xd0\\xb6\\xd0\\xb8; \\xd0\\xb8\\xd0\\xbc\\xd0\\xb5\\xd0\\xbd\\xd0\\xbd\\xd0\\xbe \\xd0\\xbf\\xd0\\xbe\\xd1\\x81\\xd1\\x80\\xd0\\xb5\\xd0\\xb4\\xd1\\x81\\xd1\\x82\\xd0\\xb2\\xd0\\xbe\\xd0\\xbc \\xd0\\xbe\\xd0\\xb7\\xd0\\xb0\\xd1\\x80\\xd0\\xb5\\xd0\\xbd\\xd0\\xb8\\xd0\\xb9, \\xd0\\xbe\\xd1\\x81\\xd0\\xb2\\xd0\\xbe\\xd0\\xb1\\xd0\\xbe\\xd0\\xb6\\xd0\\xb4\\xd0\\xb5\\xd0\\xbd\\xd0\\xbd\\xd1\\x8b\\xd1\\x85 \\xd0\\xb5\\xd1\\x8e, \\xd0\\xa0\\xd0\\xb0\\xd0\\xb7\\xd1\\x83\\xd0\\xbc \\xd0\\x9f\\xd1\\x80\\xd0\\xbe\\xd0\\xb2\\xd0\\xb8\\xd0\\xb4\\xd0\\xb5\\xd1\\x86 \\xd1\\x81\\xd0\\xbf\\xd0\\xbe\\xd1\\x81\\xd0\\xbe\\xd0\\xb1\\xd0\\xb5\\xd0\\xbd \\xd0\\xbe\\xd0\\xb1\\xd1\\x80\\xd0\\xb5\\xd1\\x81\\xd1\\x82\\xd0\\xb8 \\xd0\\xbf\\xd0\\xbe\\xd0\\xbb\\xd0\\xbd\\xd0\\xbe\\xd0\\xb5 \\xd0\\xbe\\xd1\\x82\\xd0\\xba\\xd1\\x80\\xd0\\xbe\\xd0\\xb2\\xd0\\xb5\\xd0\\xbd\\xd0\\xb8\\xd0\\xb5 \\xd0\\x98\\xd1\\x81\\xd1\\x82\\xd0\\xb8\\xd0\\xbd\\xd1\\x8b.\\n',\n",
       "       b'\\xd0\\x95\\xd1\\x81\\xd0\\xbb\\xd0\\xb8 \\xd1\\x8f\\xd0\\xb7\\xd1\\x8b\\xd0\\xba\\xd0\\xbe\\xd0\\xb2\\xd1\\x8b\\xd0\\xb5 \\xd0\\xbf\\xd0\\xb0\\xd1\\x80\\xd0\\xb0\\xd0\\xbc\\xd0\\xb5\\xd1\\x82\\xd1\\x80\\xd1\\x8b \\xd0\\xbe\\xd0\\xb1\\xd1\\x80\\xd0\\xb0\\xd0\\xb1\\xd0\\xb0\\xd1\\x82\\xd1\\x8b\\xd0\\xb2\\xd0\\xb0\\xd1\\x8e\\xd1\\x82\\xd1\\x81\\xd1\\x8f \\xd0\\xb2\\xd0\\xbe \\xd0\\xb2\\xd1\\x80\\xd0\\xb5\\xd0\\xbc\\xd1\\x8f \\xd1\\x8d\\xd1\\x82\\xd0\\xb0\\xd0\\xbf\\xd0\\xbe\\xd0\\xb2 \\xd1\\x81\\xd0\\xbf\\xd0\\xb5\\xd1\\x86\\xd0\\xb8\\xd0\\xb0\\xd0\\xbb\\xd0\\xb8\\xd0\\xb7\\xd0\\xb0\\xd1\\x86\\xd0\\xb8\\xd0\\xb8 \\xd0\\xb8\\xd0\\xbb\\xd0\\xb8 oobeSystem, \\xd0\\xba\\xd0\\xbe\\xd0\\xbc\\xd0\\xbf\\xd1\\x8c\\xd1\\x8e\\xd1\\x82\\xd0\\xb5\\xd1\\x80\\xd1\\x83 \\xd0\\xbc\\xd0\\xbe\\xd0\\xb6\\xd0\\xb5\\xd1\\x82 \\xd0\\xbf\\xd0\\xbe\\xd0\\xbd\\xd0\\xb0\\xd0\\xb4\\xd0\\xbe\\xd0\\xb1\\xd0\\xb8\\xd1\\x82\\xd1\\x8c\\xd1\\x81\\xd1\\x8f \\xd0\\xb4\\xd0\\xbe\\xd0\\xbf\\xd0\\xbe\\xd0\\xbb\\xd0\\xbd\\xd0\\xb8\\xd1\\x82\\xd0\\xb5\\xd0\\xbb\\xd1\\x8c\\xd0\\xbd\\xd0\\xb0\\xd1\\x8f \\xd0\\xbf\\xd0\\xb5\\xd1\\x80\\xd0\\xb5\\xd0\\xb7\\xd0\\xb0\\xd0\\xb3\\xd1\\x80\\xd1\\x83\\xd0\\xb7\\xd0\\xba\\xd0\\xb0.\\n'],\n",
       "      dtype=object)>"
      ]
     },
     "execution_count": 152,
     "metadata": {},
     "output_type": "execute_result"
    }
   ],
   "source": [
    "example_target_strings[:3]"
   ]
  },
  {
   "cell_type": "code",
   "execution_count": 153,
   "metadata": {
    "id": "sg4mxB1EINYJ"
   },
   "outputs": [
    {
     "data": {
      "text/plain": [
       "<tf.RaggedTensor [[4, 59, 3582, 8, 9730, 484, 50, 20981, 21585, 870, 14, 16901, 5502, 8,\n",
       "  1268, 213, 6, 5203, 10105, 37349, 3, 5]                              ,\n",
       " [4, 40, 52, 7, 6, 71, 102944, 1031, 1, 72, 8908, 1031, 25571, 2, 99, 9714,\n",
       "  1, 106904, 15, 11104, 7968, 369, 3732, 2, 20, 10, 1, 118562, 70, 6660, 7,\n",
       "  2623, 2, 7, 16822, 5721, 21, 19147, 46345, 7, 1, 10297, 197, 769, 123591,\n",
       "  2, 52374, 3486, 2, 5429, 121423, 3190, 8550, 2024, 13483, 3732, 3, 5]    ,\n",
       " [4, 30, 17492, 914, 18803, 53, 44, 9684, 13766, 17, 1, 2, 5627, 41, 12123,\n",
       "  2701, 33142, 3, 5]                                                       ]>"
      ]
     },
     "execution_count": 153,
     "metadata": {},
     "output_type": "execute_result"
    }
   ],
   "source": [
    "example_tokens_t = target_text_processor(example_target_strings)\n",
    "example_tokens_t[:3, :]"
   ]
  },
  {
   "cell_type": "code",
   "execution_count": 154,
   "metadata": {
    "id": "rOKFkQBKIk0K"
   },
   "outputs": [
    {
     "data": {
      "text/plain": [
       "'[START] since winning the european championship in , the german national womens soccer team has moved to top position in the fifa world rankings . [END]'"
      ]
     },
     "execution_count": 154,
     "metadata": {},
     "output_type": "execute_result"
    }
   ],
   "source": [
    "context_vocab = np.array(context_text_processor.get_vocabulary())\n",
    "tokens_c = context_vocab[example_tokens_c[0].numpy()]\n",
    "' '.join(tokens_c)"
   ]
  },
  {
   "cell_type": "code",
   "execution_count": 155,
   "metadata": {
    "id": "tW0bNSIaIrsK"
   },
   "outputs": [
    {
     "data": {
      "text/plain": [
       "'[START] после победы на чемпионате европы года женская сборная германии по футболу вышла на первое место в мировом рейтинге фифа . [END]'"
      ]
     },
     "execution_count": 155,
     "metadata": {},
     "output_type": "execute_result"
    }
   ],
   "source": [
    "target_vocab = np.array(target_text_processor.get_vocabulary())\n",
    "tokens_t = target_vocab[example_tokens_t[0].numpy()]\n",
    "' '.join(tokens_t)"
   ]
  },
  {
   "cell_type": "markdown",
   "metadata": {
    "id": "FZW0xXI-NhlN",
    "tags": []
   },
   "source": [
    "## Processing the dataset"
   ]
  },
  {
   "cell_type": "markdown",
   "metadata": {},
   "source": [
    "The `Datasets` of strings are transformed into 0-padded tensors of token IDs via the `process_text` function listed below. For training with `keras.Model.fit,` it also changes from a `((context, target))` pair to a `((context, target_in), target_out))` pair. `(inputs, labels)` pairs are what Keras anticipates; the inputs are `((context, target_in))` and the labels are `target_out`. Target_in and Target_out differ from each other in that they are moved apart by one step, making the label the subsequent token at each position."
   ]
  },
  {
   "cell_type": "markdown",
   "metadata": {
    "jp-MarkdownHeadingCollapsed": true,
    "tags": []
   },
   "source": [
    "#### Processing with subword tokenization"
   ]
  },
  {
   "cell_type": "code",
   "execution_count": null,
   "metadata": {},
   "outputs": [],
   "source": [
    "def process_text(context, target):\n",
    "  context = context_subword_processor.encode(context).to_tensor()\n",
    "  target = target_subword_processor.encode(target)\n",
    "  targ_in = target[:,:-1].to_tensor()\n",
    "  targ_out = target[:,1:].to_tensor()\n",
    "  return (context, targ_in), targ_out\n",
    "\n",
    "\n",
    "train_ds = train_raw.map(process_text, tf.data.AUTOTUNE)\n",
    "val_ds = val_raw.map(process_text, tf.data.AUTOTUNE)"
   ]
  },
  {
   "cell_type": "code",
   "execution_count": null,
   "metadata": {},
   "outputs": [],
   "source": [
    "en_vocab_size = context_subword_processor.vocab_size\n",
    "ru_vocab_size = target_subword_processor.vocab_size"
   ]
  },
  {
   "cell_type": "markdown",
   "metadata": {
    "tags": []
   },
   "source": [
    "#### Processing with word tokenization"
   ]
  },
  {
   "cell_type": "markdown",
   "metadata": {
    "id": "282EjuFCr7lS",
    "tags": []
   },
   "source": [
    "##### Processing"
   ]
  },
  {
   "cell_type": "code",
   "execution_count": 156,
   "metadata": {
    "colab": {
     "base_uri": "https://localhost:8080/",
     "height": 219
    },
    "id": "9BhXGREaOjF5",
    "outputId": "96e09c74-eb10-4e32-d2b3-e1bcc6585ff5"
   },
   "outputs": [],
   "source": [
    "def process_text(context, target):\n",
    "  context = context_text_processor(context).to_tensor()\n",
    "  target = target_text_processor(target)\n",
    "  targ_in = target[:,:-1].to_tensor()\n",
    "  targ_out = target[:,1:].to_tensor()\n",
    "  return (context, targ_in), targ_out\n",
    "\n",
    "\n",
    "train_ds = train_raw.map(process_text, tf.data.AUTOTUNE)\n",
    "val_ds = val_raw.map(process_text, tf.data.AUTOTUNE)"
   ]
  },
  {
   "cell_type": "markdown",
   "metadata": {
    "id": "F-WiXM4ZQrXY"
   },
   "source": [
    "targ_in for all words except last one\n",
    "\n",
    "targ_out for all except first one\n"
   ]
  },
  {
   "cell_type": "code",
   "execution_count": 157,
   "metadata": {
    "colab": {
     "base_uri": "https://localhost:8080/"
    },
    "id": "LYjVjRe6P-6K",
    "outputId": "5a1b3e4b-5dfd-4ecc-bc1a-8f1c655e9fd7"
   },
   "outputs": [
    {
     "name": "stderr",
     "output_type": "stream",
     "text": [
      "2023-06-15 19:47:48.348446: I tensorflow/core/common_runtime/executor.cc:1197] [/device:CPU:0] (DEBUG INFO) Executor start aborting (this does not indicate an error and you can ignore this message): INVALID_ARGUMENT: You must feed a value for placeholder tensor 'Placeholder/_18' with dtype int64\n",
      "\t [[{{node Placeholder/_18}}]]\n",
      "2023-06-15 19:47:48.349240: I tensorflow/core/common_runtime/executor.cc:1197] [/device:CPU:0] (DEBUG INFO) Executor start aborting (this does not indicate an error and you can ignore this message): INVALID_ARGUMENT: You must feed a value for placeholder tensor 'Placeholder/_18' with dtype int64\n",
      "\t [[{{node Placeholder/_18}}]]\n"
     ]
    },
    {
     "name": "stdout",
     "output_type": "stream",
     "text": [
      "[    5    33   253    47 15562  1099     7   137    15     2   557    13\n",
      "    94    31   309    20  3220     4     6     0     0     0     0     0\n",
      "     0     0     0     0     0     0     0     0     0     0     0     0\n",
      "     0     0     0     0     0     0     0     0     0     0     0     0\n",
      "     0     0     0     0     0     0     0     0     0     0     0     0\n",
      "     0     0     0     0     0]\n",
      "\n",
      "[     4     26  69385  13174  76241   2431      8   9465      2    717\n",
      "      2    307     10     49 122527      3      0      0      0      0\n",
      "      0      0      0      0      0      0      0      0      0      0\n",
      "      0      0      0      0      0      0      0      0      0      0\n",
      "      0      0      0      0      0      0      0      0      0      0\n",
      "      0      0      0      0      0      0      0      0      0      0\n",
      "      0      0      0      0      0      0      0      0      0      0\n",
      "      0]\n",
      "[    26  69385  13174  76241   2431      8   9465      2    717      2\n",
      "    307     10     49 122527      3      5      0      0      0      0\n",
      "      0      0      0      0      0      0      0      0      0      0\n",
      "      0      0      0      0      0      0      0      0      0      0\n",
      "      0      0      0      0      0      0      0      0      0      0\n",
      "      0      0      0      0      0      0      0      0      0      0\n",
      "      0      0      0      0      0      0      0      0      0      0\n",
      "      0]\n"
     ]
    }
   ],
   "source": [
    "for (ex_context_tok, ex_tar_in), ex_tar_out in train_ds.take(1):\n",
    "  print(ex_context_tok[0, :].numpy())\n",
    "  print()\n",
    "  print(ex_tar_in[0, :].numpy())\n",
    "  print(ex_tar_out[0, :].numpy())"
   ]
  },
  {
   "cell_type": "code",
   "execution_count": 158,
   "metadata": {},
   "outputs": [],
   "source": [
    "en_vocab_size = len(context_text_processor.get_vocabulary())\n",
    "ru_vocab_size = len(target_text_processor.get_vocabulary())"
   ]
  },
  {
   "cell_type": "markdown",
   "metadata": {
    "id": "FF58z_MwsD1S",
    "tags": []
   },
   "source": [
    "## Structure and What are transformers and attention used for?"
   ]
  },
  {
   "cell_type": "markdown",
   "metadata": {
    "id": "06LQhcKXgyVb"
   },
   "source": [
    "##### Positional Embedding"
   ]
  },
  {
   "cell_type": "code",
   "execution_count": 159,
   "metadata": {
    "id": "z6gI5Uqae4Ss"
   },
   "outputs": [],
   "source": [
    "def positional_encoding(length, depth):\n",
    "  depth = depth/2\n",
    "\n",
    "  positions = np.arange(length)[:, np.newaxis] # (seq, 1)\n",
    "  depths = np.arange(depth)[np.newaxis, :]/depth # (1, depth)\n",
    "\n",
    "  angle_rates = 1 / (10000**depths) # (1, depth)\n",
    "  angle_rads = positions * angle_rates  # seq, depth\n",
    "\n",
    "\n",
    "  pos_encoding = np.concatenate(\n",
    "      [np.sin(angle_rads), np.cos(angle_rads)],\n",
    "      axis=-1\n",
    "  )\n",
    "\n",
    "  return tf.cast(pos_encoding, dtype=tf.float32)"
   ]
  },
  {
   "cell_type": "code",
   "execution_count": 160,
   "metadata": {
    "id": "xVKVh1f7e-Xp"
   },
   "outputs": [
    {
     "name": "stdout",
     "output_type": "stream",
     "text": [
      "(2048, 256)\n"
     ]
    }
   ],
   "source": [
    "pos_encoding = positional_encoding(length=DENSE_LAYER_NEURONS, depth=UNITS)\n",
    "\n",
    "# Check the shape.\n",
    "print(pos_encoding.shape)\n",
    "\n",
    "# Plot the dimensions.\n",
    "# plt.pcolormesh(pos_encoding.numpy().T, cmap='RdBu')\n",
    "# plt.ylabel('Depth')\n",
    "# plt.xlabel('Position')\n",
    "# plt.colorbar()\n",
    "# plt.show()\n",
    "# pos_encoding"
   ]
  },
  {
   "cell_type": "code",
   "execution_count": 161,
   "metadata": {
    "id": "LC_tJ81EfCgv"
   },
   "outputs": [],
   "source": [
    "class PositionalEmbedding(tf.keras.layers.Layer):\n",
    "  def __init__(self, vocab_size, d_model):\n",
    "    super().__init__()\n",
    "    self.d_model = d_model\n",
    "    self.embedding = tf.keras.layers.Embedding(vocab_size, d_model, mask_zero=True)\n",
    "    self.pos_encoding = positional_encoding(length=DENSE_LAYER_NEURONS, depth=d_model)\n",
    "\n",
    "  def compute_mask(self, *args, **kwargs):\n",
    "    return self.embedding.compute_mask(*args, **kwargs)\n",
    "\n",
    "  def call(self, x):\n",
    "    length = tf.shape(x)[1]\n",
    "    x = self.embedding(x)\n",
    "\n",
    "    x*= tf.math.sqrt(tf.cast(self.d_model, tf.float32))\n",
    "    x = x + self.pos_encoding[tf.newaxis, :length, :]\n",
    "    return x"
   ]
  },
  {
   "cell_type": "code",
   "execution_count": 162,
   "metadata": {
    "id": "9NiaJ8zSgKds"
   },
   "outputs": [
    {
     "data": {
      "text/plain": [
       "<tf.Tensor: shape=(2048, 256), dtype=float32, numpy=\n",
       "array([[ 0.        ,  0.        ,  0.        , ...,  1.        ,\n",
       "         1.        ,  1.        ],\n",
       "       [ 0.84147096,  0.8019618 ,  0.7617204 , ...,  1.        ,\n",
       "         1.        ,  1.        ],\n",
       "       [ 0.9092974 ,  0.95814437,  0.98704624, ...,  0.99999994,\n",
       "         1.        ,  1.        ],\n",
       "       ...,\n",
       "       [ 0.17589758, -0.7070546 , -0.819888  , ...,  0.9679724 ,\n",
       "         0.9722453 ,  0.97595036],\n",
       "       [-0.7333133 ,  0.1447375 , -0.09510706, ...,  0.9679412 ,\n",
       "         0.9722182 ,  0.97592694],\n",
       "       [-0.9683193 ,  0.8799798 ,  0.69664717, ...,  0.96791005,\n",
       "         0.9721912 ,  0.9759035 ]], dtype=float32)>"
      ]
     },
     "execution_count": 162,
     "metadata": {},
     "output_type": "execute_result"
    }
   ],
   "source": [
    "pos_encoding"
   ]
  },
  {
   "cell_type": "code",
   "execution_count": 163,
   "metadata": {
    "id": "mQwxExl6ga32"
   },
   "outputs": [
    {
     "name": "stderr",
     "output_type": "stream",
     "text": [
      "2023-06-15 19:47:52.734198: I tensorflow/core/common_runtime/executor.cc:1197] [/device:CPU:0] (DEBUG INFO) Executor start aborting (this does not indicate an error and you can ignore this message): INVALID_ARGUMENT: You must feed a value for placeholder tensor 'Placeholder/_14' with dtype int64\n",
      "\t [[{{node Placeholder/_14}}]]\n",
      "2023-06-15 19:47:52.734198: I tensorflow/core/common_runtime/executor.cc:1197] [/device:CPU:0] (DEBUG INFO) Executor start aborting (this does not indicate an error and you can ignore this message): INVALID_ARGUMENT: You must feed a value for placeholder tensor 'Placeholder/_18' with dtype int64\n",
      "\t [[{{node Placeholder/_18}}]]\n"
     ]
    },
    {
     "name": "stdout",
     "output_type": "stream",
     "text": [
      "(64, 68)\n",
      "(64, 76)\n",
      "(64, 76)\n"
     ]
    }
   ],
   "source": [
    "for (en, ru_in), ru_out in train_ds.take(1):\n",
    "  # print(example_context_strings[1])\n",
    "  # print(example_target_strings[1])\n",
    "  break\n",
    "print(en.shape)\n",
    "print(ru_in.shape)\n",
    "print(ru_out.shape)"
   ]
  },
  {
   "cell_type": "code",
   "execution_count": 164,
   "metadata": {
    "id": "Fm_0WSf5gQP5"
   },
   "outputs": [],
   "source": [
    "embed_en = PositionalEmbedding(vocab_size=en_vocab_size, d_model=UNITS)\n",
    "embed_ru = PositionalEmbedding(vocab_size=ru_vocab_size, d_model=UNITS)\n",
    "\n",
    "en_emb = embed_en(en)\n",
    "ru_emb = embed_ru(ru_in)"
   ]
  },
  {
   "cell_type": "code",
   "execution_count": 165,
   "metadata": {
    "colab": {
     "base_uri": "https://localhost:8080/"
    },
    "id": "UZd7EKUTgUq9",
    "outputId": "1b6e9b10-a24a-424f-87cf-96893f503014"
   },
   "outputs": [
    {
     "name": "stdout",
     "output_type": "stream",
     "text": [
      "tf.Tensor(\n",
      "[ True  True  True  True  True  True  True  True  True  True  True  True\n",
      "  True False False False False False False False False False False False\n",
      " False False False False False False False False False False False False\n",
      " False False False False False False False False False False False False\n",
      " False False False False False False False False False False False False\n",
      " False False False False False False False False], shape=(68,), dtype=bool)\n",
      "tf.Tensor(\n",
      "[ True  True  True  True  True  True  True  True  True  True  True False\n",
      " False False False False False False False False False False False False\n",
      " False False False False False False False False False False False False\n",
      " False False False False False False False False False False False False\n",
      " False False False False False False False False False False False False\n",
      " False False False False False False False False False False False False\n",
      " False False False False], shape=(76,), dtype=bool)\n"
     ]
    }
   ],
   "source": [
    "print(en_emb._keras_mask[0])\n",
    "print(ru_emb._keras_mask[0])"
   ]
  },
  {
   "cell_type": "markdown",
   "metadata": {
    "id": "vHD4QTjhT0VB"
   },
   "source": [
    "#### The Encoder/Decoder\n"
   ]
  },
  {
   "cell_type": "markdown",
   "metadata": {
    "id": "uEbAPLwCh1E4"
   },
   "source": [
    "The goal of the encoder is to process the context sequence into a sequence of vectors that are useful for the decoder as it attempts to predict the next output for each timestep. Since the context sequence is constant, there is no restriction on how information can flow in the encoder, so use a bidirectional-RNN to do the processing:"
   ]
  },
  {
   "cell_type": "markdown",
   "metadata": {
    "id": "eATXBK5l-21d"
   },
   "source": [
    "Takes a list of token IDs (from context_text_processor).\n",
    "Looks up an embedding vector for each token (Using a layers.Embedding).\n",
    "Processes the embeddings into a new sequence (Using a bidirectional layers.GRU).\n",
    "Returns the processed sequence. This will be passed to the attention head."
   ]
  },
  {
   "cell_type": "markdown",
   "metadata": {
    "id": "M5dAK6KElSVS"
   },
   "source": [
    "The Attention Layer"
   ]
  },
  {
   "cell_type": "markdown",
   "metadata": {
    "id": "nV39hXgxlUtG"
   },
   "source": [
    "The attention layer lets the decoder access the information extracted by the encoder. It computes a vector from the entire context sequence, and adds that to the decoder's output."
   ]
  },
  {
   "cell_type": "markdown",
   "metadata": {
    "id": "21EM7m0Bhsm_"
   },
   "source": [
    "##### FeedForwarding"
   ]
  },
  {
   "cell_type": "code",
   "execution_count": 166,
   "metadata": {
    "id": "zAriO-gzhvQd"
   },
   "outputs": [],
   "source": [
    "class FeedForward(tf.keras.layers.Layer):\n",
    "  def __init__(self, d_model, dff, dropout_rate=DROPOUT_RATE):\n",
    "    super().__init__()\n",
    "    self.seq = tf.keras.Sequential([\n",
    "        tf.keras.layers.Dense(dff, activation='relu'),\n",
    "        tf.keras.layers.Dense(d_model),\n",
    "        tf.keras.layers.Dropout(dropout_rate)\n",
    "    ])\n",
    "    self.add = tf.keras.layers.Add()\n",
    "    # self.layer_norm = tf.keras.layers.LayerNormalization()\n",
    "    self.batch_norm = tf.keras.layers.BatchNormalization()\n",
    "\n",
    "  def call(self, x):\n",
    "    x = self.add([x, self.seq(x)])\n",
    "    x = self.batch_norm(x)\n",
    "    return x"
   ]
  },
  {
   "cell_type": "markdown",
   "metadata": {
    "id": "tqgcaOaurIlp"
   },
   "source": [
    "##### Attention"
   ]
  },
  {
   "cell_type": "code",
   "execution_count": 167,
   "metadata": {
    "id": "NMgAu02JrIlq"
   },
   "outputs": [],
   "source": [
    "class BaseAttention(tf.keras.layers.Layer):\n",
    "  def __init__(self, **kwargs):\n",
    "    super().__init__()\n",
    "    self.mha = tf.keras.layers.MultiHeadAttention(**kwargs)\n",
    "    self.batch_norm = tf.keras.layers.BatchNormalization()\n",
    "    self.add = tf.keras.layers.Add()"
   ]
  },
  {
   "cell_type": "code",
   "execution_count": 168,
   "metadata": {
    "id": "SWBL7ovZrIlq"
   },
   "outputs": [],
   "source": [
    "class CrossAttention(BaseAttention):\n",
    "  def call(self, x, context):\n",
    "    attn_output, attn_scores = self.mha(\n",
    "        query=x,\n",
    "        key=context,\n",
    "        value=context,\n",
    "        return_attention_scores=True)\n",
    "\n",
    "    # Cache the attention scores for plotting later.\n",
    "    self.last_attn_scores = attn_scores\n",
    "\n",
    "    x = self.add([x, attn_output])\n",
    "    x = self.batch_norm(x)\n",
    "\n",
    "    return x"
   ]
  },
  {
   "cell_type": "code",
   "execution_count": 169,
   "metadata": {
    "id": "ebo7fpK7rIlr"
   },
   "outputs": [],
   "source": [
    "class GlobalSelfAttention(BaseAttention):\n",
    "  def call(self, x):\n",
    "    attn_output = self.mha(\n",
    "        query=x,\n",
    "        value=x,\n",
    "        key=x\n",
    "    )\n",
    "    x = self.add([x, attn_output])\n",
    "    return x"
   ]
  },
  {
   "cell_type": "code",
   "execution_count": 170,
   "metadata": {
    "id": "L3tYMe6irIlr"
   },
   "outputs": [],
   "source": [
    "class CausalSelfAttention(BaseAttention):\n",
    "  def call(self, x):\n",
    "    attn_output = self.mha(\n",
    "        query=x,\n",
    "        value=x,\n",
    "        key=x,\n",
    "        use_causal_mask=True\n",
    "    )\n",
    "    x = self.add([x, attn_output])\n",
    "    return x"
   ]
  },
  {
   "cell_type": "markdown",
   "metadata": {
    "id": "4f3oAMHMm2PT"
   },
   "source": [
    "The Decoder\n",
    "\n",
    "The decoder's job is to generate predictions for the next token at each location in the target sequence.\n",
    "\n",
    "1. It looks up embeddings for each token in the target sequence.\n",
    "2. It uses an RNN to process the target sequence, and keep track of what it has generated so far.\n",
    "3. It uses RNN output as the \"query\" to the attention layer, when attending to the encoder's output.\n",
    "4. At each location in the output it predicts the next token.\n",
    "\n",
    "When training, the model predicts the next word at each location. So it's important that the information only flows in one direction through the model. The decoder uses a unidirectional (not bidirectional) RNN to process the target sequence.\n",
    "\n",
    "When running inference with this model it produces one word at a time, and those are fed back into the model.\n"
   ]
  },
  {
   "cell_type": "markdown",
   "metadata": {
    "id": "UA7rUxgpg4WU"
   },
   "source": [
    "##### Encoder"
   ]
  },
  {
   "cell_type": "code",
   "execution_count": 171,
   "metadata": {
    "id": "Ipk_VPqogmSE"
   },
   "outputs": [],
   "source": [
    "class EncoderLayer(tf.keras.layers.Layer):\n",
    "  def __init__(self,*, d_model, num_heads, dff, dropout_rate=DROPOUT_RATE):\n",
    "    super().__init__()\n",
    "\n",
    "    self.self_attention = GlobalSelfAttention(\n",
    "        num_heads=num_heads,\n",
    "        key_dim=d_model,\n",
    "        dropout=dropout_rate)\n",
    "\n",
    "    self.ffn = FeedForward(d_model, dff)\n",
    "\n",
    "  def call(self, x):\n",
    "    x = self.self_attention(x)\n",
    "    x = self.ffn(x)\n",
    "    return x"
   ]
  },
  {
   "cell_type": "code",
   "execution_count": 172,
   "metadata": {
    "colab": {
     "base_uri": "https://localhost:8080/"
    },
    "id": "TMGZbS6_hAGQ",
    "outputId": "e0dd5dde-aed7-4ee6-b45f-48e30637c904"
   },
   "outputs": [
    {
     "name": "stdout",
     "output_type": "stream",
     "text": [
      "(64, 76, 256)\n",
      "(64, 76, 256)\n"
     ]
    }
   ],
   "source": [
    "sample = EncoderLayer(d_model=UNITS, num_heads=NUM_HEADS, dff=DENSE_LAYER_NEURONS)\n",
    "print(ru_emb.shape)\n",
    "print(sample(ru_emb).shape)"
   ]
  },
  {
   "cell_type": "code",
   "execution_count": 173,
   "metadata": {
    "id": "P68OEzQik9XM"
   },
   "outputs": [],
   "source": [
    "class Encoder(tf.keras.layers.Layer):\n",
    "  def __init__(self, *, num_layers, d_model, num_heads,\n",
    "               dff, vocab_size, dropout_rate=DROPOUT_RATE):\n",
    "    super().__init__()\n",
    "\n",
    "    self.d_model = d_model\n",
    "    self.num_layers = num_layers\n",
    "\n",
    "    self.pos_embedding = PositionalEmbedding(\n",
    "        vocab_size=vocab_size, d_model=d_model)\n",
    "\n",
    "    self.enc_layers = [\n",
    "        EncoderLayer(d_model=d_model,\n",
    "                     num_heads=num_heads,\n",
    "                     dff=dff,\n",
    "                     dropout_rate=dropout_rate)\n",
    "        for _ in range(num_layers)]\n",
    "    self.dropout = tf.keras.layers.Dropout(dropout_rate)\n",
    "\n",
    "  def call(self, x):\n",
    "    # `x` is token-IDs shape: (batch, seq_len)\n",
    "    x = self.pos_embedding(x)  # Shape `(batch_size, seq_len, d_model)`.\n",
    "\n",
    "    # Add dropout.\n",
    "    x = self.dropout(x)\n",
    "\n",
    "    for i in range(self.num_layers):\n",
    "      x = self.enc_layers[i](x)\n",
    "\n",
    "    return x  # Shape `(batch_size, seq_len, d_model)`."
   ]
  },
  {
   "cell_type": "code",
   "execution_count": 174,
   "metadata": {
    "colab": {
     "base_uri": "https://localhost:8080/"
    },
    "id": "-M8Sb1WVlA3i",
    "outputId": "f0c1e498-9131-417e-e101-9d41af5bddbc"
   },
   "outputs": [
    {
     "name": "stdout",
     "output_type": "stream",
     "text": [
      "(64, 68)\n",
      "(64, 68, 256)\n"
     ]
    }
   ],
   "source": [
    "# Instantiate the encoder.\n",
    "sample_encoder = Encoder(num_layers=NUM_LAYER,\n",
    "                         d_model=UNITS,\n",
    "                         num_heads=NUM_HEADS,\n",
    "                         dff=DENSE_LAYER_NEURONS,\n",
    "                         vocab_size=MAX_VOCAB_SIZE)\n",
    "\n",
    "sample_encoder_output = sample_encoder(en, training=False)\n",
    "\n",
    "# Print the shape.\n",
    "print(en.shape)\n",
    "print(sample_encoder_output.shape)  # Shape `(batch_size, input_seq_len, d_model)`."
   ]
  },
  {
   "cell_type": "markdown",
   "metadata": {
    "id": "Ijh4_u2xl59-"
   },
   "source": [
    "##### Decoder"
   ]
  },
  {
   "cell_type": "code",
   "execution_count": 175,
   "metadata": {
    "id": "rCRsAIyAl-W1"
   },
   "outputs": [],
   "source": [
    "class DecoderLayer(tf.keras.layers.Layer):\n",
    "  def __init__(self,\n",
    "               *,\n",
    "               d_model,\n",
    "               num_heads,\n",
    "               dff,\n",
    "               dropout_rate=0.1):\n",
    "    super(DecoderLayer, self).__init__()\n",
    "\n",
    "    self.causal_self_attention = CausalSelfAttention(\n",
    "        num_heads=num_heads,\n",
    "        key_dim=d_model,\n",
    "        dropout=dropout_rate)\n",
    "\n",
    "    self.cross_attention = CrossAttention(\n",
    "        num_heads=num_heads,\n",
    "        key_dim=d_model,\n",
    "        dropout=dropout_rate)\n",
    "\n",
    "    self.ffn = FeedForward(d_model, dff)\n",
    "\n",
    "  def call(self, x, context):\n",
    "    x = self.causal_self_attention(x=x)\n",
    "    x = self.cross_attention(x=x, context=context)\n",
    "\n",
    "    # Cache the last attention scores for plotting later\n",
    "    self.last_attn_scores = self.cross_attention.last_attn_scores\n",
    "\n",
    "    x = self.ffn(x)  # Shape `(batch_size, seq_len, d_model)`.\n",
    "    return x"
   ]
  },
  {
   "cell_type": "code",
   "execution_count": 176,
   "metadata": {
    "id": "LZI3i5hVoCF9"
   },
   "outputs": [],
   "source": [
    "class Decoder(tf.keras.layers.Layer):\n",
    "  def __init__(self, *, num_layers, d_model, num_heads, dff, vocab_size,\n",
    "               dropout_rate=DROPOUT_RATE):\n",
    "    super(Decoder, self).__init__()\n",
    "\n",
    "    self.d_model = d_model\n",
    "    self.num_layers = num_layers\n",
    "\n",
    "    self.pos_embedding = PositionalEmbedding(vocab_size=vocab_size,\n",
    "                                             d_model=d_model)\n",
    "    self.dropout = tf.keras.layers.Dropout(dropout_rate)\n",
    "    self.dec_layers = [\n",
    "        DecoderLayer(d_model=d_model, num_heads=num_heads,\n",
    "                     dff=dff, dropout_rate=dropout_rate)\n",
    "        for _ in range(num_layers)]\n",
    "\n",
    "    self.last_attn_scores = None\n",
    "\n",
    "  def call(self, x, context):\n",
    "    # `x` is token-IDs shape (batch, target_seq_len)\n",
    "    x = self.pos_embedding(x)  # (batch_size, target_seq_len, d_model)\n",
    "\n",
    "    x = self.dropout(x)\n",
    "\n",
    "    for i in range(self.num_layers):\n",
    "      x  = self.dec_layers[i](x, context)\n",
    "\n",
    "    self.last_attn_scores = self.dec_layers[-1].last_attn_scores\n",
    "\n",
    "    # The shape of x is (batch_size, target_seq_len, d_model).\n",
    "    return x"
   ]
  },
  {
   "cell_type": "code",
   "execution_count": 177,
   "metadata": {
    "colab": {
     "base_uri": "https://localhost:8080/"
    },
    "id": "TELIRY6noE1n",
    "outputId": "a4d3527e-12ba-4a52-8387-f5750de2175c"
   },
   "outputs": [
    {
     "name": "stdout",
     "output_type": "stream",
     "text": [
      "(64, 76)\n",
      "(64, 68, 256)\n",
      "(64, 76, 256)\n"
     ]
    }
   ],
   "source": [
    "# Instantiate the decoder.\n",
    "sample_decoder = Decoder(num_layers=NUM_LAYER,\n",
    "                         d_model=UNITS,\n",
    "                         num_heads=NUM_HEADS,\n",
    "                         dff=DENSE_LAYER_NEURONS,\n",
    "                         vocab_size=MAX_VOCAB_SIZE)\n",
    "\n",
    "output = sample_decoder(\n",
    "    x=ru_in,\n",
    "    context=en_emb)\n",
    "\n",
    "# Print the shapes.\n",
    "print(ru_in.shape)\n",
    "print(en_emb.shape)\n",
    "print(output.shape)"
   ]
  },
  {
   "cell_type": "code",
   "execution_count": 178,
   "metadata": {
    "colab": {
     "base_uri": "https://localhost:8080/"
    },
    "id": "1wAMI1PZpGeJ",
    "outputId": "11129f0d-13d0-41ea-c0fb-5b1d9a966d2b"
   },
   "outputs": [
    {
     "data": {
      "text/plain": [
       "TensorShape([64, 8, 76, 68])"
      ]
     },
     "execution_count": 178,
     "metadata": {},
     "output_type": "execute_result"
    }
   ],
   "source": [
    "sample_decoder.last_attn_scores.shape  # (batch, heads, target_seq, input_seq)"
   ]
  },
  {
   "cell_type": "markdown",
   "metadata": {
    "id": "6628v9sppUNh"
   },
   "source": [
    "##### Transformer"
   ]
  },
  {
   "cell_type": "code",
   "execution_count": 179,
   "metadata": {
    "id": "mRh95-X9pYO6"
   },
   "outputs": [],
   "source": [
    "class Transformer(tf.keras.Model):\n",
    "  def __init__(self, *, num_layers, d_model, num_heads, dff,\n",
    "               input_vocab_size, target_vocab_size, dropout_rate=DROPOUT_RATE):\n",
    "    super().__init__()\n",
    "    self.encoder = Encoder(num_layers=num_layers, d_model=d_model,\n",
    "                           num_heads=num_heads, dff=dff,\n",
    "                           vocab_size=input_vocab_size,\n",
    "                           dropout_rate=dropout_rate)\n",
    "\n",
    "    self.decoder = Decoder(num_layers=num_layers, d_model=d_model,\n",
    "                           num_heads=num_heads, dff=dff,\n",
    "                           vocab_size=target_vocab_size,\n",
    "                           dropout_rate=dropout_rate)\n",
    "\n",
    "    self.final_layer = tf.keras.layers.Dense(target_vocab_size)\n",
    "\n",
    "  def call(self, inputs):\n",
    "    # To use a Keras model with `.fit` you must pass all your inputs in the\n",
    "    # first argument.\n",
    "    context, x  = inputs\n",
    "\n",
    "    context = self.encoder(context)  # (batch_size, context_len, d_model)\n",
    "\n",
    "    x = self.decoder(x, context)  # (batch_size, target_len, d_model)\n",
    "\n",
    "    # Final linear layer output.\n",
    "    logits = self.final_layer(x)  # (batch_size, target_len, target_vocab_size)\n",
    "\n",
    "    try:\n",
    "      # Drop the keras mask, so it doesn't scale the losses/metrics.\n",
    "      # b/250038731\n",
    "      del logits._keras_mask\n",
    "    except AttributeError:\n",
    "      pass\n",
    "\n",
    "    # Return the final output and the attention weights.\n",
    "    return logits"
   ]
  },
  {
   "cell_type": "markdown",
   "metadata": {
    "id": "UMdMb2YRpahw"
   },
   "source": [
    "##### Combination"
   ]
  },
  {
   "cell_type": "code",
   "execution_count": 180,
   "metadata": {
    "id": "fkdwVp79qUid"
   },
   "outputs": [],
   "source": [
    "transformer = Transformer(\n",
    "    num_layers=NUM_LAYER,\n",
    "    d_model=UNITS,\n",
    "    num_heads=NUM_HEADS,\n",
    "    dff=DENSE_LAYER_NEURONS,\n",
    "    input_vocab_size=en_vocab_size,\n",
    "    target_vocab_size=ru_vocab_size,\n",
    "    dropout_rate=DROPOUT_RATE\n",
    ")"
   ]
  },
  {
   "cell_type": "code",
   "execution_count": null,
   "metadata": {
    "colab": {
     "base_uri": "https://localhost:8080/"
    },
    "id": "YztPtgvoq3EL",
    "outputId": "eea3a846-68c4-40c3-a68b-05d6e4b03c97"
   },
   "outputs": [],
   "source": [
    "output = transformer((en, ru_in))\n",
    "\n",
    "print(ru_in.shape)\n",
    "print(en.shape)\n",
    "print(output.shape)"
   ]
  },
  {
   "cell_type": "code",
   "execution_count": null,
   "metadata": {
    "colab": {
     "base_uri": "https://localhost:8080/"
    },
    "id": "Uyy1pstRrEg6",
    "outputId": "cf7bf3cf-e845-4a05-a47f-cd4af19470fa"
   },
   "outputs": [],
   "source": [
    "attn_scores = transformer.decoder.dec_layers[-1].last_attn_scores\n",
    "print(attn_scores.shape)"
   ]
  },
  {
   "cell_type": "code",
   "execution_count": null,
   "metadata": {
    "colab": {
     "base_uri": "https://localhost:8080/"
    },
    "id": "Kq3QkIN7rUJc",
    "outputId": "e5d08e3d-6bfc-4959-fea4-b99eb2b0962d"
   },
   "outputs": [],
   "source": [
    "transformer.summary()"
   ]
  },
  {
   "cell_type": "markdown",
   "metadata": {
    "id": "0oqgZoy_rYbQ"
   },
   "source": [
    "### Training"
   ]
  },
  {
   "cell_type": "code",
   "execution_count": null,
   "metadata": {
    "id": "tw1KQVRNravo"
   },
   "outputs": [],
   "source": [
    "class CustomSchedule(tf.keras.optimizers.schedules.LearningRateSchedule):\n",
    "  def __init__(self, d_model, warmup_steps=4000):\n",
    "    super().__init__()\n",
    "\n",
    "    self.d_model = d_model\n",
    "    self.d_model = tf.cast(self.d_model, tf.float32)\n",
    "\n",
    "    self.warmup_steps = warmup_steps\n",
    "\n",
    "  def __call__(self, step):\n",
    "    step = tf.cast(step, dtype=tf.float32)\n",
    "    arg1 = tf.math.rsqrt(step)\n",
    "    arg2 = step * (self.warmup_steps ** -1.5)\n",
    "\n",
    "    return tf.math.rsqrt(self.d_model) * tf.math.minimum(arg1, arg2)"
   ]
  },
  {
   "cell_type": "code",
   "execution_count": null,
   "metadata": {
    "id": "62HepUkDrhV5"
   },
   "outputs": [],
   "source": [
    "learning_rate = CustomSchedule(UNITS)\n",
    "\n",
    "optimizer = tf.keras.optimizers.Adam(learning_rate, beta_1=0.9, beta_2=0.98,epsilon=1e-9)"
   ]
  },
  {
   "cell_type": "code",
   "execution_count": null,
   "metadata": {
    "colab": {
     "base_uri": "https://localhost:8080/",
     "height": 466
    },
    "id": "ZBYn5v88r0mY",
    "outputId": "c0403a13-a167-49dc-c5d7-f86eece1dfce"
   },
   "outputs": [],
   "source": [
    "plt.plot(learning_rate(tf.range(40000, dtype=tf.float32)))\n",
    "plt.ylabel('Learning Rate')\n",
    "plt.xlabel('Train Step')"
   ]
  },
  {
   "cell_type": "code",
   "execution_count": null,
   "metadata": {
    "id": "yOiYm6qcr5cP"
   },
   "outputs": [],
   "source": [
    "def masked_loss(label, pred):\n",
    "  mask = label != 0\n",
    "  loss_object = tf.keras.losses.SparseCategoricalCrossentropy(\n",
    "    from_logits=True, reduction='none')\n",
    "  loss = loss_object(label, pred)\n",
    "\n",
    "  mask = tf.cast(mask, dtype=loss.dtype)\n",
    "  loss *= mask\n",
    "\n",
    "  loss = tf.reduce_sum(loss)/tf.reduce_sum(mask)\n",
    "  return loss\n",
    "\n",
    "\n",
    "def masked_accuracy(label, pred):\n",
    "  pred = tf.argmax(pred, axis=2)\n",
    "  label = tf.cast(label, pred.dtype)\n",
    "  match = label == pred\n",
    "\n",
    "  mask = label != 0\n",
    "\n",
    "  match = match & mask\n",
    "\n",
    "  match = tf.cast(match, dtype=tf.float32)\n",
    "  mask = tf.cast(mask, dtype=tf.float32)\n",
    "  return tf.reduce_sum(match)/tf.reduce_sum(mask)"
   ]
  },
  {
   "cell_type": "code",
   "execution_count": null,
   "metadata": {
    "id": "Ecnu-eAQr9mx"
   },
   "outputs": [],
   "source": [
    "transformer.compile(\n",
    "    loss=masked_loss,\n",
    "    optimizer=optimizer,\n",
    "    metrics=[masked_accuracy])"
   ]
  },
  {
   "cell_type": "code",
   "execution_count": null,
   "metadata": {
    "id": "J53QqDYYr_mL"
   },
   "outputs": [],
   "source": [
    "transformer.fit(train_ds,\n",
    "                epochs=20,\n",
    "                validation_data=val_ds)"
   ]
  },
  {
   "cell_type": "code",
   "execution_count": 118,
   "metadata": {
    "colab": {
     "base_uri": "https://localhost:8080/"
    },
    "id": "yR6j5IwXN6X6",
    "outputId": "00aec948-38c2-4320-dc92-d152270067cc"
   },
   "outputs": [
    {
     "name": "stdout",
     "output_type": "stream",
     "text": [
      "Epoch 1/100\n"
     ]
    },
    {
     "name": "stderr",
     "output_type": "stream",
     "text": [
      "2023-06-15 19:34:46.790288: I tensorflow/core/common_runtime/executor.cc:1197] [/device:CPU:0] (DEBUG INFO) Executor start aborting (this does not indicate an error and you can ignore this message): INVALID_ARGUMENT: You must feed a value for placeholder tensor 'Placeholder/_16' with dtype int64\n",
      "\t [[{{node Placeholder/_16}}]]\n",
      "2023-06-15 19:34:46.791411: I tensorflow/core/common_runtime/executor.cc:1197] [/device:CPU:0] (DEBUG INFO) Executor start aborting (this does not indicate an error and you can ignore this message): INVALID_ARGUMENT: You must feed a value for placeholder tensor 'Placeholder/_14' with dtype int64\n",
      "\t [[{{node Placeholder/_14}}]]\n",
      "2023-06-15 19:35:00.084334: W tensorflow/tsl/framework/bfc_allocator.cc:485] Allocator (GPU_0_bfc) ran out of memory trying to allocate 5.22GiB (rounded to 5606400000)requested by op transformer_1/dense_101/Tensordot/MatMul\n",
      "If the cause is memory fragmentation maybe the environment variable 'TF_GPU_ALLOCATOR=cuda_malloc_async' will improve the situation. \n",
      "Current allocation summary follows.\n",
      "Current allocation summary follows.\n",
      "2023-06-15 19:35:00.084472: I tensorflow/tsl/framework/bfc_allocator.cc:1039] BFCAllocator dump for GPU_0_bfc\n",
      "2023-06-15 19:35:00.084490: I tensorflow/tsl/framework/bfc_allocator.cc:1046] Bin (256): \tTotal Chunks: 84, Chunks in use: 80. 21.0KiB allocated for chunks. 20.0KiB in use in bin. 475B client-requested in use in bin.\n",
      "2023-06-15 19:35:00.084500: I tensorflow/tsl/framework/bfc_allocator.cc:1046] Bin (512): \tTotal Chunks: 8, Chunks in use: 8. 5.2KiB allocated for chunks. 5.2KiB in use in bin. 4.1KiB client-requested in use in bin.\n",
      "2023-06-15 19:35:00.084510: I tensorflow/tsl/framework/bfc_allocator.cc:1046] Bin (1024): \tTotal Chunks: 416, Chunks in use: 415. 430.0KiB allocated for chunks. 429.0KiB in use in bin. 415.0KiB client-requested in use in bin.\n",
      "2023-06-15 19:35:00.084518: I tensorflow/tsl/framework/bfc_allocator.cc:1046] Bin (2048): \tTotal Chunks: 0, Chunks in use: 0. 0B allocated for chunks. 0B in use in bin. 0B client-requested in use in bin.\n",
      "2023-06-15 19:35:00.084527: I tensorflow/tsl/framework/bfc_allocator.cc:1046] Bin (4096): \tTotal Chunks: 5, Chunks in use: 5. 28.0KiB allocated for chunks. 28.0KiB in use in bin. 23.5KiB client-requested in use in bin.\n",
      "2023-06-15 19:35:00.084535: I tensorflow/tsl/framework/bfc_allocator.cc:1046] Bin (8192): \tTotal Chunks: 272, Chunks in use: 272. 2.24MiB allocated for chunks. 2.24MiB in use in bin. 2.14MiB client-requested in use in bin.\n",
      "2023-06-15 19:35:00.084543: I tensorflow/tsl/framework/bfc_allocator.cc:1046] Bin (16384): \tTotal Chunks: 22, Chunks in use: 22. 428.5KiB allocated for chunks. 428.5KiB in use in bin. 398.6KiB client-requested in use in bin.\n",
      "2023-06-15 19:35:00.084551: I tensorflow/tsl/framework/bfc_allocator.cc:1046] Bin (32768): \tTotal Chunks: 6, Chunks in use: 6. 222.2KiB allocated for chunks. 222.2KiB in use in bin. 213.0KiB client-requested in use in bin.\n",
      "2023-06-15 19:35:00.084559: I tensorflow/tsl/framework/bfc_allocator.cc:1046] Bin (65536): \tTotal Chunks: 2, Chunks in use: 1. 143.0KiB allocated for chunks. 72.0KiB in use in bin. 38.0KiB client-requested in use in bin.\n",
      "2023-06-15 19:35:00.084567: I tensorflow/tsl/framework/bfc_allocator.cc:1046] Bin (131072): \tTotal Chunks: 1, Chunks in use: 1. 156.2KiB allocated for chunks. 156.2KiB in use in bin. 156.2KiB client-requested in use in bin.\n",
      "2023-06-15 19:35:00.084574: I tensorflow/tsl/framework/bfc_allocator.cc:1046] Bin (262144): \tTotal Chunks: 8, Chunks in use: 7. 2.73MiB allocated for chunks. 2.33MiB in use in bin. 1.97MiB client-requested in use in bin.\n",
      "2023-06-15 19:35:00.084581: I tensorflow/tsl/framework/bfc_allocator.cc:1046] Bin (524288): \tTotal Chunks: 2, Chunks in use: 0. 1.70MiB allocated for chunks. 0B in use in bin. 0B client-requested in use in bin.\n",
      "2023-06-15 19:35:00.084589: I tensorflow/tsl/framework/bfc_allocator.cc:1046] Bin (1048576): \tTotal Chunks: 15, Chunks in use: 15. 19.33MiB allocated for chunks. 19.33MiB in use in bin. 17.21MiB client-requested in use in bin.\n",
      "2023-06-15 19:35:00.084598: I tensorflow/tsl/framework/bfc_allocator.cc:1046] Bin (2097152): \tTotal Chunks: 421, Chunks in use: 420. 918.09MiB allocated for chunks. 914.88MiB in use in bin. 850.08MiB client-requested in use in bin.\n",
      "2023-06-15 19:35:00.084607: I tensorflow/tsl/framework/bfc_allocator.cc:1046] Bin (4194304): \tTotal Chunks: 53, Chunks in use: 53. 258.58MiB allocated for chunks. 258.58MiB in use in bin. 242.12MiB client-requested in use in bin.\n",
      "2023-06-15 19:35:00.084615: I tensorflow/tsl/framework/bfc_allocator.cc:1046] Bin (8388608): \tTotal Chunks: 41, Chunks in use: 41. 445.22MiB allocated for chunks. 445.22MiB in use in bin. 422.24MiB client-requested in use in bin.\n",
      "2023-06-15 19:35:00.084623: I tensorflow/tsl/framework/bfc_allocator.cc:1046] Bin (16777216): \tTotal Chunks: 3, Chunks in use: 2. 54.75MiB allocated for chunks. 36.50MiB in use in bin. 20.82MiB client-requested in use in bin.\n",
      "2023-06-15 19:35:00.084630: I tensorflow/tsl/framework/bfc_allocator.cc:1046] Bin (33554432): \tTotal Chunks: 82, Chunks in use: 82. 3.22GiB allocated for chunks. 3.22GiB in use in bin. 2.94GiB client-requested in use in bin.\n",
      "2023-06-15 19:35:00.084638: I tensorflow/tsl/framework/bfc_allocator.cc:1046] Bin (67108864): \tTotal Chunks: 2, Chunks in use: 2. 136.88MiB allocated for chunks. 136.88MiB in use in bin. 73.00MiB client-requested in use in bin.\n",
      "2023-06-15 19:35:00.084645: I tensorflow/tsl/framework/bfc_allocator.cc:1046] Bin (134217728): \tTotal Chunks: 0, Chunks in use: 0. 0B allocated for chunks. 0B in use in bin. 0B client-requested in use in bin.\n",
      "2023-06-15 19:35:00.084655: I tensorflow/tsl/framework/bfc_allocator.cc:1046] Bin (268435456): \tTotal Chunks: 15, Chunks in use: 14. 10.10GiB allocated for chunks. 8.50GiB in use in bin. 8.37GiB client-requested in use in bin.\n",
      "2023-06-15 19:35:00.084663: I tensorflow/tsl/framework/bfc_allocator.cc:1062] Bin for 5.22GiB was 256.00MiB, Chunk State: \n",
      "2023-06-15 19:35:00.084678: I tensorflow/tsl/framework/bfc_allocator.cc:1068]   Size: 1.60GiB | Requested Size: 1.0KiB | in_use: 0 | bin_num: 20, prev:   Size: 36.50MiB | Requested Size: 36.50MiB | in_use: 1 | bin_num: -1, next:   Size: 4.79GiB | Requested Size: 4.79GiB | in_use: 1 | bin_num: -1\n",
      "2023-06-15 19:35:00.084684: I tensorflow/tsl/framework/bfc_allocator.cc:1075] Next region of size 16233529344\n",
      "2023-06-15 19:35:00.084694: I tensorflow/tsl/framework/bfc_allocator.cc:1095] InUse at 7fb150000000 of size 1280 next 1\n",
      "2023-06-15 19:35:00.084700: I tensorflow/tsl/framework/bfc_allocator.cc:1095] InUse at 7fb150000500 of size 256 next 2\n",
      "2023-06-15 19:35:00.084708: I tensorflow/tsl/framework/bfc_allocator.cc:1095] InUse at 7fb150000600 of size 256 next 3\n",
      "2023-06-15 19:35:00.084714: I tensorflow/tsl/framework/bfc_allocator.cc:1095] InUse at 7fb150000700 of size 256 next 4\n",
      "2023-06-15 19:35:00.084720: I tensorflow/tsl/framework/bfc_allocator.cc:1095] InUse at 7fb150000800 of size 256 next 5\n",
      "2023-06-15 19:35:00.084726: I tensorflow/tsl/framework/bfc_allocator.cc:1095] InUse at 7fb150000900 of size 256 next 6\n",
      "2023-06-15 19:35:00.084731: I tensorflow/tsl/framework/bfc_allocator.cc:1095] InUse at 7fb150000a00 of size 256 next 7\n",
      "2023-06-15 19:35:00.084737: I tensorflow/tsl/framework/bfc_allocator.cc:1095] InUse at 7fb150000b00 of size 256 next 8\n",
      "2023-06-15 19:35:00.084757: I tensorflow/tsl/framework/bfc_allocator.cc:1095] InUse at 7fb150000c00 of size 256 next 14\n",
      "2023-06-15 19:35:00.084763: I tensorflow/tsl/framework/bfc_allocator.cc:1095] InUse at 7fb150000d00 of size 256 next 10\n",
      "2023-06-15 19:35:00.084770: I tensorflow/tsl/framework/bfc_allocator.cc:1095] InUse at 7fb150000e00 of size 2097152 next 448\n",
      "2023-06-15 19:35:00.084780: I tensorflow/tsl/framework/bfc_allocator.cc:1095] InUse at 7fb150200e00 of size 4008192 next 12\n",
      "2023-06-15 19:35:00.084786: I tensorflow/tsl/framework/bfc_allocator.cc:1095] InUse at 7fb1505d3700 of size 4864 next 45\n",
      "2023-06-15 19:35:00.084793: I tensorflow/tsl/framework/bfc_allocator.cc:1095] InUse at 7fb1505d4a00 of size 1024 next 108\n",
      "2023-06-15 19:35:00.084821: I tensorflow/tsl/framework/bfc_allocator.cc:1095] InUse at 7fb1505d4e00 of size 1024 next 204\n",
      "2023-06-15 19:35:00.084828: I tensorflow/tsl/framework/bfc_allocator.cc:1095] InUse at 7fb1505d5200 of size 1024 next 209\n",
      "2023-06-15 19:35:00.084835: I tensorflow/tsl/framework/bfc_allocator.cc:1095] InUse at 7fb1505d5600 of size 1024 next 192\n",
      "2023-06-15 19:35:00.084842: I tensorflow/tsl/framework/bfc_allocator.cc:1095] InUse at 7fb1505d5a00 of size 1024 next 191\n",
      "2023-06-15 19:35:00.084848: I tensorflow/tsl/framework/bfc_allocator.cc:1095] InUse at 7fb1505d5e00 of size 1024 next 188\n",
      "2023-06-15 19:35:00.084854: I tensorflow/tsl/framework/bfc_allocator.cc:1095] InUse at 7fb1505d6200 of size 1280 next 26\n",
      "2023-06-15 19:35:00.084861: I tensorflow/tsl/framework/bfc_allocator.cc:1095] InUse at 7fb1505d6700 of size 4608 next 20\n",
      "2023-06-15 19:35:00.084867: I tensorflow/tsl/framework/bfc_allocator.cc:1095] InUse at 7fb1505d7900 of size 8960 next 9\n",
      "2023-06-15 19:35:00.084874: I tensorflow/tsl/framework/bfc_allocator.cc:1095] InUse at 7fb1505d9c00 of size 13056 next 13\n",
      "2023-06-15 19:35:00.084881: I tensorflow/tsl/framework/bfc_allocator.cc:1095] InUse at 7fb1505dcf00 of size 256 next 21\n",
      "2023-06-15 19:35:00.084901: I tensorflow/tsl/framework/bfc_allocator.cc:1095] InUse at 7fb1505dd000 of size 256 next 23\n",
      "2023-06-15 19:35:00.084908: I tensorflow/tsl/framework/bfc_allocator.cc:1095] InUse at 7fb1505dd100 of size 768 next 24\n",
      "2023-06-15 19:35:00.084916: I tensorflow/tsl/framework/bfc_allocator.cc:1095] InUse at 7fb1505dd400 of size 256 next 25\n",
      "2023-06-15 19:35:00.084923: I tensorflow/tsl/framework/bfc_allocator.cc:1095] InUse at 7fb1505dd500 of size 256 next 48\n",
      "2023-06-15 19:35:00.084929: I tensorflow/tsl/framework/bfc_allocator.cc:1095] InUse at 7fb1505dd600 of size 256 next 50\n",
      "2023-06-15 19:35:00.084935: I tensorflow/tsl/framework/bfc_allocator.cc:1095] InUse at 7fb1505dd700 of size 256 next 27\n",
      "2023-06-15 19:35:00.084942: I tensorflow/tsl/framework/bfc_allocator.cc:1095] InUse at 7fb1505dd800 of size 768 next 28\n",
      "2023-06-15 19:35:00.084948: I tensorflow/tsl/framework/bfc_allocator.cc:1095] InUse at 7fb1505ddb00 of size 256 next 30\n",
      "2023-06-15 19:35:00.084954: I tensorflow/tsl/framework/bfc_allocator.cc:1095] InUse at 7fb1505ddc00 of size 768 next 31\n",
      "2023-06-15 19:35:00.084960: I tensorflow/tsl/framework/bfc_allocator.cc:1095] InUse at 7fb1505ddf00 of size 256 next 32\n",
      "2023-06-15 19:35:00.084967: I tensorflow/tsl/framework/bfc_allocator.cc:1095] InUse at 7fb1505de000 of size 256 next 63\n",
      "2023-06-15 19:35:00.084973: I tensorflow/tsl/framework/bfc_allocator.cc:1095] InUse at 7fb1505de100 of size 256 next 64\n",
      "2023-06-15 19:35:00.084979: I tensorflow/tsl/framework/bfc_allocator.cc:1095] InUse at 7fb1505de200 of size 256 next 65\n",
      "2023-06-15 19:35:00.084986: I tensorflow/tsl/framework/bfc_allocator.cc:1095] InUse at 7fb1505de300 of size 256 next 66\n",
      "2023-06-15 19:35:00.084992: I tensorflow/tsl/framework/bfc_allocator.cc:1095] InUse at 7fb1505de400 of size 256 next 70\n",
      "2023-06-15 19:35:00.084998: I tensorflow/tsl/framework/bfc_allocator.cc:1095] InUse at 7fb1505de500 of size 1280 next 16\n",
      "2023-06-15 19:35:00.085005: I tensorflow/tsl/framework/bfc_allocator.cc:1095] InUse at 7fb1505dea00 of size 512 next 17\n",
      "2023-06-15 19:35:00.085011: I tensorflow/tsl/framework/bfc_allocator.cc:1095] InUse at 7fb1505dec00 of size 38912 next 22\n",
      "2023-06-15 19:35:00.085018: I tensorflow/tsl/framework/bfc_allocator.cc:1095] InUse at 7fb1505e8400 of size 35328 next 42\n",
      "2023-06-15 19:35:00.085025: I tensorflow/tsl/framework/bfc_allocator.cc:1095] InUse at 7fb1505f0e00 of size 43776 next 33\n",
      "2023-06-15 19:35:00.085031: I tensorflow/tsl/framework/bfc_allocator.cc:1095] InUse at 7fb1505fb900 of size 8192 next 587\n",
      "2023-06-15 19:35:00.085038: I tensorflow/tsl/framework/bfc_allocator.cc:1095] InUse at 7fb1505fd900 of size 8192 next 568\n",
      "2023-06-15 19:35:00.085044: I tensorflow/tsl/framework/bfc_allocator.cc:1095] InUse at 7fb1505ff900 of size 8192 next 555\n",
      "2023-06-15 19:35:00.085051: I tensorflow/tsl/framework/bfc_allocator.cc:1095] InUse at 7fb150601900 of size 8192 next 487\n",
      "2023-06-15 19:35:00.085057: I tensorflow/tsl/framework/bfc_allocator.cc:1095] InUse at 7fb150603900 of size 8192 next 552\n",
      "2023-06-15 19:35:00.085063: I tensorflow/tsl/framework/bfc_allocator.cc:1095] InUse at 7fb150605900 of size 8192 next 545\n",
      "2023-06-15 19:35:00.085070: I tensorflow/tsl/framework/bfc_allocator.cc:1095] InUse at 7fb150607900 of size 8192 next 460\n",
      "2023-06-15 19:35:00.085076: I tensorflow/tsl/framework/bfc_allocator.cc:1095] InUse at 7fb150609900 of size 8192 next 450\n",
      "2023-06-15 19:35:00.085082: I tensorflow/tsl/framework/bfc_allocator.cc:1095] InUse at 7fb15060b900 of size 8192 next 443\n",
      "2023-06-15 19:35:00.085088: I tensorflow/tsl/framework/bfc_allocator.cc:1095] InUse at 7fb15060d900 of size 9728 next 39\n",
      "2023-06-15 19:35:00.085095: I tensorflow/tsl/framework/bfc_allocator.cc:1095] InUse at 7fb15060ff00 of size 8192 next 62\n",
      "2023-06-15 19:35:00.085101: I tensorflow/tsl/framework/bfc_allocator.cc:1095] InUse at 7fb150611f00 of size 8192 next 77\n",
      "2023-06-15 19:35:00.085107: I tensorflow/tsl/framework/bfc_allocator.cc:1095] InUse at 7fb150613f00 of size 4094464 next 34\n",
      "2023-06-15 19:35:00.085114: I tensorflow/tsl/framework/bfc_allocator.cc:1095] InUse at 7fb1509fb900 of size 2097152 next 35\n",
      "2023-06-15 19:35:00.085120: I tensorflow/tsl/framework/bfc_allocator.cc:1095] InUse at 7fb150bfb900 of size 2097152 next 36\n",
      "2023-06-15 19:35:00.085128: I tensorflow/tsl/framework/bfc_allocator.cc:1095] InUse at 7fb150dfb900 of size 7077888 next 40\n",
      "2023-06-15 19:35:00.085136: I tensorflow/tsl/framework/bfc_allocator.cc:1095] InUse at 7fb1514bb900 of size 269174784 next 672\n",
      "2023-06-15 19:35:00.085143: I tensorflow/tsl/framework/bfc_allocator.cc:1095] InUse at 7fb161570100 of size 307200000 next 673\n",
      "2023-06-15 19:35:00.085150: I tensorflow/tsl/framework/bfc_allocator.cc:1095] InUse at 7fb173a68100 of size 11214848 next 1461\n",
      "2023-06-15 19:35:00.085156: I tensorflow/tsl/framework/bfc_allocator.cc:1095] InUse at 7fb17451a100 of size 4849664 next 1313\n",
      "2023-06-15 19:35:00.085163: I tensorflow/tsl/framework/bfc_allocator.cc:1095] InUse at 7fb1749ba100 of size 1401856 next 1296\n",
      "2023-06-15 19:35:00.085170: I tensorflow/tsl/framework/bfc_allocator.cc:1095] InUse at 7fb174b10500 of size 1401856 next 1436\n",
      "2023-06-15 19:35:00.085176: I tensorflow/tsl/framework/bfc_allocator.cc:1095] InUse at 7fb174c66900 of size 3561472 next 1449\n",
      "2023-06-15 19:35:00.085184: I tensorflow/tsl/framework/bfc_allocator.cc:1095] InUse at 7fb174fcc100 of size 2803712 next 1446\n",
      "2023-06-15 19:35:00.085192: I tensorflow/tsl/framework/bfc_allocator.cc:1095] InUse at 7fb175278900 of size 10913792 next 1300\n",
      "2023-06-15 19:35:00.085199: I tensorflow/tsl/framework/bfc_allocator.cc:1095] InUse at 7fb175ce1100 of size 13864960 next 1452\n",
      "2023-06-15 19:35:00.085205: I tensorflow/tsl/framework/bfc_allocator.cc:1095] InUse at 7fb176a1a100 of size 11214848 next 1448\n",
      "2023-06-15 19:35:00.085212: I tensorflow/tsl/framework/bfc_allocator.cc:1095] InUse at 7fb1774cc100 of size 38797312 next 1453\n",
      "2023-06-15 19:35:00.085220: I tensorflow/tsl/framework/bfc_allocator.cc:1095] InUse at 7fb1799cc100 of size 38797312 next 1150\n",
      "2023-06-15 19:35:00.085227: I tensorflow/tsl/framework/bfc_allocator.cc:1095] InUse at 7fb17becc100 of size 38273024 next 1442\n",
      "2023-06-15 19:35:00.085234: I tensorflow/tsl/framework/bfc_allocator.cc:1095] InUse at 7fb17e34c100 of size 55691264 next 43\n",
      "2023-06-15 19:35:00.085241: I tensorflow/tsl/framework/bfc_allocator.cc:1095] InUse at 7fb181868900 of size 256 next 72\n",
      "2023-06-15 19:35:00.085247: I tensorflow/tsl/framework/bfc_allocator.cc:1095] InUse at 7fb181868a00 of size 256 next 49\n",
      "2023-06-15 19:35:00.085254: I tensorflow/tsl/framework/bfc_allocator.cc:1095] InUse at 7fb181868b00 of size 10752 next 61\n",
      "2023-06-15 19:35:00.085261: I tensorflow/tsl/framework/bfc_allocator.cc:1095] InUse at 7fb18186b500 of size 1024 next 145\n",
      "2023-06-15 19:35:00.085268: I tensorflow/tsl/framework/bfc_allocator.cc:1095] InUse at 7fb18186b900 of size 256 next 970\n",
      "2023-06-15 19:35:00.085274: I tensorflow/tsl/framework/bfc_allocator.cc:1095] InUse at 7fb18186ba00 of size 256 next 1117\n",
      "2023-06-15 19:35:00.085281: I tensorflow/tsl/framework/bfc_allocator.cc:1095] Free  at 7fb18186bb00 of size 256 next 1118\n",
      "2023-06-15 19:35:00.085287: I tensorflow/tsl/framework/bfc_allocator.cc:1095] InUse at 7fb18186bc00 of size 256 next 142\n",
      "2023-06-15 19:35:00.085293: I tensorflow/tsl/framework/bfc_allocator.cc:1095] InUse at 7fb18186bd00 of size 1024 next 107\n",
      "2023-06-15 19:35:00.085301: I tensorflow/tsl/framework/bfc_allocator.cc:1095] InUse at 7fb18186c100 of size 1024 next 123\n",
      "2023-06-15 19:35:00.085307: I tensorflow/tsl/framework/bfc_allocator.cc:1095] InUse at 7fb18186c500 of size 1536 next 67\n",
      "2023-06-15 19:35:00.085314: I tensorflow/tsl/framework/bfc_allocator.cc:1095] InUse at 7fb18186cb00 of size 1024 next 44\n",
      "2023-06-15 19:35:00.085320: I tensorflow/tsl/framework/bfc_allocator.cc:1095] InUse at 7fb18186cf00 of size 256 next 68\n",
      "2023-06-15 19:35:00.085328: I tensorflow/tsl/framework/bfc_allocator.cc:1095] InUse at 7fb18186d000 of size 1024 next 76\n",
      "2023-06-15 19:35:00.085335: I tensorflow/tsl/framework/bfc_allocator.cc:1095] InUse at 7fb18186d400 of size 1024 next 674\n",
      "2023-06-15 19:35:00.085341: I tensorflow/tsl/framework/bfc_allocator.cc:1095] InUse at 7fb18186d800 of size 1024 next 52\n",
      "2023-06-15 19:35:00.085348: I tensorflow/tsl/framework/bfc_allocator.cc:1095] InUse at 7fb18186dc00 of size 1024 next 78\n",
      "2023-06-15 19:35:00.085354: I tensorflow/tsl/framework/bfc_allocator.cc:1095] InUse at 7fb18186e000 of size 256 next 79\n",
      "2023-06-15 19:35:00.085361: I tensorflow/tsl/framework/bfc_allocator.cc:1095] InUse at 7fb18186e100 of size 8192 next 93\n",
      "2023-06-15 19:35:00.085368: I tensorflow/tsl/framework/bfc_allocator.cc:1095] InUse at 7fb181870100 of size 8192 next 88\n",
      "2023-06-15 19:35:00.085374: I tensorflow/tsl/framework/bfc_allocator.cc:1095] InUse at 7fb181872100 of size 9216 next 97\n",
      "2023-06-15 19:35:00.085381: I tensorflow/tsl/framework/bfc_allocator.cc:1095] InUse at 7fb181874500 of size 9728 next 95\n",
      "2023-06-15 19:35:00.085399: I tensorflow/tsl/framework/bfc_allocator.cc:1095] InUse at 7fb181876b00 of size 1024 next 115\n",
      "2023-06-15 19:35:00.085407: I tensorflow/tsl/framework/bfc_allocator.cc:1095] InUse at 7fb181876f00 of size 1024 next 114\n",
      "2023-06-15 19:35:00.085413: I tensorflow/tsl/framework/bfc_allocator.cc:1095] InUse at 7fb181877300 of size 1024 next 112\n",
      "2023-06-15 19:35:00.085421: I tensorflow/tsl/framework/bfc_allocator.cc:1095] InUse at 7fb181877700 of size 1792 next 84\n",
      "2023-06-15 19:35:00.085429: I tensorflow/tsl/framework/bfc_allocator.cc:1095] InUse at 7fb181877e00 of size 1024 next 71\n",
      "2023-06-15 19:35:00.085435: I tensorflow/tsl/framework/bfc_allocator.cc:1095] InUse at 7fb181878200 of size 1024 next 682\n",
      "2023-06-15 19:35:00.085442: I tensorflow/tsl/framework/bfc_allocator.cc:1095] InUse at 7fb181878600 of size 1024 next 171\n",
      "2023-06-15 19:35:00.085448: I tensorflow/tsl/framework/bfc_allocator.cc:1095] InUse at 7fb181878a00 of size 1024 next 686\n",
      "2023-06-15 19:35:00.085455: I tensorflow/tsl/framework/bfc_allocator.cc:1095] InUse at 7fb181878e00 of size 1024 next 687\n",
      "2023-06-15 19:35:00.085462: I tensorflow/tsl/framework/bfc_allocator.cc:1095] InUse at 7fb181879200 of size 1024 next 177\n",
      "2023-06-15 19:35:00.085468: I tensorflow/tsl/framework/bfc_allocator.cc:1095] InUse at 7fb181879600 of size 1024 next 176\n",
      "2023-06-15 19:35:00.085475: I tensorflow/tsl/framework/bfc_allocator.cc:1095] InUse at 7fb181879a00 of size 1024 next 154\n",
      "2023-06-15 19:35:00.085481: I tensorflow/tsl/framework/bfc_allocator.cc:1095] InUse at 7fb181879e00 of size 1024 next 147\n",
      "2023-06-15 19:35:00.085488: I tensorflow/tsl/framework/bfc_allocator.cc:1095] InUse at 7fb18187a200 of size 1024 next 151\n",
      "2023-06-15 19:35:00.085494: I tensorflow/tsl/framework/bfc_allocator.cc:1095] InUse at 7fb18187a600 of size 1536 next 128\n",
      "2023-06-15 19:35:00.085502: I tensorflow/tsl/framework/bfc_allocator.cc:1095] InUse at 7fb18187ac00 of size 1024 next 127\n",
      "2023-06-15 19:35:00.085508: I tensorflow/tsl/framework/bfc_allocator.cc:1095] InUse at 7fb18187b000 of size 1024 next 117\n",
      "2023-06-15 19:35:00.085515: I tensorflow/tsl/framework/bfc_allocator.cc:1095] InUse at 7fb18187b400 of size 1024 next 140\n",
      "2023-06-15 19:35:00.085521: I tensorflow/tsl/framework/bfc_allocator.cc:1095] InUse at 7fb18187b800 of size 1024 next 143\n",
      "2023-06-15 19:35:00.085528: I tensorflow/tsl/framework/bfc_allocator.cc:1095] InUse at 7fb18187bc00 of size 1024 next 149\n",
      "2023-06-15 19:35:00.085534: I tensorflow/tsl/framework/bfc_allocator.cc:1095] InUse at 7fb18187c000 of size 8192 next 104\n",
      "2023-06-15 19:35:00.085542: I tensorflow/tsl/framework/bfc_allocator.cc:1095] InUse at 7fb18187e000 of size 15104 next 109\n",
      "2023-06-15 19:35:00.085548: I tensorflow/tsl/framework/bfc_allocator.cc:1095] InUse at 7fb181881b00 of size 8192 next 113\n",
      "2023-06-15 19:35:00.085555: I tensorflow/tsl/framework/bfc_allocator.cc:1095] InUse at 7fb181883b00 of size 8192 next 132\n",
      "2023-06-15 19:35:00.085570: I tensorflow/tsl/framework/bfc_allocator.cc:1095] InUse at 7fb181885b00 of size 8192 next 81\n",
      "2023-06-15 19:35:00.085577: I tensorflow/tsl/framework/bfc_allocator.cc:1095] InUse at 7fb181887b00 of size 10240 next 124\n",
      "2023-06-15 19:35:00.085584: I tensorflow/tsl/framework/bfc_allocator.cc:1095] InUse at 7fb18188a300 of size 8192 next 125\n",
      "2023-06-15 19:35:00.085590: I tensorflow/tsl/framework/bfc_allocator.cc:1095] InUse at 7fb18188c300 of size 1024 next 87\n",
      "2023-06-15 19:35:00.085597: I tensorflow/tsl/framework/bfc_allocator.cc:1095] InUse at 7fb18188c700 of size 1024 next 133\n",
      "2023-06-15 19:35:00.085604: I tensorflow/tsl/framework/bfc_allocator.cc:1095] InUse at 7fb18188cb00 of size 1024 next 226\n",
      "2023-06-15 19:35:00.085611: I tensorflow/tsl/framework/bfc_allocator.cc:1095] InUse at 7fb18188cf00 of size 1024 next 240\n",
      "2023-06-15 19:35:00.085617: I tensorflow/tsl/framework/bfc_allocator.cc:1095] InUse at 7fb18188d300 of size 1024 next 186\n",
      "2023-06-15 19:35:00.085624: I tensorflow/tsl/framework/bfc_allocator.cc:1095] InUse at 7fb18188d700 of size 1024 next 236\n",
      "2023-06-15 19:35:00.085630: I tensorflow/tsl/framework/bfc_allocator.cc:1095] InUse at 7fb18188db00 of size 1024 next 214\n",
      "2023-06-15 19:35:00.085656: I tensorflow/tsl/framework/bfc_allocator.cc:1095] InUse at 7fb18188df00 of size 1024 next 231\n",
      "2023-06-15 19:35:00.085663: I tensorflow/tsl/framework/bfc_allocator.cc:1095] InUse at 7fb18188e300 of size 1536 next 129\n",
      "2023-06-15 19:35:00.085683: I tensorflow/tsl/framework/bfc_allocator.cc:1095] InUse at 7fb18188e900 of size 1024 next 160\n",
      "2023-06-15 19:35:00.085689: I tensorflow/tsl/framework/bfc_allocator.cc:1095] InUse at 7fb18188ed00 of size 1024 next 159\n",
      "2023-06-15 19:35:00.085695: I tensorflow/tsl/framework/bfc_allocator.cc:1095] InUse at 7fb18188f100 of size 8192 next 158\n",
      "2023-06-15 19:35:00.085701: I tensorflow/tsl/framework/bfc_allocator.cc:1095] InUse at 7fb181891100 of size 8192 next 164\n",
      "2023-06-15 19:35:00.085706: I tensorflow/tsl/framework/bfc_allocator.cc:1095] InUse at 7fb181893100 of size 1024 next 172\n",
      "2023-06-15 19:35:00.085713: I tensorflow/tsl/framework/bfc_allocator.cc:1095] InUse at 7fb181893500 of size 1024 next 175\n",
      "2023-06-15 19:35:00.085718: I tensorflow/tsl/framework/bfc_allocator.cc:1095] InUse at 7fb181893900 of size 8960 next 141\n",
      "2023-06-15 19:35:00.085725: I tensorflow/tsl/framework/bfc_allocator.cc:1095] InUse at 7fb181895c00 of size 8192 next 150\n",
      "2023-06-15 19:35:00.085730: I tensorflow/tsl/framework/bfc_allocator.cc:1095] InUse at 7fb181897c00 of size 8192 next 103\n",
      "2023-06-15 19:35:00.085736: I tensorflow/tsl/framework/bfc_allocator.cc:1095] InUse at 7fb181899c00 of size 8192 next 80\n",
      "2023-06-15 19:35:00.085742: I tensorflow/tsl/framework/bfc_allocator.cc:1095] InUse at 7fb18189bc00 of size 9216 next 156\n",
      "2023-06-15 19:35:00.085747: I tensorflow/tsl/framework/bfc_allocator.cc:1095] InUse at 7fb18189e000 of size 8192 next 157\n",
      "2023-06-15 19:35:00.085754: I tensorflow/tsl/framework/bfc_allocator.cc:1095] InUse at 7fb1818a0000 of size 1024 next 105\n",
      "2023-06-15 19:35:00.085759: I tensorflow/tsl/framework/bfc_allocator.cc:1095] InUse at 7fb1818a0400 of size 1024 next 165\n",
      "2023-06-15 19:35:00.085765: I tensorflow/tsl/framework/bfc_allocator.cc:1095] InUse at 7fb1818a0800 of size 1024 next 184\n",
      "2023-06-15 19:35:00.085770: I tensorflow/tsl/framework/bfc_allocator.cc:1095] InUse at 7fb1818a0c00 of size 1024 next 167\n",
      "2023-06-15 19:35:00.085776: I tensorflow/tsl/framework/bfc_allocator.cc:1095] InUse at 7fb1818a1000 of size 1024 next 234\n",
      "2023-06-15 19:35:00.085782: I tensorflow/tsl/framework/bfc_allocator.cc:1095] InUse at 7fb1818a1400 of size 1024 next 220\n",
      "2023-06-15 19:35:00.085787: I tensorflow/tsl/framework/bfc_allocator.cc:1095] InUse at 7fb1818a1800 of size 1024 next 197\n",
      "2023-06-15 19:35:00.085793: I tensorflow/tsl/framework/bfc_allocator.cc:1095] InUse at 7fb1818a1c00 of size 1024 next 210\n",
      "2023-06-15 19:35:00.085800: I tensorflow/tsl/framework/bfc_allocator.cc:1095] InUse at 7fb1818a2000 of size 1536 next 161\n",
      "2023-06-15 19:35:00.085806: I tensorflow/tsl/framework/bfc_allocator.cc:1095] InUse at 7fb1818a2600 of size 256 next 179\n",
      "2023-06-15 19:35:00.085811: I tensorflow/tsl/framework/bfc_allocator.cc:1095] InUse at 7fb1818a2700 of size 1024 next 278\n",
      "2023-06-15 19:35:00.085817: I tensorflow/tsl/framework/bfc_allocator.cc:1095] InUse at 7fb1818a2b00 of size 1024 next 252\n",
      "2023-06-15 19:35:00.085838: I tensorflow/tsl/framework/bfc_allocator.cc:1095] InUse at 7fb1818a2f00 of size 1024 next 276\n",
      "2023-06-15 19:35:00.085859: I tensorflow/tsl/framework/bfc_allocator.cc:1095] InUse at 7fb1818a3300 of size 1536 next 162\n",
      "2023-06-15 19:35:00.085866: I tensorflow/tsl/framework/bfc_allocator.cc:1095] InUse at 7fb1818a3900 of size 8192 next 96\n",
      "2023-06-15 19:35:00.085873: I tensorflow/tsl/framework/bfc_allocator.cc:1095] InUse at 7fb1818a5900 of size 8192 next 92\n",
      "2023-06-15 19:35:00.085879: I tensorflow/tsl/framework/bfc_allocator.cc:1095] InUse at 7fb1818a7900 of size 8192 next 173\n",
      "2023-06-15 19:35:00.085886: I tensorflow/tsl/framework/bfc_allocator.cc:1095] InUse at 7fb1818a9900 of size 8192 next 174\n",
      "2023-06-15 19:35:00.085892: I tensorflow/tsl/framework/bfc_allocator.cc:1095] InUse at 7fb1818ab900 of size 1024 next 178\n",
      "2023-06-15 19:35:00.085898: I tensorflow/tsl/framework/bfc_allocator.cc:1095] InUse at 7fb1818abd00 of size 8192 next 215\n",
      "2023-06-15 19:35:00.085905: I tensorflow/tsl/framework/bfc_allocator.cc:1095] InUse at 7fb1818add00 of size 8192 next 259\n",
      "2023-06-15 19:35:00.085912: I tensorflow/tsl/framework/bfc_allocator.cc:1095] InUse at 7fb1818afd00 of size 8192 next 256\n",
      "2023-06-15 19:35:00.085920: I tensorflow/tsl/framework/bfc_allocator.cc:1095] InUse at 7fb1818b1d00 of size 11264 next 194\n",
      "2023-06-15 19:35:00.085927: I tensorflow/tsl/framework/bfc_allocator.cc:1095] InUse at 7fb1818b4900 of size 1024 next 206\n",
      "2023-06-15 19:35:00.085934: I tensorflow/tsl/framework/bfc_allocator.cc:1095] InUse at 7fb1818b4d00 of size 8192 next 230\n",
      "2023-06-15 19:35:00.085940: I tensorflow/tsl/framework/bfc_allocator.cc:1095] InUse at 7fb1818b6d00 of size 1024 next 232\n",
      "2023-06-15 19:35:00.085946: I tensorflow/tsl/framework/bfc_allocator.cc:1095] InUse at 7fb1818b7100 of size 1024 next 224\n",
      "2023-06-15 19:35:00.085953: I tensorflow/tsl/framework/bfc_allocator.cc:1095] InUse at 7fb1818b7500 of size 12800 next 207\n",
      "2023-06-15 19:35:00.085960: I tensorflow/tsl/framework/bfc_allocator.cc:1095] InUse at 7fb1818ba700 of size 9216 next 189\n",
      "2023-06-15 19:35:00.085967: I tensorflow/tsl/framework/bfc_allocator.cc:1095] InUse at 7fb1818bcb00 of size 1024 next 284\n",
      "2023-06-15 19:35:00.085974: I tensorflow/tsl/framework/bfc_allocator.cc:1095] InUse at 7fb1818bcf00 of size 1024 next 338\n",
      "2023-06-15 19:35:00.085981: I tensorflow/tsl/framework/bfc_allocator.cc:1095] InUse at 7fb1818bd300 of size 1024 next 311\n",
      "2023-06-15 19:35:00.085987: I tensorflow/tsl/framework/bfc_allocator.cc:1095] InUse at 7fb1818bd700 of size 1024 next 337\n",
      "2023-06-15 19:35:00.085994: I tensorflow/tsl/framework/bfc_allocator.cc:1095] InUse at 7fb1818bdb00 of size 8192 next 47\n",
      "2023-06-15 19:35:00.086001: I tensorflow/tsl/framework/bfc_allocator.cc:1095] InUse at 7fb1818bfb00 of size 1024 next 312\n",
      "2023-06-15 19:35:00.086019: I tensorflow/tsl/framework/bfc_allocator.cc:1095] InUse at 7fb1818bff00 of size 1024 next 326\n",
      "2023-06-15 19:35:00.086025: I tensorflow/tsl/framework/bfc_allocator.cc:1095] InUse at 7fb1818c0300 of size 1024 next 317\n",
      "2023-06-15 19:35:00.086033: I tensorflow/tsl/framework/bfc_allocator.cc:1095] InUse at 7fb1818c0700 of size 1024 next 325\n",
      "2023-06-15 19:35:00.086038: I tensorflow/tsl/framework/bfc_allocator.cc:1095] InUse at 7fb1818c0b00 of size 8192 next 327\n",
      "2023-06-15 19:35:00.086046: I tensorflow/tsl/framework/bfc_allocator.cc:1095] InUse at 7fb1818c2b00 of size 8192 next 313\n",
      "2023-06-15 19:35:00.086052: I tensorflow/tsl/framework/bfc_allocator.cc:1095] InUse at 7fb1818c4b00 of size 8704 next 306\n",
      "2023-06-15 19:35:00.086067: I tensorflow/tsl/framework/bfc_allocator.cc:1095] InUse at 7fb1818c6d00 of size 1024 next 347\n",
      "2023-06-15 19:35:00.086074: I tensorflow/tsl/framework/bfc_allocator.cc:1095] InUse at 7fb1818c7100 of size 1024 next 320\n",
      "2023-06-15 19:35:00.086080: I tensorflow/tsl/framework/bfc_allocator.cc:1095] InUse at 7fb1818c7500 of size 1024 next 339\n",
      "2023-06-15 19:35:00.086087: I tensorflow/tsl/framework/bfc_allocator.cc:1095] InUse at 7fb1818c7900 of size 1280 next 319\n",
      "2023-06-15 19:35:00.086093: I tensorflow/tsl/framework/bfc_allocator.cc:1095] InUse at 7fb1818c7e00 of size 8192 next 309\n",
      "2023-06-15 19:35:00.086100: I tensorflow/tsl/framework/bfc_allocator.cc:1095] InUse at 7fb1818c9e00 of size 8192 next 346\n",
      "2023-06-15 19:35:00.086106: I tensorflow/tsl/framework/bfc_allocator.cc:1095] InUse at 7fb1818cbe00 of size 1024 next 106\n",
      "2023-06-15 19:35:00.086113: I tensorflow/tsl/framework/bfc_allocator.cc:1095] InUse at 7fb1818cc200 of size 1024 next 348\n",
      "2023-06-15 19:35:00.086120: I tensorflow/tsl/framework/bfc_allocator.cc:1095] InUse at 7fb1818cc600 of size 8960 next 227\n",
      "2023-06-15 19:35:00.086127: I tensorflow/tsl/framework/bfc_allocator.cc:1095] InUse at 7fb1818ce900 of size 8192 next 235\n",
      "2023-06-15 19:35:00.086133: I tensorflow/tsl/framework/bfc_allocator.cc:1095] InUse at 7fb1818d0900 of size 1024 next 213\n",
      "2023-06-15 19:35:00.086140: I tensorflow/tsl/framework/bfc_allocator.cc:1095] InUse at 7fb1818d0d00 of size 12032 next 228\n",
      "2023-06-15 19:35:00.086147: I tensorflow/tsl/framework/bfc_allocator.cc:1095] InUse at 7fb1818d3c00 of size 14592 next 254\n",
      "2023-06-15 19:35:00.086153: I tensorflow/tsl/framework/bfc_allocator.cc:1095] InUse at 7fb1818d7500 of size 1024 next 266\n",
      "2023-06-15 19:35:00.086160: I tensorflow/tsl/framework/bfc_allocator.cc:1095] InUse at 7fb1818d7900 of size 8192 next 201\n",
      "2023-06-15 19:35:00.086167: I tensorflow/tsl/framework/bfc_allocator.cc:1095] InUse at 7fb1818d9900 of size 13824 next 267\n",
      "2023-06-15 19:35:00.086174: I tensorflow/tsl/framework/bfc_allocator.cc:1095] InUse at 7fb1818dcf00 of size 10240 next 222\n",
      "2023-06-15 19:35:00.086181: I tensorflow/tsl/framework/bfc_allocator.cc:1095] InUse at 7fb1818df700 of size 8192 next 265\n",
      "2023-06-15 19:35:00.086188: I tensorflow/tsl/framework/bfc_allocator.cc:1095] InUse at 7fb1818e1700 of size 1024 next 261\n",
      "2023-06-15 19:35:00.086193: I tensorflow/tsl/framework/bfc_allocator.cc:1095] InUse at 7fb1818e1b00 of size 1024 next 255\n",
      "2023-06-15 19:35:00.086200: I tensorflow/tsl/framework/bfc_allocator.cc:1095] InUse at 7fb1818e1f00 of size 8192 next 251\n",
      "2023-06-15 19:35:00.086206: I tensorflow/tsl/framework/bfc_allocator.cc:1095] InUse at 7fb1818e3f00 of size 1024 next 304\n",
      "2023-06-15 19:35:00.086213: I tensorflow/tsl/framework/bfc_allocator.cc:1095] InUse at 7fb1818e4300 of size 1024 next 296\n",
      "2023-06-15 19:35:00.086220: I tensorflow/tsl/framework/bfc_allocator.cc:1095] InUse at 7fb1818e4700 of size 1024 next 336\n",
      "2023-06-15 19:35:00.086226: I tensorflow/tsl/framework/bfc_allocator.cc:1095] InUse at 7fb1818e4b00 of size 1024 next 723\n",
      "2023-06-15 19:35:00.086233: I tensorflow/tsl/framework/bfc_allocator.cc:1095] InUse at 7fb1818e4f00 of size 1024 next 619\n",
      "2023-06-15 19:35:00.086240: I tensorflow/tsl/framework/bfc_allocator.cc:1095] InUse at 7fb1818e5300 of size 1024 next 598\n",
      "2023-06-15 19:35:00.086246: I tensorflow/tsl/framework/bfc_allocator.cc:1095] InUse at 7fb1818e5700 of size 1024 next 590\n",
      "2023-06-15 19:35:00.086254: I tensorflow/tsl/framework/bfc_allocator.cc:1095] InUse at 7fb1818e5b00 of size 1536 next 295\n",
      "2023-06-15 19:35:00.086259: I tensorflow/tsl/framework/bfc_allocator.cc:1095] InUse at 7fb1818e6100 of size 1024 next 310\n",
      "2023-06-15 19:35:00.086266: I tensorflow/tsl/framework/bfc_allocator.cc:1095] InUse at 7fb1818e6500 of size 1024 next 340\n",
      "2023-06-15 19:35:00.086273: I tensorflow/tsl/framework/bfc_allocator.cc:1095] InUse at 7fb1818e6900 of size 1024 next 352\n",
      "2023-06-15 19:35:00.086279: I tensorflow/tsl/framework/bfc_allocator.cc:1095] InUse at 7fb1818e6d00 of size 1280 next 308\n",
      "2023-06-15 19:35:00.086286: I tensorflow/tsl/framework/bfc_allocator.cc:1095] InUse at 7fb1818e7200 of size 10496 next 287\n",
      "2023-06-15 19:35:00.086292: I tensorflow/tsl/framework/bfc_allocator.cc:1095] InUse at 7fb1818e9b00 of size 1024 next 300\n",
      "2023-06-15 19:35:00.086299: I tensorflow/tsl/framework/bfc_allocator.cc:1095] InUse at 7fb1818e9f00 of size 8192 next 200\n",
      "2023-06-15 19:35:00.086306: I tensorflow/tsl/framework/bfc_allocator.cc:1095] InUse at 7fb1818ebf00 of size 13824 next 297\n",
      "2023-06-15 19:35:00.086312: I tensorflow/tsl/framework/bfc_allocator.cc:1095] InUse at 7fb1818ef500 of size 10240 next 282\n",
      "2023-06-15 19:35:00.086319: I tensorflow/tsl/framework/bfc_allocator.cc:1095] InUse at 7fb1818f1d00 of size 8192 next 275\n",
      "2023-06-15 19:35:00.086325: I tensorflow/tsl/framework/bfc_allocator.cc:1095] InUse at 7fb1818f3d00 of size 8192 next 301\n",
      "2023-06-15 19:35:00.086332: I tensorflow/tsl/framework/bfc_allocator.cc:1095] InUse at 7fb1818f5d00 of size 8192 next 272\n",
      "2023-06-15 19:35:00.086338: I tensorflow/tsl/framework/bfc_allocator.cc:1095] InUse at 7fb1818f7d00 of size 8192 next 283\n",
      "2023-06-15 19:35:00.086345: I tensorflow/tsl/framework/bfc_allocator.cc:1095] InUse at 7fb1818f9d00 of size 1024 next 274\n",
      "2023-06-15 19:35:00.086352: I tensorflow/tsl/framework/bfc_allocator.cc:1095] InUse at 7fb1818fa100 of size 8192 next 302\n",
      "2023-06-15 19:35:00.086359: I tensorflow/tsl/framework/bfc_allocator.cc:1095] InUse at 7fb1818fc100 of size 1024 next 316\n",
      "2023-06-15 19:35:00.086364: I tensorflow/tsl/framework/bfc_allocator.cc:1095] InUse at 7fb1818fc500 of size 8192 next 190\n",
      "2023-06-15 19:35:00.086371: I tensorflow/tsl/framework/bfc_allocator.cc:1095] InUse at 7fb1818fe500 of size 13824 next 328\n",
      "2023-06-15 19:35:00.086378: I tensorflow/tsl/framework/bfc_allocator.cc:1095] InUse at 7fb181901b00 of size 10240 next 314\n",
      "2023-06-15 19:35:00.086384: I tensorflow/tsl/framework/bfc_allocator.cc:1095] InUse at 7fb181904300 of size 8192 next 218\n",
      "2023-06-15 19:35:00.086391: I tensorflow/tsl/framework/bfc_allocator.cc:1095] InUse at 7fb181906300 of size 8704 next 329\n",
      "2023-06-15 19:35:00.086397: I tensorflow/tsl/framework/bfc_allocator.cc:1095] InUse at 7fb181908500 of size 1024 next 445\n",
      "2023-06-15 19:35:00.086404: I tensorflow/tsl/framework/bfc_allocator.cc:1095] InUse at 7fb181908900 of size 1024 next 449\n",
      "2023-06-15 19:35:00.086411: I tensorflow/tsl/framework/bfc_allocator.cc:1095] InUse at 7fb181908d00 of size 1024 next 403\n",
      "2023-06-15 19:35:00.086418: I tensorflow/tsl/framework/bfc_allocator.cc:1095] InUse at 7fb181909100 of size 1024 next 427\n",
      "2023-06-15 19:35:00.086424: I tensorflow/tsl/framework/bfc_allocator.cc:1095] InUse at 7fb181909500 of size 1536 next 334\n",
      "2023-06-15 19:35:00.086430: I tensorflow/tsl/framework/bfc_allocator.cc:1095] InUse at 7fb181909b00 of size 8192 next 216\n",
      "2023-06-15 19:35:00.086436: I tensorflow/tsl/framework/bfc_allocator.cc:1095] InUse at 7fb18190bb00 of size 11264 next 344\n",
      "2023-06-15 19:35:00.086443: I tensorflow/tsl/framework/bfc_allocator.cc:1095] InUse at 7fb18190e700 of size 1024 next 359\n",
      "2023-06-15 19:35:00.086450: I tensorflow/tsl/framework/bfc_allocator.cc:1095] InUse at 7fb18190eb00 of size 8192 next 247\n",
      "2023-06-15 19:35:00.086456: I tensorflow/tsl/framework/bfc_allocator.cc:1095] InUse at 7fb181910b00 of size 13824 next 358\n",
      "2023-06-15 19:35:00.086463: I tensorflow/tsl/framework/bfc_allocator.cc:1095] InUse at 7fb181914100 of size 8192 next 470\n",
      "2023-06-15 19:35:00.086469: I tensorflow/tsl/framework/bfc_allocator.cc:1095] InUse at 7fb181916100 of size 8192 next 38\n",
      "2023-06-15 19:35:00.086476: I tensorflow/tsl/framework/bfc_allocator.cc:1095] InUse at 7fb181918100 of size 8192 next 437\n",
      "2023-06-15 19:35:00.086482: I tensorflow/tsl/framework/bfc_allocator.cc:1095] InUse at 7fb18191a100 of size 13056 next 195\n",
      "2023-06-15 19:35:00.086489: I tensorflow/tsl/framework/bfc_allocator.cc:1095] InUse at 7fb18191d400 of size 1024 next 707\n",
      "2023-06-15 19:35:00.086495: I tensorflow/tsl/framework/bfc_allocator.cc:1095] InUse at 7fb18191d800 of size 1024 next 719\n",
      "2023-06-15 19:35:00.086502: I tensorflow/tsl/framework/bfc_allocator.cc:1095] InUse at 7fb18191dc00 of size 1024 next 715\n",
      "2023-06-15 19:35:00.086509: I tensorflow/tsl/framework/bfc_allocator.cc:1095] InUse at 7fb18191e000 of size 1280 next 365\n",
      "2023-06-15 19:35:00.086526: I tensorflow/tsl/framework/bfc_allocator.cc:1095] InUse at 7fb18191e500 of size 1024 next 74\n",
      "2023-06-15 19:35:00.086532: I tensorflow/tsl/framework/bfc_allocator.cc:1095] InUse at 7fb18191e900 of size 1024 next 762\n",
      "2023-06-15 19:35:00.086538: I tensorflow/tsl/framework/bfc_allocator.cc:1095] InUse at 7fb18191ed00 of size 1024 next 754\n",
      "2023-06-15 19:35:00.086545: I tensorflow/tsl/framework/bfc_allocator.cc:1095] InUse at 7fb18191f100 of size 1024 next 758\n",
      "2023-06-15 19:35:00.086552: I tensorflow/tsl/framework/bfc_allocator.cc:1095] InUse at 7fb18191f500 of size 1536 next 198\n",
      "2023-06-15 19:35:00.086558: I tensorflow/tsl/framework/bfc_allocator.cc:1095] InUse at 7fb18191fb00 of size 1024 next 737\n",
      "2023-06-15 19:35:00.086565: I tensorflow/tsl/framework/bfc_allocator.cc:1095] InUse at 7fb18191ff00 of size 1024 next 383\n",
      "2023-06-15 19:35:00.086571: I tensorflow/tsl/framework/bfc_allocator.cc:1095] InUse at 7fb181920300 of size 1024 next 520\n",
      "2023-06-15 19:35:00.086578: I tensorflow/tsl/framework/bfc_allocator.cc:1095] InUse at 7fb181920700 of size 1024 next 642\n",
      "2023-06-15 19:35:00.086584: I tensorflow/tsl/framework/bfc_allocator.cc:1095] InUse at 7fb181920b00 of size 1024 next 605\n",
      "2023-06-15 19:35:00.086591: I tensorflow/tsl/framework/bfc_allocator.cc:1095] InUse at 7fb181920f00 of size 1024 next 503\n",
      "2023-06-15 19:35:00.086600: I tensorflow/tsl/framework/bfc_allocator.cc:1095] InUse at 7fb181921300 of size 1280 next 333\n",
      "2023-06-15 19:35:00.086606: I tensorflow/tsl/framework/bfc_allocator.cc:1095] InUse at 7fb181921800 of size 8192 next 709\n",
      "2023-06-15 19:35:00.086613: I tensorflow/tsl/framework/bfc_allocator.cc:1095] InUse at 7fb181923800 of size 8192 next 712\n",
      "2023-06-15 19:35:00.086619: I tensorflow/tsl/framework/bfc_allocator.cc:1095] InUse at 7fb181925800 of size 8192 next 714\n",
      "2023-06-15 19:35:00.086627: I tensorflow/tsl/framework/bfc_allocator.cc:1095] InUse at 7fb181927800 of size 1024 next 716\n",
      "2023-06-15 19:35:00.086633: I tensorflow/tsl/framework/bfc_allocator.cc:1095] InUse at 7fb181927c00 of size 1024 next 722\n",
      "2023-06-15 19:35:00.086640: I tensorflow/tsl/framework/bfc_allocator.cc:1095] InUse at 7fb181928000 of size 8192 next 721\n",
      "2023-06-15 19:35:00.086646: I tensorflow/tsl/framework/bfc_allocator.cc:1095] InUse at 7fb18192a000 of size 1024 next 725\n",
      "2023-06-15 19:35:00.086653: I tensorflow/tsl/framework/bfc_allocator.cc:1095] InUse at 7fb18192a400 of size 1024 next 727\n",
      "2023-06-15 19:35:00.086659: I tensorflow/tsl/framework/bfc_allocator.cc:1095] InUse at 7fb18192a800 of size 1024 next 728\n",
      "2023-06-15 19:35:00.086666: I tensorflow/tsl/framework/bfc_allocator.cc:1095] InUse at 7fb18192ac00 of size 1024 next 729\n",
      "2023-06-15 19:35:00.086672: I tensorflow/tsl/framework/bfc_allocator.cc:1095] InUse at 7fb18192b000 of size 8192 next 724\n",
      "2023-06-15 19:35:00.086679: I tensorflow/tsl/framework/bfc_allocator.cc:1095] InUse at 7fb18192d000 of size 8192 next 732\n",
      "2023-06-15 19:35:00.086685: I tensorflow/tsl/framework/bfc_allocator.cc:1095] InUse at 7fb18192f000 of size 8192 next 734\n",
      "2023-06-15 19:35:00.086692: I tensorflow/tsl/framework/bfc_allocator.cc:1095] InUse at 7fb181931000 of size 8192 next 736\n",
      "2023-06-15 19:35:00.086699: I tensorflow/tsl/framework/bfc_allocator.cc:1095] InUse at 7fb181933000 of size 1024 next 726\n",
      "2023-06-15 19:35:00.086706: I tensorflow/tsl/framework/bfc_allocator.cc:1095] InUse at 7fb181933400 of size 1024 next 739\n",
      "2023-06-15 19:35:00.086711: I tensorflow/tsl/framework/bfc_allocator.cc:1095] InUse at 7fb181933800 of size 1024 next 746\n",
      "2023-06-15 19:35:00.086718: I tensorflow/tsl/framework/bfc_allocator.cc:1095] InUse at 7fb181933c00 of size 1024 next 747\n",
      "2023-06-15 19:35:00.086724: I tensorflow/tsl/framework/bfc_allocator.cc:1095] InUse at 7fb181934000 of size 1024 next 748\n",
      "2023-06-15 19:35:00.086732: I tensorflow/tsl/framework/bfc_allocator.cc:1095] InUse at 7fb181934400 of size 9472 next 745\n",
      "2023-06-15 19:35:00.086738: I tensorflow/tsl/framework/bfc_allocator.cc:1095] InUse at 7fb181936900 of size 8192 next 751\n",
      "2023-06-15 19:35:00.086745: I tensorflow/tsl/framework/bfc_allocator.cc:1095] InUse at 7fb181938900 of size 8192 next 752\n",
      "2023-06-15 19:35:00.086751: I tensorflow/tsl/framework/bfc_allocator.cc:1095] InUse at 7fb18193a900 of size 8192 next 756\n",
      "2023-06-15 19:35:00.086758: I tensorflow/tsl/framework/bfc_allocator.cc:1095] InUse at 7fb18193c900 of size 8192 next 760\n",
      "2023-06-15 19:35:00.086765: I tensorflow/tsl/framework/bfc_allocator.cc:1095] InUse at 7fb18193e900 of size 1024 next 759\n",
      "2023-06-15 19:35:00.086795: I tensorflow/tsl/framework/bfc_allocator.cc:1095] InUse at 7fb18193ed00 of size 1024 next 764\n",
      "2023-06-15 19:35:00.086812: I tensorflow/tsl/framework/bfc_allocator.cc:1095] InUse at 7fb18193f100 of size 8192 next 757\n",
      "2023-06-15 19:35:00.086819: I tensorflow/tsl/framework/bfc_allocator.cc:1095] InUse at 7fb181941100 of size 8192 next 768\n",
      "2023-06-15 19:35:00.086825: I tensorflow/tsl/framework/bfc_allocator.cc:1095] InUse at 7fb181943100 of size 1024 next 774\n",
      "2023-06-15 19:35:00.086832: I tensorflow/tsl/framework/bfc_allocator.cc:1095] InUse at 7fb181943500 of size 8960 next 772\n",
      "2023-06-15 19:35:00.086838: I tensorflow/tsl/framework/bfc_allocator.cc:1095] InUse at 7fb181945800 of size 1024 next 795\n",
      "2023-06-15 19:35:00.086845: I tensorflow/tsl/framework/bfc_allocator.cc:1095] InUse at 7fb181945c00 of size 1024 next 766\n",
      "2023-06-15 19:35:00.086852: I tensorflow/tsl/framework/bfc_allocator.cc:1095] InUse at 7fb181946000 of size 1024 next 770\n",
      "2023-06-15 19:35:00.086858: I tensorflow/tsl/framework/bfc_allocator.cc:1095] InUse at 7fb181946400 of size 1536 next 750\n",
      "2023-06-15 19:35:00.086864: I tensorflow/tsl/framework/bfc_allocator.cc:1095] InUse at 7fb181946a00 of size 1024 next 769\n",
      "2023-06-15 19:35:00.086871: I tensorflow/tsl/framework/bfc_allocator.cc:1095] InUse at 7fb181946e00 of size 1024 next 771\n",
      "2023-06-15 19:35:00.086879: I tensorflow/tsl/framework/bfc_allocator.cc:1095] InUse at 7fb181947200 of size 1024 next 778\n",
      "2023-06-15 19:35:00.086885: I tensorflow/tsl/framework/bfc_allocator.cc:1095] InUse at 7fb181947600 of size 1024 next 779\n",
      "2023-06-15 19:35:00.086891: I tensorflow/tsl/framework/bfc_allocator.cc:1095] InUse at 7fb181947a00 of size 1024 next 780\n",
      "2023-06-15 19:35:00.086898: I tensorflow/tsl/framework/bfc_allocator.cc:1095] InUse at 7fb181947e00 of size 9472 next 777\n",
      "2023-06-15 19:35:00.086904: I tensorflow/tsl/framework/bfc_allocator.cc:1095] InUse at 7fb18194a300 of size 8192 next 783\n",
      "2023-06-15 19:35:00.086911: I tensorflow/tsl/framework/bfc_allocator.cc:1095] InUse at 7fb18194c300 of size 8192 next 786\n",
      "2023-06-15 19:35:00.086918: I tensorflow/tsl/framework/bfc_allocator.cc:1095] InUse at 7fb18194e300 of size 8192 next 789\n",
      "2023-06-15 19:35:00.086924: I tensorflow/tsl/framework/bfc_allocator.cc:1095] InUse at 7fb181950300 of size 8192 next 792\n",
      "2023-06-15 19:35:00.086931: I tensorflow/tsl/framework/bfc_allocator.cc:1095] InUse at 7fb181952300 of size 1024 next 784\n",
      "2023-06-15 19:35:00.086938: I tensorflow/tsl/framework/bfc_allocator.cc:1095] InUse at 7fb181952700 of size 1024 next 787\n",
      "2023-06-15 19:35:00.086945: I tensorflow/tsl/framework/bfc_allocator.cc:1095] InUse at 7fb181952b00 of size 8192 next 797\n",
      "2023-06-15 19:35:00.086952: I tensorflow/tsl/framework/bfc_allocator.cc:1095] InUse at 7fb181954b00 of size 8192 next 801\n",
      "2023-06-15 19:35:00.086966: I tensorflow/tsl/framework/bfc_allocator.cc:1095] InUse at 7fb181956b00 of size 1024 next 806\n",
      "2023-06-15 19:35:00.086973: I tensorflow/tsl/framework/bfc_allocator.cc:1095] InUse at 7fb181956f00 of size 8960 next 804\n",
      "2023-06-15 19:35:00.086980: I tensorflow/tsl/framework/bfc_allocator.cc:1095] InUse at 7fb181959200 of size 1024 next 825\n",
      "2023-06-15 19:35:00.086987: I tensorflow/tsl/framework/bfc_allocator.cc:1095] InUse at 7fb181959600 of size 1024 next 807\n",
      "2023-06-15 19:35:00.086995: I tensorflow/tsl/framework/bfc_allocator.cc:1095] InUse at 7fb181959a00 of size 1024 next 818\n",
      "2023-06-15 19:35:00.087001: I tensorflow/tsl/framework/bfc_allocator.cc:1095] InUse at 7fb181959e00 of size 1536 next 782\n",
      "2023-06-15 19:35:00.087007: I tensorflow/tsl/framework/bfc_allocator.cc:1095] InUse at 7fb18195a400 of size 1024 next 793\n",
      "2023-06-15 19:35:00.087013: I tensorflow/tsl/framework/bfc_allocator.cc:1095] InUse at 7fb18195a800 of size 1024 next 803\n",
      "2023-06-15 19:35:00.087020: I tensorflow/tsl/framework/bfc_allocator.cc:1095] InUse at 7fb18195ac00 of size 1024 next 809\n",
      "2023-06-15 19:35:00.087026: I tensorflow/tsl/framework/bfc_allocator.cc:1095] InUse at 7fb18195b000 of size 1024 next 810\n",
      "2023-06-15 19:35:00.087033: I tensorflow/tsl/framework/bfc_allocator.cc:1095] InUse at 7fb18195b400 of size 1024 next 811\n",
      "2023-06-15 19:35:00.087040: I tensorflow/tsl/framework/bfc_allocator.cc:1095] InUse at 7fb18195b800 of size 1024 next 872\n",
      "2023-06-15 19:35:00.087047: I tensorflow/tsl/framework/bfc_allocator.cc:1095] InUse at 7fb18195bc00 of size 1024 next 877\n",
      "2023-06-15 19:35:00.087053: I tensorflow/tsl/framework/bfc_allocator.cc:1095] InUse at 7fb18195c000 of size 1024 next 862\n",
      "2023-06-15 19:35:00.087059: I tensorflow/tsl/framework/bfc_allocator.cc:1095] InUse at 7fb18195c400 of size 1280 next 805\n",
      "2023-06-15 19:35:00.087066: I tensorflow/tsl/framework/bfc_allocator.cc:1095] InUse at 7fb18195c900 of size 1024 next 841\n",
      "2023-06-15 19:35:00.087072: I tensorflow/tsl/framework/bfc_allocator.cc:1095] InUse at 7fb18195cd00 of size 1024 next 851\n",
      "2023-06-15 19:35:00.087089: I tensorflow/tsl/framework/bfc_allocator.cc:1095] InUse at 7fb18195d100 of size 1024 next 833\n",
      "2023-06-15 19:35:00.087095: I tensorflow/tsl/framework/bfc_allocator.cc:1095] InUse at 7fb18195d500 of size 1024 next 847\n",
      "2023-06-15 19:35:00.087103: I tensorflow/tsl/framework/bfc_allocator.cc:1095] InUse at 7fb18195d900 of size 1024 next 808\n",
      "2023-06-15 19:35:00.087109: I tensorflow/tsl/framework/bfc_allocator.cc:1095] InUse at 7fb18195dd00 of size 8192 next 814\n",
      "2023-06-15 19:35:00.087115: I tensorflow/tsl/framework/bfc_allocator.cc:1095] InUse at 7fb18195fd00 of size 8192 next 817\n",
      "2023-06-15 19:35:00.087121: I tensorflow/tsl/framework/bfc_allocator.cc:1095] InUse at 7fb181961d00 of size 8192 next 820\n",
      "2023-06-15 19:35:00.087128: I tensorflow/tsl/framework/bfc_allocator.cc:1095] InUse at 7fb181963d00 of size 8192 next 821\n",
      "2023-06-15 19:35:00.087135: I tensorflow/tsl/framework/bfc_allocator.cc:1095] InUse at 7fb181965d00 of size 1024 next 823\n",
      "2023-06-15 19:35:00.087141: I tensorflow/tsl/framework/bfc_allocator.cc:1095] InUse at 7fb181966100 of size 1024 next 824\n",
      "2023-06-15 19:35:00.087148: I tensorflow/tsl/framework/bfc_allocator.cc:1095] InUse at 7fb181966500 of size 8192 next 827\n",
      "2023-06-15 19:35:00.087154: I tensorflow/tsl/framework/bfc_allocator.cc:1095] InUse at 7fb181968500 of size 8192 next 832\n",
      "2023-06-15 19:35:00.087161: I tensorflow/tsl/framework/bfc_allocator.cc:1095] InUse at 7fb18196a500 of size 8192 next 835\n",
      "2023-06-15 19:35:00.087167: I tensorflow/tsl/framework/bfc_allocator.cc:1095] InUse at 7fb18196c500 of size 8704 next 836\n",
      "2023-06-15 19:35:00.087174: I tensorflow/tsl/framework/bfc_allocator.cc:1095] InUse at 7fb18196e700 of size 1024 next 854\n",
      "2023-06-15 19:35:00.087182: I tensorflow/tsl/framework/bfc_allocator.cc:1095] InUse at 7fb18196eb00 of size 1024 next 858\n",
      "2023-06-15 19:35:00.087187: I tensorflow/tsl/framework/bfc_allocator.cc:1095] InUse at 7fb18196ef00 of size 1024 next 855\n",
      "2023-06-15 19:35:00.087194: I tensorflow/tsl/framework/bfc_allocator.cc:1095] InUse at 7fb18196f300 of size 1280 next 837\n",
      "2023-06-15 19:35:00.087201: I tensorflow/tsl/framework/bfc_allocator.cc:1095] InUse at 7fb18196f800 of size 8192 next 840\n",
      "2023-06-15 19:35:00.087207: I tensorflow/tsl/framework/bfc_allocator.cc:1095] InUse at 7fb181971800 of size 8192 next 845\n",
      "2023-06-15 19:35:00.087214: I tensorflow/tsl/framework/bfc_allocator.cc:1095] InUse at 7fb181973800 of size 1024 next 848\n",
      "2023-06-15 19:35:00.087221: I tensorflow/tsl/framework/bfc_allocator.cc:1095] InUse at 7fb181973c00 of size 1024 next 919\n",
      "2023-06-15 19:35:00.087227: I tensorflow/tsl/framework/bfc_allocator.cc:1095] InUse at 7fb181974000 of size 1024 next 916\n",
      "2023-06-15 19:35:00.087233: I tensorflow/tsl/framework/bfc_allocator.cc:1095] InUse at 7fb181974400 of size 1024 next 920\n",
      "2023-06-15 19:35:00.087241: I tensorflow/tsl/framework/bfc_allocator.cc:1095] InUse at 7fb181974800 of size 1024 next 921\n",
      "2023-06-15 19:35:00.087246: I tensorflow/tsl/framework/bfc_allocator.cc:1095] InUse at 7fb181974c00 of size 1024 next 930\n",
      "2023-06-15 19:35:00.087253: I tensorflow/tsl/framework/bfc_allocator.cc:1095] InUse at 7fb181975000 of size 1024 next 942\n",
      "2023-06-15 19:35:00.087259: I tensorflow/tsl/framework/bfc_allocator.cc:1095] InUse at 7fb181975400 of size 1536 next 843\n",
      "2023-06-15 19:35:00.087266: I tensorflow/tsl/framework/bfc_allocator.cc:1095] InUse at 7fb181975a00 of size 1024 next 883\n",
      "2023-06-15 19:35:00.087272: I tensorflow/tsl/framework/bfc_allocator.cc:1095] InUse at 7fb181975e00 of size 1024 next 887\n",
      "2023-06-15 19:35:00.087279: I tensorflow/tsl/framework/bfc_allocator.cc:1095] InUse at 7fb181976200 of size 1024 next 884\n",
      "2023-06-15 19:35:00.087286: I tensorflow/tsl/framework/bfc_allocator.cc:1095] InUse at 7fb181976600 of size 1280 next 846\n",
      "2023-06-15 19:35:00.087292: I tensorflow/tsl/framework/bfc_allocator.cc:1095] InUse at 7fb181976b00 of size 8192 next 853\n",
      "2023-06-15 19:35:00.087299: I tensorflow/tsl/framework/bfc_allocator.cc:1095] InUse at 7fb181978b00 of size 1024 next 859\n",
      "2023-06-15 19:35:00.087305: I tensorflow/tsl/framework/bfc_allocator.cc:1095] InUse at 7fb181978f00 of size 8192 next 816\n",
      "2023-06-15 19:35:00.087312: I tensorflow/tsl/framework/bfc_allocator.cc:1095] InUse at 7fb18197af00 of size 8192 next 863\n",
      "2023-06-15 19:35:00.087319: I tensorflow/tsl/framework/bfc_allocator.cc:1095] InUse at 7fb18197cf00 of size 8192 next 865\n",
      "2023-06-15 19:35:00.087325: I tensorflow/tsl/framework/bfc_allocator.cc:1095] InUse at 7fb18197ef00 of size 8192 next 867\n",
      "2023-06-15 19:35:00.087332: I tensorflow/tsl/framework/bfc_allocator.cc:1095] InUse at 7fb181980f00 of size 8192 next 870\n",
      "2023-06-15 19:35:00.087338: I tensorflow/tsl/framework/bfc_allocator.cc:1095] InUse at 7fb181982f00 of size 12288 next 360\n",
      "2023-06-15 19:35:00.087345: I tensorflow/tsl/framework/bfc_allocator.cc:1095] InUse at 7fb181985f00 of size 8192 next 550\n",
      "2023-06-15 19:35:00.087352: I tensorflow/tsl/framework/bfc_allocator.cc:1095] InUse at 7fb181987f00 of size 8192 next 548\n",
      "2023-06-15 19:35:00.087358: I tensorflow/tsl/framework/bfc_allocator.cc:1095] InUse at 7fb181989f00 of size 8192 next 530\n",
      "2023-06-15 19:35:00.087365: I tensorflow/tsl/framework/bfc_allocator.cc:1095] InUse at 7fb18198bf00 of size 8192 next 498\n",
      "2023-06-15 19:35:00.087371: I tensorflow/tsl/framework/bfc_allocator.cc:1095] InUse at 7fb18198df00 of size 8192 next 536\n",
      "2023-06-15 19:35:00.087378: I tensorflow/tsl/framework/bfc_allocator.cc:1095] InUse at 7fb18198ff00 of size 1024 next 574\n",
      "2023-06-15 19:35:00.087384: I tensorflow/tsl/framework/bfc_allocator.cc:1095] InUse at 7fb181990300 of size 1024 next 596\n",
      "2023-06-15 19:35:00.087391: I tensorflow/tsl/framework/bfc_allocator.cc:1095] InUse at 7fb181990700 of size 8192 next 594\n",
      "2023-06-15 19:35:00.087398: I tensorflow/tsl/framework/bfc_allocator.cc:1095] InUse at 7fb181992700 of size 8192 next 577\n",
      "2023-06-15 19:35:00.087404: I tensorflow/tsl/framework/bfc_allocator.cc:1095] InUse at 7fb181994700 of size 8192 next 405\n",
      "2023-06-15 19:35:00.087411: I tensorflow/tsl/framework/bfc_allocator.cc:1095] InUse at 7fb181996700 of size 8192 next 582\n",
      "2023-06-15 19:35:00.087417: I tensorflow/tsl/framework/bfc_allocator.cc:1095] InUse at 7fb181998700 of size 8192 next 579\n",
      "2023-06-15 19:35:00.087424: I tensorflow/tsl/framework/bfc_allocator.cc:1095] InUse at 7fb18199a700 of size 8192 next 585\n",
      "2023-06-15 19:35:00.087431: I tensorflow/tsl/framework/bfc_allocator.cc:1095] InUse at 7fb18199c700 of size 1024 next 571\n",
      "2023-06-15 19:35:00.087437: I tensorflow/tsl/framework/bfc_allocator.cc:1095] InUse at 7fb18199cb00 of size 1024 next 553\n",
      "2023-06-15 19:35:00.087443: I tensorflow/tsl/framework/bfc_allocator.cc:1095] InUse at 7fb18199cf00 of size 1024 next 570\n",
      "2023-06-15 19:35:00.087449: I tensorflow/tsl/framework/bfc_allocator.cc:1095] InUse at 7fb18199d300 of size 1024 next 562\n",
      "2023-06-15 19:35:00.087466: I tensorflow/tsl/framework/bfc_allocator.cc:1095] InUse at 7fb18199d700 of size 1024 next 560\n",
      "2023-06-15 19:35:00.087473: I tensorflow/tsl/framework/bfc_allocator.cc:1095] InUse at 7fb18199db00 of size 1024 next 559\n",
      "2023-06-15 19:35:00.087480: I tensorflow/tsl/framework/bfc_allocator.cc:1095] InUse at 7fb18199df00 of size 8192 next 600\n",
      "2023-06-15 19:35:00.087487: I tensorflow/tsl/framework/bfc_allocator.cc:1095] InUse at 7fb18199ff00 of size 8192 next 624\n",
      "2023-06-15 19:35:00.087493: I tensorflow/tsl/framework/bfc_allocator.cc:1095] InUse at 7fb1819a1f00 of size 1024 next 617\n",
      "2023-06-15 19:35:00.087499: I tensorflow/tsl/framework/bfc_allocator.cc:1095] InUse at 7fb1819a2300 of size 1024 next 616\n",
      "2023-06-15 19:35:00.087506: I tensorflow/tsl/framework/bfc_allocator.cc:1095] InUse at 7fb1819a2700 of size 1024 next 611\n",
      "2023-06-15 19:35:00.087512: I tensorflow/tsl/framework/bfc_allocator.cc:1095] InUse at 7fb1819a2b00 of size 1024 next 601\n",
      "2023-06-15 19:35:00.087519: I tensorflow/tsl/framework/bfc_allocator.cc:1095] InUse at 7fb1819a2f00 of size 1024 next 609\n",
      "2023-06-15 19:35:00.087525: I tensorflow/tsl/framework/bfc_allocator.cc:1095] InUse at 7fb1819a3300 of size 1024 next 589\n",
      "2023-06-15 19:35:00.087533: I tensorflow/tsl/framework/bfc_allocator.cc:1095] InUse at 7fb1819a3700 of size 8192 next 597\n",
      "2023-06-15 19:35:00.087538: I tensorflow/tsl/framework/bfc_allocator.cc:1095] InUse at 7fb1819a5700 of size 8192 next 599\n",
      "2023-06-15 19:35:00.087545: I tensorflow/tsl/framework/bfc_allocator.cc:1095] InUse at 7fb1819a7700 of size 8192 next 591\n",
      "2023-06-15 19:35:00.087551: I tensorflow/tsl/framework/bfc_allocator.cc:1095] InUse at 7fb1819a9700 of size 8192 next 588\n",
      "2023-06-15 19:35:00.087558: I tensorflow/tsl/framework/bfc_allocator.cc:1095] InUse at 7fb1819ab700 of size 8192 next 653\n",
      "2023-06-15 19:35:00.087565: I tensorflow/tsl/framework/bfc_allocator.cc:1095] InUse at 7fb1819ad700 of size 8192 next 650\n",
      "2023-06-15 19:35:00.087571: I tensorflow/tsl/framework/bfc_allocator.cc:1095] InUse at 7fb1819af700 of size 1024 next 645\n",
      "2023-06-15 19:35:00.087578: I tensorflow/tsl/framework/bfc_allocator.cc:1095] InUse at 7fb1819afb00 of size 1024 next 637\n",
      "2023-06-15 19:35:00.087584: I tensorflow/tsl/framework/bfc_allocator.cc:1095] InUse at 7fb1819aff00 of size 8192 next 632\n",
      "2023-06-15 19:35:00.087591: I tensorflow/tsl/framework/bfc_allocator.cc:1095] InUse at 7fb1819b1f00 of size 8192 next 610\n",
      "2023-06-15 19:35:00.087597: I tensorflow/tsl/framework/bfc_allocator.cc:1095] InUse at 7fb1819b3f00 of size 8192 next 628\n",
      "2023-06-15 19:35:00.087604: I tensorflow/tsl/framework/bfc_allocator.cc:1095] InUse at 7fb1819b5f00 of size 8192 next 622\n",
      "2023-06-15 19:35:00.087610: I tensorflow/tsl/framework/bfc_allocator.cc:1095] InUse at 7fb1819b7f00 of size 8192 next 385\n",
      "2023-06-15 19:35:00.087617: I tensorflow/tsl/framework/bfc_allocator.cc:1095] InUse at 7fb1819b9f00 of size 8192 next 386\n",
      "2023-06-15 19:35:00.087623: I tensorflow/tsl/framework/bfc_allocator.cc:1095] InUse at 7fb1819bbf00 of size 1024 next 377\n",
      "2023-06-15 19:35:00.087631: I tensorflow/tsl/framework/bfc_allocator.cc:1095] InUse at 7fb1819bc300 of size 1024 next 382\n",
      "2023-06-15 19:35:00.087638: I tensorflow/tsl/framework/bfc_allocator.cc:1095] InUse at 7fb1819bc700 of size 1024 next 372\n",
      "2023-06-15 19:35:00.087644: I tensorflow/tsl/framework/bfc_allocator.cc:1095] InUse at 7fb1819bcb00 of size 1024 next 361\n",
      "2023-06-15 19:35:00.087651: I tensorflow/tsl/framework/bfc_allocator.cc:1095] InUse at 7fb1819bcf00 of size 1024 next 370\n",
      "2023-06-15 19:35:00.087657: I tensorflow/tsl/framework/bfc_allocator.cc:1095] InUse at 7fb1819bd300 of size 1024 next 341\n",
      "2023-06-15 19:35:00.087663: I tensorflow/tsl/framework/bfc_allocator.cc:1095] InUse at 7fb1819bd700 of size 8192 next 371\n",
      "2023-06-15 19:35:00.087670: I tensorflow/tsl/framework/bfc_allocator.cc:1095] InUse at 7fb1819bf700 of size 8192 next 389\n",
      "2023-06-15 19:35:00.087676: I tensorflow/tsl/framework/bfc_allocator.cc:1095] InUse at 7fb1819c1700 of size 1024 next 396\n",
      "2023-06-15 19:35:00.087683: I tensorflow/tsl/framework/bfc_allocator.cc:1095] InUse at 7fb1819c1b00 of size 1024 next 342\n",
      "2023-06-15 19:35:00.087690: I tensorflow/tsl/framework/bfc_allocator.cc:1095] InUse at 7fb1819c1f00 of size 1024 next 393\n",
      "2023-06-15 19:35:00.087697: I tensorflow/tsl/framework/bfc_allocator.cc:1095] InUse at 7fb1819c2300 of size 1024 next 387\n",
      "2023-06-15 19:35:00.087749: I tensorflow/tsl/framework/bfc_allocator.cc:1095] InUse at 7fb1819c2700 of size 1024 next 384\n",
      "2023-06-15 19:35:00.087761: I tensorflow/tsl/framework/bfc_allocator.cc:1095] InUse at 7fb1819c2b00 of size 1024 next 392\n",
      "2023-06-15 19:35:00.087769: I tensorflow/tsl/framework/bfc_allocator.cc:1095] InUse at 7fb1819c2f00 of size 8192 next 412\n",
      "2023-06-15 19:35:00.087775: I tensorflow/tsl/framework/bfc_allocator.cc:1095] InUse at 7fb1819c4f00 of size 8192 next 419\n",
      "2023-06-15 19:35:00.087782: I tensorflow/tsl/framework/bfc_allocator.cc:1095] InUse at 7fb1819c6f00 of size 8192 next 401\n",
      "2023-06-15 19:35:00.087788: I tensorflow/tsl/framework/bfc_allocator.cc:1095] InUse at 7fb1819c8f00 of size 8192 next 432\n",
      "2023-06-15 19:35:00.087795: I tensorflow/tsl/framework/bfc_allocator.cc:1095] InUse at 7fb1819caf00 of size 8192 next 435\n",
      "2023-06-15 19:35:00.087801: I tensorflow/tsl/framework/bfc_allocator.cc:1095] InUse at 7fb1819ccf00 of size 8192 next 426\n",
      "2023-06-15 19:35:00.087808: I tensorflow/tsl/framework/bfc_allocator.cc:1095] InUse at 7fb1819cef00 of size 1024 next 417\n",
      "2023-06-15 19:35:00.087815: I tensorflow/tsl/framework/bfc_allocator.cc:1095] InUse at 7fb1819cf300 of size 1024 next 422\n",
      "2023-06-15 19:35:00.087821: I tensorflow/tsl/framework/bfc_allocator.cc:1095] InUse at 7fb1819cf700 of size 8192 next 423\n",
      "2023-06-15 19:35:00.087828: I tensorflow/tsl/framework/bfc_allocator.cc:1095] InUse at 7fb1819d1700 of size 8192 next 438\n",
      "2023-06-15 19:35:00.087834: I tensorflow/tsl/framework/bfc_allocator.cc:1095] InUse at 7fb1819d3700 of size 8192 next 439\n",
      "2023-06-15 19:35:00.087841: I tensorflow/tsl/framework/bfc_allocator.cc:1095] InUse at 7fb1819d5700 of size 8192 next 436\n",
      "2023-06-15 19:35:00.087848: I tensorflow/tsl/framework/bfc_allocator.cc:1095] InUse at 7fb1819d7700 of size 8192 next 458\n",
      "2023-06-15 19:35:00.087855: I tensorflow/tsl/framework/bfc_allocator.cc:1095] InUse at 7fb1819d9700 of size 8192 next 451\n",
      "2023-06-15 19:35:00.087860: I tensorflow/tsl/framework/bfc_allocator.cc:1095] InUse at 7fb1819db700 of size 1024 next 362\n",
      "2023-06-15 19:35:00.087867: I tensorflow/tsl/framework/bfc_allocator.cc:1095] InUse at 7fb1819dbb00 of size 1024 next 331\n",
      "2023-06-15 19:35:00.087873: I tensorflow/tsl/framework/bfc_allocator.cc:1095] InUse at 7fb1819dbf00 of size 1024 next 303\n",
      "2023-06-15 19:35:00.087880: I tensorflow/tsl/framework/bfc_allocator.cc:1095] InUse at 7fb1819dc300 of size 1024 next 269\n",
      "2023-06-15 19:35:00.087887: I tensorflow/tsl/framework/bfc_allocator.cc:1095] InUse at 7fb1819dc700 of size 1024 next 212\n",
      "2023-06-15 19:35:00.087893: I tensorflow/tsl/framework/bfc_allocator.cc:1095] InUse at 7fb1819dcb00 of size 1024 next 54\n",
      "2023-06-15 19:35:00.087900: I tensorflow/tsl/framework/bfc_allocator.cc:1095] InUse at 7fb1819dcf00 of size 8192 next 135\n",
      "2023-06-15 19:35:00.087906: I tensorflow/tsl/framework/bfc_allocator.cc:1095] InUse at 7fb1819def00 of size 8192 next 144\n",
      "2023-06-15 19:35:00.087913: I tensorflow/tsl/framework/bfc_allocator.cc:1095] InUse at 7fb1819e0f00 of size 1024 next 59\n",
      "2023-06-15 19:35:00.087919: I tensorflow/tsl/framework/bfc_allocator.cc:1095] InUse at 7fb1819e1300 of size 1024 next 11\n",
      "2023-06-15 19:35:00.087926: I tensorflow/tsl/framework/bfc_allocator.cc:1095] InUse at 7fb1819e1700 of size 1024 next 1011\n",
      "2023-06-15 19:35:00.087933: I tensorflow/tsl/framework/bfc_allocator.cc:1095] InUse at 7fb1819e1b00 of size 1024 next 1014\n",
      "2023-06-15 19:35:00.087940: I tensorflow/tsl/framework/bfc_allocator.cc:1095] InUse at 7fb1819e1f00 of size 1024 next 1017\n",
      "2023-06-15 19:35:00.087945: I tensorflow/tsl/framework/bfc_allocator.cc:1095] InUse at 7fb1819e2300 of size 1024 next 1018\n",
      "2023-06-15 19:35:00.087952: I tensorflow/tsl/framework/bfc_allocator.cc:1095] InUse at 7fb1819e2700 of size 8192 next 1021\n",
      "2023-06-15 19:35:00.087959: I tensorflow/tsl/framework/bfc_allocator.cc:1095] InUse at 7fb1819e4700 of size 8192 next 1022\n",
      "2023-06-15 19:35:00.087965: I tensorflow/tsl/framework/bfc_allocator.cc:1095] InUse at 7fb1819e6700 of size 8192 next 1025\n",
      "2023-06-15 19:35:00.087973: I tensorflow/tsl/framework/bfc_allocator.cc:1095] InUse at 7fb1819e8700 of size 14080 next 225\n",
      "2023-06-15 19:35:00.087979: I tensorflow/tsl/framework/bfc_allocator.cc:1095] InUse at 7fb1819ebe00 of size 510720 next 53\n",
      "2023-06-15 19:35:00.087986: I tensorflow/tsl/framework/bfc_allocator.cc:1095] InUse at 7fb181a68900 of size 2097152 next 56\n",
      "2023-06-15 19:35:00.087993: I tensorflow/tsl/framework/bfc_allocator.cc:1095] InUse at 7fb181c68900 of size 2097152 next 58\n",
      "2023-06-15 19:35:00.088000: I tensorflow/tsl/framework/bfc_allocator.cc:1095] InUse at 7fb181e68900 of size 2097152 next 671\n",
      "2023-06-15 19:35:00.088006: I tensorflow/tsl/framework/bfc_allocator.cc:1095] InUse at 7fb182068900 of size 2097152 next 73\n",
      "2023-06-15 19:35:00.088013: I tensorflow/tsl/framework/bfc_allocator.cc:1095] InUse at 7fb182268900 of size 2097152 next 99\n",
      "2023-06-15 19:35:00.088020: I tensorflow/tsl/framework/bfc_allocator.cc:1095] InUse at 7fb182468900 of size 2097152 next 119\n",
      "2023-06-15 19:35:00.088026: I tensorflow/tsl/framework/bfc_allocator.cc:1095] InUse at 7fb182668900 of size 2097152 next 473\n",
      "2023-06-15 19:35:00.088034: I tensorflow/tsl/framework/bfc_allocator.cc:1095] InUse at 7fb182868900 of size 2097152 next 648\n",
      "2023-06-15 19:35:00.088040: I tensorflow/tsl/framework/bfc_allocator.cc:1095] InUse at 7fb182a68900 of size 3604480 next 55\n",
      "2023-06-15 19:35:00.088046: I tensorflow/tsl/framework/bfc_allocator.cc:1095] InUse at 7fb182dd8900 of size 295936 next 294\n",
      "2023-06-15 19:35:00.088053: I tensorflow/tsl/framework/bfc_allocator.cc:1095] InUse at 7fb182e20d00 of size 295936 next 305\n",
      "2023-06-15 19:35:00.088061: I tensorflow/tsl/framework/bfc_allocator.cc:1095] InUse at 7fb182e69100 of size 8192 next 351\n",
      "2023-06-15 19:35:00.088067: I tensorflow/tsl/framework/bfc_allocator.cc:1095] InUse at 7fb182e6b100 of size 8192 next 701\n",
      "2023-06-15 19:35:00.088074: I tensorflow/tsl/framework/bfc_allocator.cc:1095] InUse at 7fb182e6d100 of size 8192 next 705\n",
      "2023-06-15 19:35:00.088080: I tensorflow/tsl/framework/bfc_allocator.cc:1095] InUse at 7fb182e6f100 of size 295936 next 710\n",
      "2023-06-15 19:35:00.088086: I tensorflow/tsl/framework/bfc_allocator.cc:1095] InUse at 7fb182eb7500 of size 1024 next 876\n",
      "2023-06-15 19:35:00.088093: I tensorflow/tsl/framework/bfc_allocator.cc:1095] InUse at 7fb182eb7900 of size 1024 next 882\n",
      "2023-06-15 19:35:00.088100: I tensorflow/tsl/framework/bfc_allocator.cc:1095] InUse at 7fb182eb7d00 of size 1024 next 971\n",
      "2023-06-15 19:35:00.088107: I tensorflow/tsl/framework/bfc_allocator.cc:1095] InUse at 7fb182eb8100 of size 1024 next 1002\n",
      "2023-06-15 19:35:00.088114: I tensorflow/tsl/framework/bfc_allocator.cc:1095] InUse at 7fb182eb8500 of size 1024 next 572\n",
      "2023-06-15 19:35:00.088120: I tensorflow/tsl/framework/bfc_allocator.cc:1095] InUse at 7fb182eb8900 of size 1024 next 580\n",
      "2023-06-15 19:35:00.088126: I tensorflow/tsl/framework/bfc_allocator.cc:1095] InUse at 7fb182eb8d00 of size 1024 next 551\n",
      "2023-06-15 19:35:00.088133: I tensorflow/tsl/framework/bfc_allocator.cc:1095] InUse at 7fb182eb9100 of size 1536 next 871\n",
      "2023-06-15 19:35:00.088139: I tensorflow/tsl/framework/bfc_allocator.cc:1095] InUse at 7fb182eb9700 of size 1024 next 900\n",
      "2023-06-15 19:35:00.088146: I tensorflow/tsl/framework/bfc_allocator.cc:1095] InUse at 7fb182eb9b00 of size 1024 next 910\n",
      "2023-06-15 19:35:00.088153: I tensorflow/tsl/framework/bfc_allocator.cc:1095] InUse at 7fb182eb9f00 of size 1024 next 906\n",
      "2023-06-15 19:35:00.088161: I tensorflow/tsl/framework/bfc_allocator.cc:1095] InUse at 7fb182eba300 of size 1280 next 875\n",
      "2023-06-15 19:35:00.088174: I tensorflow/tsl/framework/bfc_allocator.cc:1095] InUse at 7fb182eba800 of size 8192 next 881\n",
      "2023-06-15 19:35:00.088181: I tensorflow/tsl/framework/bfc_allocator.cc:1095] InUse at 7fb182ebc800 of size 1024 next 888\n",
      "2023-06-15 19:35:00.088188: I tensorflow/tsl/framework/bfc_allocator.cc:1095] InUse at 7fb182ebcc00 of size 8192 next 886\n",
      "2023-06-15 19:35:00.088205: I tensorflow/tsl/framework/bfc_allocator.cc:1095] InUse at 7fb182ebec00 of size 8192 next 892\n",
      "2023-06-15 19:35:00.088212: I tensorflow/tsl/framework/bfc_allocator.cc:1095] InUse at 7fb182ec0c00 of size 8192 next 894\n",
      "2023-06-15 19:35:00.088219: I tensorflow/tsl/framework/bfc_allocator.cc:1095] InUse at 7fb182ec2c00 of size 8192 next 893\n",
      "2023-06-15 19:35:00.088225: I tensorflow/tsl/framework/bfc_allocator.cc:1095] InUse at 7fb182ec4c00 of size 8192 next 899\n",
      "2023-06-15 19:35:00.088231: I tensorflow/tsl/framework/bfc_allocator.cc:1095] InUse at 7fb182ec6c00 of size 8192 next 905\n",
      "2023-06-15 19:35:00.088238: I tensorflow/tsl/framework/bfc_allocator.cc:1095] InUse at 7fb182ec8c00 of size 1024 next 907\n",
      "2023-06-15 19:35:00.088244: I tensorflow/tsl/framework/bfc_allocator.cc:1095] InUse at 7fb182ec9000 of size 1024 next 913\n",
      "2023-06-15 19:35:00.088251: I tensorflow/tsl/framework/bfc_allocator.cc:1095] InUse at 7fb182ec9400 of size 1024 next 915\n",
      "2023-06-15 19:35:00.088258: I tensorflow/tsl/framework/bfc_allocator.cc:1095] InUse at 7fb182ec9800 of size 1024 next 963\n",
      "2023-06-15 19:35:00.088264: I tensorflow/tsl/framework/bfc_allocator.cc:1095] InUse at 7fb182ec9c00 of size 1024 next 467\n",
      "2023-06-15 19:35:00.088271: I tensorflow/tsl/framework/bfc_allocator.cc:1095] InUse at 7fb182eca000 of size 1024 next 455\n",
      "2023-06-15 19:35:00.088278: I tensorflow/tsl/framework/bfc_allocator.cc:1095] InUse at 7fb182eca400 of size 1024 next 446\n",
      "2023-06-15 19:35:00.088284: I tensorflow/tsl/framework/bfc_allocator.cc:1095] InUse at 7fb182eca800 of size 1536 next 902\n",
      "2023-06-15 19:35:00.088290: I tensorflow/tsl/framework/bfc_allocator.cc:1095] InUse at 7fb182ecae00 of size 1024 next 925\n",
      "2023-06-15 19:35:00.088298: I tensorflow/tsl/framework/bfc_allocator.cc:1095] InUse at 7fb182ecb200 of size 1024 next 946\n",
      "2023-06-15 19:35:00.088303: I tensorflow/tsl/framework/bfc_allocator.cc:1095] InUse at 7fb182ecb600 of size 1024 next 948\n",
      "2023-06-15 19:35:00.088310: I tensorflow/tsl/framework/bfc_allocator.cc:1095] InUse at 7fb182ecba00 of size 1280 next 903\n",
      "2023-06-15 19:35:00.088317: I tensorflow/tsl/framework/bfc_allocator.cc:1095] InUse at 7fb182ecbf00 of size 8192 next 912\n",
      "2023-06-15 19:35:00.088323: I tensorflow/tsl/framework/bfc_allocator.cc:1095] InUse at 7fb182ecdf00 of size 8192 next 890\n",
      "2023-06-15 19:35:00.088330: I tensorflow/tsl/framework/bfc_allocator.cc:1095] InUse at 7fb182ecff00 of size 8192 next 924\n",
      "2023-06-15 19:35:00.088337: I tensorflow/tsl/framework/bfc_allocator.cc:1095] InUse at 7fb182ed1f00 of size 8192 next 927\n",
      "2023-06-15 19:35:00.088343: I tensorflow/tsl/framework/bfc_allocator.cc:1095] InUse at 7fb182ed3f00 of size 8192 next 918\n",
      "2023-06-15 19:35:00.088350: I tensorflow/tsl/framework/bfc_allocator.cc:1095] InUse at 7fb182ed5f00 of size 8192 next 931\n",
      "2023-06-15 19:35:00.088356: I tensorflow/tsl/framework/bfc_allocator.cc:1095] InUse at 7fb182ed7f00 of size 8192 next 936\n",
      "2023-06-15 19:35:00.088363: I tensorflow/tsl/framework/bfc_allocator.cc:1095] InUse at 7fb182ed9f00 of size 1024 next 933\n",
      "2023-06-15 19:35:00.088370: I tensorflow/tsl/framework/bfc_allocator.cc:1095] InUse at 7fb182eda300 of size 1024 next 934\n",
      "2023-06-15 19:35:00.088376: I tensorflow/tsl/framework/bfc_allocator.cc:1095] InUse at 7fb182eda700 of size 1024 next 937\n",
      "2023-06-15 19:35:00.088383: I tensorflow/tsl/framework/bfc_allocator.cc:1095] InUse at 7fb182edab00 of size 8192 next 944\n",
      "2023-06-15 19:35:00.088389: I tensorflow/tsl/framework/bfc_allocator.cc:1095] InUse at 7fb182edcb00 of size 1024 next 949\n",
      "2023-06-15 19:35:00.088396: I tensorflow/tsl/framework/bfc_allocator.cc:1095] InUse at 7fb182edcf00 of size 1024 next 959\n",
      "2023-06-15 19:35:00.088402: I tensorflow/tsl/framework/bfc_allocator.cc:1095] InUse at 7fb182edd300 of size 1024 next 960\n",
      "2023-06-15 19:35:00.088409: I tensorflow/tsl/framework/bfc_allocator.cc:1095] InUse at 7fb182edd700 of size 1024 next 955\n",
      "2023-06-15 19:35:00.088415: I tensorflow/tsl/framework/bfc_allocator.cc:1095] InUse at 7fb182eddb00 of size 1024 next 967\n",
      "2023-06-15 19:35:00.088422: I tensorflow/tsl/framework/bfc_allocator.cc:1095] InUse at 7fb182eddf00 of size 1024 next 974\n",
      "2023-06-15 19:35:00.088428: I tensorflow/tsl/framework/bfc_allocator.cc:1095] InUse at 7fb182ede300 of size 1024 next 978\n",
      "2023-06-15 19:35:00.088435: I tensorflow/tsl/framework/bfc_allocator.cc:1095] InUse at 7fb182ede700 of size 1536 next 939\n",
      "2023-06-15 19:35:00.088441: I tensorflow/tsl/framework/bfc_allocator.cc:1095] InUse at 7fb182eded00 of size 1024 next 988\n",
      "2023-06-15 19:35:00.088448: I tensorflow/tsl/framework/bfc_allocator.cc:1095] InUse at 7fb182edf100 of size 1024 next 1000\n",
      "2023-06-15 19:35:00.088455: I tensorflow/tsl/framework/bfc_allocator.cc:1095] InUse at 7fb182edf500 of size 1024 next 989\n",
      "2023-06-15 19:35:00.088461: I tensorflow/tsl/framework/bfc_allocator.cc:1095] InUse at 7fb182edf900 of size 1280 next 947\n",
      "2023-06-15 19:35:00.088468: I tensorflow/tsl/framework/bfc_allocator.cc:1095] InUse at 7fb182edfe00 of size 8192 next 938\n",
      "2023-06-15 19:35:00.088474: I tensorflow/tsl/framework/bfc_allocator.cc:1095] InUse at 7fb182ee1e00 of size 8192 next 954\n",
      "2023-06-15 19:35:00.088480: I tensorflow/tsl/framework/bfc_allocator.cc:1095] InUse at 7fb182ee3e00 of size 8192 next 956\n",
      "2023-06-15 19:35:00.088494: I tensorflow/tsl/framework/bfc_allocator.cc:1095] InUse at 7fb182ee5e00 of size 8192 next 961\n",
      "2023-06-15 19:35:00.088501: I tensorflow/tsl/framework/bfc_allocator.cc:1095] InUse at 7fb182ee7e00 of size 8192 next 950\n",
      "2023-06-15 19:35:00.088507: I tensorflow/tsl/framework/bfc_allocator.cc:1095] InUse at 7fb182ee9e00 of size 8192 next 966\n",
      "2023-06-15 19:35:00.088514: I tensorflow/tsl/framework/bfc_allocator.cc:1095] InUse at 7fb182eebe00 of size 8192 next 973\n",
      "2023-06-15 19:35:00.088520: I tensorflow/tsl/framework/bfc_allocator.cc:1095] InUse at 7fb182eede00 of size 1024 next 976\n",
      "2023-06-15 19:35:00.088527: I tensorflow/tsl/framework/bfc_allocator.cc:1095] InUse at 7fb182eee200 of size 1024 next 979\n",
      "2023-06-15 19:35:00.088533: I tensorflow/tsl/framework/bfc_allocator.cc:1095] InUse at 7fb182eee600 of size 8192 next 951\n",
      "2023-06-15 19:35:00.088540: I tensorflow/tsl/framework/bfc_allocator.cc:1095] InUse at 7fb182ef0600 of size 8192 next 983\n",
      "2023-06-15 19:35:00.088546: I tensorflow/tsl/framework/bfc_allocator.cc:1095] InUse at 7fb182ef2600 of size 8192 next 986\n",
      "2023-06-15 19:35:00.088553: I tensorflow/tsl/framework/bfc_allocator.cc:1095] InUse at 7fb182ef4600 of size 8192 next 984\n",
      "2023-06-15 19:35:00.088560: I tensorflow/tsl/framework/bfc_allocator.cc:1095] InUse at 7fb182ef6600 of size 8192 next 990\n",
      "2023-06-15 19:35:00.088566: I tensorflow/tsl/framework/bfc_allocator.cc:1095] InUse at 7fb182ef8600 of size 8192 next 994\n",
      "2023-06-15 19:35:00.088572: I tensorflow/tsl/framework/bfc_allocator.cc:1095] InUse at 7fb182efa600 of size 8704 next 992\n",
      "2023-06-15 19:35:00.088579: I tensorflow/tsl/framework/bfc_allocator.cc:1095] InUse at 7fb182efc800 of size 1024 next 406\n",
      "2023-06-15 19:35:00.088605: I tensorflow/tsl/framework/bfc_allocator.cc:1095] InUse at 7fb182efcc00 of size 1024 next 414\n",
      "2023-06-15 19:35:00.088612: I tensorflow/tsl/framework/bfc_allocator.cc:1095] InUse at 7fb182efd000 of size 1024 next 468\n",
      "2023-06-15 19:35:00.088619: I tensorflow/tsl/framework/bfc_allocator.cc:1095] InUse at 7fb182efd400 of size 1280 next 995\n",
      "2023-06-15 19:35:00.088626: I tensorflow/tsl/framework/bfc_allocator.cc:1095] InUse at 7fb182efd900 of size 1024 next 996\n",
      "2023-06-15 19:35:00.088633: I tensorflow/tsl/framework/bfc_allocator.cc:1095] InUse at 7fb182efdd00 of size 1024 next 997\n",
      "2023-06-15 19:35:00.088639: I tensorflow/tsl/framework/bfc_allocator.cc:1095] InUse at 7fb182efe100 of size 1024 next 1005\n",
      "2023-06-15 19:35:00.088647: I tensorflow/tsl/framework/bfc_allocator.cc:1095] InUse at 7fb182efe500 of size 1024 next 1003\n",
      "2023-06-15 19:35:00.088653: I tensorflow/tsl/framework/bfc_allocator.cc:1095] InUse at 7fb182efe900 of size 1024 next 1007\n",
      "2023-06-15 19:35:00.088661: I tensorflow/tsl/framework/bfc_allocator.cc:1095] InUse at 7fb182efed00 of size 1024 next 1008\n",
      "2023-06-15 19:35:00.088666: I tensorflow/tsl/framework/bfc_allocator.cc:1095] InUse at 7fb182eff100 of size 256 next 1012\n",
      "2023-06-15 19:35:00.088674: I tensorflow/tsl/framework/bfc_allocator.cc:1095] Free  at 7fb182eff200 of size 890624 next 110\n",
      "2023-06-15 19:35:00.088681: I tensorflow/tsl/framework/bfc_allocator.cc:1095] InUse at 7fb182fd8900 of size 2097152 next 134\n",
      "2023-06-15 19:35:00.088686: I tensorflow/tsl/framework/bfc_allocator.cc:1095] InUse at 7fb1831d8900 of size 2097152 next 126\n",
      "2023-06-15 19:35:00.088694: I tensorflow/tsl/framework/bfc_allocator.cc:1095] InUse at 7fb1833d8900 of size 2097152 next 166\n",
      "2023-06-15 19:35:00.088700: I tensorflow/tsl/framework/bfc_allocator.cc:1095] InUse at 7fb1835d8900 of size 2097152 next 168\n",
      "2023-06-15 19:35:00.088707: I tensorflow/tsl/framework/bfc_allocator.cc:1095] InUse at 7fb1837d8900 of size 2097152 next 676\n",
      "2023-06-15 19:35:00.088713: I tensorflow/tsl/framework/bfc_allocator.cc:1095] InUse at 7fb1839d8900 of size 2097152 next 321\n",
      "2023-06-15 19:35:00.088719: I tensorflow/tsl/framework/bfc_allocator.cc:1095] InUse at 7fb183bd8900 of size 2883584 next 94\n",
      "2023-06-15 19:35:00.088726: I tensorflow/tsl/framework/bfc_allocator.cc:1095] InUse at 7fb183e98900 of size 2097152 next 581\n",
      "2023-06-15 19:35:00.088742: I tensorflow/tsl/framework/bfc_allocator.cc:1095] InUse at 7fb184098900 of size 2097152 next 86\n",
      "2023-06-15 19:35:00.088748: I tensorflow/tsl/framework/bfc_allocator.cc:1095] InUse at 7fb184298900 of size 2097152 next 155\n",
      "2023-06-15 19:35:00.088755: I tensorflow/tsl/framework/bfc_allocator.cc:1095] InUse at 7fb184498900 of size 2883584 next 118\n",
      "2023-06-15 19:35:00.088762: I tensorflow/tsl/framework/bfc_allocator.cc:1095] InUse at 7fb184758900 of size 2097152 next 100\n",
      "2023-06-15 19:35:00.088776: I tensorflow/tsl/framework/bfc_allocator.cc:1095] InUse at 7fb184958900 of size 2097152 next 90\n",
      "2023-06-15 19:35:00.088783: I tensorflow/tsl/framework/bfc_allocator.cc:1095] InUse at 7fb184b58900 of size 2424832 next 102\n",
      "2023-06-15 19:35:00.088790: I tensorflow/tsl/framework/bfc_allocator.cc:1095] InUse at 7fb184da8900 of size 2097152 next 122\n",
      "2023-06-15 19:35:00.088797: I tensorflow/tsl/framework/bfc_allocator.cc:1095] InUse at 7fb184fa8900 of size 2555904 next 131\n",
      "2023-06-15 19:35:00.088811: I tensorflow/tsl/framework/bfc_allocator.cc:1095] InUse at 7fb185218900 of size 2097152 next 897\n",
      "2023-06-15 19:35:00.088818: I tensorflow/tsl/framework/bfc_allocator.cc:1095] InUse at 7fb185418900 of size 2097152 next 120\n",
      "2023-06-15 19:35:00.088825: I tensorflow/tsl/framework/bfc_allocator.cc:1095] InUse at 7fb185618900 of size 2097152 next 57\n",
      "2023-06-15 19:35:00.088832: I tensorflow/tsl/framework/bfc_allocator.cc:1095] InUse at 7fb185818900 of size 2424832 next 83\n",
      "2023-06-15 19:35:00.088839: I tensorflow/tsl/framework/bfc_allocator.cc:1095] InUse at 7fb185a68900 of size 2097152 next 91\n",
      "2023-06-15 19:35:00.088846: I tensorflow/tsl/framework/bfc_allocator.cc:1095] InUse at 7fb185c68900 of size 2555904 next 148\n",
      "2023-06-15 19:35:00.088853: I tensorflow/tsl/framework/bfc_allocator.cc:1095] InUse at 7fb185ed8900 of size 2097152 next 868\n",
      "2023-06-15 19:35:00.088859: I tensorflow/tsl/framework/bfc_allocator.cc:1095] InUse at 7fb1860d8900 of size 2097152 next 121\n",
      "2023-06-15 19:35:00.088866: I tensorflow/tsl/framework/bfc_allocator.cc:1095] InUse at 7fb1862d8900 of size 2097152 next 139\n",
      "2023-06-15 19:35:00.088872: I tensorflow/tsl/framework/bfc_allocator.cc:1095] InUse at 7fb1864d8900 of size 2424832 next 137\n",
      "2023-06-15 19:35:00.088880: I tensorflow/tsl/framework/bfc_allocator.cc:1095] InUse at 7fb186728900 of size 2097152 next 116\n",
      "2023-06-15 19:35:00.088885: I tensorflow/tsl/framework/bfc_allocator.cc:1095] InUse at 7fb186928900 of size 2555904 next 163\n",
      "2023-06-15 19:35:00.088893: I tensorflow/tsl/framework/bfc_allocator.cc:1095] InUse at 7fb186b98900 of size 2097152 next 815\n",
      "2023-06-15 19:35:00.088899: I tensorflow/tsl/framework/bfc_allocator.cc:1095] InUse at 7fb186d98900 of size 2097152 next 153\n",
      "2023-06-15 19:35:00.088911: I tensorflow/tsl/framework/bfc_allocator.cc:1095] InUse at 7fb186f98900 of size 2097152 next 98\n",
      "2023-06-15 19:35:00.088918: I tensorflow/tsl/framework/bfc_allocator.cc:1095] InUse at 7fb187198900 of size 2097152 next 181\n",
      "2023-06-15 19:35:00.088925: I tensorflow/tsl/framework/bfc_allocator.cc:1095] InUse at 7fb187398900 of size 2097152 next 170\n",
      "2023-06-15 19:35:00.088932: I tensorflow/tsl/framework/bfc_allocator.cc:1095] InUse at 7fb187598900 of size 2883584 next 180\n",
      "2023-06-15 19:35:00.088939: I tensorflow/tsl/framework/bfc_allocator.cc:1095] InUse at 7fb187858900 of size 2097152 next 866\n",
      "2023-06-15 19:35:00.088947: I tensorflow/tsl/framework/bfc_allocator.cc:1095] InUse at 7fb187a58900 of size 2097152 next 169\n",
      "2023-06-15 19:35:00.088955: I tensorflow/tsl/framework/bfc_allocator.cc:1095] InUse at 7fb187c58900 of size 2097152 next 185\n",
      "2023-06-15 19:35:00.088962: I tensorflow/tsl/framework/bfc_allocator.cc:1095] InUse at 7fb187e58900 of size 2293760 next 202\n",
      "2023-06-15 19:35:00.088968: I tensorflow/tsl/framework/bfc_allocator.cc:1095] InUse at 7fb188088900 of size 2097152 next 196\n",
      "2023-06-15 19:35:00.088976: I tensorflow/tsl/framework/bfc_allocator.cc:1095] InUse at 7fb188288900 of size 2097152 next 203\n",
      "2023-06-15 19:35:00.088981: I tensorflow/tsl/framework/bfc_allocator.cc:1095] InUse at 7fb188488900 of size 3407872 next 199\n",
      "2023-06-15 19:35:00.088989: I tensorflow/tsl/framework/bfc_allocator.cc:1095] InUse at 7fb1887c8900 of size 2097152 next 415\n",
      "2023-06-15 19:35:00.088995: I tensorflow/tsl/framework/bfc_allocator.cc:1095] InUse at 7fb1889c8900 of size 2097152 next 418\n",
      "2023-06-15 19:35:00.089002: I tensorflow/tsl/framework/bfc_allocator.cc:1095] InUse at 7fb188bc8900 of size 2424832 next 830\n",
      "2023-06-15 19:35:00.089009: I tensorflow/tsl/framework/bfc_allocator.cc:1095] InUse at 7fb188e18900 of size 2097152 next 829\n",
      "2023-06-15 19:35:00.089015: I tensorflow/tsl/framework/bfc_allocator.cc:1095] InUse at 7fb189018900 of size 2097152 next 839\n",
      "2023-06-15 19:35:00.089021: I tensorflow/tsl/framework/bfc_allocator.cc:1095] InUse at 7fb189218900 of size 2097152 next 844\n",
      "2023-06-15 19:35:00.089028: I tensorflow/tsl/framework/bfc_allocator.cc:1095] InUse at 7fb189418900 of size 2097152 next 849\n",
      "2023-06-15 19:35:00.089036: I tensorflow/tsl/framework/bfc_allocator.cc:1095] InUse at 7fb189618900 of size 2097152 next 864\n",
      "2023-06-15 19:35:00.089041: I tensorflow/tsl/framework/bfc_allocator.cc:1095] InUse at 7fb189818900 of size 2097152 next 869\n",
      "2023-06-15 19:35:00.089049: I tensorflow/tsl/framework/bfc_allocator.cc:1095] InUse at 7fb189a18900 of size 2097152 next 880\n",
      "2023-06-15 19:35:00.089055: I tensorflow/tsl/framework/bfc_allocator.cc:1095] InUse at 7fb189c18900 of size 2490368 next 861\n",
      "2023-06-15 19:35:00.089062: I tensorflow/tsl/framework/bfc_allocator.cc:1095] InUse at 7fb189e78900 of size 2097152 next 885\n",
      "2023-06-15 19:35:00.089068: I tensorflow/tsl/framework/bfc_allocator.cc:1095] InUse at 7fb18a078900 of size 2097152 next 891\n",
      "2023-06-15 19:35:00.089081: I tensorflow/tsl/framework/bfc_allocator.cc:1095] InUse at 7fb18a278900 of size 3862528 next 850\n",
      "2023-06-15 19:35:00.089088: I tensorflow/tsl/framework/bfc_allocator.cc:1095] InUse at 7fb18a627900 of size 2097152 next 477\n",
      "2023-06-15 19:35:00.089097: I tensorflow/tsl/framework/bfc_allocator.cc:1095] InUse at 7fb18a827900 of size 2097152 next 483\n",
      "2023-06-15 19:35:00.089103: I tensorflow/tsl/framework/bfc_allocator.cc:1095] InUse at 7fb18aa27900 of size 2097152 next 478\n",
      "2023-06-15 19:35:00.089110: I tensorflow/tsl/framework/bfc_allocator.cc:1095] InUse at 7fb18ac27900 of size 2097152 next 462\n",
      "2023-06-15 19:35:00.089117: I tensorflow/tsl/framework/bfc_allocator.cc:1095] InUse at 7fb18ae27900 of size 2097152 next 457\n",
      "2023-06-15 19:35:00.089124: I tensorflow/tsl/framework/bfc_allocator.cc:1095] InUse at 7fb18b027900 of size 2097152 next 469\n",
      "2023-06-15 19:35:00.089131: I tensorflow/tsl/framework/bfc_allocator.cc:1095] InUse at 7fb18b227900 of size 2097152 next 535\n",
      "2023-06-15 19:35:00.089137: I tensorflow/tsl/framework/bfc_allocator.cc:1095] InUse at 7fb18b427900 of size 2097152 next 532\n",
      "2023-06-15 19:35:00.089144: I tensorflow/tsl/framework/bfc_allocator.cc:1095] InUse at 7fb18b627900 of size 2576384 next 211\n",
      "2023-06-15 19:35:00.089151: I tensorflow/tsl/framework/bfc_allocator.cc:1095] InUse at 7fb18b89c900 of size 2097152 next 221\n",
      "2023-06-15 19:35:00.089158: I tensorflow/tsl/framework/bfc_allocator.cc:1095] InUse at 7fb18ba9c900 of size 2293760 next 243\n",
      "2023-06-15 19:35:00.089164: I tensorflow/tsl/framework/bfc_allocator.cc:1095] InUse at 7fb18bccc900 of size 2097152 next 246\n",
      "2023-06-15 19:35:00.089172: I tensorflow/tsl/framework/bfc_allocator.cc:1095] InUse at 7fb18becc900 of size 2097152 next 268\n",
      "2023-06-15 19:35:00.089180: I tensorflow/tsl/framework/bfc_allocator.cc:1095] InUse at 7fb18c0cc900 of size 3997696 next 260\n",
      "2023-06-15 19:35:00.089186: I tensorflow/tsl/framework/bfc_allocator.cc:1095] InUse at 7fb18c49c900 of size 2097152 next 208\n",
      "2023-06-15 19:35:00.089193: I tensorflow/tsl/framework/bfc_allocator.cc:1095] InUse at 7fb18c69c900 of size 2097152 next 273\n",
      "2023-06-15 19:35:00.089200: I tensorflow/tsl/framework/bfc_allocator.cc:1095] InUse at 7fb18c89c900 of size 16596992 next 237\n",
      "2023-06-15 19:35:00.089213: I tensorflow/tsl/framework/bfc_allocator.cc:1095] InUse at 7fb18d870900 of size 2097152 next 842\n",
      "2023-06-15 19:35:00.089220: I tensorflow/tsl/framework/bfc_allocator.cc:1095] InUse at 7fb18da70900 of size 3604480 next 241\n",
      "2023-06-15 19:35:00.089226: I tensorflow/tsl/framework/bfc_allocator.cc:1095] InUse at 7fb18dde0900 of size 2097152 next 249\n",
      "2023-06-15 19:35:00.089233: I tensorflow/tsl/framework/bfc_allocator.cc:1095] InUse at 7fb18dfe0900 of size 2293760 next 279\n",
      "2023-06-15 19:35:00.089240: I tensorflow/tsl/framework/bfc_allocator.cc:1095] InUse at 7fb18e210900 of size 2097152 next 253\n",
      "2023-06-15 19:35:00.089246: I tensorflow/tsl/framework/bfc_allocator.cc:1095] InUse at 7fb18e410900 of size 2293760 next 262\n",
      "2023-06-15 19:35:00.089253: I tensorflow/tsl/framework/bfc_allocator.cc:1095] InUse at 7fb18e640900 of size 2097152 next 244\n",
      "2023-06-15 19:35:00.089260: I tensorflow/tsl/framework/bfc_allocator.cc:1095] InUse at 7fb18e840900 of size 2097152 next 264\n",
      "2023-06-15 19:35:00.089266: I tensorflow/tsl/framework/bfc_allocator.cc:1095] InUse at 7fb18ea40900 of size 2097152 next 263\n",
      "2023-06-15 19:35:00.089279: I tensorflow/tsl/framework/bfc_allocator.cc:1095] InUse at 7fb18ec40900 of size 2097152 next 245\n",
      "2023-06-15 19:35:00.089286: I tensorflow/tsl/framework/bfc_allocator.cc:1095] InUse at 7fb18ee40900 of size 2097152 next 318\n",
      "2023-06-15 19:35:00.089293: I tensorflow/tsl/framework/bfc_allocator.cc:1095] InUse at 7fb18f040900 of size 2662400 next 270\n",
      "2023-06-15 19:35:00.089300: I tensorflow/tsl/framework/bfc_allocator.cc:1095] InUse at 7fb18f2ca900 of size 2097152 next 465\n",
      "2023-06-15 19:35:00.089307: I tensorflow/tsl/framework/bfc_allocator.cc:1095] InUse at 7fb18f4ca900 of size 3604480 next 292\n",
      "2023-06-15 19:35:00.089313: I tensorflow/tsl/framework/bfc_allocator.cc:1095] InUse at 7fb18f83a900 of size 2097152 next 788\n",
      "2023-06-15 19:35:00.089321: I tensorflow/tsl/framework/bfc_allocator.cc:1095] InUse at 7fb18fa3a900 of size 2097152 next 791\n",
      "2023-06-15 19:35:00.089327: I tensorflow/tsl/framework/bfc_allocator.cc:1095] InUse at 7fb18fc3a900 of size 2097152 next 800\n",
      "2023-06-15 19:35:00.089334: I tensorflow/tsl/framework/bfc_allocator.cc:1095] InUse at 7fb18fe3a900 of size 2097152 next 785\n",
      "2023-06-15 19:35:00.089340: I tensorflow/tsl/framework/bfc_allocator.cc:1095] InUse at 7fb19003a900 of size 2097152 next 826\n",
      "2023-06-15 19:35:00.089347: I tensorflow/tsl/framework/bfc_allocator.cc:1095] InUse at 7fb19023a900 of size 2097152 next 794\n",
      "2023-06-15 19:35:00.089354: I tensorflow/tsl/framework/bfc_allocator.cc:1095] Free  at 7fb19043a900 of size 887808 next 964\n",
      "2023-06-15 19:35:00.089360: I tensorflow/tsl/framework/bfc_allocator.cc:1095] InUse at 7fb190513500 of size 295936 next 987\n",
      "2023-06-15 19:35:00.089367: I tensorflow/tsl/framework/bfc_allocator.cc:1095] InUse at 7fb19055b900 of size 8192 next 1028\n",
      "2023-06-15 19:35:00.089374: I tensorflow/tsl/framework/bfc_allocator.cc:1095] InUse at 7fb19055d900 of size 8192 next 1029\n",
      "2023-06-15 19:35:00.089380: I tensorflow/tsl/framework/bfc_allocator.cc:1095] InUse at 7fb19055f900 of size 1024 next 1032\n",
      "2023-06-15 19:35:00.089386: I tensorflow/tsl/framework/bfc_allocator.cc:1095] InUse at 7fb19055fd00 of size 1024 next 1033\n",
      "2023-06-15 19:35:00.089394: I tensorflow/tsl/framework/bfc_allocator.cc:1095] InUse at 7fb190560100 of size 8192 next 1036\n",
      "2023-06-15 19:35:00.089400: I tensorflow/tsl/framework/bfc_allocator.cc:1095] InUse at 7fb190562100 of size 8192 next 1037\n",
      "2023-06-15 19:35:00.089406: I tensorflow/tsl/framework/bfc_allocator.cc:1095] InUse at 7fb190564100 of size 8192 next 1040\n",
      "2023-06-15 19:35:00.089420: I tensorflow/tsl/framework/bfc_allocator.cc:1095] InUse at 7fb190566100 of size 8192 next 1041\n",
      "2023-06-15 19:35:00.089427: I tensorflow/tsl/framework/bfc_allocator.cc:1095] InUse at 7fb190568100 of size 8192 next 1044\n",
      "2023-06-15 19:35:00.089433: I tensorflow/tsl/framework/bfc_allocator.cc:1095] InUse at 7fb19056a100 of size 8192 next 1045\n",
      "2023-06-15 19:35:00.089440: I tensorflow/tsl/framework/bfc_allocator.cc:1095] InUse at 7fb19056c100 of size 1024 next 1048\n",
      "2023-06-15 19:35:00.089446: I tensorflow/tsl/framework/bfc_allocator.cc:1095] InUse at 7fb19056c500 of size 1024 next 1049\n",
      "2023-06-15 19:35:00.089453: I tensorflow/tsl/framework/bfc_allocator.cc:1095] InUse at 7fb19056c900 of size 1024 next 1050\n",
      "2023-06-15 19:35:00.089459: I tensorflow/tsl/framework/bfc_allocator.cc:1095] InUse at 7fb19056cd00 of size 1024 next 1051\n",
      "2023-06-15 19:35:00.089466: I tensorflow/tsl/framework/bfc_allocator.cc:1095] InUse at 7fb19056d100 of size 1024 next 1052\n",
      "2023-06-15 19:35:00.089473: I tensorflow/tsl/framework/bfc_allocator.cc:1095] InUse at 7fb19056d500 of size 1024 next 1053\n",
      "2023-06-15 19:35:00.089479: I tensorflow/tsl/framework/bfc_allocator.cc:1095] InUse at 7fb19056d900 of size 8192 next 1056\n",
      "2023-06-15 19:35:00.089486: I tensorflow/tsl/framework/bfc_allocator.cc:1095] InUse at 7fb19056f900 of size 8192 next 1057\n",
      "2023-06-15 19:35:00.089492: I tensorflow/tsl/framework/bfc_allocator.cc:1095] InUse at 7fb190571900 of size 1024 next 1060\n",
      "2023-06-15 19:35:00.089499: I tensorflow/tsl/framework/bfc_allocator.cc:1095] InUse at 7fb190571d00 of size 1024 next 1061\n",
      "2023-06-15 19:35:00.089506: I tensorflow/tsl/framework/bfc_allocator.cc:1095] InUse at 7fb190572100 of size 1024 next 1062\n",
      "2023-06-15 19:35:00.089512: I tensorflow/tsl/framework/bfc_allocator.cc:1095] InUse at 7fb190572500 of size 1024 next 1063\n",
      "2023-06-15 19:35:00.089518: I tensorflow/tsl/framework/bfc_allocator.cc:1095] InUse at 7fb190572900 of size 1024 next 1064\n",
      "2023-06-15 19:35:00.089525: I tensorflow/tsl/framework/bfc_allocator.cc:1095] InUse at 7fb190572d00 of size 1024 next 1065\n",
      "2023-06-15 19:35:00.089532: I tensorflow/tsl/framework/bfc_allocator.cc:1095] InUse at 7fb190573100 of size 8192 next 1068\n",
      "2023-06-15 19:35:00.089538: I tensorflow/tsl/framework/bfc_allocator.cc:1095] InUse at 7fb190575100 of size 8192 next 1069\n",
      "2023-06-15 19:35:00.089545: I tensorflow/tsl/framework/bfc_allocator.cc:1095] InUse at 7fb190577100 of size 8192 next 1071\n",
      "2023-06-15 19:35:00.089551: I tensorflow/tsl/framework/bfc_allocator.cc:1095] InUse at 7fb190579100 of size 8192 next 1072\n",
      "2023-06-15 19:35:00.089558: I tensorflow/tsl/framework/bfc_allocator.cc:1095] InUse at 7fb19057b100 of size 8192 next 1075\n",
      "2023-06-15 19:35:00.089564: I tensorflow/tsl/framework/bfc_allocator.cc:1095] InUse at 7fb19057d100 of size 8192 next 1076\n",
      "2023-06-15 19:35:00.089571: I tensorflow/tsl/framework/bfc_allocator.cc:1095] InUse at 7fb19057f100 of size 1024 next 1079\n",
      "2023-06-15 19:35:00.089577: I tensorflow/tsl/framework/bfc_allocator.cc:1095] InUse at 7fb19057f500 of size 1024 next 1080\n",
      "2023-06-15 19:35:00.089584: I tensorflow/tsl/framework/bfc_allocator.cc:1095] InUse at 7fb19057f900 of size 8192 next 1083\n",
      "2023-06-15 19:35:00.089590: I tensorflow/tsl/framework/bfc_allocator.cc:1095] InUse at 7fb190581900 of size 8192 next 1084\n",
      "2023-06-15 19:35:00.089597: I tensorflow/tsl/framework/bfc_allocator.cc:1095] InUse at 7fb190583900 of size 8192 next 1087\n",
      "2023-06-15 19:35:00.089604: I tensorflow/tsl/framework/bfc_allocator.cc:1095] InUse at 7fb190585900 of size 8192 next 1088\n",
      "2023-06-15 19:35:00.089610: I tensorflow/tsl/framework/bfc_allocator.cc:1095] InUse at 7fb190587900 of size 8192 next 1091\n",
      "2023-06-15 19:35:00.089617: I tensorflow/tsl/framework/bfc_allocator.cc:1095] InUse at 7fb190589900 of size 8192 next 1092\n",
      "2023-06-15 19:35:00.089623: I tensorflow/tsl/framework/bfc_allocator.cc:1095] InUse at 7fb19058b900 of size 1024 next 1095\n",
      "2023-06-15 19:35:00.089630: I tensorflow/tsl/framework/bfc_allocator.cc:1095] InUse at 7fb19058bd00 of size 1024 next 1096\n",
      "2023-06-15 19:35:00.089636: I tensorflow/tsl/framework/bfc_allocator.cc:1095] InUse at 7fb19058c100 of size 1024 next 1097\n",
      "2023-06-15 19:35:00.089643: I tensorflow/tsl/framework/bfc_allocator.cc:1095] InUse at 7fb19058c500 of size 1024 next 1098\n",
      "2023-06-15 19:35:00.089649: I tensorflow/tsl/framework/bfc_allocator.cc:1095] InUse at 7fb19058c900 of size 1024 next 1099\n",
      "2023-06-15 19:35:00.089656: I tensorflow/tsl/framework/bfc_allocator.cc:1095] InUse at 7fb19058cd00 of size 1024 next 1100\n",
      "2023-06-15 19:35:00.089662: I tensorflow/tsl/framework/bfc_allocator.cc:1095] InUse at 7fb19058d100 of size 8192 next 1103\n",
      "2023-06-15 19:35:00.089669: I tensorflow/tsl/framework/bfc_allocator.cc:1095] InUse at 7fb19058f100 of size 8192 next 1104\n",
      "2023-06-15 19:35:00.089677: I tensorflow/tsl/framework/bfc_allocator.cc:1095] InUse at 7fb190591100 of size 1024 next 1107\n",
      "2023-06-15 19:35:00.089683: I tensorflow/tsl/framework/bfc_allocator.cc:1095] InUse at 7fb190591500 of size 1024 next 1108\n",
      "2023-06-15 19:35:00.089690: I tensorflow/tsl/framework/bfc_allocator.cc:1095] InUse at 7fb190591900 of size 1024 next 1109\n",
      "2023-06-15 19:35:00.089697: I tensorflow/tsl/framework/bfc_allocator.cc:1095] InUse at 7fb190591d00 of size 1024 next 1110\n",
      "2023-06-15 19:35:00.089704: I tensorflow/tsl/framework/bfc_allocator.cc:1095] InUse at 7fb190592100 of size 1024 next 1111\n",
      "2023-06-15 19:35:00.089710: I tensorflow/tsl/framework/bfc_allocator.cc:1095] InUse at 7fb190592500 of size 1024 next 1112\n",
      "2023-06-15 19:35:00.089717: I tensorflow/tsl/framework/bfc_allocator.cc:1095] InUse at 7fb190592900 of size 256 next 1119\n",
      "2023-06-15 19:35:00.089731: I tensorflow/tsl/framework/bfc_allocator.cc:1095] InUse at 7fb190592a00 of size 256 next 1120\n",
      "2023-06-15 19:35:00.089738: I tensorflow/tsl/framework/bfc_allocator.cc:1095] InUse at 7fb190592b00 of size 256 next 1121\n",
      "2023-06-15 19:35:00.089744: I tensorflow/tsl/framework/bfc_allocator.cc:1095] InUse at 7fb190592c00 of size 256 next 1122\n",
      "2023-06-15 19:35:00.089752: I tensorflow/tsl/framework/bfc_allocator.cc:1095] InUse at 7fb190592d00 of size 256 next 1123\n",
      "2023-06-15 19:35:00.089757: I tensorflow/tsl/framework/bfc_allocator.cc:1095] InUse at 7fb190592e00 of size 256 next 1124\n",
      "2023-06-15 19:35:00.089764: I tensorflow/tsl/framework/bfc_allocator.cc:1095] InUse at 7fb190592f00 of size 256 next 1125\n",
      "2023-06-15 19:35:00.089771: I tensorflow/tsl/framework/bfc_allocator.cc:1095] InUse at 7fb190593000 of size 256 next 1126\n",
      "2023-06-15 19:35:00.089777: I tensorflow/tsl/framework/bfc_allocator.cc:1095] InUse at 7fb190593100 of size 256 next 1127\n",
      "2023-06-15 19:35:00.089784: I tensorflow/tsl/framework/bfc_allocator.cc:1095] InUse at 7fb190593200 of size 256 next 1128\n",
      "2023-06-15 19:35:00.089790: I tensorflow/tsl/framework/bfc_allocator.cc:1095] InUse at 7fb190593300 of size 256 next 1129\n",
      "2023-06-15 19:35:00.089797: I tensorflow/tsl/framework/bfc_allocator.cc:1095] InUse at 7fb190593400 of size 256 next 1130\n",
      "2023-06-15 19:35:00.089804: I tensorflow/tsl/framework/bfc_allocator.cc:1095] InUse at 7fb190593500 of size 256 next 1131\n",
      "2023-06-15 19:35:00.089810: I tensorflow/tsl/framework/bfc_allocator.cc:1095] InUse at 7fb190593600 of size 256 next 1132\n",
      "2023-06-15 19:35:00.089817: I tensorflow/tsl/framework/bfc_allocator.cc:1095] InUse at 7fb190593700 of size 256 next 1133\n",
      "2023-06-15 19:35:00.089823: I tensorflow/tsl/framework/bfc_allocator.cc:1095] InUse at 7fb190593800 of size 256 next 1134\n",
      "2023-06-15 19:35:00.089830: I tensorflow/tsl/framework/bfc_allocator.cc:1095] InUse at 7fb190593900 of size 256 next 1135\n",
      "2023-06-15 19:35:00.089837: I tensorflow/tsl/framework/bfc_allocator.cc:1095] InUse at 7fb190593a00 of size 256 next 1136\n",
      "2023-06-15 19:35:00.089843: I tensorflow/tsl/framework/bfc_allocator.cc:1095] InUse at 7fb190593b00 of size 256 next 1137\n",
      "2023-06-15 19:35:00.089850: I tensorflow/tsl/framework/bfc_allocator.cc:1095] InUse at 7fb190593c00 of size 256 next 1138\n",
      "2023-06-15 19:35:00.089856: I tensorflow/tsl/framework/bfc_allocator.cc:1095] InUse at 7fb190593d00 of size 256 next 1139\n",
      "2023-06-15 19:35:00.089862: I tensorflow/tsl/framework/bfc_allocator.cc:1095] InUse at 7fb190593e00 of size 256 next 1140\n",
      "2023-06-15 19:35:00.089869: I tensorflow/tsl/framework/bfc_allocator.cc:1095] InUse at 7fb190593f00 of size 256 next 1141\n",
      "2023-06-15 19:35:00.089876: I tensorflow/tsl/framework/bfc_allocator.cc:1095] InUse at 7fb190594000 of size 256 next 1142\n",
      "2023-06-15 19:35:00.089882: I tensorflow/tsl/framework/bfc_allocator.cc:1095] InUse at 7fb190594100 of size 256 next 1143\n",
      "2023-06-15 19:35:00.089889: I tensorflow/tsl/framework/bfc_allocator.cc:1095] InUse at 7fb190594200 of size 256 next 1144\n",
      "2023-06-15 19:35:00.089895: I tensorflow/tsl/framework/bfc_allocator.cc:1095] InUse at 7fb190594300 of size 256 next 1145\n",
      "2023-06-15 19:35:00.089902: I tensorflow/tsl/framework/bfc_allocator.cc:1095] InUse at 7fb190594400 of size 256 next 1146\n",
      "2023-06-15 19:35:00.089908: I tensorflow/tsl/framework/bfc_allocator.cc:1095] InUse at 7fb190594500 of size 256 next 1147\n",
      "2023-06-15 19:35:00.089915: I tensorflow/tsl/framework/bfc_allocator.cc:1095] InUse at 7fb190594600 of size 256 next 1148\n",
      "2023-06-15 19:35:00.089921: I tensorflow/tsl/framework/bfc_allocator.cc:1095] InUse at 7fb190594700 of size 256 next 1149\n",
      "2023-06-15 19:35:00.089938: I tensorflow/tsl/framework/bfc_allocator.cc:1095] InUse at 7fb190594800 of size 256 next 1174\n",
      "2023-06-15 19:35:00.089944: I tensorflow/tsl/framework/bfc_allocator.cc:1095] Free  at 7fb190594900 of size 256 next 1175\n",
      "2023-06-15 19:35:00.089950: I tensorflow/tsl/framework/bfc_allocator.cc:1095] InUse at 7fb190594a00 of size 256 next 1180\n",
      "2023-06-15 19:35:00.089957: I tensorflow/tsl/framework/bfc_allocator.cc:1095] InUse at 7fb190594b00 of size 256 next 1181\n",
      "2023-06-15 19:35:00.089964: I tensorflow/tsl/framework/bfc_allocator.cc:1095] Free  at 7fb190594c00 of size 256 next 1184\n",
      "2023-06-15 19:35:00.089971: I tensorflow/tsl/framework/bfc_allocator.cc:1095] InUse at 7fb190594d00 of size 256 next 1202\n",
      "2023-06-15 19:35:00.089977: I tensorflow/tsl/framework/bfc_allocator.cc:1095] InUse at 7fb190594e00 of size 256 next 1156\n",
      "2023-06-15 19:35:00.089983: I tensorflow/tsl/framework/bfc_allocator.cc:1095] InUse at 7fb190594f00 of size 256 next 1160\n",
      "2023-06-15 19:35:00.089990: I tensorflow/tsl/framework/bfc_allocator.cc:1095] InUse at 7fb190595000 of size 18688 next 1457\n",
      "2023-06-15 19:35:00.089997: I tensorflow/tsl/framework/bfc_allocator.cc:1095] InUse at 7fb190599900 of size 19200 next 1155\n",
      "2023-06-15 19:35:00.090005: I tensorflow/tsl/framework/bfc_allocator.cc:1095] InUse at 7fb19059e400 of size 37376 next 1013\n",
      "2023-06-15 19:35:00.090011: I tensorflow/tsl/framework/bfc_allocator.cc:1095] InUse at 7fb1905a7600 of size 18944 next 1447\n",
      "2023-06-15 19:35:00.090018: I tensorflow/tsl/framework/bfc_allocator.cc:1095] Free  at 7fb1905ac000 of size 256 next 1314\n",
      "2023-06-15 19:35:00.090024: I tensorflow/tsl/framework/bfc_allocator.cc:1095] InUse at 7fb1905ac100 of size 29696 next 1177\n",
      "2023-06-15 19:35:00.090031: I tensorflow/tsl/framework/bfc_allocator.cc:1095] InUse at 7fb1905b3500 of size 10752 next 1458\n",
      "2023-06-15 19:35:00.090038: I tensorflow/tsl/framework/bfc_allocator.cc:1095] InUse at 7fb1905b5f00 of size 1024 next 1385\n",
      "2023-06-15 19:35:00.090045: I tensorflow/tsl/framework/bfc_allocator.cc:1095] InUse at 7fb1905b6300 of size 1024 next 1305\n",
      "2023-06-15 19:35:00.090051: I tensorflow/tsl/framework/bfc_allocator.cc:1095] InUse at 7fb1905b6700 of size 1024 next 1384\n",
      "2023-06-15 19:35:00.090058: I tensorflow/tsl/framework/bfc_allocator.cc:1095] InUse at 7fb1905b6b00 of size 1024 next 1383\n",
      "2023-06-15 19:35:00.090064: I tensorflow/tsl/framework/bfc_allocator.cc:1095] InUse at 7fb1905b6f00 of size 1024 next 1165\n",
      "2023-06-15 19:35:00.090071: I tensorflow/tsl/framework/bfc_allocator.cc:1095] InUse at 7fb1905b7300 of size 1024 next 1257\n",
      "2023-06-15 19:35:00.090078: I tensorflow/tsl/framework/bfc_allocator.cc:1095] InUse at 7fb1905b7700 of size 1024 next 1364\n",
      "2023-06-15 19:35:00.090093: I tensorflow/tsl/framework/bfc_allocator.cc:1095] InUse at 7fb1905b7b00 of size 1024 next 1362\n",
      "2023-06-15 19:35:00.090111: I tensorflow/tsl/framework/bfc_allocator.cc:1095] InUse at 7fb1905b7f00 of size 1024 next 1363\n",
      "2023-06-15 19:35:00.090118: I tensorflow/tsl/framework/bfc_allocator.cc:1095] InUse at 7fb1905b8300 of size 1024 next 1367\n",
      "2023-06-15 19:35:00.090124: I tensorflow/tsl/framework/bfc_allocator.cc:1095] InUse at 7fb1905b8700 of size 1024 next 1365\n",
      "2023-06-15 19:35:00.090130: I tensorflow/tsl/framework/bfc_allocator.cc:1095] InUse at 7fb1905b8b00 of size 1024 next 1306\n",
      "2023-06-15 19:35:00.090137: I tensorflow/tsl/framework/bfc_allocator.cc:1095] InUse at 7fb1905b8f00 of size 1024 next 1366\n",
      "2023-06-15 19:35:00.090143: I tensorflow/tsl/framework/bfc_allocator.cc:1095] InUse at 7fb1905b9300 of size 1024 next 1350\n",
      "2023-06-15 19:35:00.090150: I tensorflow/tsl/framework/bfc_allocator.cc:1095] InUse at 7fb1905b9700 of size 1024 next 1346\n",
      "2023-06-15 19:35:00.090156: I tensorflow/tsl/framework/bfc_allocator.cc:1095] InUse at 7fb1905b9b00 of size 1024 next 1335\n",
      "2023-06-15 19:35:00.090163: I tensorflow/tsl/framework/bfc_allocator.cc:1095] InUse at 7fb1905b9f00 of size 1024 next 1344\n",
      "2023-06-15 19:35:00.090170: I tensorflow/tsl/framework/bfc_allocator.cc:1095] InUse at 7fb1905ba300 of size 1024 next 1182\n",
      "2023-06-15 19:35:00.090176: I tensorflow/tsl/framework/bfc_allocator.cc:1095] InUse at 7fb1905ba700 of size 1280 next 1439\n",
      "2023-06-15 19:35:00.090183: I tensorflow/tsl/framework/bfc_allocator.cc:1095] InUse at 7fb1905bac00 of size 18944 next 1441\n",
      "2023-06-15 19:35:00.090190: I tensorflow/tsl/framework/bfc_allocator.cc:1095] InUse at 7fb1905bf600 of size 24576 next 1455\n",
      "2023-06-15 19:35:00.090197: I tensorflow/tsl/framework/bfc_allocator.cc:1095] InUse at 7fb1905c5600 of size 4864 next 1450\n",
      "2023-06-15 19:35:00.090203: I tensorflow/tsl/framework/bfc_allocator.cc:1095] InUse at 7fb1905c6900 of size 1024 next 1311\n",
      "2023-06-15 19:35:00.090210: I tensorflow/tsl/framework/bfc_allocator.cc:1095] InUse at 7fb1905c6d00 of size 1024 next 1416\n",
      "2023-06-15 19:35:00.090217: I tensorflow/tsl/framework/bfc_allocator.cc:1095] InUse at 7fb1905c7100 of size 1024 next 1312\n",
      "2023-06-15 19:35:00.090223: I tensorflow/tsl/framework/bfc_allocator.cc:1095] InUse at 7fb1905c7500 of size 1792 next 1451\n",
      "2023-06-15 19:35:00.090230: I tensorflow/tsl/framework/bfc_allocator.cc:1095] InUse at 7fb1905c7c00 of size 256 next 1173\n",
      "2023-06-15 19:35:00.090236: I tensorflow/tsl/framework/bfc_allocator.cc:1095] InUse at 7fb1905c7d00 of size 256 next 1195\n",
      "2023-06-15 19:35:00.090243: I tensorflow/tsl/framework/bfc_allocator.cc:1095] InUse at 7fb1905c7e00 of size 1024 next 1408\n",
      "2023-06-15 19:35:00.090250: I tensorflow/tsl/framework/bfc_allocator.cc:1095] InUse at 7fb1905c8200 of size 1024 next 1402\n",
      "2023-06-15 19:35:00.090256: I tensorflow/tsl/framework/bfc_allocator.cc:1095] InUse at 7fb1905c8600 of size 1024 next 1393\n",
      "2023-06-15 19:35:00.090263: I tensorflow/tsl/framework/bfc_allocator.cc:1095] InUse at 7fb1905c8a00 of size 1024 next 1404\n",
      "2023-06-15 19:35:00.090269: I tensorflow/tsl/framework/bfc_allocator.cc:1095] InUse at 7fb1905c8e00 of size 1024 next 1392\n",
      "2023-06-15 19:35:00.090276: I tensorflow/tsl/framework/bfc_allocator.cc:1095] InUse at 7fb1905c9200 of size 1024 next 1399\n",
      "2023-06-15 19:35:00.090282: I tensorflow/tsl/framework/bfc_allocator.cc:1095] InUse at 7fb1905c9600 of size 1024 next 1386\n",
      "2023-06-15 19:35:00.090289: I tensorflow/tsl/framework/bfc_allocator.cc:1095] InUse at 7fb1905c9a00 of size 1280 next 1460\n",
      "2023-06-15 19:35:00.090295: I tensorflow/tsl/framework/bfc_allocator.cc:1095] InUse at 7fb1905c9f00 of size 27904 next 1015\n",
      "2023-06-15 19:35:00.090302: I tensorflow/tsl/framework/bfc_allocator.cc:1095] InUse at 7fb1905d0c00 of size 160000 next 1016\n",
      "2023-06-15 19:35:00.090309: I tensorflow/tsl/framework/bfc_allocator.cc:1095] InUse at 7fb1905f7d00 of size 8192 next 375\n",
      "2023-06-15 19:35:00.090316: I tensorflow/tsl/framework/bfc_allocator.cc:1095] InUse at 7fb1905f9d00 of size 8192 next 431\n",
      "2023-06-15 19:35:00.090322: I tensorflow/tsl/framework/bfc_allocator.cc:1095] InUse at 7fb1905fbd00 of size 8192 next 434\n",
      "2023-06-15 19:35:00.090329: I tensorflow/tsl/framework/bfc_allocator.cc:1095] InUse at 7fb1905fdd00 of size 8192 next 413\n",
      "2023-06-15 19:35:00.090336: I tensorflow/tsl/framework/bfc_allocator.cc:1095] InUse at 7fb1905ffd00 of size 8192 next 390\n",
      "2023-06-15 19:35:00.090342: I tensorflow/tsl/framework/bfc_allocator.cc:1095] InUse at 7fb190601d00 of size 8192 next 381\n",
      "2023-06-15 19:35:00.090349: I tensorflow/tsl/framework/bfc_allocator.cc:1095] InUse at 7fb190603d00 of size 8192 next 399\n",
      "2023-06-15 19:35:00.090356: I tensorflow/tsl/framework/bfc_allocator.cc:1095] InUse at 7fb190605d00 of size 8192 next 398\n",
      "2023-06-15 19:35:00.090362: I tensorflow/tsl/framework/bfc_allocator.cc:1095] InUse at 7fb190607d00 of size 8192 next 525\n",
      "2023-06-15 19:35:00.090369: I tensorflow/tsl/framework/bfc_allocator.cc:1095] InUse at 7fb190609d00 of size 8192 next 512\n",
      "2023-06-15 19:35:00.090387: I tensorflow/tsl/framework/bfc_allocator.cc:1095] InUse at 7fb19060bd00 of size 8192 next 496\n",
      "2023-06-15 19:35:00.090393: I tensorflow/tsl/framework/bfc_allocator.cc:1095] InUse at 7fb19060dd00 of size 8192 next 474\n",
      "2023-06-15 19:35:00.090409: I tensorflow/tsl/framework/bfc_allocator.cc:1095] InUse at 7fb19060fd00 of size 8192 next 452\n",
      "2023-06-15 19:35:00.090416: I tensorflow/tsl/framework/bfc_allocator.cc:1095] InUse at 7fb190611d00 of size 8192 next 494\n",
      "2023-06-15 19:35:00.090423: I tensorflow/tsl/framework/bfc_allocator.cc:1095] InUse at 7fb190613d00 of size 8192 next 490\n",
      "2023-06-15 19:35:00.090429: I tensorflow/tsl/framework/bfc_allocator.cc:1095] InUse at 7fb190615d00 of size 8192 next 479\n",
      "2023-06-15 19:35:00.090435: I tensorflow/tsl/framework/bfc_allocator.cc:1095] InUse at 7fb190617d00 of size 1024 next 497\n",
      "2023-06-15 19:35:00.090443: I tensorflow/tsl/framework/bfc_allocator.cc:1095] InUse at 7fb190618100 of size 1024 next 493\n",
      "2023-06-15 19:35:00.090448: I tensorflow/tsl/framework/bfc_allocator.cc:1095] InUse at 7fb190618500 of size 1024 next 486\n",
      "2023-06-15 19:35:00.090456: I tensorflow/tsl/framework/bfc_allocator.cc:1095] InUse at 7fb190618900 of size 1024 next 492\n",
      "2023-06-15 19:35:00.090462: I tensorflow/tsl/framework/bfc_allocator.cc:1095] InUse at 7fb190618d00 of size 8192 next 481\n",
      "2023-06-15 19:35:00.090468: I tensorflow/tsl/framework/bfc_allocator.cc:1095] InUse at 7fb19061ad00 of size 8192 next 495\n",
      "2023-06-15 19:35:00.090475: I tensorflow/tsl/framework/bfc_allocator.cc:1095] InUse at 7fb19061cd00 of size 8192 next 476\n",
      "2023-06-15 19:35:00.090482: I tensorflow/tsl/framework/bfc_allocator.cc:1095] InUse at 7fb19061ed00 of size 8192 next 485\n",
      "2023-06-15 19:35:00.090488: I tensorflow/tsl/framework/bfc_allocator.cc:1095] InUse at 7fb190620d00 of size 8192 next 475\n",
      "2023-06-15 19:35:00.090502: I tensorflow/tsl/framework/bfc_allocator.cc:1095] InUse at 7fb190622d00 of size 8192 next 471\n",
      "2023-06-15 19:35:00.090509: I tensorflow/tsl/framework/bfc_allocator.cc:1095] InUse at 7fb190624d00 of size 1024 next 517\n",
      "2023-06-15 19:35:00.090516: I tensorflow/tsl/framework/bfc_allocator.cc:1095] InUse at 7fb190625100 of size 1024 next 534\n",
      "2023-06-15 19:35:00.090522: I tensorflow/tsl/framework/bfc_allocator.cc:1095] InUse at 7fb190625500 of size 8192 next 529\n",
      "2023-06-15 19:35:00.090529: I tensorflow/tsl/framework/bfc_allocator.cc:1095] InUse at 7fb190627500 of size 8192 next 528\n",
      "2023-06-15 19:35:00.090535: I tensorflow/tsl/framework/bfc_allocator.cc:1095] InUse at 7fb190629500 of size 8192 next 526\n",
      "2023-06-15 19:35:00.090542: I tensorflow/tsl/framework/bfc_allocator.cc:1095] InUse at 7fb19062b500 of size 8192 next 522\n",
      "2023-06-15 19:35:00.090548: I tensorflow/tsl/framework/bfc_allocator.cc:1095] InUse at 7fb19062d500 of size 8192 next 518\n",
      "2023-06-15 19:35:00.090555: I tensorflow/tsl/framework/bfc_allocator.cc:1095] InUse at 7fb19062f500 of size 8192 next 524\n",
      "2023-06-15 19:35:00.090562: I tensorflow/tsl/framework/bfc_allocator.cc:1095] InUse at 7fb190631500 of size 1024 next 482\n",
      "2023-06-15 19:35:00.090568: I tensorflow/tsl/framework/bfc_allocator.cc:1095] InUse at 7fb190631900 of size 1024 next 507\n",
      "2023-06-15 19:35:00.090575: I tensorflow/tsl/framework/bfc_allocator.cc:1095] InUse at 7fb190631d00 of size 1024 next 516\n",
      "2023-06-15 19:35:00.090582: I tensorflow/tsl/framework/bfc_allocator.cc:1095] InUse at 7fb190632100 of size 1024 next 416\n",
      "2023-06-15 19:35:00.090588: I tensorflow/tsl/framework/bfc_allocator.cc:1095] InUse at 7fb190632500 of size 1024 next 509\n",
      "2023-06-15 19:35:00.090595: I tensorflow/tsl/framework/bfc_allocator.cc:1095] InUse at 7fb190632900 of size 1024 next 502\n",
      "2023-06-15 19:35:00.090610: I tensorflow/tsl/framework/bfc_allocator.cc:1095] InUse at 7fb190632d00 of size 8192 next 505\n",
      "2023-06-15 19:35:00.090616: I tensorflow/tsl/framework/bfc_allocator.cc:1095] InUse at 7fb190634d00 of size 8192 next 506\n",
      "2023-06-15 19:35:00.090623: I tensorflow/tsl/framework/bfc_allocator.cc:1095] InUse at 7fb190636d00 of size 1024 next 542\n",
      "2023-06-15 19:35:00.090630: I tensorflow/tsl/framework/bfc_allocator.cc:1095] InUse at 7fb190637100 of size 1024 next 566\n",
      "2023-06-15 19:35:00.090636: I tensorflow/tsl/framework/bfc_allocator.cc:1095] InUse at 7fb190637500 of size 1024 next 540\n",
      "2023-06-15 19:35:00.090643: I tensorflow/tsl/framework/bfc_allocator.cc:1095] InUse at 7fb190637900 of size 1024 next 565\n",
      "2023-06-15 19:35:00.090650: I tensorflow/tsl/framework/bfc_allocator.cc:1095] InUse at 7fb190637d00 of size 1024 next 564\n",
      "2023-06-15 19:35:00.090656: I tensorflow/tsl/framework/bfc_allocator.cc:1095] InUse at 7fb190638100 of size 1024 next 543\n",
      "2023-06-15 19:35:00.090663: I tensorflow/tsl/framework/bfc_allocator.cc:1095] InUse at 7fb190638500 of size 9216 next 857\n",
      "2023-06-15 19:35:00.090670: I tensorflow/tsl/framework/bfc_allocator.cc:1095] InUse at 7fb19063a900 of size 2097152 next 856\n",
      "2023-06-15 19:35:00.090676: I tensorflow/tsl/framework/bfc_allocator.cc:1095] InUse at 7fb19083a900 of size 2293760 next 828\n",
      "2023-06-15 19:35:00.090683: I tensorflow/tsl/framework/bfc_allocator.cc:1095] InUse at 7fb190a6a900 of size 3538944 next 799\n",
      "2023-06-15 19:35:00.090690: I tensorflow/tsl/framework/bfc_allocator.cc:1095] InUse at 7fb190dca900 of size 2097152 next 802\n",
      "2023-06-15 19:35:00.090697: I tensorflow/tsl/framework/bfc_allocator.cc:1095] InUse at 7fb190fca900 of size 2097152 next 819\n",
      "2023-06-15 19:35:00.090704: I tensorflow/tsl/framework/bfc_allocator.cc:1095] InUse at 7fb1911ca900 of size 2097152 next 822\n",
      "2023-06-15 19:35:00.090710: I tensorflow/tsl/framework/bfc_allocator.cc:1095] InUse at 7fb1913ca900 of size 2097152 next 831\n",
      "2023-06-15 19:35:00.090717: I tensorflow/tsl/framework/bfc_allocator.cc:1095] InUse at 7fb1915ca900 of size 2097152 next 834\n",
      "2023-06-15 19:35:00.090724: I tensorflow/tsl/framework/bfc_allocator.cc:1095] InUse at 7fb1917ca900 of size 2097152 next 838\n",
      "2023-06-15 19:35:00.090730: I tensorflow/tsl/framework/bfc_allocator.cc:1095] InUse at 7fb1919ca900 of size 2097152 next 852\n",
      "2023-06-15 19:35:00.090737: I tensorflow/tsl/framework/bfc_allocator.cc:1095] InUse at 7fb191bca900 of size 3080192 next 798\n",
      "2023-06-15 19:35:00.090743: I tensorflow/tsl/framework/bfc_allocator.cc:1095] InUse at 7fb191eba900 of size 2097152 next 812\n",
      "2023-06-15 19:35:00.090750: I tensorflow/tsl/framework/bfc_allocator.cc:1095] InUse at 7fb1920ba900 of size 3817472 next 335\n",
      "2023-06-15 19:35:00.090758: I tensorflow/tsl/framework/bfc_allocator.cc:1095] InUse at 7fb19245e900 of size 2097152 next 557\n",
      "2023-06-15 19:35:00.090764: I tensorflow/tsl/framework/bfc_allocator.cc:1095] InUse at 7fb19265e900 of size 2097152 next 556\n",
      "2023-06-15 19:35:00.090770: I tensorflow/tsl/framework/bfc_allocator.cc:1095] InUse at 7fb19285e900 of size 2097152 next 544\n",
      "2023-06-15 19:35:00.090777: I tensorflow/tsl/framework/bfc_allocator.cc:1095] InUse at 7fb192a5e900 of size 2097152 next 549\n",
      "2023-06-15 19:35:00.090785: I tensorflow/tsl/framework/bfc_allocator.cc:1095] InUse at 7fb192c5e900 of size 2097152 next 538\n",
      "2023-06-15 19:35:00.090792: I tensorflow/tsl/framework/bfc_allocator.cc:1095] InUse at 7fb192e5e900 of size 2097152 next 541\n",
      "2023-06-15 19:35:00.090799: I tensorflow/tsl/framework/bfc_allocator.cc:1095] InUse at 7fb19305e900 of size 2097152 next 537\n",
      "2023-06-15 19:35:00.090808: I tensorflow/tsl/framework/bfc_allocator.cc:1095] InUse at 7fb19325e900 of size 2097152 next 584\n",
      "2023-06-15 19:35:00.090813: I tensorflow/tsl/framework/bfc_allocator.cc:1095] InUse at 7fb19345e900 of size 2097152 next 569\n",
      "2023-06-15 19:35:00.090820: I tensorflow/tsl/framework/bfc_allocator.cc:1095] InUse at 7fb19365e900 of size 2097152 next 595\n",
      "2023-06-15 19:35:00.090827: I tensorflow/tsl/framework/bfc_allocator.cc:1095] InUse at 7fb19385e900 of size 3993600 next 621\n",
      "2023-06-15 19:35:00.090834: I tensorflow/tsl/framework/bfc_allocator.cc:1095] InUse at 7fb193c2d900 of size 256 next 640\n",
      "2023-06-15 19:35:00.090840: I tensorflow/tsl/framework/bfc_allocator.cc:1095] InUse at 7fb193c2da00 of size 256 next 644\n",
      "2023-06-15 19:35:00.090847: I tensorflow/tsl/framework/bfc_allocator.cc:1095] InUse at 7fb193c2db00 of size 256 next 657\n",
      "2023-06-15 19:35:00.090854: I tensorflow/tsl/framework/bfc_allocator.cc:1095] InUse at 7fb193c2dc00 of size 256 next 660\n",
      "2023-06-15 19:35:00.090861: I tensorflow/tsl/framework/bfc_allocator.cc:1095] InUse at 7fb193c2dd00 of size 256 next 662\n",
      "2023-06-15 19:35:00.090868: I tensorflow/tsl/framework/bfc_allocator.cc:1095] InUse at 7fb193c2de00 of size 512 next 663\n",
      "2023-06-15 19:35:00.090875: I tensorflow/tsl/framework/bfc_allocator.cc:1095] InUse at 7fb193c2e000 of size 256 next 664\n",
      "2023-06-15 19:35:00.090881: I tensorflow/tsl/framework/bfc_allocator.cc:1095] InUse at 7fb193c2e100 of size 512 next 665\n",
      "2023-06-15 19:35:00.090888: I tensorflow/tsl/framework/bfc_allocator.cc:1095] InUse at 7fb193c2e300 of size 768 next 666\n",
      "2023-06-15 19:35:00.090894: I tensorflow/tsl/framework/bfc_allocator.cc:1095] InUse at 7fb193c2e600 of size 256 next 667\n",
      "2023-06-15 19:35:00.090901: I tensorflow/tsl/framework/bfc_allocator.cc:1095] InUse at 7fb193c2e700 of size 256 next 1010\n",
      "2023-06-15 19:35:00.090907: I tensorflow/tsl/framework/bfc_allocator.cc:1095] InUse at 7fb193c2e800 of size 256 next 669\n",
      "2023-06-15 19:35:00.090915: I tensorflow/tsl/framework/bfc_allocator.cc:1095] InUse at 7fb193c2e900 of size 768 next 670\n",
      "2023-06-15 19:35:00.090920: I tensorflow/tsl/framework/bfc_allocator.cc:1095] InUse at 7fb193c2ec00 of size 256 next 19\n",
      "2023-06-15 19:35:00.090928: I tensorflow/tsl/framework/bfc_allocator.cc:1095] InUse at 7fb193c2ed00 of size 8192 next 647\n",
      "2023-06-15 19:35:00.090934: I tensorflow/tsl/framework/bfc_allocator.cc:1095] InUse at 7fb193c30d00 of size 8192 next 614\n",
      "2023-06-15 19:35:00.090940: I tensorflow/tsl/framework/bfc_allocator.cc:1095] InUse at 7fb193c32d00 of size 8192 next 630\n",
      "2023-06-15 19:35:00.090947: I tensorflow/tsl/framework/bfc_allocator.cc:1095] InUse at 7fb193c34d00 of size 8192 next 641\n",
      "2023-06-15 19:35:00.090953: I tensorflow/tsl/framework/bfc_allocator.cc:1095] InUse at 7fb193c36d00 of size 8192 next 578\n",
      "2023-06-15 19:35:00.090960: I tensorflow/tsl/framework/bfc_allocator.cc:1095] InUse at 7fb193c38d00 of size 12288 next 639\n",
      "2023-06-15 19:35:00.090967: I tensorflow/tsl/framework/bfc_allocator.cc:1095] InUse at 7fb193c3bd00 of size 16896 next 651\n",
      "2023-06-15 19:35:00.090974: I tensorflow/tsl/framework/bfc_allocator.cc:1095] InUse at 7fb193c3ff00 of size 1024 next 402\n",
      "2023-06-15 19:35:00.090980: I tensorflow/tsl/framework/bfc_allocator.cc:1095] InUse at 7fb193c40300 of size 1024 next 380\n",
      "2023-06-15 19:35:00.090987: I tensorflow/tsl/framework/bfc_allocator.cc:1095] InUse at 7fb193c40700 of size 1024 next 349\n",
      "2023-06-15 19:35:00.090993: I tensorflow/tsl/framework/bfc_allocator.cc:1095] InUse at 7fb193c40b00 of size 1024 next 364\n",
      "2023-06-15 19:35:00.091001: I tensorflow/tsl/framework/bfc_allocator.cc:1095] InUse at 7fb193c40f00 of size 1536 next 652\n",
      "2023-06-15 19:35:00.091007: I tensorflow/tsl/framework/bfc_allocator.cc:1095] InUse at 7fb193c41500 of size 14080 next 655\n",
      "2023-06-15 19:35:00.091013: I tensorflow/tsl/framework/bfc_allocator.cc:1095] InUse at 7fb193c44c00 of size 14080 next 661\n",
      "2023-06-15 19:35:00.091020: I tensorflow/tsl/framework/bfc_allocator.cc:1095] InUse at 7fb193c48300 of size 13056 next 668\n",
      "2023-06-15 19:35:00.091028: I tensorflow/tsl/framework/bfc_allocator.cc:1095] InUse at 7fb193c4b600 of size 34816 next 29\n",
      "2023-06-15 19:35:00.091034: I tensorflow/tsl/framework/bfc_allocator.cc:1095] InUse at 7fb193c53e00 of size 73728 next 484\n",
      "2023-06-15 19:35:00.091041: I tensorflow/tsl/framework/bfc_allocator.cc:1095] Free  at 7fb193c65e00 of size 422912 next 1456\n",
      "2023-06-15 19:35:00.091048: I tensorflow/tsl/framework/bfc_allocator.cc:1095] InUse at 7fb193ccd200 of size 37376 next 1459\n",
      "2023-06-15 19:35:00.091054: I tensorflow/tsl/framework/bfc_allocator.cc:1095] InUse at 7fb193cd6400 of size 18944 next 1443\n",
      "2023-06-15 19:35:00.091060: I tensorflow/tsl/framework/bfc_allocator.cc:1095] InUse at 7fb193cdae00 of size 18944 next 1419\n",
      "2023-06-15 19:35:00.091068: I tensorflow/tsl/framework/bfc_allocator.cc:1095] InUse at 7fb193cdf800 of size 18688 next 1421\n",
      "2023-06-15 19:35:00.091074: I tensorflow/tsl/framework/bfc_allocator.cc:1095] InUse at 7fb193ce4100 of size 18688 next 1432\n",
      "2023-06-15 19:35:00.091080: I tensorflow/tsl/framework/bfc_allocator.cc:1095] InUse at 7fb193ce8a00 of size 20224 next 1440\n",
      "2023-06-15 19:35:00.091087: I tensorflow/tsl/framework/bfc_allocator.cc:1095] InUse at 7fb193ced900 of size 6400 next 1438\n",
      "2023-06-15 19:35:00.091094: I tensorflow/tsl/framework/bfc_allocator.cc:1095] InUse at 7fb193cef200 of size 18944 next 1200\n",
      "2023-06-15 19:35:00.091101: I tensorflow/tsl/framework/bfc_allocator.cc:1095] InUse at 7fb193cf3c00 of size 18688 next 1427\n",
      "2023-06-15 19:35:00.091107: I tensorflow/tsl/framework/bfc_allocator.cc:1095] InUse at 7fb193cf8500 of size 18688 next 1431\n",
      "2023-06-15 19:35:00.091114: I tensorflow/tsl/framework/bfc_allocator.cc:1095] InUse at 7fb193cfce00 of size 18688 next 1196\n",
      "2023-06-15 19:35:00.091120: I tensorflow/tsl/framework/bfc_allocator.cc:1095] InUse at 7fb193d01700 of size 18688 next 1412\n",
      "2023-06-15 19:35:00.091127: I tensorflow/tsl/framework/bfc_allocator.cc:1095] InUse at 7fb193d06000 of size 18688 next 1424\n",
      "2023-06-15 19:35:00.091133: I tensorflow/tsl/framework/bfc_allocator.cc:1095] InUse at 7fb193d0a900 of size 18688 next 1426\n",
      "2023-06-15 19:35:00.091140: I tensorflow/tsl/framework/bfc_allocator.cc:1095] InUse at 7fb193d0f200 of size 18688 next 1407\n",
      "2023-06-15 19:35:00.091147: I tensorflow/tsl/framework/bfc_allocator.cc:1095] InUse at 7fb193d13b00 of size 18688 next 1425\n",
      "2023-06-15 19:35:00.091154: I tensorflow/tsl/framework/bfc_allocator.cc:1095] InUse at 7fb193d18400 of size 1024 next 1340\n",
      "2023-06-15 19:35:00.091161: I tensorflow/tsl/framework/bfc_allocator.cc:1095] InUse at 7fb193d18800 of size 1024 next 1318\n",
      "2023-06-15 19:35:00.091168: I tensorflow/tsl/framework/bfc_allocator.cc:1095] InUse at 7fb193d18c00 of size 1024 next 1179\n",
      "2023-06-15 19:35:00.091174: I tensorflow/tsl/framework/bfc_allocator.cc:1095] InUse at 7fb193d19000 of size 1024 next 1320\n",
      "2023-06-15 19:35:00.091181: I tensorflow/tsl/framework/bfc_allocator.cc:1095] InUse at 7fb193d19400 of size 1024 next 1322\n",
      "2023-06-15 19:35:00.091187: I tensorflow/tsl/framework/bfc_allocator.cc:1095] InUse at 7fb193d19800 of size 1024 next 1315\n",
      "2023-06-15 19:35:00.091194: I tensorflow/tsl/framework/bfc_allocator.cc:1095] InUse at 7fb193d19c00 of size 1024 next 1324\n",
      "2023-06-15 19:35:00.091201: I tensorflow/tsl/framework/bfc_allocator.cc:1095] InUse at 7fb193d1a000 of size 1024 next 1302\n",
      "2023-06-15 19:35:00.091207: I tensorflow/tsl/framework/bfc_allocator.cc:1095] InUse at 7fb193d1a400 of size 1024 next 1303\n",
      "2023-06-15 19:35:00.091215: I tensorflow/tsl/framework/bfc_allocator.cc:1095] InUse at 7fb193d1a800 of size 1024 next 1210\n",
      "2023-06-15 19:35:00.091221: I tensorflow/tsl/framework/bfc_allocator.cc:1095] InUse at 7fb193d1ac00 of size 1024 next 1159\n",
      "2023-06-15 19:35:00.091228: I tensorflow/tsl/framework/bfc_allocator.cc:1095] InUse at 7fb193d1b000 of size 1024 next 1219\n",
      "2023-06-15 19:35:00.091235: I tensorflow/tsl/framework/bfc_allocator.cc:1095] InUse at 7fb193d1b400 of size 1024 next 1176\n",
      "2023-06-15 19:35:00.091242: I tensorflow/tsl/framework/bfc_allocator.cc:1095] InUse at 7fb193d1b800 of size 1024 next 1206\n",
      "2023-06-15 19:35:00.091248: I tensorflow/tsl/framework/bfc_allocator.cc:1095] InUse at 7fb193d1bc00 of size 1024 next 1169\n",
      "2023-06-15 19:35:00.091255: I tensorflow/tsl/framework/bfc_allocator.cc:1095] InUse at 7fb193d1c000 of size 1024 next 1204\n",
      "2023-06-15 19:35:00.091261: I tensorflow/tsl/framework/bfc_allocator.cc:1095] InUse at 7fb193d1c400 of size 1024 next 1205\n",
      "2023-06-15 19:35:00.091268: I tensorflow/tsl/framework/bfc_allocator.cc:1095] InUse at 7fb193d1c800 of size 1024 next 1287\n",
      "2023-06-15 19:35:00.091274: I tensorflow/tsl/framework/bfc_allocator.cc:1095] InUse at 7fb193d1cc00 of size 1024 next 1285\n",
      "2023-06-15 19:35:00.091281: I tensorflow/tsl/framework/bfc_allocator.cc:1095] InUse at 7fb193d1d000 of size 1024 next 1207\n",
      "2023-06-15 19:35:00.091287: I tensorflow/tsl/framework/bfc_allocator.cc:1095] InUse at 7fb193d1d400 of size 1024 next 1172\n",
      "2023-06-15 19:35:00.091294: I tensorflow/tsl/framework/bfc_allocator.cc:1095] InUse at 7fb193d1d800 of size 1024 next 1269\n",
      "2023-06-15 19:35:00.091300: I tensorflow/tsl/framework/bfc_allocator.cc:1095] InUse at 7fb193d1dc00 of size 1024 next 1275\n",
      "2023-06-15 19:35:00.091307: I tensorflow/tsl/framework/bfc_allocator.cc:1095] InUse at 7fb193d1e000 of size 1024 next 1274\n",
      "2023-06-15 19:35:00.091313: I tensorflow/tsl/framework/bfc_allocator.cc:1095] InUse at 7fb193d1e400 of size 1024 next 1265\n",
      "2023-06-15 19:35:00.091320: I tensorflow/tsl/framework/bfc_allocator.cc:1095] InUse at 7fb193d1e800 of size 1024 next 1250\n",
      "2023-06-15 19:35:00.091326: I tensorflow/tsl/framework/bfc_allocator.cc:1095] InUse at 7fb193d1ec00 of size 1024 next 1260\n",
      "2023-06-15 19:35:00.091333: I tensorflow/tsl/framework/bfc_allocator.cc:1095] InUse at 7fb193d1f000 of size 1024 next 1259\n",
      "2023-06-15 19:35:00.091340: I tensorflow/tsl/framework/bfc_allocator.cc:1095] InUse at 7fb193d1f400 of size 1024 next 1252\n",
      "2023-06-15 19:35:00.091346: I tensorflow/tsl/framework/bfc_allocator.cc:1095] InUse at 7fb193d1f800 of size 1024 next 1247\n",
      "2023-06-15 19:35:00.091352: I tensorflow/tsl/framework/bfc_allocator.cc:1095] InUse at 7fb193d1fc00 of size 1024 next 1253\n",
      "2023-06-15 19:35:00.091360: I tensorflow/tsl/framework/bfc_allocator.cc:1095] InUse at 7fb193d20000 of size 1024 next 1243\n",
      "2023-06-15 19:35:00.091365: I tensorflow/tsl/framework/bfc_allocator.cc:1095] InUse at 7fb193d20400 of size 1024 next 1254\n",
      "2023-06-15 19:35:00.091372: I tensorflow/tsl/framework/bfc_allocator.cc:1095] InUse at 7fb193d20800 of size 1024 next 1232\n",
      "2023-06-15 19:35:00.091378: I tensorflow/tsl/framework/bfc_allocator.cc:1095] InUse at 7fb193d20c00 of size 1024 next 1235\n",
      "2023-06-15 19:35:00.091385: I tensorflow/tsl/framework/bfc_allocator.cc:1095] InUse at 7fb193d21000 of size 1024 next 1229\n",
      "2023-06-15 19:35:00.091392: I tensorflow/tsl/framework/bfc_allocator.cc:1095] InUse at 7fb193d21400 of size 1024 next 1223\n",
      "2023-06-15 19:35:00.091399: I tensorflow/tsl/framework/bfc_allocator.cc:1095] InUse at 7fb193d21800 of size 1024 next 1221\n",
      "2023-06-15 19:35:00.091406: I tensorflow/tsl/framework/bfc_allocator.cc:1095] InUse at 7fb193d21c00 of size 1024 next 1225\n",
      "2023-06-15 19:35:00.091413: I tensorflow/tsl/framework/bfc_allocator.cc:1095] InUse at 7fb193d22000 of size 1024 next 1228\n",
      "2023-06-15 19:35:00.091419: I tensorflow/tsl/framework/bfc_allocator.cc:1095] Free  at 7fb193d22400 of size 1024 next 1164\n",
      "2023-06-15 19:35:00.091426: I tensorflow/tsl/framework/bfc_allocator.cc:1095] InUse at 7fb193d22800 of size 1024 next 1158\n",
      "2023-06-15 19:35:00.091433: I tensorflow/tsl/framework/bfc_allocator.cc:1095] Free  at 7fb193d22c00 of size 72704 next 515\n",
      "2023-06-15 19:35:00.091440: I tensorflow/tsl/framework/bfc_allocator.cc:1095] InUse at 7fb193d34800 of size 1024 next 675\n",
      "2023-06-15 19:35:00.091447: I tensorflow/tsl/framework/bfc_allocator.cc:1095] InUse at 7fb193d34c00 of size 1024 next 700\n",
      "2023-06-15 19:35:00.091454: I tensorflow/tsl/framework/bfc_allocator.cc:1095] InUse at 7fb193d35000 of size 1024 next 696\n",
      "2023-06-15 19:35:00.091460: I tensorflow/tsl/framework/bfc_allocator.cc:1095] InUse at 7fb193d35400 of size 1024 next 689\n",
      "2023-06-15 19:35:00.091468: I tensorflow/tsl/framework/bfc_allocator.cc:1095] InUse at 7fb193d35800 of size 1536 next 136\n",
      "2023-06-15 19:35:00.091473: I tensorflow/tsl/framework/bfc_allocator.cc:1095] InUse at 7fb193d35e00 of size 8192 next 60\n",
      "2023-06-15 19:35:00.091481: I tensorflow/tsl/framework/bfc_allocator.cc:1095] InUse at 7fb193d37e00 of size 8192 next 678\n",
      "2023-06-15 19:35:00.091487: I tensorflow/tsl/framework/bfc_allocator.cc:1095] InUse at 7fb193d39e00 of size 8192 next 130\n",
      "2023-06-15 19:35:00.091493: I tensorflow/tsl/framework/bfc_allocator.cc:1095] InUse at 7fb193d3be00 of size 1024 next 688\n",
      "2023-06-15 19:35:00.091500: I tensorflow/tsl/framework/bfc_allocator.cc:1095] InUse at 7fb193d3c200 of size 7936 next 679\n",
      "2023-06-15 19:35:00.091506: I tensorflow/tsl/framework/bfc_allocator.cc:1095] InUse at 7fb193d3e100 of size 1024 next 182\n",
      "2023-06-15 19:35:00.091513: I tensorflow/tsl/framework/bfc_allocator.cc:1095] InUse at 7fb193d3e500 of size 1024 next 290\n",
      "2023-06-15 19:35:00.091519: I tensorflow/tsl/framework/bfc_allocator.cc:1095] InUse at 7fb193d3e900 of size 1024 next 307\n",
      "2023-06-15 19:35:00.091526: I tensorflow/tsl/framework/bfc_allocator.cc:1095] InUse at 7fb193d3ed00 of size 1536 next 685\n",
      "2023-06-15 19:35:00.091533: I tensorflow/tsl/framework/bfc_allocator.cc:1095] InUse at 7fb193d3f300 of size 8192 next 684\n",
      "2023-06-15 19:35:00.091539: I tensorflow/tsl/framework/bfc_allocator.cc:1095] InUse at 7fb193d41300 of size 8192 next 691\n",
      "2023-06-15 19:35:00.091546: I tensorflow/tsl/framework/bfc_allocator.cc:1095] InUse at 7fb193d43300 of size 8192 next 695\n",
      "2023-06-15 19:35:00.091553: I tensorflow/tsl/framework/bfc_allocator.cc:1095] InUse at 7fb193d45300 of size 8192 next 698\n",
      "2023-06-15 19:35:00.091560: I tensorflow/tsl/framework/bfc_allocator.cc:1095] InUse at 7fb193d47300 of size 1024 next 138\n",
      "2023-06-15 19:35:00.091567: I tensorflow/tsl/framework/bfc_allocator.cc:1095] InUse at 7fb193d47700 of size 1024 next 699\n",
      "2023-06-15 19:35:00.091574: I tensorflow/tsl/framework/bfc_allocator.cc:1095] InUse at 7fb193d47b00 of size 295936 next 248\n",
      "2023-06-15 19:35:00.091582: I tensorflow/tsl/framework/bfc_allocator.cc:1095] InUse at 7fb193d8ff00 of size 453120 next 407\n",
      "2023-06-15 19:35:00.091588: I tensorflow/tsl/framework/bfc_allocator.cc:1095] InUse at 7fb193dfe900 of size 2097152 next 400\n",
      "2023-06-15 19:35:00.091595: I tensorflow/tsl/framework/bfc_allocator.cc:1095] InUse at 7fb193ffe900 of size 2097152 next 395\n",
      "2023-06-15 19:35:00.091602: I tensorflow/tsl/framework/bfc_allocator.cc:1095] InUse at 7fb1941fe900 of size 2097152 next 391\n",
      "2023-06-15 19:35:00.091609: I tensorflow/tsl/framework/bfc_allocator.cc:1095] InUse at 7fb1943fe900 of size 2097152 next 378\n",
      "2023-06-15 19:35:00.091615: I tensorflow/tsl/framework/bfc_allocator.cc:1095] InUse at 7fb1945fe900 of size 2097152 next 408\n",
      "2023-06-15 19:35:00.091622: I tensorflow/tsl/framework/bfc_allocator.cc:1095] InUse at 7fb1947fe900 of size 2097152 next 410\n",
      "2023-06-15 19:35:00.091628: I tensorflow/tsl/framework/bfc_allocator.cc:1095] InUse at 7fb1949fe900 of size 2097152 next 421\n",
      "2023-06-15 19:35:00.091634: I tensorflow/tsl/framework/bfc_allocator.cc:1095] InUse at 7fb194bfe900 of size 2097152 next 425\n",
      "2023-06-15 19:35:00.091641: I tensorflow/tsl/framework/bfc_allocator.cc:1095] InUse at 7fb194dfe900 of size 2097152 next 428\n",
      "2023-06-15 19:35:00.091647: I tensorflow/tsl/framework/bfc_allocator.cc:1095] InUse at 7fb194ffe900 of size 2097152 next 420\n",
      "2023-06-15 19:35:00.091654: I tensorflow/tsl/framework/bfc_allocator.cc:1095] InUse at 7fb1951fe900 of size 2097152 next 404\n",
      "2023-06-15 19:35:00.091660: I tensorflow/tsl/framework/bfc_allocator.cc:1095] InUse at 7fb1953fe900 of size 2097152 next 441\n",
      "2023-06-15 19:35:00.091667: I tensorflow/tsl/framework/bfc_allocator.cc:1095] InUse at 7fb1955fe900 of size 2097152 next 442\n",
      "2023-06-15 19:35:00.091674: I tensorflow/tsl/framework/bfc_allocator.cc:1095] InUse at 7fb1957fe900 of size 2097152 next 433\n",
      "2023-06-15 19:35:00.091680: I tensorflow/tsl/framework/bfc_allocator.cc:1095] InUse at 7fb1959fe900 of size 2097152 next 461\n",
      "2023-06-15 19:35:00.091687: I tensorflow/tsl/framework/bfc_allocator.cc:1095] InUse at 7fb195bfe900 of size 2097152 next 454\n",
      "2023-06-15 19:35:00.091694: I tensorflow/tsl/framework/bfc_allocator.cc:1095] InUse at 7fb195dfe900 of size 2097152 next 250\n",
      "2023-06-15 19:35:00.091701: I tensorflow/tsl/framework/bfc_allocator.cc:1095] InUse at 7fb195ffe900 of size 2097152 next 152\n",
      "2023-06-15 19:35:00.091738: I tensorflow/tsl/framework/bfc_allocator.cc:1095] InUse at 7fb1961fe900 of size 2097152 next 242\n",
      "2023-06-15 19:35:00.091747: I tensorflow/tsl/framework/bfc_allocator.cc:1095] InUse at 7fb1963fe900 of size 2097152 next 146\n",
      "2023-06-15 19:35:00.091753: I tensorflow/tsl/framework/bfc_allocator.cc:1095] InUse at 7fb1965fe900 of size 2097152 next 101\n",
      "2023-06-15 19:35:00.091760: I tensorflow/tsl/framework/bfc_allocator.cc:1095] InUse at 7fb1967fe900 of size 2097152 next 85\n",
      "2023-06-15 19:35:00.091767: I tensorflow/tsl/framework/bfc_allocator.cc:1095] InUse at 7fb1969fe900 of size 2097152 next 1019\n",
      "2023-06-15 19:35:00.091773: I tensorflow/tsl/framework/bfc_allocator.cc:1095] InUse at 7fb196bfe900 of size 2097152 next 1020\n",
      "2023-06-15 19:35:00.091780: I tensorflow/tsl/framework/bfc_allocator.cc:1095] InUse at 7fb196dfe900 of size 2097152 next 1023\n",
      "2023-06-15 19:35:00.091787: I tensorflow/tsl/framework/bfc_allocator.cc:1095] InUse at 7fb196ffe900 of size 2097152 next 1024\n",
      "2023-06-15 19:35:00.091794: I tensorflow/tsl/framework/bfc_allocator.cc:1095] InUse at 7fb1971fe900 of size 2097152 next 1026\n",
      "2023-06-15 19:35:00.091800: I tensorflow/tsl/framework/bfc_allocator.cc:1095] InUse at 7fb1973fe900 of size 2097152 next 1027\n",
      "2023-06-15 19:35:00.091806: I tensorflow/tsl/framework/bfc_allocator.cc:1095] InUse at 7fb1975fe900 of size 2097152 next 1030\n",
      "2023-06-15 19:35:00.091813: I tensorflow/tsl/framework/bfc_allocator.cc:1095] InUse at 7fb1977fe900 of size 2097152 next 1031\n",
      "2023-06-15 19:35:00.091819: I tensorflow/tsl/framework/bfc_allocator.cc:1095] InUse at 7fb1979fe900 of size 2097152 next 1034\n",
      "2023-06-15 19:35:00.091826: I tensorflow/tsl/framework/bfc_allocator.cc:1095] InUse at 7fb197bfe900 of size 2097152 next 1035\n",
      "2023-06-15 19:35:00.091832: I tensorflow/tsl/framework/bfc_allocator.cc:1095] InUse at 7fb197dfe900 of size 2097152 next 1038\n",
      "2023-06-15 19:35:00.091839: I tensorflow/tsl/framework/bfc_allocator.cc:1095] InUse at 7fb197ffe900 of size 2097152 next 1039\n",
      "2023-06-15 19:35:00.091845: I tensorflow/tsl/framework/bfc_allocator.cc:1095] InUse at 7fb1981fe900 of size 2097152 next 1042\n",
      "2023-06-15 19:35:00.091852: I tensorflow/tsl/framework/bfc_allocator.cc:1095] InUse at 7fb1983fe900 of size 2097152 next 1043\n",
      "2023-06-15 19:35:00.091859: I tensorflow/tsl/framework/bfc_allocator.cc:1095] InUse at 7fb1985fe900 of size 2097152 next 1046\n",
      "2023-06-15 19:35:00.091866: I tensorflow/tsl/framework/bfc_allocator.cc:1095] InUse at 7fb1987fe900 of size 2097152 next 1047\n",
      "2023-06-15 19:35:00.091884: I tensorflow/tsl/framework/bfc_allocator.cc:1095] InUse at 7fb1989fe900 of size 2097152 next 1054\n",
      "2023-06-15 19:35:00.091889: I tensorflow/tsl/framework/bfc_allocator.cc:1095] InUse at 7fb198bfe900 of size 2097152 next 1055\n",
      "2023-06-15 19:35:00.091896: I tensorflow/tsl/framework/bfc_allocator.cc:1095] InUse at 7fb198dfe900 of size 2097152 next 1058\n",
      "2023-06-15 19:35:00.091903: I tensorflow/tsl/framework/bfc_allocator.cc:1095] InUse at 7fb198ffe900 of size 2097152 next 1059\n",
      "2023-06-15 19:35:00.091909: I tensorflow/tsl/framework/bfc_allocator.cc:1095] InUse at 7fb1991fe900 of size 2097152 next 1066\n",
      "2023-06-15 19:35:00.091916: I tensorflow/tsl/framework/bfc_allocator.cc:1095] InUse at 7fb1993fe900 of size 2097152 next 1067\n",
      "2023-06-15 19:35:00.091922: I tensorflow/tsl/framework/bfc_allocator.cc:1095] InUse at 7fb1995fe900 of size 2097152 next 1070\n",
      "2023-06-15 19:35:00.091929: I tensorflow/tsl/framework/bfc_allocator.cc:1095] InUse at 7fb1997fe900 of size 2293760 next 488\n",
      "2023-06-15 19:35:00.091935: I tensorflow/tsl/framework/bfc_allocator.cc:1095] InUse at 7fb199a2e900 of size 9467904 next 257\n",
      "2023-06-15 19:35:00.091942: I tensorflow/tsl/framework/bfc_allocator.cc:1095] InUse at 7fb19a336100 of size 2097152 next 706\n",
      "2023-06-15 19:35:00.091949: I tensorflow/tsl/framework/bfc_allocator.cc:1095] InUse at 7fb19a536100 of size 2097152 next 711\n",
      "2023-06-15 19:35:00.091956: I tensorflow/tsl/framework/bfc_allocator.cc:1095] InUse at 7fb19a736100 of size 2097152 next 713\n",
      "2023-06-15 19:35:00.091962: I tensorflow/tsl/framework/bfc_allocator.cc:1095] InUse at 7fb19a936100 of size 2097152 next 717\n",
      "2023-06-15 19:35:00.091969: I tensorflow/tsl/framework/bfc_allocator.cc:1095] InUse at 7fb19ab36100 of size 2097152 next 733\n",
      "2023-06-15 19:35:00.091975: I tensorflow/tsl/framework/bfc_allocator.cc:1095] InUse at 7fb19ad36100 of size 2097152 next 735\n",
      "2023-06-15 19:35:00.091982: I tensorflow/tsl/framework/bfc_allocator.cc:1095] InUse at 7fb19af36100 of size 2097152 next 741\n",
      "2023-06-15 19:35:00.091989: I tensorflow/tsl/framework/bfc_allocator.cc:1095] InUse at 7fb19b136100 of size 2490368 next 731\n",
      "2023-06-15 19:35:00.091995: I tensorflow/tsl/framework/bfc_allocator.cc:1095] InUse at 7fb19b396100 of size 2097152 next 635\n",
      "2023-06-15 19:35:00.092002: I tensorflow/tsl/framework/bfc_allocator.cc:1095] InUse at 7fb19b596100 of size 2097152 next 618\n",
      "2023-06-15 19:35:00.092008: I tensorflow/tsl/framework/bfc_allocator.cc:1095] InUse at 7fb19b796100 of size 3862528 next 718\n",
      "2023-06-15 19:35:00.092015: I tensorflow/tsl/framework/bfc_allocator.cc:1095] InUse at 7fb19bb45100 of size 9900032 next 223\n",
      "2023-06-15 19:35:00.092022: I tensorflow/tsl/framework/bfc_allocator.cc:1095] InUse at 7fb19c4b6100 of size 2097152 next 298\n",
      "2023-06-15 19:35:00.092028: I tensorflow/tsl/framework/bfc_allocator.cc:1095] InUse at 7fb19c6b6100 of size 2097152 next 280\n",
      "2023-06-15 19:35:00.092035: I tensorflow/tsl/framework/bfc_allocator.cc:1095] InUse at 7fb19c8b6100 of size 2097152 next 291\n",
      "2023-06-15 19:35:00.092041: I tensorflow/tsl/framework/bfc_allocator.cc:1095] InUse at 7fb19cab6100 of size 2097152 next 271\n",
      "2023-06-15 19:35:00.092048: I tensorflow/tsl/framework/bfc_allocator.cc:1095] InUse at 7fb19ccb6100 of size 2293760 next 289\n",
      "2023-06-15 19:35:00.092054: I tensorflow/tsl/framework/bfc_allocator.cc:1095] InUse at 7fb19cee6100 of size 2097152 next 293\n",
      "2023-06-15 19:35:00.092061: I tensorflow/tsl/framework/bfc_allocator.cc:1095] InUse at 7fb19d0e6100 of size 2097152 next 258\n",
      "2023-06-15 19:35:00.092067: I tensorflow/tsl/framework/bfc_allocator.cc:1095] InUse at 7fb19d2e6100 of size 2097152 next 281\n",
      "2023-06-15 19:35:00.092074: I tensorflow/tsl/framework/bfc_allocator.cc:1095] InUse at 7fb19d4e6100 of size 2097152 next 277\n",
      "2023-06-15 19:35:00.092081: I tensorflow/tsl/framework/bfc_allocator.cc:1095] InUse at 7fb19d6e6100 of size 2097152 next 356\n",
      "2023-06-15 19:35:00.092087: I tensorflow/tsl/framework/bfc_allocator.cc:1095] InUse at 7fb19d8e6100 of size 2293760 next 315\n",
      "2023-06-15 19:35:00.092094: I tensorflow/tsl/framework/bfc_allocator.cc:1095] InUse at 7fb19db16100 of size 2097152 next 299\n",
      "2023-06-15 19:35:00.092100: I tensorflow/tsl/framework/bfc_allocator.cc:1095] InUse at 7fb19dd16100 of size 2293760 next 322\n",
      "2023-06-15 19:35:00.092107: I tensorflow/tsl/framework/bfc_allocator.cc:1095] InUse at 7fb19df46100 of size 2097152 next 345\n",
      "2023-06-15 19:35:00.092114: I tensorflow/tsl/framework/bfc_allocator.cc:1095] InUse at 7fb19e146100 of size 2293760 next 323\n",
      "2023-06-15 19:35:00.092120: I tensorflow/tsl/framework/bfc_allocator.cc:1095] InUse at 7fb19e376100 of size 2097152 next 288\n",
      "2023-06-15 19:35:00.092127: I tensorflow/tsl/framework/bfc_allocator.cc:1095] InUse at 7fb19e576100 of size 3870720 next 330\n",
      "2023-06-15 19:35:00.092134: I tensorflow/tsl/framework/bfc_allocator.cc:1095] InUse at 7fb19e927100 of size 2097152 next 604\n",
      "2023-06-15 19:35:00.092140: I tensorflow/tsl/framework/bfc_allocator.cc:1095] InUse at 7fb19eb27100 of size 2097152 next 613\n",
      "2023-06-15 19:35:00.092147: I tensorflow/tsl/framework/bfc_allocator.cc:1095] InUse at 7fb19ed27100 of size 2097152 next 603\n",
      "2023-06-15 19:35:00.092153: I tensorflow/tsl/framework/bfc_allocator.cc:1095] InUse at 7fb19ef27100 of size 3604480 next 350\n",
      "2023-06-15 19:35:00.092160: I tensorflow/tsl/framework/bfc_allocator.cc:1095] InUse at 7fb19f297100 of size 2097152 next 183\n",
      "2023-06-15 19:35:00.092173: I tensorflow/tsl/framework/bfc_allocator.cc:1095] InUse at 7fb19f497100 of size 2097152 next 217\n",
      "2023-06-15 19:35:00.092179: I tensorflow/tsl/framework/bfc_allocator.cc:1095] InUse at 7fb19f697100 of size 2097152 next 354\n",
      "2023-06-15 19:35:00.092186: I tensorflow/tsl/framework/bfc_allocator.cc:1095] InUse at 7fb19f897100 of size 2791424 next 46\n",
      "2023-06-15 19:35:00.092193: I tensorflow/tsl/framework/bfc_allocator.cc:1095] InUse at 7fb19fb40900 of size 269174784 next 343\n",
      "2023-06-15 19:35:00.092201: I tensorflow/tsl/framework/bfc_allocator.cc:1095] InUse at 7fb1afbf5100 of size 4849664 next 1394\n",
      "2023-06-15 19:35:00.092207: I tensorflow/tsl/framework/bfc_allocator.cc:1095] InUse at 7fb1b0095100 of size 6365184 next 1415\n",
      "2023-06-15 19:35:00.092214: I tensorflow/tsl/framework/bfc_allocator.cc:1095] InUse at 7fb1b06a7100 of size 2803712 next 1410\n",
      "2023-06-15 19:35:00.092221: I tensorflow/tsl/framework/bfc_allocator.cc:1095] InUse at 7fb1b0953900 of size 4849664 next 1406\n",
      "2023-06-15 19:35:00.092228: I tensorflow/tsl/framework/bfc_allocator.cc:1095] InUse at 7fb1b0df3900 of size 58726400 next 1298\n",
      "2023-06-15 19:35:00.092235: I tensorflow/tsl/framework/bfc_allocator.cc:1095] InUse at 7fb1b45f5100 of size 11214848 next 1304\n",
      "2023-06-15 19:35:00.092242: I tensorflow/tsl/framework/bfc_allocator.cc:1095] InUse at 7fb1b50a7100 of size 38797312 next 1409\n",
      "2023-06-15 19:35:00.092248: I tensorflow/tsl/framework/bfc_allocator.cc:1095] InUse at 7fb1b75a7100 of size 38797312 next 1396\n",
      "2023-06-15 19:35:00.092256: I tensorflow/tsl/framework/bfc_allocator.cc:1095] InUse at 7fb1b9aa7100 of size 38797312 next 1403\n",
      "2023-06-15 19:35:00.092262: I tensorflow/tsl/framework/bfc_allocator.cc:1095] InUse at 7fb1bbfa7100 of size 56866816 next 368\n",
      "2023-06-15 19:35:00.092268: I tensorflow/tsl/framework/bfc_allocator.cc:1095] InUse at 7fb1bf5e2900 of size 2097152 next 755\n",
      "2023-06-15 19:35:00.092275: I tensorflow/tsl/framework/bfc_allocator.cc:1095] InUse at 7fb1bf7e2900 of size 2097152 next 761\n",
      "2023-06-15 19:35:00.092282: I tensorflow/tsl/framework/bfc_allocator.cc:1095] InUse at 7fb1bf9e2900 of size 3645440 next 353\n",
      "2023-06-15 19:35:00.092288: I tensorflow/tsl/framework/bfc_allocator.cc:1095] InUse at 7fb1bfd5c900 of size 2097152 next 219\n",
      "2023-06-15 19:35:00.092296: I tensorflow/tsl/framework/bfc_allocator.cc:1095] InUse at 7fb1bff5c900 of size 2097152 next 239\n",
      "2023-06-15 19:35:00.092309: I tensorflow/tsl/framework/bfc_allocator.cc:1095] InUse at 7fb1c015c900 of size 2097152 next 233\n",
      "2023-06-15 19:35:00.092316: I tensorflow/tsl/framework/bfc_allocator.cc:1095] InUse at 7fb1c035c900 of size 2097152 next 238\n",
      "2023-06-15 19:35:00.092324: I tensorflow/tsl/framework/bfc_allocator.cc:1095] InUse at 7fb1c055c900 of size 2097152 next 229\n",
      "2023-06-15 19:35:00.092330: I tensorflow/tsl/framework/bfc_allocator.cc:1095] InUse at 7fb1c075c900 of size 3055616 next 355\n",
      "2023-06-15 19:35:00.092336: I tensorflow/tsl/framework/bfc_allocator.cc:1095] InUse at 7fb1c0a46900 of size 2097152 next 683\n",
      "2023-06-15 19:35:00.092343: I tensorflow/tsl/framework/bfc_allocator.cc:1095] InUse at 7fb1c0c46900 of size 2097152 next 680\n",
      "2023-06-15 19:35:00.092350: I tensorflow/tsl/framework/bfc_allocator.cc:1095] InUse at 7fb1c0e46900 of size 13565952 next 704\n",
      "2023-06-15 19:35:00.092357: I tensorflow/tsl/framework/bfc_allocator.cc:1095] InUse at 7fb1c1b36900 of size 4849664 next 681\n",
      "2023-06-15 19:35:00.092374: I tensorflow/tsl/framework/bfc_allocator.cc:1095] InUse at 7fb1c1fd6900 of size 2097152 next 193\n",
      "2023-06-15 19:35:00.092380: I tensorflow/tsl/framework/bfc_allocator.cc:1095] InUse at 7fb1c21d6900 of size 2424832 next 692\n",
      "2023-06-15 19:35:00.092386: I tensorflow/tsl/framework/bfc_allocator.cc:1095] InUse at 7fb1c2426900 of size 2097152 next 677\n",
      "2023-06-15 19:35:00.092393: I tensorflow/tsl/framework/bfc_allocator.cc:1095] InUse at 7fb1c2626900 of size 2097152 next 690\n",
      "2023-06-15 19:35:00.092400: I tensorflow/tsl/framework/bfc_allocator.cc:1095] InUse at 7fb1c2826900 of size 2097152 next 694\n",
      "2023-06-15 19:35:00.092407: I tensorflow/tsl/framework/bfc_allocator.cc:1095] InUse at 7fb1c2a26900 of size 2097152 next 697\n",
      "2023-06-15 19:35:00.092413: I tensorflow/tsl/framework/bfc_allocator.cc:1095] InUse at 7fb1c2c26900 of size 2097152 next 702\n",
      "2023-06-15 19:35:00.092419: I tensorflow/tsl/framework/bfc_allocator.cc:1095] InUse at 7fb1c2e26900 of size 2228224 next 631\n",
      "2023-06-15 19:35:00.092427: I tensorflow/tsl/framework/bfc_allocator.cc:1095] InUse at 7fb1c3046900 of size 2097152 next 480\n",
      "2023-06-15 19:35:00.092433: I tensorflow/tsl/framework/bfc_allocator.cc:1095] InUse at 7fb1c3246900 of size 2097152 next 638\n",
      "2023-06-15 19:35:00.092440: I tensorflow/tsl/framework/bfc_allocator.cc:1095] InUse at 7fb1c3446900 of size 2097152 next 440\n",
      "2023-06-15 19:35:00.092446: I tensorflow/tsl/framework/bfc_allocator.cc:1095] InUse at 7fb1c3646900 of size 2097152 next 489\n",
      "2023-06-15 19:35:00.092453: I tensorflow/tsl/framework/bfc_allocator.cc:1095] InUse at 7fb1c3846900 of size 2097152 next 504\n",
      "2023-06-15 19:35:00.092460: I tensorflow/tsl/framework/bfc_allocator.cc:1095] InUse at 7fb1c3a46900 of size 2097152 next 472\n",
      "2023-06-15 19:35:00.092466: I tensorflow/tsl/framework/bfc_allocator.cc:1095] InUse at 7fb1c3c46900 of size 2097152 next 491\n",
      "2023-06-15 19:35:00.092473: I tensorflow/tsl/framework/bfc_allocator.cc:1095] InUse at 7fb1c3e46900 of size 3055616 next 643\n",
      "2023-06-15 19:35:00.092479: I tensorflow/tsl/framework/bfc_allocator.cc:1095] InUse at 7fb1c4130900 of size 2097152 next 82\n",
      "2023-06-15 19:35:00.092486: I tensorflow/tsl/framework/bfc_allocator.cc:1095] InUse at 7fb1c4330900 of size 2293760 next 41\n",
      "2023-06-15 19:35:00.092492: I tensorflow/tsl/framework/bfc_allocator.cc:1095] InUse at 7fb1c4560900 of size 2097152 next 51\n",
      "2023-06-15 19:35:00.092500: I tensorflow/tsl/framework/bfc_allocator.cc:1095] InUse at 7fb1c4760900 of size 2097152 next 111\n",
      "2023-06-15 19:35:00.092506: I tensorflow/tsl/framework/bfc_allocator.cc:1095] InUse at 7fb1c4960900 of size 2818048 next 656\n",
      "2023-06-15 19:35:00.092512: I tensorflow/tsl/framework/bfc_allocator.cc:1095] InUse at 7fb1c4c10900 of size 2097152 next 453\n",
      "2023-06-15 19:35:00.092526: I tensorflow/tsl/framework/bfc_allocator.cc:1095] InUse at 7fb1c4e10900 of size 3604480 next 649\n",
      "2023-06-15 19:35:00.092548: I tensorflow/tsl/framework/bfc_allocator.cc:1095] InUse at 7fb1c5180900 of size 2400000 next 659\n",
      "2023-06-15 19:35:00.092565: I tensorflow/tsl/framework/bfc_allocator.cc:1095] InUse at 7fb1c53ca800 of size 2097152 next 37\n",
      "2023-06-15 19:35:00.092577: I tensorflow/tsl/framework/bfc_allocator.cc:1095] InUse at 7fb1c55ca800 of size 2097152 next 69\n",
      "2023-06-15 19:35:00.092589: I tensorflow/tsl/framework/bfc_allocator.cc:1095] InUse at 7fb1c57ca800 of size 4178176 next 513\n",
      "2023-06-15 19:35:00.092603: I tensorflow/tsl/framework/bfc_allocator.cc:1095] InUse at 7fb1c5bc6900 of size 2097152 next 444\n",
      "2023-06-15 19:35:00.092611: I tensorflow/tsl/framework/bfc_allocator.cc:1095] InUse at 7fb1c5dc6900 of size 2097152 next 424\n",
      "2023-06-15 19:35:00.092619: I tensorflow/tsl/framework/bfc_allocator.cc:1095] InUse at 7fb1c5fc6900 of size 2097152 next 429\n",
      "2023-06-15 19:35:00.092625: I tensorflow/tsl/framework/bfc_allocator.cc:1095] InUse at 7fb1c61c6900 of size 2097152 next 332\n",
      "2023-06-15 19:35:00.092633: I tensorflow/tsl/framework/bfc_allocator.cc:1095] InUse at 7fb1c63c6900 of size 2097152 next 430\n",
      "2023-06-15 19:35:00.092640: I tensorflow/tsl/framework/bfc_allocator.cc:1095] InUse at 7fb1c65c6900 of size 3604480 next 567\n",
      "2023-06-15 19:35:00.092646: I tensorflow/tsl/framework/bfc_allocator.cc:1095] InUse at 7fb1c6936900 of size 3604480 next 547\n",
      "2023-06-15 19:35:00.092654: I tensorflow/tsl/framework/bfc_allocator.cc:1095] InUse at 7fb1c6ca6900 of size 2097152 next 1073\n",
      "2023-06-15 19:35:00.092659: I tensorflow/tsl/framework/bfc_allocator.cc:1095] InUse at 7fb1c6ea6900 of size 2097152 next 1074\n",
      "2023-06-15 19:35:00.092666: I tensorflow/tsl/framework/bfc_allocator.cc:1095] InUse at 7fb1c70a6900 of size 2097152 next 1077\n",
      "2023-06-15 19:35:00.092674: I tensorflow/tsl/framework/bfc_allocator.cc:1095] InUse at 7fb1c72a6900 of size 2097152 next 1078\n",
      "2023-06-15 19:35:00.092679: I tensorflow/tsl/framework/bfc_allocator.cc:1095] InUse at 7fb1c74a6900 of size 2097152 next 1081\n",
      "2023-06-15 19:35:00.092686: I tensorflow/tsl/framework/bfc_allocator.cc:1095] InUse at 7fb1c76a6900 of size 2097152 next 1082\n",
      "2023-06-15 19:35:00.092692: I tensorflow/tsl/framework/bfc_allocator.cc:1095] InUse at 7fb1c78a6900 of size 2097152 next 1085\n",
      "2023-06-15 19:35:00.092699: I tensorflow/tsl/framework/bfc_allocator.cc:1095] InUse at 7fb1c7aa6900 of size 2097152 next 1086\n",
      "2023-06-15 19:35:00.092706: I tensorflow/tsl/framework/bfc_allocator.cc:1095] InUse at 7fb1c7ca6900 of size 2097152 next 1089\n",
      "2023-06-15 19:35:00.092712: I tensorflow/tsl/framework/bfc_allocator.cc:1095] InUse at 7fb1c7ea6900 of size 2097152 next 1090\n",
      "2023-06-15 19:35:00.092718: I tensorflow/tsl/framework/bfc_allocator.cc:1095] InUse at 7fb1c80a6900 of size 2097152 next 1093\n",
      "2023-06-15 19:35:00.092724: I tensorflow/tsl/framework/bfc_allocator.cc:1095] InUse at 7fb1c82a6900 of size 2097152 next 1094\n",
      "2023-06-15 19:35:00.092732: I tensorflow/tsl/framework/bfc_allocator.cc:1095] InUse at 7fb1c84a6900 of size 2097152 next 1101\n",
      "2023-06-15 19:35:00.092737: I tensorflow/tsl/framework/bfc_allocator.cc:1095] InUse at 7fb1c86a6900 of size 2097152 next 1102\n",
      "2023-06-15 19:35:00.092744: I tensorflow/tsl/framework/bfc_allocator.cc:1095] InUse at 7fb1c88a6900 of size 2097152 next 1105\n",
      "2023-06-15 19:35:00.092751: I tensorflow/tsl/framework/bfc_allocator.cc:1095] InUse at 7fb1c8aa6900 of size 2097152 next 1106\n",
      "2023-06-15 19:35:00.092757: I tensorflow/tsl/framework/bfc_allocator.cc:1095] InUse at 7fb1c8ca6900 of size 1200128 next 1115\n",
      "2023-06-15 19:35:00.092763: I tensorflow/tsl/framework/bfc_allocator.cc:1095] InUse at 7fb1c8dcb900 of size 1200128 next 1116\n",
      "2023-06-15 19:35:00.092777: I tensorflow/tsl/framework/bfc_allocator.cc:1095] InUse at 7fb1c8ef0900 of size 4849664 next 1154\n",
      "2023-06-15 19:35:00.092785: I tensorflow/tsl/framework/bfc_allocator.cc:1095] InUse at 7fb1c9390900 of size 4784128 next 1454\n",
      "2023-06-15 19:35:00.092791: I tensorflow/tsl/framework/bfc_allocator.cc:1095] InUse at 7fb1c9820900 of size 1401856 next 1157\n",
      "2023-06-15 19:35:00.092798: I tensorflow/tsl/framework/bfc_allocator.cc:1095] InUse at 7fb1c9976d00 of size 1196032 next 1433\n",
      "2023-06-15 19:35:00.092805: I tensorflow/tsl/framework/bfc_allocator.cc:1095] InUse at 7fb1c9a9ad00 of size 2251776 next 1197\n",
      "2023-06-15 19:35:00.092812: I tensorflow/tsl/framework/bfc_allocator.cc:1095] InUse at 7fb1c9cc0900 of size 1212416 next 1171\n",
      "2023-06-15 19:35:00.092819: I tensorflow/tsl/framework/bfc_allocator.cc:1095] InUse at 7fb1c9de8900 of size 56672256 next 519\n",
      "2023-06-15 19:35:00.092826: I tensorflow/tsl/framework/bfc_allocator.cc:1095] InUse at 7fb1cd3f4900 of size 2097152 next 749\n",
      "2023-06-15 19:35:00.092832: I tensorflow/tsl/framework/bfc_allocator.cc:1095] InUse at 7fb1cd5f4900 of size 2424832 next 742\n",
      "2023-06-15 19:35:00.092839: I tensorflow/tsl/framework/bfc_allocator.cc:1095] InUse at 7fb1cd844900 of size 2097152 next 740\n",
      "2023-06-15 19:35:00.092845: I tensorflow/tsl/framework/bfc_allocator.cc:1095] InUse at 7fb1cda44900 of size 2097152 next 744\n",
      "2023-06-15 19:35:00.092852: I tensorflow/tsl/framework/bfc_allocator.cc:1095] InUse at 7fb1cdc44900 of size 2424832 next 763\n",
      "2023-06-15 19:35:00.092859: I tensorflow/tsl/framework/bfc_allocator.cc:1095] InUse at 7fb1cde94900 of size 2097152 next 738\n",
      "2023-06-15 19:35:00.092866: I tensorflow/tsl/framework/bfc_allocator.cc:1095] InUse at 7fb1ce094900 of size 2097152 next 767\n",
      "2023-06-15 19:35:00.092871: I tensorflow/tsl/framework/bfc_allocator.cc:1095] InUse at 7fb1ce294900 of size 2097152 next 773\n",
      "2023-06-15 19:35:00.092878: I tensorflow/tsl/framework/bfc_allocator.cc:1095] InUse at 7fb1ce494900 of size 2097152 next 781\n",
      "2023-06-15 19:35:00.092885: I tensorflow/tsl/framework/bfc_allocator.cc:1095] InUse at 7fb1ce694900 of size 2424832 next 775\n",
      "2023-06-15 19:35:00.092891: I tensorflow/tsl/framework/bfc_allocator.cc:1095] InUse at 7fb1ce8e4900 of size 2097152 next 753\n",
      "2023-06-15 19:35:00.092898: I tensorflow/tsl/framework/bfc_allocator.cc:1095] InUse at 7fb1ceae4900 of size 2097152 next 765\n",
      "2023-06-15 19:35:00.092905: I tensorflow/tsl/framework/bfc_allocator.cc:1095] InUse at 7fb1cece4900 of size 2097152 next 796\n",
      "2023-06-15 19:35:00.092911: I tensorflow/tsl/framework/bfc_allocator.cc:1095] InUse at 7fb1ceee4900 of size 2097152 next 790\n",
      "2023-06-15 19:35:00.092919: I tensorflow/tsl/framework/bfc_allocator.cc:1095] InUse at 7fb1cf0e4900 of size 2097152 next 776\n",
      "2023-06-15 19:35:00.092925: I tensorflow/tsl/framework/bfc_allocator.cc:1095] InUse at 7fb1cf2e4900 of size 3735552 next 285\n",
      "2023-06-15 19:35:00.092931: I tensorflow/tsl/framework/bfc_allocator.cc:1095] InUse at 7fb1cf674900 of size 9467904 next 286\n",
      "2023-06-15 19:35:00.092938: I tensorflow/tsl/framework/bfc_allocator.cc:1095] InUse at 7fb1cff7c100 of size 2097152 next 366\n",
      "2023-06-15 19:35:00.092945: I tensorflow/tsl/framework/bfc_allocator.cc:1095] InUse at 7fb1d017c100 of size 2097152 next 363\n",
      "2023-06-15 19:35:00.092951: I tensorflow/tsl/framework/bfc_allocator.cc:1095] InUse at 7fb1d037c100 of size 2097152 next 703\n",
      "2023-06-15 19:35:00.092958: I tensorflow/tsl/framework/bfc_allocator.cc:1095] InUse at 7fb1d057c100 of size 2097152 next 708\n",
      "2023-06-15 19:35:00.092964: I tensorflow/tsl/framework/bfc_allocator.cc:1095] InUse at 7fb1d077c100 of size 2097152 next 720\n",
      "2023-06-15 19:35:00.092971: I tensorflow/tsl/framework/bfc_allocator.cc:1095] InUse at 7fb1d097c100 of size 2490368 next 693\n",
      "2023-06-15 19:35:00.092978: I tensorflow/tsl/framework/bfc_allocator.cc:1095] InUse at 7fb1d0bdc100 of size 2097152 next 743\n",
      "2023-06-15 19:35:00.092984: I tensorflow/tsl/framework/bfc_allocator.cc:1095] InUse at 7fb1d0ddc100 of size 2097152 next 730\n",
      "2023-06-15 19:35:00.092991: I tensorflow/tsl/framework/bfc_allocator.cc:1095] InUse at 7fb1d0fdc100 of size 3862528 next 357\n",
      "2023-06-15 19:35:00.092997: I tensorflow/tsl/framework/bfc_allocator.cc:1095] InUse at 7fb1d138b100 of size 13015040 next 608\n",
      "2023-06-15 19:35:00.093004: I tensorflow/tsl/framework/bfc_allocator.cc:1095] InUse at 7fb1d1ff4900 of size 2097152 next 561\n",
      "2023-06-15 19:35:00.093010: I tensorflow/tsl/framework/bfc_allocator.cc:1095] InUse at 7fb1d21f4900 of size 2097152 next 459\n",
      "2023-06-15 19:35:00.093017: I tensorflow/tsl/framework/bfc_allocator.cc:1095] InUse at 7fb1d23f4900 of size 2097152 next 456\n",
      "2023-06-15 19:35:00.093023: I tensorflow/tsl/framework/bfc_allocator.cc:1095] InUse at 7fb1d25f4900 of size 2097152 next 464\n",
      "2023-06-15 19:35:00.093030: I tensorflow/tsl/framework/bfc_allocator.cc:1095] InUse at 7fb1d27f4900 of size 2097152 next 463\n",
      "2023-06-15 19:35:00.093037: I tensorflow/tsl/framework/bfc_allocator.cc:1095] InUse at 7fb1d29f4900 of size 3055616 next 612\n",
      "2023-06-15 19:35:00.093043: I tensorflow/tsl/framework/bfc_allocator.cc:1095] InUse at 7fb1d2cde900 of size 2097152 next 873\n",
      "2023-06-15 19:35:00.093050: I tensorflow/tsl/framework/bfc_allocator.cc:1095] InUse at 7fb1d2ede900 of size 2097152 next 860\n",
      "2023-06-15 19:35:00.093056: I tensorflow/tsl/framework/bfc_allocator.cc:1095] InUse at 7fb1d30de900 of size 2097152 next 874\n",
      "2023-06-15 19:35:00.093064: I tensorflow/tsl/framework/bfc_allocator.cc:1095] InUse at 7fb1d32de900 of size 2097152 next 878\n",
      "2023-06-15 19:35:00.093071: I tensorflow/tsl/framework/bfc_allocator.cc:1095] InUse at 7fb1d34de900 of size 2097152 next 898\n",
      "2023-06-15 19:35:00.093079: I tensorflow/tsl/framework/bfc_allocator.cc:1095] InUse at 7fb1d36de900 of size 2097152 next 911\n",
      "2023-06-15 19:35:00.093085: I tensorflow/tsl/framework/bfc_allocator.cc:1095] InUse at 7fb1d38de900 of size 2097152 next 914\n",
      "2023-06-15 19:35:00.093091: I tensorflow/tsl/framework/bfc_allocator.cc:1095] InUse at 7fb1d3ade900 of size 2097152 next 943\n",
      "2023-06-15 19:35:00.093098: I tensorflow/tsl/framework/bfc_allocator.cc:1095] InUse at 7fb1d3cde900 of size 2293760 next 932\n",
      "2023-06-15 19:35:00.093104: I tensorflow/tsl/framework/bfc_allocator.cc:1095] InUse at 7fb1d3f0e900 of size 2097152 next 929\n",
      "2023-06-15 19:35:00.093111: I tensorflow/tsl/framework/bfc_allocator.cc:1095] InUse at 7fb1d410e900 of size 4059136 next 879\n",
      "2023-06-15 19:35:00.093118: I tensorflow/tsl/framework/bfc_allocator.cc:1095] InUse at 7fb1d44ed900 of size 2097152 next 409\n",
      "2023-06-15 19:35:00.093124: I tensorflow/tsl/framework/bfc_allocator.cc:1095] InUse at 7fb1d46ed900 of size 2097152 next 411\n",
      "2023-06-15 19:35:00.093130: I tensorflow/tsl/framework/bfc_allocator.cc:1095] InUse at 7fb1d48ed900 of size 2097152 next 394\n",
      "2023-06-15 19:35:00.093138: I tensorflow/tsl/framework/bfc_allocator.cc:1095] InUse at 7fb1d4aed900 of size 2097152 next 397\n",
      "2023-06-15 19:35:00.093143: I tensorflow/tsl/framework/bfc_allocator.cc:1095] InUse at 7fb1d4ced900 of size 2097152 next 367\n",
      "2023-06-15 19:35:00.093150: I tensorflow/tsl/framework/bfc_allocator.cc:1095] InUse at 7fb1d4eed900 of size 3608576 next 901\n",
      "2023-06-15 19:35:00.093157: I tensorflow/tsl/framework/bfc_allocator.cc:1095] InUse at 7fb1d525e900 of size 2097152 next 896\n",
      "2023-06-15 19:35:00.093163: I tensorflow/tsl/framework/bfc_allocator.cc:1095] InUse at 7fb1d545e900 of size 2097152 next 889\n",
      "2023-06-15 19:35:00.093171: I tensorflow/tsl/framework/bfc_allocator.cc:1095] InUse at 7fb1d565e900 of size 2097152 next 904\n",
      "2023-06-15 19:35:00.093176: I tensorflow/tsl/framework/bfc_allocator.cc:1095] InUse at 7fb1d585e900 of size 2097152 next 908\n",
      "2023-06-15 19:35:00.093183: I tensorflow/tsl/framework/bfc_allocator.cc:1095] InUse at 7fb1d5a5e900 of size 2097152 next 917\n",
      "2023-06-15 19:35:00.093190: I tensorflow/tsl/framework/bfc_allocator.cc:1095] InUse at 7fb1d5c5e900 of size 2097152 next 922\n",
      "2023-06-15 19:35:00.093206: I tensorflow/tsl/framework/bfc_allocator.cc:1095] InUse at 7fb1d5e5e900 of size 2097152 next 926\n",
      "2023-06-15 19:35:00.093213: I tensorflow/tsl/framework/bfc_allocator.cc:1095] InUse at 7fb1d605e900 of size 2490368 next 923\n",
      "2023-06-15 19:35:00.093221: I tensorflow/tsl/framework/bfc_allocator.cc:1095] InUse at 7fb1d62be900 of size 2097152 next 945\n",
      "2023-06-15 19:35:00.093227: I tensorflow/tsl/framework/bfc_allocator.cc:1095] InUse at 7fb1d64be900 of size 2097152 next 953\n",
      "2023-06-15 19:35:00.093233: I tensorflow/tsl/framework/bfc_allocator.cc:1095] InUse at 7fb1d66be900 of size 3862528 next 909\n",
      "2023-06-15 19:35:00.093239: I tensorflow/tsl/framework/bfc_allocator.cc:1095] InUse at 7fb1d6a6d900 of size 2097152 next 575\n",
      "2023-06-15 19:35:00.093246: I tensorflow/tsl/framework/bfc_allocator.cc:1095] InUse at 7fb1d6c6d900 of size 2097152 next 558\n",
      "2023-06-15 19:35:00.093253: I tensorflow/tsl/framework/bfc_allocator.cc:1095] InUse at 7fb1d6e6d900 of size 2097152 next 546\n",
      "2023-06-15 19:35:00.093260: I tensorflow/tsl/framework/bfc_allocator.cc:1095] InUse at 7fb1d706d900 of size 2097152 next 373\n",
      "2023-06-15 19:35:00.093267: I tensorflow/tsl/framework/bfc_allocator.cc:1095] InUse at 7fb1d726d900 of size 3608576 next 895\n",
      "2023-06-15 19:35:00.093274: I tensorflow/tsl/framework/bfc_allocator.cc:1095] InUse at 7fb1d75de900 of size 2097152 next 935\n",
      "2023-06-15 19:35:00.093280: I tensorflow/tsl/framework/bfc_allocator.cc:1095] InUse at 7fb1d77de900 of size 2097152 next 941\n",
      "2023-06-15 19:35:00.093286: I tensorflow/tsl/framework/bfc_allocator.cc:1095] InUse at 7fb1d79de900 of size 2097152 next 962\n",
      "2023-06-15 19:35:00.093294: I tensorflow/tsl/framework/bfc_allocator.cc:1095] InUse at 7fb1d7bde900 of size 2097152 next 972\n",
      "2023-06-15 19:35:00.093300: I tensorflow/tsl/framework/bfc_allocator.cc:1095] InUse at 7fb1d7dde900 of size 2097152 next 968\n",
      "2023-06-15 19:35:00.093310: I tensorflow/tsl/framework/bfc_allocator.cc:1095] InUse at 7fb1d7fde900 of size 2097152 next 1001\n",
      "2023-06-15 19:35:00.093322: I tensorflow/tsl/framework/bfc_allocator.cc:1095] InUse at 7fb1d81de900 of size 2293760 next 991\n",
      "2023-06-15 19:35:00.093337: I tensorflow/tsl/framework/bfc_allocator.cc:1095] InUse at 7fb1d840e900 of size 2097152 next 980\n",
      "2023-06-15 19:35:00.093350: I tensorflow/tsl/framework/bfc_allocator.cc:1095] InUse at 7fb1d860e900 of size 4059136 next 940\n",
      "2023-06-15 19:35:00.093362: I tensorflow/tsl/framework/bfc_allocator.cc:1095] InUse at 7fb1d89ed900 of size 2097152 next 586\n",
      "2023-06-15 19:35:00.093376: I tensorflow/tsl/framework/bfc_allocator.cc:1095] InUse at 7fb1d8bed900 of size 2097152 next 583\n",
      "2023-06-15 19:35:00.093384: I tensorflow/tsl/framework/bfc_allocator.cc:1095] InUse at 7fb1d8ded900 of size 2097152 next 573\n",
      "2023-06-15 19:35:00.093392: I tensorflow/tsl/framework/bfc_allocator.cc:1095] InUse at 7fb1d8fed900 of size 2097152 next 539\n",
      "2023-06-15 19:35:00.093398: I tensorflow/tsl/framework/bfc_allocator.cc:1095] InUse at 7fb1d91ed900 of size 2097152 next 576\n",
      "2023-06-15 19:35:00.093404: I tensorflow/tsl/framework/bfc_allocator.cc:1095] InUse at 7fb1d93ed900 of size 2097152 next 563\n",
      "2023-06-15 19:35:00.093411: I tensorflow/tsl/framework/bfc_allocator.cc:1095] InUse at 7fb1d95ed900 of size 2097152 next 625\n",
      "2023-06-15 19:35:00.093417: I tensorflow/tsl/framework/bfc_allocator.cc:1095] InUse at 7fb1d97ed900 of size 2097152 next 620\n",
      "2023-06-15 19:35:00.093424: I tensorflow/tsl/framework/bfc_allocator.cc:1095] InUse at 7fb1d99ed900 of size 2097152 next 607\n",
      "2023-06-15 19:35:00.093432: I tensorflow/tsl/framework/bfc_allocator.cc:1095] InUse at 7fb1d9bed900 of size 2097152 next 606\n",
      "2023-06-15 19:35:00.093437: I tensorflow/tsl/framework/bfc_allocator.cc:1095] InUse at 7fb1d9ded900 of size 2097152 next 602\n",
      "2023-06-15 19:35:00.093444: I tensorflow/tsl/framework/bfc_allocator.cc:1095] InUse at 7fb1d9fed900 of size 2097152 next 593\n",
      "2023-06-15 19:35:00.093451: I tensorflow/tsl/framework/bfc_allocator.cc:1095] InUse at 7fb1da1ed900 of size 2097152 next 592\n",
      "2023-06-15 19:35:00.093457: I tensorflow/tsl/framework/bfc_allocator.cc:1095] InUse at 7fb1da3ed900 of size 2097152 next 654\n",
      "2023-06-15 19:35:00.093463: I tensorflow/tsl/framework/bfc_allocator.cc:1095] InUse at 7fb1da5ed900 of size 2097152 next 633\n",
      "2023-06-15 19:35:00.093470: I tensorflow/tsl/framework/bfc_allocator.cc:1095] InUse at 7fb1da7ed900 of size 2097152 next 636\n",
      "2023-06-15 19:35:00.093476: I tensorflow/tsl/framework/bfc_allocator.cc:1095] InUse at 7fb1da9ed900 of size 2097152 next 646\n",
      "2023-06-15 19:35:00.093483: I tensorflow/tsl/framework/bfc_allocator.cc:1095] InUse at 7fb1dabed900 of size 2097152 next 634\n",
      "2023-06-15 19:35:00.093490: I tensorflow/tsl/framework/bfc_allocator.cc:1095] InUse at 7fb1daded900 of size 2097152 next 626\n",
      "2023-06-15 19:35:00.093496: I tensorflow/tsl/framework/bfc_allocator.cc:1095] InUse at 7fb1dafed900 of size 2097152 next 629\n",
      "2023-06-15 19:35:00.093502: I tensorflow/tsl/framework/bfc_allocator.cc:1095] InUse at 7fb1db1ed900 of size 2097152 next 623\n",
      "2023-06-15 19:35:00.093509: I tensorflow/tsl/framework/bfc_allocator.cc:1095] InUse at 7fb1db3ed900 of size 2097152 next 615\n",
      "2023-06-15 19:35:00.093515: I tensorflow/tsl/framework/bfc_allocator.cc:1095] InUse at 7fb1db5ed900 of size 2097152 next 466\n",
      "2023-06-15 19:35:00.093522: I tensorflow/tsl/framework/bfc_allocator.cc:1095] InUse at 7fb1db7ed900 of size 2097152 next 376\n",
      "2023-06-15 19:35:00.093528: I tensorflow/tsl/framework/bfc_allocator.cc:1095] InUse at 7fb1db9ed900 of size 2097152 next 374\n",
      "2023-06-15 19:35:00.093535: I tensorflow/tsl/framework/bfc_allocator.cc:1095] InUse at 7fb1dbbed900 of size 2097152 next 324\n",
      "2023-06-15 19:35:00.093541: I tensorflow/tsl/framework/bfc_allocator.cc:1095] InUse at 7fb1dbded900 of size 3665920 next 627\n",
      "2023-06-15 19:35:00.093548: I tensorflow/tsl/framework/bfc_allocator.cc:1095] InUse at 7fb1dc16c900 of size 2097152 next 15\n",
      "2023-06-15 19:35:00.093555: I tensorflow/tsl/framework/bfc_allocator.cc:1095] InUse at 7fb1dc36c900 of size 2097152 next 18\n",
      "2023-06-15 19:35:00.093561: I tensorflow/tsl/framework/bfc_allocator.cc:1095] InUse at 7fb1dc56c900 of size 6701056 next 75\n",
      "2023-06-15 19:35:00.093568: I tensorflow/tsl/framework/bfc_allocator.cc:1095] InUse at 7fb1dcbd0900 of size 307200000 next 187\n",
      "2023-06-15 19:35:00.093575: I tensorflow/tsl/framework/bfc_allocator.cc:1095] InUse at 7fb1ef0c8900 of size 307200000 next 205\n",
      "2023-06-15 19:35:00.093582: I tensorflow/tsl/framework/bfc_allocator.cc:1095] InUse at 7fb2015c0900 of size 269174784 next 928\n",
      "2023-06-15 19:35:00.093589: I tensorflow/tsl/framework/bfc_allocator.cc:1095] InUse at 7fb211675100 of size 409905152 next 369\n",
      "2023-06-15 19:35:00.093595: I tensorflow/tsl/framework/bfc_allocator.cc:1095] InUse at 7fb229d5f900 of size 307200000 next 89\n",
      "2023-06-15 19:35:00.093602: I tensorflow/tsl/framework/bfc_allocator.cc:1095] InUse at 7fb23c257900 of size 2097152 next 958\n",
      "2023-06-15 19:35:00.093610: I tensorflow/tsl/framework/bfc_allocator.cc:1095] InUse at 7fb23c457900 of size 2097152 next 957\n",
      "2023-06-15 19:35:00.093616: I tensorflow/tsl/framework/bfc_allocator.cc:1095] InUse at 7fb23c657900 of size 2097152 next 965\n",
      "2023-06-15 19:35:00.093623: I tensorflow/tsl/framework/bfc_allocator.cc:1095] InUse at 7fb23c857900 of size 2097152 next 969\n",
      "2023-06-15 19:35:00.093637: I tensorflow/tsl/framework/bfc_allocator.cc:1095] InUse at 7fb23ca57900 of size 2097152 next 975\n",
      "2023-06-15 19:35:00.093644: I tensorflow/tsl/framework/bfc_allocator.cc:1095] InUse at 7fb23cc57900 of size 2097152 next 982\n",
      "2023-06-15 19:35:00.093658: I tensorflow/tsl/framework/bfc_allocator.cc:1095] InUse at 7fb23ce57900 of size 2097152 next 985\n",
      "2023-06-15 19:35:00.093665: I tensorflow/tsl/framework/bfc_allocator.cc:1095] InUse at 7fb23d057900 of size 2490368 next 981\n",
      "2023-06-15 19:35:00.093672: I tensorflow/tsl/framework/bfc_allocator.cc:1095] InUse at 7fb23d2b7900 of size 2097152 next 527\n",
      "2023-06-15 19:35:00.093680: I tensorflow/tsl/framework/bfc_allocator.cc:1095] InUse at 7fb23d4b7900 of size 2097152 next 521\n",
      "2023-06-15 19:35:00.093685: I tensorflow/tsl/framework/bfc_allocator.cc:1095] InUse at 7fb23d6b7900 of size 2097152 next 514\n",
      "2023-06-15 19:35:00.093692: I tensorflow/tsl/framework/bfc_allocator.cc:1095] InUse at 7fb23d8b7900 of size 2097152 next 508\n",
      "2023-06-15 19:35:00.093698: I tensorflow/tsl/framework/bfc_allocator.cc:1095] InUse at 7fb23dab7900 of size 2097152 next 510\n",
      "2023-06-15 19:35:00.093705: I tensorflow/tsl/framework/bfc_allocator.cc:1095] InUse at 7fb23dcb7900 of size 2097152 next 501\n",
      "2023-06-15 19:35:00.093711: I tensorflow/tsl/framework/bfc_allocator.cc:1095] InUse at 7fb23deb7900 of size 2097152 next 500\n",
      "2023-06-15 19:35:00.093719: I tensorflow/tsl/framework/bfc_allocator.cc:1095] InUse at 7fb23e0b7900 of size 2097152 next 554\n",
      "2023-06-15 19:35:00.093725: I tensorflow/tsl/framework/bfc_allocator.cc:1095] InUse at 7fb23e2b7900 of size 3276800 next 952\n",
      "2023-06-15 19:35:00.093735: I tensorflow/tsl/framework/bfc_allocator.cc:1095] InUse at 7fb23e5d7900 of size 2097152 next 993\n",
      "2023-06-15 19:35:00.093742: I tensorflow/tsl/framework/bfc_allocator.cc:1095] InUse at 7fb23e7d7900 of size 2097152 next 998\n",
      "2023-06-15 19:35:00.093748: I tensorflow/tsl/framework/bfc_allocator.cc:1095] InUse at 7fb23e9d7900 of size 2097152 next 388\n",
      "2023-06-15 19:35:00.093755: I tensorflow/tsl/framework/bfc_allocator.cc:1095] InUse at 7fb23ebd7900 of size 2097152 next 379\n",
      "2023-06-15 19:35:00.093762: I tensorflow/tsl/framework/bfc_allocator.cc:1095] InUse at 7fb23edd7900 of size 2097152 next 511\n",
      "2023-06-15 19:35:00.093769: I tensorflow/tsl/framework/bfc_allocator.cc:1095] InUse at 7fb23efd7900 of size 2097152 next 533\n",
      "2023-06-15 19:35:00.093775: I tensorflow/tsl/framework/bfc_allocator.cc:1095] InUse at 7fb23f1d7900 of size 2097152 next 523\n",
      "2023-06-15 19:35:00.093781: I tensorflow/tsl/framework/bfc_allocator.cc:1095] InUse at 7fb23f3d7900 of size 2097152 next 531\n",
      "2023-06-15 19:35:00.093788: I tensorflow/tsl/framework/bfc_allocator.cc:1095] InUse at 7fb23f5d7900 of size 2097152 next 499\n",
      "2023-06-15 19:35:00.093794: I tensorflow/tsl/framework/bfc_allocator.cc:1095] InUse at 7fb23f7d7900 of size 2158592 next 999\n",
      "2023-06-15 19:35:00.093801: I tensorflow/tsl/framework/bfc_allocator.cc:1095] InUse at 7fb23f9e6900 of size 14094336 next 977\n",
      "2023-06-15 19:35:00.093808: I tensorflow/tsl/framework/bfc_allocator.cc:1095] InUse at 7fb240757900 of size 307200000 next 447\n",
      "2023-06-15 19:35:00.093815: I tensorflow/tsl/framework/bfc_allocator.cc:1095] InUse at 7fb252c4f900 of size 307200000 next 1113\n",
      "2023-06-15 19:35:00.093826: I tensorflow/tsl/framework/bfc_allocator.cc:1095] InUse at 7fb265147900 of size 307200000 next 1114\n",
      "2023-06-15 19:35:00.093832: I tensorflow/tsl/framework/bfc_allocator.cc:1095] InUse at 7fb27763f900 of size 4784128 next 1435\n",
      "2023-06-15 19:35:00.093839: I tensorflow/tsl/framework/bfc_allocator.cc:1095] InUse at 7fb277acf900 of size 1401856 next 1434\n",
      "2023-06-15 19:35:00.093847: I tensorflow/tsl/framework/bfc_allocator.cc:1095] InUse at 7fb277c25d00 of size 1382912 next 1430\n",
      "2023-06-15 19:35:00.093853: I tensorflow/tsl/framework/bfc_allocator.cc:1095] InUse at 7fb277d77700 of size 1382912 next 1423\n",
      "2023-06-15 19:35:00.093859: I tensorflow/tsl/framework/bfc_allocator.cc:1095] InUse at 7fb277ec9100 of size 1382912 next 1428\n",
      "2023-06-15 19:35:00.093866: I tensorflow/tsl/framework/bfc_allocator.cc:1095] InUse at 7fb27801ab00 of size 1382912 next 1163\n",
      "2023-06-15 19:35:00.093873: I tensorflow/tsl/framework/bfc_allocator.cc:1095] InUse at 7fb27816c500 of size 1728768 next 1422\n",
      "2023-06-15 19:35:00.093879: I tensorflow/tsl/framework/bfc_allocator.cc:1095] InUse at 7fb278312600 of size 1382912 next 1411\n",
      "2023-06-15 19:35:00.093886: I tensorflow/tsl/framework/bfc_allocator.cc:1095] InUse at 7fb278464000 of size 4849664 next 1193\n",
      "2023-06-15 19:35:00.093893: I tensorflow/tsl/framework/bfc_allocator.cc:1095] InUse at 7fb278904000 of size 4849664 next 1194\n",
      "2023-06-15 19:35:00.093899: I tensorflow/tsl/framework/bfc_allocator.cc:1095] InUse at 7fb278da4000 of size 1212416 next 1420\n",
      "2023-06-15 19:35:00.093906: I tensorflow/tsl/framework/bfc_allocator.cc:1095] InUse at 7fb278ecc000 of size 12531968 next 1294\n",
      "2023-06-15 19:35:00.093913: I tensorflow/tsl/framework/bfc_allocator.cc:1095] InUse at 7fb279abf900 of size 38273024 next 1437\n",
      "2023-06-15 19:35:00.093920: I tensorflow/tsl/framework/bfc_allocator.cc:1095] InUse at 7fb27bf3f900 of size 38797312 next 1445\n",
      "2023-06-15 19:35:00.093927: I tensorflow/tsl/framework/bfc_allocator.cc:1095] InUse at 7fb27e43f900 of size 38797312 next 1417\n",
      "2023-06-15 19:35:00.093933: I tensorflow/tsl/framework/bfc_allocator.cc:1095] InUse at 7fb28093f900 of size 38797312 next 1413\n",
      "2023-06-15 19:35:00.093939: I tensorflow/tsl/framework/bfc_allocator.cc:1095] InUse at 7fb282e3f900 of size 41910272 next 658\n",
      "2023-06-15 19:35:00.093953: I tensorflow/tsl/framework/bfc_allocator.cc:1095] InUse at 7fb285637900 of size 307200000 next 813\n",
      "2023-06-15 19:35:00.093959: I tensorflow/tsl/framework/bfc_allocator.cc:1095] InUse at 7fb297b2f900 of size 307200000 next 1006\n",
      "2023-06-15 19:35:00.093968: I tensorflow/tsl/framework/bfc_allocator.cc:1095] InUse at 7fb2aa027900 of size 11214848 next 1401\n",
      "2023-06-15 19:35:00.093973: I tensorflow/tsl/framework/bfc_allocator.cc:1095] InUse at 7fb2aaad9900 of size 4849664 next 1217\n",
      "2023-06-15 19:35:00.093980: I tensorflow/tsl/framework/bfc_allocator.cc:1095] InUse at 7fb2aaf79900 of size 6365184 next 1400\n",
      "2023-06-15 19:35:00.093998: I tensorflow/tsl/framework/bfc_allocator.cc:1095] InUse at 7fb2ab58b900 of size 2803712 next 1192\n",
      "2023-06-15 19:35:00.094005: I tensorflow/tsl/framework/bfc_allocator.cc:1095] InUse at 7fb2ab838100 of size 4849664 next 1382\n",
      "2023-06-15 19:35:00.094012: I tensorflow/tsl/framework/bfc_allocator.cc:1095] InUse at 7fb2abcd8100 of size 58726400 next 1405\n",
      "2023-06-15 19:35:00.094018: I tensorflow/tsl/framework/bfc_allocator.cc:1095] InUse at 7fb2af4d9900 of size 11214848 next 1191\n",
      "2023-06-15 19:35:00.094025: I tensorflow/tsl/framework/bfc_allocator.cc:1095] InUse at 7fb2aff8b900 of size 38797312 next 1389\n",
      "2023-06-15 19:35:00.094032: I tensorflow/tsl/framework/bfc_allocator.cc:1095] InUse at 7fb2b248b900 of size 38797312 next 1387\n",
      "2023-06-15 19:35:00.094038: I tensorflow/tsl/framework/bfc_allocator.cc:1095] InUse at 7fb2b498b900 of size 38797312 next 1397\n",
      "2023-06-15 19:35:00.094045: I tensorflow/tsl/framework/bfc_allocator.cc:1095] InUse at 7fb2b6e8b900 of size 38797312 next 1398\n",
      "2023-06-15 19:35:00.094052: I tensorflow/tsl/framework/bfc_allocator.cc:1095] InUse at 7fb2b938b900 of size 11214848 next 1189\n",
      "2023-06-15 19:35:00.094058: I tensorflow/tsl/framework/bfc_allocator.cc:1095] InUse at 7fb2b9e3d900 of size 4849664 next 1388\n",
      "2023-06-15 19:35:00.094065: I tensorflow/tsl/framework/bfc_allocator.cc:1095] InUse at 7fb2ba2dd900 of size 6365184 next 1190\n",
      "2023-06-15 19:35:00.094071: I tensorflow/tsl/framework/bfc_allocator.cc:1095] InUse at 7fb2ba8ef900 of size 2803712 next 1308\n",
      "2023-06-15 19:35:00.094078: I tensorflow/tsl/framework/bfc_allocator.cc:1095] InUse at 7fb2bab9c100 of size 4849664 next 1369\n",
      "2023-06-15 19:35:00.094098: I tensorflow/tsl/framework/bfc_allocator.cc:1095] InUse at 7fb2bb03c100 of size 58726400 next 1395\n",
      "2023-06-15 19:35:00.094105: I tensorflow/tsl/framework/bfc_allocator.cc:1095] InUse at 7fb2be83d900 of size 11214848 next 1391\n",
      "2023-06-15 19:35:00.094112: I tensorflow/tsl/framework/bfc_allocator.cc:1095] InUse at 7fb2bf2ef900 of size 38797312 next 1309\n",
      "2023-06-15 19:35:00.094119: I tensorflow/tsl/framework/bfc_allocator.cc:1095] InUse at 7fb2c17ef900 of size 38797312 next 1213\n",
      "2023-06-15 19:35:00.094126: I tensorflow/tsl/framework/bfc_allocator.cc:1095] InUse at 7fb2c3cef900 of size 38797312 next 1390\n",
      "2023-06-15 19:35:00.094132: I tensorflow/tsl/framework/bfc_allocator.cc:1095] InUse at 7fb2c61ef900 of size 38797312 next 1378\n",
      "2023-06-15 19:35:00.094140: I tensorflow/tsl/framework/bfc_allocator.cc:1095] InUse at 7fb2c86ef900 of size 11214848 next 1372\n",
      "2023-06-15 19:35:00.094153: I tensorflow/tsl/framework/bfc_allocator.cc:1095] InUse at 7fb2c91a1900 of size 4849664 next 1187\n",
      "2023-06-15 19:35:00.094160: I tensorflow/tsl/framework/bfc_allocator.cc:1095] InUse at 7fb2c9641900 of size 6365184 next 1368\n",
      "2023-06-15 19:35:00.094167: I tensorflow/tsl/framework/bfc_allocator.cc:1095] InUse at 7fb2c9c53900 of size 2803712 next 1377\n",
      "2023-06-15 19:35:00.094173: I tensorflow/tsl/framework/bfc_allocator.cc:1095] InUse at 7fb2c9f00100 of size 4849664 next 1218\n",
      "2023-06-15 19:35:00.094180: I tensorflow/tsl/framework/bfc_allocator.cc:1095] InUse at 7fb2ca3a0100 of size 58726400 next 1379\n",
      "2023-06-15 19:35:00.094187: I tensorflow/tsl/framework/bfc_allocator.cc:1095] InUse at 7fb2cdba1900 of size 11214848 next 1381\n",
      "2023-06-15 19:35:00.094194: I tensorflow/tsl/framework/bfc_allocator.cc:1095] InUse at 7fb2ce653900 of size 38797312 next 1376\n",
      "2023-06-15 19:35:00.094200: I tensorflow/tsl/framework/bfc_allocator.cc:1095] InUse at 7fb2d0b53900 of size 38797312 next 1380\n",
      "2023-06-15 19:35:00.094207: I tensorflow/tsl/framework/bfc_allocator.cc:1095] InUse at 7fb2d3053900 of size 38797312 next 1188\n",
      "2023-06-15 19:35:00.094213: I tensorflow/tsl/framework/bfc_allocator.cc:1095] InUse at 7fb2d5553900 of size 38797312 next 1373\n",
      "2023-06-15 19:35:00.094220: I tensorflow/tsl/framework/bfc_allocator.cc:1095] InUse at 7fb2d7a53900 of size 11214848 next 1375\n",
      "2023-06-15 19:35:00.094226: I tensorflow/tsl/framework/bfc_allocator.cc:1095] InUse at 7fb2d8505900 of size 4849664 next 1370\n",
      "2023-06-15 19:35:00.094233: I tensorflow/tsl/framework/bfc_allocator.cc:1095] InUse at 7fb2d89a5900 of size 6365184 next 1371\n",
      "2023-06-15 19:35:00.094246: I tensorflow/tsl/framework/bfc_allocator.cc:1095] InUse at 7fb2d8fb7900 of size 2803712 next 1374\n",
      "2023-06-15 19:35:00.094253: I tensorflow/tsl/framework/bfc_allocator.cc:1095] InUse at 7fb2d9264100 of size 4849664 next 1307\n",
      "2023-06-15 19:35:00.094261: I tensorflow/tsl/framework/bfc_allocator.cc:1095] InUse at 7fb2d9704100 of size 58726400 next 1361\n",
      "2023-06-15 19:35:00.094267: I tensorflow/tsl/framework/bfc_allocator.cc:1095] InUse at 7fb2dcf05900 of size 11214848 next 1357\n",
      "2023-06-15 19:35:00.094274: I tensorflow/tsl/framework/bfc_allocator.cc:1095] InUse at 7fb2dd9b7900 of size 38797312 next 1185\n",
      "2023-06-15 19:35:00.094281: I tensorflow/tsl/framework/bfc_allocator.cc:1095] InUse at 7fb2dfeb7900 of size 38797312 next 1186\n",
      "2023-06-15 19:35:00.094287: I tensorflow/tsl/framework/bfc_allocator.cc:1095] InUse at 7fb2e23b7900 of size 38797312 next 1360\n",
      "2023-06-15 19:35:00.094294: I tensorflow/tsl/framework/bfc_allocator.cc:1095] InUse at 7fb2e48b7900 of size 38797312 next 1359\n",
      "2023-06-15 19:35:00.094301: I tensorflow/tsl/framework/bfc_allocator.cc:1095] InUse at 7fb2e6db7900 of size 38797312 next 1358\n",
      "2023-06-15 19:35:00.094312: I tensorflow/tsl/framework/bfc_allocator.cc:1095] InUse at 7fb2e92b7900 of size 38797312 next 1343\n",
      "2023-06-15 19:35:00.094319: I tensorflow/tsl/framework/bfc_allocator.cc:1095] InUse at 7fb2eb7b7900 of size 38797312 next 1347\n",
      "2023-06-15 19:35:00.094325: I tensorflow/tsl/framework/bfc_allocator.cc:1095] InUse at 7fb2edcb7900 of size 38797312 next 1353\n",
      "2023-06-15 19:35:00.094332: I tensorflow/tsl/framework/bfc_allocator.cc:1095] InUse at 7fb2f01b7900 of size 38797312 next 1345\n",
      "2023-06-15 19:35:00.094338: I tensorflow/tsl/framework/bfc_allocator.cc:1095] InUse at 7fb2f26b7900 of size 38797312 next 1354\n",
      "2023-06-15 19:35:00.094345: I tensorflow/tsl/framework/bfc_allocator.cc:1095] InUse at 7fb2f4bb7900 of size 38797312 next 1356\n",
      "2023-06-15 19:35:00.094362: I tensorflow/tsl/framework/bfc_allocator.cc:1095] InUse at 7fb2f70b7900 of size 38797312 next 1352\n",
      "2023-06-15 19:35:00.094368: I tensorflow/tsl/framework/bfc_allocator.cc:1095] InUse at 7fb2f95b7900 of size 38797312 next 1351\n",
      "2023-06-15 19:35:00.094375: I tensorflow/tsl/framework/bfc_allocator.cc:1095] InUse at 7fb2fbab7900 of size 11063296 next 1355\n",
      "2023-06-15 19:35:00.094382: I tensorflow/tsl/framework/bfc_allocator.cc:1095] InUse at 7fb2fc544900 of size 4784128 next 1348\n",
      "2023-06-15 19:35:00.094389: I tensorflow/tsl/framework/bfc_allocator.cc:1095] InUse at 7fb2fc9d4900 of size 6279168 next 1183\n",
      "2023-06-15 19:35:00.094395: I tensorflow/tsl/framework/bfc_allocator.cc:1095] InUse at 7fb2fcfd1900 of size 2765824 next 1338\n",
      "2023-06-15 19:35:00.094402: I tensorflow/tsl/framework/bfc_allocator.cc:1095] InUse at 7fb2fd274d00 of size 4784128 next 1331\n",
      "2023-06-15 19:35:00.094409: I tensorflow/tsl/framework/bfc_allocator.cc:1095] InUse at 7fb2fd704d00 of size 4784128 next 1310\n",
      "2023-06-15 19:35:00.094415: I tensorflow/tsl/framework/bfc_allocator.cc:1095] InUse at 7fb2fdb94d00 of size 53672960 next 1214\n",
      "2023-06-15 19:35:00.094422: I tensorflow/tsl/framework/bfc_allocator.cc:1095] InUse at 7fb300ec4900 of size 11063296 next 1215\n",
      "2023-06-15 19:35:00.094429: I tensorflow/tsl/framework/bfc_allocator.cc:1095] InUse at 7fb301951900 of size 38273024 next 1336\n",
      "2023-06-15 19:35:00.094436: I tensorflow/tsl/framework/bfc_allocator.cc:1095] InUse at 7fb303dd1900 of size 38273024 next 1342\n",
      "2023-06-15 19:35:00.094443: I tensorflow/tsl/framework/bfc_allocator.cc:1095] InUse at 7fb306251900 of size 38273024 next 1349\n",
      "2023-06-15 19:35:00.094449: I tensorflow/tsl/framework/bfc_allocator.cc:1095] InUse at 7fb3086d1900 of size 38273024 next 1341\n",
      "2023-06-15 19:35:00.094456: I tensorflow/tsl/framework/bfc_allocator.cc:1095] InUse at 7fb30ab51900 of size 10913792 next 1337\n",
      "2023-06-15 19:35:00.094462: I tensorflow/tsl/framework/bfc_allocator.cc:1095] InUse at 7fb30b5ba100 of size 4784128 next 1321\n",
      "2023-06-15 19:35:00.094476: I tensorflow/tsl/framework/bfc_allocator.cc:1095] InUse at 7fb30ba4a100 of size 2765824 next 1325\n",
      "2023-06-15 19:35:00.094483: I tensorflow/tsl/framework/bfc_allocator.cc:1095] InUse at 7fb30bced500 of size 3363840 next 1339\n",
      "2023-06-15 19:35:00.094490: I tensorflow/tsl/framework/bfc_allocator.cc:1095] InUse at 7fb30c022900 of size 2728448 next 1333\n",
      "2023-06-15 19:35:00.094497: I tensorflow/tsl/framework/bfc_allocator.cc:1095] InUse at 7fb30c2bcb00 of size 62903808 next 1334\n",
      "2023-06-15 19:35:00.094504: I tensorflow/tsl/framework/bfc_allocator.cc:1095] InUse at 7fb30feba100 of size 10913792 next 1327\n",
      "2023-06-15 19:35:00.094513: I tensorflow/tsl/framework/bfc_allocator.cc:1095] InUse at 7fb310922900 of size 38273024 next 1326\n",
      "2023-06-15 19:35:00.094520: I tensorflow/tsl/framework/bfc_allocator.cc:1095] InUse at 7fb312da2900 of size 38273024 next 1332\n",
      "2023-06-15 19:35:00.094526: I tensorflow/tsl/framework/bfc_allocator.cc:1095] InUse at 7fb315222900 of size 11063296 next 1317\n",
      "2023-06-15 19:35:00.094533: I tensorflow/tsl/framework/bfc_allocator.cc:1095] InUse at 7fb315caf900 of size 4784128 next 1329\n",
      "2023-06-15 19:35:00.094540: I tensorflow/tsl/framework/bfc_allocator.cc:1095] InUse at 7fb31613f900 of size 4784128 next 1316\n",
      "2023-06-15 19:35:00.094546: I tensorflow/tsl/framework/bfc_allocator.cc:1095] InUse at 7fb3165cf900 of size 4784128 next 1162\n",
      "2023-06-15 19:35:00.094553: I tensorflow/tsl/framework/bfc_allocator.cc:1095] InUse at 7fb316a5f900 of size 4784128 next 1167\n",
      "2023-06-15 19:35:00.094560: I tensorflow/tsl/framework/bfc_allocator.cc:1095] InUse at 7fb316eef900 of size 19136512 next 1328\n",
      "2023-06-15 19:35:00.094573: I tensorflow/tsl/framework/bfc_allocator.cc:1095] InUse at 7fb31812f900 of size 11063296 next 1330\n",
      "2023-06-15 19:35:00.094580: I tensorflow/tsl/framework/bfc_allocator.cc:1095] InUse at 7fb318bbc900 of size 38273024 next 1319\n",
      "2023-06-15 19:35:00.094587: I tensorflow/tsl/framework/bfc_allocator.cc:1095] InUse at 7fb31b03c900 of size 38273024 next 1323\n",
      "2023-06-15 19:35:00.094594: I tensorflow/tsl/framework/bfc_allocator.cc:1095] InUse at 7fb31d4bc900 of size 38273024 next 1178\n",
      "2023-06-15 19:35:00.094601: I tensorflow/tsl/framework/bfc_allocator.cc:1095] InUse at 7fb31f93c900 of size 38273024 next 1203\n",
      "2023-06-15 19:35:00.094611: I tensorflow/tsl/framework/bfc_allocator.cc:1095] InUse at 7fb321dbc900 of size 4784128 next 1227\n",
      "2023-06-15 19:35:00.094617: I tensorflow/tsl/framework/bfc_allocator.cc:1095] InUse at 7fb32224c900 of size 71761920 next 1161\n",
      "2023-06-15 19:35:00.094624: I tensorflow/tsl/framework/bfc_allocator.cc:1095] InUse at 7fb3266bc900 of size 10913792 next 1170\n",
      "2023-06-15 19:35:00.094631: I tensorflow/tsl/framework/bfc_allocator.cc:1095] InUse at 7fb327125100 of size 38273024 next 1299\n",
      "2023-06-15 19:35:00.094637: I tensorflow/tsl/framework/bfc_allocator.cc:1095] InUse at 7fb3295a5100 of size 11063296 next 1293\n",
      "2023-06-15 19:35:00.094644: I tensorflow/tsl/framework/bfc_allocator.cc:1095] InUse at 7fb32a032100 of size 4784128 next 1226\n",
      "2023-06-15 19:35:00.094650: I tensorflow/tsl/framework/bfc_allocator.cc:1095] InUse at 7fb32a4c2100 of size 6279168 next 1289\n",
      "2023-06-15 19:35:00.094657: I tensorflow/tsl/framework/bfc_allocator.cc:1095] InUse at 7fb32aabf100 of size 2765824 next 1211\n",
      "2023-06-15 19:35:00.094664: I tensorflow/tsl/framework/bfc_allocator.cc:1095] InUse at 7fb32ad62500 of size 4784128 next 1199\n",
      "2023-06-15 19:35:00.094670: I tensorflow/tsl/framework/bfc_allocator.cc:1095] InUse at 7fb32b1f2500 of size 4784128 next 1152\n",
      "2023-06-15 19:35:00.094677: I tensorflow/tsl/framework/bfc_allocator.cc:1095] InUse at 7fb32b682500 of size 53672960 next 1284\n",
      "2023-06-15 19:35:00.094683: I tensorflow/tsl/framework/bfc_allocator.cc:1095] InUse at 7fb32e9b2100 of size 11063296 next 1201\n",
      "2023-06-15 19:35:00.094690: I tensorflow/tsl/framework/bfc_allocator.cc:1095] InUse at 7fb32f43f100 of size 38273024 next 1301\n",
      "2023-06-15 19:35:00.094696: I tensorflow/tsl/framework/bfc_allocator.cc:1095] InUse at 7fb3318bf100 of size 38273024 next 1224\n",
      "2023-06-15 19:35:00.094703: I tensorflow/tsl/framework/bfc_allocator.cc:1095] InUse at 7fb333d3f100 of size 38273024 next 1168\n",
      "2023-06-15 19:35:00.094716: I tensorflow/tsl/framework/bfc_allocator.cc:1095] InUse at 7fb3361bf100 of size 38273024 next 1153\n",
      "2023-06-15 19:35:00.094723: I tensorflow/tsl/framework/bfc_allocator.cc:1095] InUse at 7fb33863f100 of size 10913792 next 1212\n",
      "2023-06-15 19:35:00.094730: I tensorflow/tsl/framework/bfc_allocator.cc:1095] InUse at 7fb3390a7900 of size 4784128 next 1279\n",
      "2023-06-15 19:35:00.094737: I tensorflow/tsl/framework/bfc_allocator.cc:1095] InUse at 7fb339537900 of size 2765824 next 1288\n",
      "2023-06-15 19:35:00.094747: I tensorflow/tsl/framework/bfc_allocator.cc:1095] InUse at 7fb3397dad00 of size 3363840 next 1429\n",
      "2023-06-15 19:35:00.094754: I tensorflow/tsl/framework/bfc_allocator.cc:1095] InUse at 7fb339b10100 of size 2728448 next 1295\n",
      "2023-06-15 19:35:00.094762: I tensorflow/tsl/framework/bfc_allocator.cc:1095] InUse at 7fb339daa300 of size 62903808 next 1297\n",
      "2023-06-15 19:35:00.094769: I tensorflow/tsl/framework/bfc_allocator.cc:1095] InUse at 7fb33d9a7900 of size 10913792 next 1292\n",
      "2023-06-15 19:35:00.094778: I tensorflow/tsl/framework/bfc_allocator.cc:1095] InUse at 7fb33e410100 of size 38273024 next 1283\n",
      "2023-06-15 19:35:00.094785: I tensorflow/tsl/framework/bfc_allocator.cc:1095] InUse at 7fb340890100 of size 38273024 next 1291\n",
      "2023-06-15 19:35:00.094792: I tensorflow/tsl/framework/bfc_allocator.cc:1095] InUse at 7fb342d10100 of size 11063296 next 1290\n",
      "2023-06-15 19:35:00.094798: I tensorflow/tsl/framework/bfc_allocator.cc:1095] InUse at 7fb34379d100 of size 4784128 next 1282\n",
      "2023-06-15 19:35:00.094808: I tensorflow/tsl/framework/bfc_allocator.cc:1095] InUse at 7fb343c2d100 of size 4784128 next 1278\n",
      "2023-06-15 19:35:00.094815: I tensorflow/tsl/framework/bfc_allocator.cc:1095] InUse at 7fb3440bd100 of size 4784128 next 1276\n",
      "2023-06-15 19:35:00.094821: I tensorflow/tsl/framework/bfc_allocator.cc:1095] InUse at 7fb34454d100 of size 4784128 next 1273\n",
      "2023-06-15 19:35:00.094828: I tensorflow/tsl/framework/bfc_allocator.cc:1095] InUse at 7fb3449dd100 of size 19136512 next 1281\n",
      "2023-06-15 19:35:00.094838: I tensorflow/tsl/framework/bfc_allocator.cc:1095] InUse at 7fb345c1d100 of size 11063296 next 1277\n",
      "2023-06-15 19:35:00.094844: I tensorflow/tsl/framework/bfc_allocator.cc:1095] InUse at 7fb3466aa100 of size 38273024 next 1286\n",
      "2023-06-15 19:35:00.094851: I tensorflow/tsl/framework/bfc_allocator.cc:1095] InUse at 7fb348b2a100 of size 38273024 next 1280\n",
      "2023-06-15 19:35:00.094858: I tensorflow/tsl/framework/bfc_allocator.cc:1095] InUse at 7fb34afaa100 of size 38273024 next 1267\n",
      "2023-06-15 19:35:00.094867: I tensorflow/tsl/framework/bfc_allocator.cc:1095] InUse at 7fb34d42a100 of size 38273024 next 1263\n",
      "2023-06-15 19:35:00.094874: I tensorflow/tsl/framework/bfc_allocator.cc:1095] InUse at 7fb34f8aa100 of size 4784128 next 1270\n",
      "2023-06-15 19:35:00.094882: I tensorflow/tsl/framework/bfc_allocator.cc:1095] InUse at 7fb34fd3a100 of size 71761920 next 1268\n",
      "2023-06-15 19:35:00.094889: I tensorflow/tsl/framework/bfc_allocator.cc:1095] InUse at 7fb3541aa100 of size 10913792 next 1262\n",
      "2023-06-15 19:35:00.094895: I tensorflow/tsl/framework/bfc_allocator.cc:1095] InUse at 7fb354c12900 of size 38273024 next 1258\n",
      "2023-06-15 19:35:00.094912: I tensorflow/tsl/framework/bfc_allocator.cc:1095] InUse at 7fb357092900 of size 11063296 next 1418\n",
      "2023-06-15 19:35:00.094919: I tensorflow/tsl/framework/bfc_allocator.cc:1095] InUse at 7fb357b1f900 of size 4784128 next 1256\n",
      "2023-06-15 19:35:00.094925: I tensorflow/tsl/framework/bfc_allocator.cc:1095] InUse at 7fb357faf900 of size 6279168 next 1271\n",
      "2023-06-15 19:35:00.094932: I tensorflow/tsl/framework/bfc_allocator.cc:1095] InUse at 7fb3585ac900 of size 2765824 next 1272\n",
      "2023-06-15 19:35:00.094939: I tensorflow/tsl/framework/bfc_allocator.cc:1095] InUse at 7fb35884fd00 of size 4784128 next 1248\n",
      "2023-06-15 19:35:00.094945: I tensorflow/tsl/framework/bfc_allocator.cc:1095] InUse at 7fb358cdfd00 of size 4784128 next 1249\n",
      "2023-06-15 19:35:00.094952: I tensorflow/tsl/framework/bfc_allocator.cc:1095] InUse at 7fb35916fd00 of size 53672960 next 1209\n",
      "2023-06-15 19:35:00.094958: I tensorflow/tsl/framework/bfc_allocator.cc:1095] InUse at 7fb35c49f900 of size 11063296 next 1264\n",
      "2023-06-15 19:35:00.094965: I tensorflow/tsl/framework/bfc_allocator.cc:1095] InUse at 7fb35cf2c900 of size 38273024 next 1266\n",
      "2023-06-15 19:35:00.094971: I tensorflow/tsl/framework/bfc_allocator.cc:1095] InUse at 7fb35f3ac900 of size 38273024 next 1261\n",
      "2023-06-15 19:35:00.094978: I tensorflow/tsl/framework/bfc_allocator.cc:1095] InUse at 7fb36182c900 of size 38273024 next 1255\n",
      "2023-06-15 19:35:00.094984: I tensorflow/tsl/framework/bfc_allocator.cc:1095] InUse at 7fb363cac900 of size 38273024 next 1251\n",
      "2023-06-15 19:35:00.094991: I tensorflow/tsl/framework/bfc_allocator.cc:1095] InUse at 7fb36612c900 of size 10913792 next 1246\n",
      "2023-06-15 19:35:00.095005: I tensorflow/tsl/framework/bfc_allocator.cc:1095] InUse at 7fb366b95100 of size 4784128 next 1240\n",
      "2023-06-15 19:35:00.095012: I tensorflow/tsl/framework/bfc_allocator.cc:1095] InUse at 7fb367025100 of size 2765824 next 1166\n",
      "2023-06-15 19:35:00.095019: I tensorflow/tsl/framework/bfc_allocator.cc:1095] Free  at 7fb3672c8500 of size 3363840 next 1414\n",
      "2023-06-15 19:35:00.095026: I tensorflow/tsl/framework/bfc_allocator.cc:1095] InUse at 7fb3675fd900 of size 2728448 next 1242\n",
      "2023-06-15 19:35:00.095032: I tensorflow/tsl/framework/bfc_allocator.cc:1095] InUse at 7fb367897b00 of size 62903808 next 1245\n",
      "2023-06-15 19:35:00.095039: I tensorflow/tsl/framework/bfc_allocator.cc:1095] InUse at 7fb36b495100 of size 10913792 next 1241\n",
      "2023-06-15 19:35:00.095046: I tensorflow/tsl/framework/bfc_allocator.cc:1095] InUse at 7fb36befd900 of size 38273024 next 1244\n",
      "2023-06-15 19:35:00.095052: I tensorflow/tsl/framework/bfc_allocator.cc:1095] InUse at 7fb36e37d900 of size 38273024 next 1238\n",
      "2023-06-15 19:35:00.095059: I tensorflow/tsl/framework/bfc_allocator.cc:1095] InUse at 7fb3707fd900 of size 11063296 next 1239\n",
      "2023-06-15 19:35:00.095065: I tensorflow/tsl/framework/bfc_allocator.cc:1095] InUse at 7fb37128a900 of size 4784128 next 1236\n",
      "2023-06-15 19:35:00.095073: I tensorflow/tsl/framework/bfc_allocator.cc:1095] InUse at 7fb37171a900 of size 4784128 next 1231\n",
      "2023-06-15 19:35:00.095082: I tensorflow/tsl/framework/bfc_allocator.cc:1095] InUse at 7fb371baa900 of size 4784128 next 1233\n",
      "2023-06-15 19:35:00.095089: I tensorflow/tsl/framework/bfc_allocator.cc:1095] InUse at 7fb37203a900 of size 4784128 next 1222\n",
      "2023-06-15 19:35:00.095096: I tensorflow/tsl/framework/bfc_allocator.cc:1095] Free  at 7fb3724ca900 of size 19136512 next 1237\n",
      "2023-06-15 19:35:00.095103: I tensorflow/tsl/framework/bfc_allocator.cc:1095] InUse at 7fb37370a900 of size 11063296 next 1234\n",
      "2023-06-15 19:35:00.095110: I tensorflow/tsl/framework/bfc_allocator.cc:1095] InUse at 7fb374197900 of size 38273024 next 1230\n",
      "2023-06-15 19:35:00.095118: I tensorflow/tsl/framework/bfc_allocator.cc:1095] Free  at 7fb376617900 of size 1716822016 next 1004\n",
      "2023-06-15 19:35:00.095125: I tensorflow/tsl/framework/bfc_allocator.cc:1095] InUse at 7fb3dcb61900 of size 5145600000 next 1009\n",
      "2023-06-15 19:35:00.095131: I tensorflow/tsl/framework/bfc_allocator.cc:1095] InUse at 7fb50f69b900 of size 38797312 next 1220\n",
      "2023-06-15 19:35:00.095138: I tensorflow/tsl/framework/bfc_allocator.cc:1095] InUse at 7fb511b9b900 of size 38797312 next 1444\n",
      "2023-06-15 19:35:00.095145: I tensorflow/tsl/framework/bfc_allocator.cc:1095] InUse at 7fb51409b900 of size 59655936 next 18446744073709551615\n",
      "2023-06-15 19:35:00.095151: I tensorflow/tsl/framework/bfc_allocator.cc:1100]      Summary of in-use Chunks by size: \n",
      "2023-06-15 19:35:00.095164: I tensorflow/tsl/framework/bfc_allocator.cc:1103] 80 Chunks of size 256 totalling 20.0KiB\n",
      "2023-06-15 19:35:00.095173: I tensorflow/tsl/framework/bfc_allocator.cc:1103] 3 Chunks of size 512 totalling 1.5KiB\n",
      "2023-06-15 19:35:00.095181: I tensorflow/tsl/framework/bfc_allocator.cc:1103] 5 Chunks of size 768 totalling 3.8KiB\n",
      "2023-06-15 19:35:00.095189: I tensorflow/tsl/framework/bfc_allocator.cc:1103] 380 Chunks of size 1024 totalling 380.0KiB\n",
      "2023-06-15 19:35:00.095196: I tensorflow/tsl/framework/bfc_allocator.cc:1103] 16 Chunks of size 1280 totalling 20.0KiB\n",
      "2023-06-15 19:35:00.095204: I tensorflow/tsl/framework/bfc_allocator.cc:1103] 17 Chunks of size 1536 totalling 25.5KiB\n",
      "2023-06-15 19:35:00.095212: I tensorflow/tsl/framework/bfc_allocator.cc:1103] 2 Chunks of size 1792 totalling 3.5KiB\n",
      "2023-06-15 19:35:00.095221: I tensorflow/tsl/framework/bfc_allocator.cc:1103] 1 Chunks of size 4608 totalling 4.5KiB\n",
      "2023-06-15 19:35:00.095229: I tensorflow/tsl/framework/bfc_allocator.cc:1103] 2 Chunks of size 4864 totalling 9.5KiB\n",
      "2023-06-15 19:35:00.095236: I tensorflow/tsl/framework/bfc_allocator.cc:1103] 1 Chunks of size 6400 totalling 6.2KiB\n",
      "2023-06-15 19:35:00.095244: I tensorflow/tsl/framework/bfc_allocator.cc:1103] 1 Chunks of size 7936 totalling 7.8KiB\n",
      "2023-06-15 19:35:00.095251: I tensorflow/tsl/framework/bfc_allocator.cc:1103] 230 Chunks of size 8192 totalling 1.80MiB\n",
      "2023-06-15 19:35:00.095259: I tensorflow/tsl/framework/bfc_allocator.cc:1103] 4 Chunks of size 8704 totalling 34.0KiB\n",
      "2023-06-15 19:35:00.095271: I tensorflow/tsl/framework/bfc_allocator.cc:1103] 5 Chunks of size 8960 totalling 43.8KiB\n",
      "2023-06-15 19:35:00.095279: I tensorflow/tsl/framework/bfc_allocator.cc:1103] 4 Chunks of size 9216 totalling 36.0KiB\n",
      "2023-06-15 19:35:00.095286: I tensorflow/tsl/framework/bfc_allocator.cc:1103] 2 Chunks of size 9472 totalling 18.5KiB\n",
      "2023-06-15 19:35:00.095293: I tensorflow/tsl/framework/bfc_allocator.cc:1103] 2 Chunks of size 9728 totalling 19.0KiB\n",
      "2023-06-15 19:35:00.095307: I tensorflow/tsl/framework/bfc_allocator.cc:1103] 4 Chunks of size 10240 totalling 40.0KiB\n",
      "2023-06-15 19:35:00.095315: I tensorflow/tsl/framework/bfc_allocator.cc:1103] 1 Chunks of size 10496 totalling 10.2KiB\n",
      "2023-06-15 19:35:00.095323: I tensorflow/tsl/framework/bfc_allocator.cc:1103] 2 Chunks of size 10752 totalling 21.0KiB\n",
      "2023-06-15 19:35:00.095330: I tensorflow/tsl/framework/bfc_allocator.cc:1103] 2 Chunks of size 11264 totalling 22.0KiB\n",
      "2023-06-15 19:35:00.095339: I tensorflow/tsl/framework/bfc_allocator.cc:1103] 1 Chunks of size 12032 totalling 11.8KiB\n",
      "2023-06-15 19:35:00.095347: I tensorflow/tsl/framework/bfc_allocator.cc:1103] 2 Chunks of size 12288 totalling 24.0KiB\n",
      "2023-06-15 19:35:00.095354: I tensorflow/tsl/framework/bfc_allocator.cc:1103] 1 Chunks of size 12800 totalling 12.5KiB\n",
      "2023-06-15 19:35:00.095362: I tensorflow/tsl/framework/bfc_allocator.cc:1103] 3 Chunks of size 13056 totalling 38.2KiB\n",
      "2023-06-15 19:35:00.095375: I tensorflow/tsl/framework/bfc_allocator.cc:1103] 4 Chunks of size 13824 totalling 54.0KiB\n",
      "2023-06-15 19:35:00.095383: I tensorflow/tsl/framework/bfc_allocator.cc:1103] 3 Chunks of size 14080 totalling 41.2KiB\n",
      "2023-06-15 19:35:00.095391: I tensorflow/tsl/framework/bfc_allocator.cc:1103] 1 Chunks of size 14592 totalling 14.2KiB\n",
      "2023-06-15 19:35:00.095398: I tensorflow/tsl/framework/bfc_allocator.cc:1103] 1 Chunks of size 15104 totalling 14.8KiB\n",
      "2023-06-15 19:35:00.095406: I tensorflow/tsl/framework/bfc_allocator.cc:1103] 1 Chunks of size 16896 totalling 16.5KiB\n",
      "2023-06-15 19:35:00.095414: I tensorflow/tsl/framework/bfc_allocator.cc:1103] 11 Chunks of size 18688 totalling 200.8KiB\n",
      "2023-06-15 19:35:00.095428: I tensorflow/tsl/framework/bfc_allocator.cc:1103] 5 Chunks of size 18944 totalling 92.5KiB\n",
      "2023-06-15 19:35:00.095436: I tensorflow/tsl/framework/bfc_allocator.cc:1103] 1 Chunks of size 19200 totalling 18.8KiB\n",
      "2023-06-15 19:35:00.095443: I tensorflow/tsl/framework/bfc_allocator.cc:1103] 1 Chunks of size 20224 totalling 19.8KiB\n",
      "2023-06-15 19:35:00.095451: I tensorflow/tsl/framework/bfc_allocator.cc:1103] 1 Chunks of size 24576 totalling 24.0KiB\n",
      "2023-06-15 19:35:00.095465: I tensorflow/tsl/framework/bfc_allocator.cc:1103] 1 Chunks of size 27904 totalling 27.2KiB\n",
      "2023-06-15 19:35:00.095473: I tensorflow/tsl/framework/bfc_allocator.cc:1103] 1 Chunks of size 29696 totalling 29.0KiB\n",
      "2023-06-15 19:35:00.095481: I tensorflow/tsl/framework/bfc_allocator.cc:1103] 1 Chunks of size 34816 totalling 34.0KiB\n",
      "2023-06-15 19:35:00.095496: I tensorflow/tsl/framework/bfc_allocator.cc:1103] 1 Chunks of size 35328 totalling 34.5KiB\n",
      "2023-06-15 19:35:00.095503: I tensorflow/tsl/framework/bfc_allocator.cc:1103] 2 Chunks of size 37376 totalling 73.0KiB\n",
      "2023-06-15 19:35:00.095511: I tensorflow/tsl/framework/bfc_allocator.cc:1103] 1 Chunks of size 38912 totalling 38.0KiB\n",
      "2023-06-15 19:35:00.095518: I tensorflow/tsl/framework/bfc_allocator.cc:1103] 1 Chunks of size 43776 totalling 42.8KiB\n",
      "2023-06-15 19:35:00.095526: I tensorflow/tsl/framework/bfc_allocator.cc:1103] 1 Chunks of size 73728 totalling 72.0KiB\n",
      "2023-06-15 19:35:00.095533: I tensorflow/tsl/framework/bfc_allocator.cc:1103] 1 Chunks of size 160000 totalling 156.2KiB\n",
      "2023-06-15 19:35:00.095541: I tensorflow/tsl/framework/bfc_allocator.cc:1103] 5 Chunks of size 295936 totalling 1.41MiB\n",
      "2023-06-15 19:35:00.095548: I tensorflow/tsl/framework/bfc_allocator.cc:1103] 1 Chunks of size 453120 totalling 442.5KiB\n",
      "2023-06-15 19:35:00.095556: I tensorflow/tsl/framework/bfc_allocator.cc:1103] 1 Chunks of size 510720 totalling 498.8KiB\n",
      "2023-06-15 19:35:00.095564: I tensorflow/tsl/framework/bfc_allocator.cc:1103] 1 Chunks of size 1196032 totalling 1.14MiB\n",
      "2023-06-15 19:35:00.095577: I tensorflow/tsl/framework/bfc_allocator.cc:1103] 2 Chunks of size 1200128 totalling 2.29MiB\n",
      "2023-06-15 19:35:00.095585: I tensorflow/tsl/framework/bfc_allocator.cc:1103] 2 Chunks of size 1212416 totalling 2.31MiB\n",
      "2023-06-15 19:35:00.095592: I tensorflow/tsl/framework/bfc_allocator.cc:1103] 5 Chunks of size 1382912 totalling 6.59MiB\n",
      "2023-06-15 19:35:00.095599: I tensorflow/tsl/framework/bfc_allocator.cc:1103] 4 Chunks of size 1401856 totalling 5.35MiB\n",
      "2023-06-15 19:35:00.095607: I tensorflow/tsl/framework/bfc_allocator.cc:1103] 1 Chunks of size 1728768 totalling 1.65MiB\n",
      "2023-06-15 19:35:00.095615: I tensorflow/tsl/framework/bfc_allocator.cc:1103] 330 Chunks of size 2097152 totalling 660.00MiB\n",
      "2023-06-15 19:35:00.095625: I tensorflow/tsl/framework/bfc_allocator.cc:1103] 1 Chunks of size 2158592 totalling 2.06MiB\n",
      "2023-06-15 19:35:00.095632: I tensorflow/tsl/framework/bfc_allocator.cc:1103] 1 Chunks of size 2228224 totalling 2.12MiB\n",
      "2023-06-15 19:35:00.095639: I tensorflow/tsl/framework/bfc_allocator.cc:1103] 1 Chunks of size 2251776 totalling 2.15MiB\n",
      "2023-06-15 19:35:00.095647: I tensorflow/tsl/framework/bfc_allocator.cc:1103] 13 Chunks of size 2293760 totalling 28.44MiB\n",
      "2023-06-15 19:35:00.095654: I tensorflow/tsl/framework/bfc_allocator.cc:1103] 1 Chunks of size 2400000 totalling 2.29MiB\n",
      "2023-06-15 19:35:00.095662: I tensorflow/tsl/framework/bfc_allocator.cc:1103] 8 Chunks of size 2424832 totalling 18.50MiB\n",
      "2023-06-15 19:35:00.095669: I tensorflow/tsl/framework/bfc_allocator.cc:1103] 5 Chunks of size 2490368 totalling 11.88MiB\n",
      "2023-06-15 19:35:00.095676: I tensorflow/tsl/framework/bfc_allocator.cc:1103] 3 Chunks of size 2555904 totalling 7.31MiB\n",
      "2023-06-15 19:35:00.095684: I tensorflow/tsl/framework/bfc_allocator.cc:1103] 1 Chunks of size 2576384 totalling 2.46MiB\n",
      "2023-06-15 19:35:00.095691: I tensorflow/tsl/framework/bfc_allocator.cc:1103] 1 Chunks of size 2662400 totalling 2.54MiB\n",
      "2023-06-15 19:35:00.095698: I tensorflow/tsl/framework/bfc_allocator.cc:1103] 3 Chunks of size 2728448 totalling 7.81MiB\n",
      "2023-06-15 19:35:00.095736: I tensorflow/tsl/framework/bfc_allocator.cc:1103] 6 Chunks of size 2765824 totalling 15.83MiB\n",
      "2023-06-15 19:35:00.095756: I tensorflow/tsl/framework/bfc_allocator.cc:1103] 1 Chunks of size 2791424 totalling 2.66MiB\n",
      "2023-06-15 19:35:00.095764: I tensorflow/tsl/framework/bfc_allocator.cc:1103] 6 Chunks of size 2803712 totalling 16.04MiB\n",
      "2023-06-15 19:35:00.095771: I tensorflow/tsl/framework/bfc_allocator.cc:1103] 1 Chunks of size 2818048 totalling 2.69MiB\n",
      "2023-06-15 19:35:00.095779: I tensorflow/tsl/framework/bfc_allocator.cc:1103] 3 Chunks of size 2883584 totalling 8.25MiB\n",
      "2023-06-15 19:35:00.095798: I tensorflow/tsl/framework/bfc_allocator.cc:1103] 3 Chunks of size 3055616 totalling 8.74MiB\n",
      "2023-06-15 19:35:00.095805: I tensorflow/tsl/framework/bfc_allocator.cc:1103] 1 Chunks of size 3080192 totalling 2.94MiB\n",
      "2023-06-15 19:35:00.095827: I tensorflow/tsl/framework/bfc_allocator.cc:1103] 1 Chunks of size 3276800 totalling 3.12MiB\n",
      "2023-06-15 19:35:00.095834: I tensorflow/tsl/framework/bfc_allocator.cc:1103] 2 Chunks of size 3363840 totalling 6.42MiB\n",
      "2023-06-15 19:35:00.095842: I tensorflow/tsl/framework/bfc_allocator.cc:1103] 1 Chunks of size 3407872 totalling 3.25MiB\n",
      "2023-06-15 19:35:00.095849: I tensorflow/tsl/framework/bfc_allocator.cc:1103] 1 Chunks of size 3538944 totalling 3.38MiB\n",
      "2023-06-15 19:35:00.095856: I tensorflow/tsl/framework/bfc_allocator.cc:1103] 1 Chunks of size 3561472 totalling 3.40MiB\n",
      "2023-06-15 19:35:00.095864: I tensorflow/tsl/framework/bfc_allocator.cc:1103] 7 Chunks of size 3604480 totalling 24.06MiB\n",
      "2023-06-15 19:35:00.095874: I tensorflow/tsl/framework/bfc_allocator.cc:1103] 2 Chunks of size 3608576 totalling 6.88MiB\n",
      "2023-06-15 19:35:00.095881: I tensorflow/tsl/framework/bfc_allocator.cc:1103] 1 Chunks of size 3645440 totalling 3.48MiB\n",
      "2023-06-15 19:35:00.095888: I tensorflow/tsl/framework/bfc_allocator.cc:1103] 1 Chunks of size 3665920 totalling 3.50MiB\n",
      "2023-06-15 19:35:00.095895: I tensorflow/tsl/framework/bfc_allocator.cc:1103] 1 Chunks of size 3735552 totalling 3.56MiB\n",
      "2023-06-15 19:35:00.095902: I tensorflow/tsl/framework/bfc_allocator.cc:1103] 1 Chunks of size 3817472 totalling 3.64MiB\n",
      "2023-06-15 19:35:00.095910: I tensorflow/tsl/framework/bfc_allocator.cc:1103] 4 Chunks of size 3862528 totalling 14.73MiB\n",
      "2023-06-15 19:35:00.095917: I tensorflow/tsl/framework/bfc_allocator.cc:1103] 1 Chunks of size 3870720 totalling 3.69MiB\n",
      "2023-06-15 19:35:00.095927: I tensorflow/tsl/framework/bfc_allocator.cc:1103] 1 Chunks of size 3993600 totalling 3.81MiB\n",
      "2023-06-15 19:35:00.095934: I tensorflow/tsl/framework/bfc_allocator.cc:1103] 1 Chunks of size 3997696 totalling 3.81MiB\n",
      "2023-06-15 19:35:00.095941: I tensorflow/tsl/framework/bfc_allocator.cc:1103] 1 Chunks of size 4008192 totalling 3.82MiB\n",
      "2023-06-15 19:35:00.095948: I tensorflow/tsl/framework/bfc_allocator.cc:1103] 2 Chunks of size 4059136 totalling 7.74MiB\n",
      "2023-06-15 19:35:00.095959: I tensorflow/tsl/framework/bfc_allocator.cc:1103] 1 Chunks of size 4094464 totalling 3.90MiB\n",
      "2023-06-15 19:35:00.095966: I tensorflow/tsl/framework/bfc_allocator.cc:1103] 1 Chunks of size 4178176 totalling 3.98MiB\n",
      "2023-06-15 19:35:00.095973: I tensorflow/tsl/framework/bfc_allocator.cc:1103] 28 Chunks of size 4784128 totalling 127.75MiB\n",
      "2023-06-15 19:35:00.095981: I tensorflow/tsl/framework/bfc_allocator.cc:1103] 15 Chunks of size 4849664 totalling 69.38MiB\n",
      "2023-06-15 19:35:00.095990: I tensorflow/tsl/framework/bfc_allocator.cc:1103] 3 Chunks of size 6279168 totalling 17.96MiB\n",
      "2023-06-15 19:35:00.095998: I tensorflow/tsl/framework/bfc_allocator.cc:1103] 5 Chunks of size 6365184 totalling 30.35MiB\n",
      "2023-06-15 19:35:00.096005: I tensorflow/tsl/framework/bfc_allocator.cc:1103] 1 Chunks of size 6701056 totalling 6.39MiB\n",
      "2023-06-15 19:35:00.096020: I tensorflow/tsl/framework/bfc_allocator.cc:1103] 1 Chunks of size 7077888 totalling 6.75MiB\n",
      "2023-06-15 19:35:00.096027: I tensorflow/tsl/framework/bfc_allocator.cc:1103] 2 Chunks of size 9467904 totalling 18.06MiB\n",
      "2023-06-15 19:35:00.096048: I tensorflow/tsl/framework/bfc_allocator.cc:1103] 1 Chunks of size 9900032 totalling 9.44MiB\n",
      "2023-06-15 19:35:00.096056: I tensorflow/tsl/framework/bfc_allocator.cc:1103] 9 Chunks of size 10913792 totalling 93.67MiB\n",
      "2023-06-15 19:35:00.096064: I tensorflow/tsl/framework/bfc_allocator.cc:1103] 12 Chunks of size 11063296 totalling 126.61MiB\n",
      "2023-06-15 19:35:00.096072: I tensorflow/tsl/framework/bfc_allocator.cc:1103] 11 Chunks of size 11214848 totalling 117.65MiB\n",
      "2023-06-15 19:35:00.096079: I tensorflow/tsl/framework/bfc_allocator.cc:1103] 1 Chunks of size 12531968 totalling 11.95MiB\n",
      "2023-06-15 19:35:00.096087: I tensorflow/tsl/framework/bfc_allocator.cc:1103] 1 Chunks of size 13015040 totalling 12.41MiB\n",
      "2023-06-15 19:35:00.096094: I tensorflow/tsl/framework/bfc_allocator.cc:1103] 1 Chunks of size 13565952 totalling 12.94MiB\n",
      "2023-06-15 19:35:00.096102: I tensorflow/tsl/framework/bfc_allocator.cc:1103] 1 Chunks of size 13864960 totalling 13.22MiB\n",
      "2023-06-15 19:35:00.096112: I tensorflow/tsl/framework/bfc_allocator.cc:1103] 1 Chunks of size 14094336 totalling 13.44MiB\n",
      "2023-06-15 19:35:00.096120: I tensorflow/tsl/framework/bfc_allocator.cc:1103] 1 Chunks of size 16596992 totalling 15.83MiB\n",
      "2023-06-15 19:35:00.096128: I tensorflow/tsl/framework/bfc_allocator.cc:1103] 2 Chunks of size 19136512 totalling 36.50MiB\n",
      "2023-06-15 19:35:00.096135: I tensorflow/tsl/framework/bfc_allocator.cc:1103] 31 Chunks of size 38273024 totalling 1.10GiB\n",
      "2023-06-15 19:35:00.096142: I tensorflow/tsl/framework/bfc_allocator.cc:1103] 35 Chunks of size 38797312 totalling 1.26GiB\n",
      "2023-06-15 19:35:00.096149: I tensorflow/tsl/framework/bfc_allocator.cc:1103] 1 Chunks of size 41910272 totalling 39.97MiB\n",
      "2023-06-15 19:35:00.096157: I tensorflow/tsl/framework/bfc_allocator.cc:1103] 3 Chunks of size 53672960 totalling 153.56MiB\n",
      "2023-06-15 19:35:00.096172: I tensorflow/tsl/framework/bfc_allocator.cc:1103] 1 Chunks of size 55691264 totalling 53.11MiB\n",
      "2023-06-15 19:35:00.096190: I tensorflow/tsl/framework/bfc_allocator.cc:1103] 1 Chunks of size 56672256 totalling 54.05MiB\n",
      "2023-06-15 19:35:00.096198: I tensorflow/tsl/framework/bfc_allocator.cc:1103] 1 Chunks of size 56866816 totalling 54.23MiB\n",
      "2023-06-15 19:35:00.096206: I tensorflow/tsl/framework/bfc_allocator.cc:1103] 5 Chunks of size 58726400 totalling 280.03MiB\n",
      "2023-06-15 19:35:00.096214: I tensorflow/tsl/framework/bfc_allocator.cc:1103] 1 Chunks of size 59655936 totalling 56.89MiB\n",
      "2023-06-15 19:35:00.096224: I tensorflow/tsl/framework/bfc_allocator.cc:1103] 3 Chunks of size 62903808 totalling 179.97MiB\n",
      "2023-06-15 19:35:00.096232: I tensorflow/tsl/framework/bfc_allocator.cc:1103] 2 Chunks of size 71761920 totalling 136.88MiB\n",
      "2023-06-15 19:35:00.096240: I tensorflow/tsl/framework/bfc_allocator.cc:1103] 3 Chunks of size 269174784 totalling 770.12MiB\n",
      "2023-06-15 19:35:00.096247: I tensorflow/tsl/framework/bfc_allocator.cc:1103] 9 Chunks of size 307200000 totalling 2.57GiB\n",
      "2023-06-15 19:35:00.096255: I tensorflow/tsl/framework/bfc_allocator.cc:1103] 1 Chunks of size 409905152 totalling 390.92MiB\n",
      "2023-06-15 19:35:00.096264: I tensorflow/tsl/framework/bfc_allocator.cc:1103] 1 Chunks of size 5145600000 totalling 4.79GiB\n",
      "2023-06-15 19:35:00.096272: I tensorflow/tsl/framework/bfc_allocator.cc:1107] Sum Total of in-use chunks: 13.50GiB\n",
      "2023-06-15 19:35:00.096281: I tensorflow/tsl/framework/bfc_allocator.cc:1109] Total bytes in pool: 16233529344 memory_limit_: 16233529344 available bytes: 0 curr_region_allocation_bytes_: 32467058688\n",
      "2023-06-15 19:35:00.096293: I tensorflow/tsl/framework/bfc_allocator.cc:1114] Stats: \n",
      "Limit:                     16233529344\n",
      "InUse:                     14491930880\n",
      "MaxInUse:                  15381689856\n",
      "NumAllocs:                      108830\n",
      "MaxAllocSize:               5145600000\n",
      "Reserved:                            0\n",
      "PeakReserved:                        0\n",
      "LargestFreeBlock:                    0\n",
      "\n",
      "2023-06-15 19:35:00.096372: W tensorflow/tsl/framework/bfc_allocator.cc:497] *********************************************************__________*********************************\n",
      "2023-06-15 19:35:00.096415: W tensorflow/core/framework/op_kernel.cc:1830] OP_REQUIRES failed at matmul_op_impl.h:730 : RESOURCE_EXHAUSTED: OOM when allocating tensor with shape[4672,300000] and type float on /job:localhost/replica:0/task:0/device:GPU:0 by allocator GPU_0_bfc\n",
      "2023-06-15 19:35:00.096455: I tensorflow/core/common_runtime/executor.cc:1197] [/job:localhost/replica:0/task:0/device:GPU:0] (DEBUG INFO) Executor start aborting (this does not indicate an error and you can ignore this message): RESOURCE_EXHAUSTED: OOM when allocating tensor with shape[4672,300000] and type float on /job:localhost/replica:0/task:0/device:GPU:0 by allocator GPU_0_bfc\n",
      "\t [[{{node transformer_1/dense_101/Tensordot/MatMul}}]]\n",
      "Hint: If you want to see a list of allocated tensors when OOM happens, add report_tensor_allocations_upon_oom to RunOptions for current allocation info. This isn't available when running in Eager mode.\n",
      "\n"
     ]
    },
    {
     "ename": "ResourceExhaustedError",
     "evalue": "Graph execution error:\n\nDetected at node 'transformer_1/dense_101/Tensordot/MatMul' defined at (most recent call last):\n    File \"/usr/lib/python3.9/runpy.py\", line 197, in _run_module_as_main\n      return _run_code(code, main_globals, None,\n    File \"/usr/lib/python3.9/runpy.py\", line 87, in _run_code\n      exec(code, run_globals)\n    File \"/usr/local/lib/python3.9/dist-packages/ipykernel_launcher.py\", line 17, in <module>\n      app.launch_new_instance()\n    File \"/usr/local/lib/python3.9/dist-packages/traitlets/config/application.py\", line 1041, in launch_instance\n      app.start()\n    File \"/usr/local/lib/python3.9/dist-packages/ipykernel/kernelapp.py\", line 712, in start\n      self.io_loop.start()\n    File \"/usr/local/lib/python3.9/dist-packages/tornado/platform/asyncio.py\", line 199, in start\n      self.asyncio_loop.run_forever()\n    File \"/usr/lib/python3.9/asyncio/base_events.py\", line 601, in run_forever\n      self._run_once()\n    File \"/usr/lib/python3.9/asyncio/base_events.py\", line 1905, in _run_once\n      handle._run()\n    File \"/usr/lib/python3.9/asyncio/events.py\", line 80, in _run\n      self._context.run(self._callback, *self._args)\n    File \"/usr/local/lib/python3.9/dist-packages/ipykernel/kernelbase.py\", line 510, in dispatch_queue\n      await self.process_one()\n    File \"/usr/local/lib/python3.9/dist-packages/ipykernel/kernelbase.py\", line 499, in process_one\n      await dispatch(*args)\n    File \"/usr/local/lib/python3.9/dist-packages/ipykernel/kernelbase.py\", line 406, in dispatch_shell\n      await result\n    File \"/usr/local/lib/python3.9/dist-packages/ipykernel/kernelbase.py\", line 730, in execute_request\n      reply_content = await reply_content\n    File \"/usr/local/lib/python3.9/dist-packages/ipykernel/ipkernel.py\", line 383, in do_execute\n      res = shell.run_cell(\n    File \"/usr/local/lib/python3.9/dist-packages/ipykernel/zmqshell.py\", line 528, in run_cell\n      return super().run_cell(*args, **kwargs)\n    File \"/usr/local/lib/python3.9/dist-packages/IPython/core/interactiveshell.py\", line 2885, in run_cell\n      result = self._run_cell(\n    File \"/usr/local/lib/python3.9/dist-packages/IPython/core/interactiveshell.py\", line 2940, in _run_cell\n      return runner(coro)\n    File \"/usr/local/lib/python3.9/dist-packages/IPython/core/async_helpers.py\", line 129, in _pseudo_sync_runner\n      coro.send(None)\n    File \"/usr/local/lib/python3.9/dist-packages/IPython/core/interactiveshell.py\", line 3139, in run_cell_async\n      has_raised = await self.run_ast_nodes(code_ast.body, cell_name,\n    File \"/usr/local/lib/python3.9/dist-packages/IPython/core/interactiveshell.py\", line 3318, in run_ast_nodes\n      if await self.run_code(code, result, async_=asy):\n    File \"/usr/local/lib/python3.9/dist-packages/IPython/core/interactiveshell.py\", line 3378, in run_code\n      exec(code_obj, self.user_global_ns, self.user_ns)\n    File \"/tmp/ipykernel_1006/641152342.py\", line 1, in <module>\n      history = transformer.fit(\n    File \"/usr/local/lib/python3.9/dist-packages/keras/utils/traceback_utils.py\", line 65, in error_handler\n      return fn(*args, **kwargs)\n    File \"/usr/local/lib/python3.9/dist-packages/keras/engine/training.py\", line 1685, in fit\n      tmp_logs = self.train_function(iterator)\n    File \"/usr/local/lib/python3.9/dist-packages/keras/engine/training.py\", line 1284, in train_function\n      return step_function(self, iterator)\n    File \"/usr/local/lib/python3.9/dist-packages/keras/engine/training.py\", line 1268, in step_function\n      outputs = model.distribute_strategy.run(run_step, args=(data,))\n    File \"/usr/local/lib/python3.9/dist-packages/keras/engine/training.py\", line 1249, in run_step\n      outputs = model.train_step(data)\n    File \"/usr/local/lib/python3.9/dist-packages/keras/engine/training.py\", line 1050, in train_step\n      y_pred = self(x, training=True)\n    File \"/usr/local/lib/python3.9/dist-packages/keras/utils/traceback_utils.py\", line 65, in error_handler\n      return fn(*args, **kwargs)\n    File \"/usr/local/lib/python3.9/dist-packages/keras/engine/training.py\", line 558, in __call__\n      return super().__call__(*args, **kwargs)\n    File \"/usr/local/lib/python3.9/dist-packages/keras/utils/traceback_utils.py\", line 65, in error_handler\n      return fn(*args, **kwargs)\n    File \"/usr/local/lib/python3.9/dist-packages/keras/engine/base_layer.py\", line 1145, in __call__\n      outputs = call_fn(inputs, *args, **kwargs)\n    File \"/usr/local/lib/python3.9/dist-packages/keras/utils/traceback_utils.py\", line 96, in error_handler\n      return fn(*args, **kwargs)\n    File \"/tmp/ipykernel_1006/2399977420.py\", line 27, in call\n      logits = self.final_layer(x)  # (batch_size, target_len, target_vocab_size)\n    File \"/usr/local/lib/python3.9/dist-packages/keras/utils/traceback_utils.py\", line 65, in error_handler\n      return fn(*args, **kwargs)\n    File \"/usr/local/lib/python3.9/dist-packages/keras/engine/base_layer.py\", line 1145, in __call__\n      outputs = call_fn(inputs, *args, **kwargs)\n    File \"/usr/local/lib/python3.9/dist-packages/keras/utils/traceback_utils.py\", line 96, in error_handler\n      return fn(*args, **kwargs)\n    File \"/usr/local/lib/python3.9/dist-packages/keras/layers/core/dense.py\", line 244, in call\n      outputs = tf.tensordot(inputs, self.kernel, [[rank - 1], [0]])\nNode: 'transformer_1/dense_101/Tensordot/MatMul'\nOOM when allocating tensor with shape[4672,300000] and type float on /job:localhost/replica:0/task:0/device:GPU:0 by allocator GPU_0_bfc\n\t [[{{node transformer_1/dense_101/Tensordot/MatMul}}]]\nHint: If you want to see a list of allocated tensors when OOM happens, add report_tensor_allocations_upon_oom to RunOptions for current allocation info. This isn't available when running in Eager mode.\n [Op:__inference_train_function_148897]",
     "output_type": "error",
     "traceback": [
      "\u001b[0;31m---------------------------------------------------------------------------\u001b[0m",
      "\u001b[0;31mResourceExhaustedError\u001b[0m                    Traceback (most recent call last)",
      "Cell \u001b[0;32mIn [118], line 1\u001b[0m\n\u001b[0;32m----> 1\u001b[0m history \u001b[38;5;241m=\u001b[39m \u001b[43mtransformer\u001b[49m\u001b[38;5;241;43m.\u001b[39;49m\u001b[43mfit\u001b[49m\u001b[43m(\u001b[49m\n\u001b[1;32m      2\u001b[0m \u001b[43m    \u001b[49m\u001b[43mtrain_ds\u001b[49m\u001b[43m,\u001b[49m\n\u001b[1;32m      3\u001b[0m \u001b[43m    \u001b[49m\u001b[43mepochs\u001b[49m\u001b[38;5;241;43m=\u001b[39;49m\u001b[38;5;241;43m100\u001b[39;49m\u001b[43m,\u001b[49m\n\u001b[1;32m      4\u001b[0m \u001b[43m    \u001b[49m\u001b[43msteps_per_epoch\u001b[49m\u001b[43m \u001b[49m\u001b[38;5;241;43m=\u001b[39;49m\u001b[43m \u001b[49m\u001b[38;5;241;43m100\u001b[39;49m\u001b[43m,\u001b[49m\n\u001b[1;32m      5\u001b[0m \u001b[43m    \u001b[49m\u001b[43mvalidation_data\u001b[49m\u001b[38;5;241;43m=\u001b[39;49m\u001b[43mval_ds\u001b[49m\u001b[43m,\u001b[49m\n\u001b[1;32m      6\u001b[0m \u001b[43m    \u001b[49m\u001b[43mvalidation_steps\u001b[49m\u001b[43m \u001b[49m\u001b[38;5;241;43m=\u001b[39;49m\u001b[43m \u001b[49m\u001b[38;5;241;43m20\u001b[39;49m\u001b[43m,\u001b[49m\n\u001b[1;32m      7\u001b[0m \u001b[43m    \u001b[49m\u001b[43mcallbacks\u001b[49m\u001b[38;5;241;43m=\u001b[39;49m\u001b[43m[\u001b[49m\n\u001b[1;32m      8\u001b[0m \u001b[43m        \u001b[49m\u001b[43mtf\u001b[49m\u001b[38;5;241;43m.\u001b[39;49m\u001b[43mkeras\u001b[49m\u001b[38;5;241;43m.\u001b[39;49m\u001b[43mcallbacks\u001b[49m\u001b[38;5;241;43m.\u001b[39;49m\u001b[43mEarlyStopping\u001b[49m\u001b[43m(\u001b[49m\u001b[43mpatience\u001b[49m\u001b[38;5;241;43m=\u001b[39;49m\u001b[38;5;241;43m3\u001b[39;49m\u001b[43m)\u001b[49m\u001b[43m]\u001b[49m\u001b[43m)\u001b[49m\n",
      "File \u001b[0;32m/usr/local/lib/python3.9/dist-packages/keras/utils/traceback_utils.py:70\u001b[0m, in \u001b[0;36mfilter_traceback.<locals>.error_handler\u001b[0;34m(*args, **kwargs)\u001b[0m\n\u001b[1;32m     67\u001b[0m     filtered_tb \u001b[38;5;241m=\u001b[39m _process_traceback_frames(e\u001b[38;5;241m.\u001b[39m__traceback__)\n\u001b[1;32m     68\u001b[0m     \u001b[38;5;66;03m# To get the full stack trace, call:\u001b[39;00m\n\u001b[1;32m     69\u001b[0m     \u001b[38;5;66;03m# `tf.debugging.disable_traceback_filtering()`\u001b[39;00m\n\u001b[0;32m---> 70\u001b[0m     \u001b[38;5;28;01mraise\u001b[39;00m e\u001b[38;5;241m.\u001b[39mwith_traceback(filtered_tb) \u001b[38;5;28;01mfrom\u001b[39;00m \u001b[38;5;28mNone\u001b[39m\n\u001b[1;32m     71\u001b[0m \u001b[38;5;28;01mfinally\u001b[39;00m:\n\u001b[1;32m     72\u001b[0m     \u001b[38;5;28;01mdel\u001b[39;00m filtered_tb\n",
      "File \u001b[0;32m/usr/local/lib/python3.9/dist-packages/tensorflow/python/eager/execute.py:52\u001b[0m, in \u001b[0;36mquick_execute\u001b[0;34m(op_name, num_outputs, inputs, attrs, ctx, name)\u001b[0m\n\u001b[1;32m     50\u001b[0m \u001b[38;5;28;01mtry\u001b[39;00m:\n\u001b[1;32m     51\u001b[0m   ctx\u001b[38;5;241m.\u001b[39mensure_initialized()\n\u001b[0;32m---> 52\u001b[0m   tensors \u001b[38;5;241m=\u001b[39m pywrap_tfe\u001b[38;5;241m.\u001b[39mTFE_Py_Execute(ctx\u001b[38;5;241m.\u001b[39m_handle, device_name, op_name,\n\u001b[1;32m     53\u001b[0m                                       inputs, attrs, num_outputs)\n\u001b[1;32m     54\u001b[0m \u001b[38;5;28;01mexcept\u001b[39;00m core\u001b[38;5;241m.\u001b[39m_NotOkStatusException \u001b[38;5;28;01mas\u001b[39;00m e:\n\u001b[1;32m     55\u001b[0m   \u001b[38;5;28;01mif\u001b[39;00m name \u001b[38;5;129;01mis\u001b[39;00m \u001b[38;5;129;01mnot\u001b[39;00m \u001b[38;5;28;01mNone\u001b[39;00m:\n",
      "\u001b[0;31mResourceExhaustedError\u001b[0m: Graph execution error:\n\nDetected at node 'transformer_1/dense_101/Tensordot/MatMul' defined at (most recent call last):\n    File \"/usr/lib/python3.9/runpy.py\", line 197, in _run_module_as_main\n      return _run_code(code, main_globals, None,\n    File \"/usr/lib/python3.9/runpy.py\", line 87, in _run_code\n      exec(code, run_globals)\n    File \"/usr/local/lib/python3.9/dist-packages/ipykernel_launcher.py\", line 17, in <module>\n      app.launch_new_instance()\n    File \"/usr/local/lib/python3.9/dist-packages/traitlets/config/application.py\", line 1041, in launch_instance\n      app.start()\n    File \"/usr/local/lib/python3.9/dist-packages/ipykernel/kernelapp.py\", line 712, in start\n      self.io_loop.start()\n    File \"/usr/local/lib/python3.9/dist-packages/tornado/platform/asyncio.py\", line 199, in start\n      self.asyncio_loop.run_forever()\n    File \"/usr/lib/python3.9/asyncio/base_events.py\", line 601, in run_forever\n      self._run_once()\n    File \"/usr/lib/python3.9/asyncio/base_events.py\", line 1905, in _run_once\n      handle._run()\n    File \"/usr/lib/python3.9/asyncio/events.py\", line 80, in _run\n      self._context.run(self._callback, *self._args)\n    File \"/usr/local/lib/python3.9/dist-packages/ipykernel/kernelbase.py\", line 510, in dispatch_queue\n      await self.process_one()\n    File \"/usr/local/lib/python3.9/dist-packages/ipykernel/kernelbase.py\", line 499, in process_one\n      await dispatch(*args)\n    File \"/usr/local/lib/python3.9/dist-packages/ipykernel/kernelbase.py\", line 406, in dispatch_shell\n      await result\n    File \"/usr/local/lib/python3.9/dist-packages/ipykernel/kernelbase.py\", line 730, in execute_request\n      reply_content = await reply_content\n    File \"/usr/local/lib/python3.9/dist-packages/ipykernel/ipkernel.py\", line 383, in do_execute\n      res = shell.run_cell(\n    File \"/usr/local/lib/python3.9/dist-packages/ipykernel/zmqshell.py\", line 528, in run_cell\n      return super().run_cell(*args, **kwargs)\n    File \"/usr/local/lib/python3.9/dist-packages/IPython/core/interactiveshell.py\", line 2885, in run_cell\n      result = self._run_cell(\n    File \"/usr/local/lib/python3.9/dist-packages/IPython/core/interactiveshell.py\", line 2940, in _run_cell\n      return runner(coro)\n    File \"/usr/local/lib/python3.9/dist-packages/IPython/core/async_helpers.py\", line 129, in _pseudo_sync_runner\n      coro.send(None)\n    File \"/usr/local/lib/python3.9/dist-packages/IPython/core/interactiveshell.py\", line 3139, in run_cell_async\n      has_raised = await self.run_ast_nodes(code_ast.body, cell_name,\n    File \"/usr/local/lib/python3.9/dist-packages/IPython/core/interactiveshell.py\", line 3318, in run_ast_nodes\n      if await self.run_code(code, result, async_=asy):\n    File \"/usr/local/lib/python3.9/dist-packages/IPython/core/interactiveshell.py\", line 3378, in run_code\n      exec(code_obj, self.user_global_ns, self.user_ns)\n    File \"/tmp/ipykernel_1006/641152342.py\", line 1, in <module>\n      history = transformer.fit(\n    File \"/usr/local/lib/python3.9/dist-packages/keras/utils/traceback_utils.py\", line 65, in error_handler\n      return fn(*args, **kwargs)\n    File \"/usr/local/lib/python3.9/dist-packages/keras/engine/training.py\", line 1685, in fit\n      tmp_logs = self.train_function(iterator)\n    File \"/usr/local/lib/python3.9/dist-packages/keras/engine/training.py\", line 1284, in train_function\n      return step_function(self, iterator)\n    File \"/usr/local/lib/python3.9/dist-packages/keras/engine/training.py\", line 1268, in step_function\n      outputs = model.distribute_strategy.run(run_step, args=(data,))\n    File \"/usr/local/lib/python3.9/dist-packages/keras/engine/training.py\", line 1249, in run_step\n      outputs = model.train_step(data)\n    File \"/usr/local/lib/python3.9/dist-packages/keras/engine/training.py\", line 1050, in train_step\n      y_pred = self(x, training=True)\n    File \"/usr/local/lib/python3.9/dist-packages/keras/utils/traceback_utils.py\", line 65, in error_handler\n      return fn(*args, **kwargs)\n    File \"/usr/local/lib/python3.9/dist-packages/keras/engine/training.py\", line 558, in __call__\n      return super().__call__(*args, **kwargs)\n    File \"/usr/local/lib/python3.9/dist-packages/keras/utils/traceback_utils.py\", line 65, in error_handler\n      return fn(*args, **kwargs)\n    File \"/usr/local/lib/python3.9/dist-packages/keras/engine/base_layer.py\", line 1145, in __call__\n      outputs = call_fn(inputs, *args, **kwargs)\n    File \"/usr/local/lib/python3.9/dist-packages/keras/utils/traceback_utils.py\", line 96, in error_handler\n      return fn(*args, **kwargs)\n    File \"/tmp/ipykernel_1006/2399977420.py\", line 27, in call\n      logits = self.final_layer(x)  # (batch_size, target_len, target_vocab_size)\n    File \"/usr/local/lib/python3.9/dist-packages/keras/utils/traceback_utils.py\", line 65, in error_handler\n      return fn(*args, **kwargs)\n    File \"/usr/local/lib/python3.9/dist-packages/keras/engine/base_layer.py\", line 1145, in __call__\n      outputs = call_fn(inputs, *args, **kwargs)\n    File \"/usr/local/lib/python3.9/dist-packages/keras/utils/traceback_utils.py\", line 96, in error_handler\n      return fn(*args, **kwargs)\n    File \"/usr/local/lib/python3.9/dist-packages/keras/layers/core/dense.py\", line 244, in call\n      outputs = tf.tensordot(inputs, self.kernel, [[rank - 1], [0]])\nNode: 'transformer_1/dense_101/Tensordot/MatMul'\nOOM when allocating tensor with shape[4672,300000] and type float on /job:localhost/replica:0/task:0/device:GPU:0 by allocator GPU_0_bfc\n\t [[{{node transformer_1/dense_101/Tensordot/MatMul}}]]\nHint: If you want to see a list of allocated tensors when OOM happens, add report_tensor_allocations_upon_oom to RunOptions for current allocation info. This isn't available when running in Eager mode.\n [Op:__inference_train_function_148897]"
     ]
    }
   ],
   "source": [
    "# history = transformer.fit(\n",
    "#     train_ds,\n",
    "#     epochs=100,\n",
    "#     steps_per_epoch = 100,\n",
    "#     validation_data=val_ds,\n",
    "#     validation_steps = 20,\n",
    "#     callbacks=[\n",
    "#         tf.keras.callbacks.EarlyStopping(patience=3)])"
   ]
  },
  {
   "cell_type": "code",
   "execution_count": null,
   "metadata": {
    "colab": {
     "base_uri": "https://localhost:8080/"
    },
    "id": "-kWi2BzZOeky",
    "outputId": "7540c63e-e25d-4af5-d113-80d49b3c15a3"
   },
   "outputs": [],
   "source": [
    "transformer.evaluate(val_ds, steps=20, return_dict=True)"
   ]
  },
  {
   "cell_type": "code",
   "execution_count": null,
   "metadata": {
    "colab": {
     "base_uri": "https://localhost:8080/",
     "height": 466
    },
    "id": "q0a05PLMOm9q",
    "outputId": "14c06ceb-bc5c-443c-8f54-8aad228836b2"
   },
   "outputs": [],
   "source": [
    "plt.plot(history.history['loss'], label='loss')\n",
    "plt.plot(history.history['val_loss'], label='val_loss')\n",
    "plt.ylim([0, max(plt.ylim())])\n",
    "plt.xlabel('Epoch #')\n",
    "plt.ylabel('CE/token')\n",
    "plt.legend()"
   ]
  },
  {
   "cell_type": "code",
   "execution_count": null,
   "metadata": {
    "colab": {
     "base_uri": "https://localhost:8080/"
    },
    "id": "lQl5nQ_4BdaV",
    "outputId": "c9427907-5af7-450a-b72e-e3fbefc42205"
   },
   "outputs": [],
   "source": [
    "history.history.keys()"
   ]
  },
  {
   "cell_type": "code",
   "execution_count": null,
   "metadata": {
    "colab": {
     "base_uri": "https://localhost:8080/",
     "height": 466
    },
    "id": "CCUHn35vOpFp",
    "outputId": "7d1f8d90-f226-438e-8751-a6e2cfb1178b"
   },
   "outputs": [],
   "source": [
    "plt.plot(history.history['masked_accuracy'], label='accuracy')\n",
    "plt.plot(history.history['val_masked_accuracy'], label='val_accuracy')\n",
    "plt.ylim([0, max(plt.ylim())])\n",
    "plt.xlabel('Epoch #')\n",
    "plt.ylabel('CE/token')\n",
    "plt.legend()"
   ]
  },
  {
   "cell_type": "markdown",
   "metadata": {
    "id": "mbDUywGhsZcj"
   },
   "source": [
    "### Translator"
   ]
  },
  {
   "cell_type": "code",
   "execution_count": null,
   "metadata": {
    "id": "kJLaXTaosb4N"
   },
   "outputs": [],
   "source": [
    "class Translator(tf.Module):\n",
    "  @classmethod\n",
    "  def add_method(cls, fun):\n",
    "    setattr(cls, fun.__name__, fun)\n",
    "    return fun\n",
    "  def __init__(self, context_text_processor, target_text_processor, transformer):\n",
    "    self.context_text_processor = context_text_processor\n",
    "    self.target_text_processor = target_text_processor\n",
    "    self.transformer = transformer\n",
    "\n",
    "  def __call__(self, sentence, max_length=max_vocab_size):\n",
    "\n",
    "    assert isinstance(sentence, tf.Tensor)\n",
    "    if len(sentence.shape) == 0:\n",
    "      sentence = sentence[tf.newaxis]\n",
    "\n",
    "\n",
    "    sentence = self.context_text_processor(sentence).to_tensor()\n",
    "\n",
    "    encoder_input = sentence\n",
    "\n",
    "\n",
    "    start = tf.constant(target_text_processor.get_vocabulary().index(\"[START]\"), dtype=tf.int64)[tf.newaxis]\n",
    "    end = tf.constant(target_text_processor.get_vocabulary().index(\"[END]\"), dtype=tf.int64)[tf.newaxis]\n",
    "\n",
    "\n",
    "    output_array = tf.TensorArray(dtype=tf.int64, size=0, dynamic_size=True)\n",
    "    output_array = output_array.write(0, start)\n",
    "\n",
    "    for i in tf.range(max_length):\n",
    "      output = tf.transpose(output_array.stack())\n",
    "      predictions = self.transformer([encoder_input, output], training=False)\n",
    "\n",
    "      predictions = predictions[:, -1:, :]  # Shape `(batch_size, 1, vocab_size)`.\n",
    "\n",
    "      predicted_id = tf.argmax(predictions, axis=-1)\n",
    "\n",
    "\n",
    "      pre_id = tf.cast(predicted_id[0], dtype=tf.int64)\n",
    "      output_array = output_array.write(i+1, pre_id)\n",
    "\n",
    "      if predicted_id == end:\n",
    "        break\n",
    "\n",
    "    output = tf.transpose(output_array.stack())\n",
    "\n",
    "\n",
    "    target_vocab = np.array(target_text_processor.get_vocabulary())\n",
    "    tokens_t = target_vocab[output]\n",
    "\n",
    "\n",
    "    text = ' '.join(tokens_t[1:len(tokens_t)-1])\n",
    "    tokens = tokens_t\n",
    "\n",
    "\n",
    "    self.transformer([encoder_input, output[:,:-1]], training=False)\n",
    "    attention_weights = self.transformer.decoder.last_attn_scores\n",
    "\n",
    "    return text, tokens, attention_weights"
   ]
  },
  {
   "cell_type": "code",
   "execution_count": null,
   "metadata": {
    "id": "Zif2R1GoRh5A"
   },
   "outputs": [],
   "source": [
    "@Translator.add_method\n",
    "def plot_attention(self, text, **kwargs):\n",
    "  assert isinstance(text, str)\n",
    "  output = self.translate([text], **kwargs)\n",
    "  output = output[0].numpy().decode()\n",
    "\n",
    "  attention = self.last_attention_weights[0]\n",
    "\n",
    "  context = tf_lower_and_split_punct(text)\n",
    "  context = context.numpy().decode().split()\n",
    "\n",
    "  output = tf_lower_and_split_punct(output)\n",
    "  output = output.numpy().decode().split()[1:]\n",
    "\n",
    "  fig = plt.figure(figsize=(10, 10))\n",
    "  ax = fig.add_subplot(1, 1, 1)\n",
    "\n",
    "  ax.matshow(attention, cmap='viridis', vmin=0.0)\n",
    "\n",
    "  fontdict = {'fontsize': 14}\n",
    "\n",
    "  ax.set_xticklabels([''] + context, fontdict=fontdict, rotation=90)\n",
    "  ax.set_yticklabels([''] + output, fontdict=fontdict)\n",
    "\n",
    "  ax.xaxis.set_major_locator(ticker.MultipleLocator(1))\n",
    "  ax.yaxis.set_major_locator(ticker.MultipleLocator(1))\n",
    "\n",
    "  ax.set_xlabel('Input text')\n",
    "  ax.set_ylabel('Output text')"
   ]
  },
  {
   "cell_type": "code",
   "execution_count": null,
   "metadata": {
    "id": "Zh83UKc1vtgv"
   },
   "outputs": [],
   "source": [
    "translator = Translator(context_text_processor, target_text_processor, transformer)"
   ]
  },
  {
   "cell_type": "code",
   "execution_count": null,
   "metadata": {
    "id": "VyhtJWcnRxBW"
   },
   "outputs": [],
   "source": [
    "translator.plot_attention(' are you still at home? ')"
   ]
  },
  {
   "cell_type": "code",
   "execution_count": null,
   "metadata": {
    "id": "iwbljKeHv4jx"
   },
   "outputs": [],
   "source": [
    "def print_translation(sentence, tokens, ground_truth):\n",
    "  print(f'{\"Input:\":15s}: {sentence}')\n",
    "  print(f'{\"Prediction\":15s}: {tokens}')\n",
    "  print(f'{\"Ground truth\":15s}: {ground_truth}')"
   ]
  },
  {
   "cell_type": "code",
   "execution_count": null,
   "metadata": {
    "colab": {
     "base_uri": "https://localhost:8080/",
     "height": 237
    },
    "id": "IhXsNIwAv56p",
    "outputId": "17a025d2-aaff-4cd6-d16d-9f561442a8f6"
   },
   "outputs": [],
   "source": [
    "sentence = ' tom likes you '\n",
    "ground_truth = \"  \"\n",
    "\n",
    "translated_text, translated_tokens, attention_weights = translator(\n",
    "    tf.constant(sentence))\n",
    "print_translation(sentence, translated_text, ground_truth)"
   ]
  },
  {
   "cell_type": "code",
   "execution_count": null,
   "metadata": {
    "id": "kuyj-Euc2suO"
   },
   "outputs": [],
   "source": [
    "class ExportTranslator(tf.Module):\n",
    "  def __init__(self, translator):\n",
    "    self.translator = translator\n",
    "\n",
    "  @tf.function(input_signature=[tf.TensorSpec(shape=[], dtype=tf.string)])\n",
    "  def __call__(self, sentence):\n",
    "    (result,\n",
    "     tokens,\n",
    "     attention_weights) = self.translator(sentence)\n",
    "\n",
    "    return result"
   ]
  },
  {
   "cell_type": "code",
   "execution_count": null,
   "metadata": {
    "id": "-GTGaS-82xCS"
   },
   "outputs": [],
   "source": [
    "translator = ExportTranslator(translator)"
   ]
  },
  {
   "cell_type": "code",
   "execution_count": null,
   "metadata": {
    "id": "y7lU6_zm2yS4"
   },
   "outputs": [],
   "source": [
    "translator(' tom was very tired . he likes you . ')"
   ]
  },
  {
   "cell_type": "code",
   "execution_count": null,
   "metadata": {
    "id": "iiKyzFsf2zgQ"
   },
   "outputs": [],
   "source": [
    "tf.saved_model.save(translator, export_dir='translator')"
   ]
  },
  {
   "cell_type": "code",
   "execution_count": null,
   "metadata": {
    "id": "L0euL_p220po"
   },
   "outputs": [],
   "source": [
    "reloaded = tf.saved_model.load('translator')"
   ]
  },
  {
   "cell_type": "code",
   "execution_count": null,
   "metadata": {
    "id": "lGsNp1ua23o-"
   },
   "outputs": [],
   "source": [
    "# reloaded()"
   ]
  },
  {
   "cell_type": "markdown",
   "metadata": {
    "id": "T_Kpb-gdsXMk",
    "jp-MarkdownHeadingCollapsed": true,
    "tags": []
   },
   "source": [
    "## Evaluation methods and benchmarking techniques"
   ]
  },
  {
   "cell_type": "markdown",
   "metadata": {
    "id": "uSeRYR15ranR"
   },
   "source": [
    "### Hyperparameter Tuning:\n",
    "Tune the hyperparameters of the model, such as the learning rate, batch size, and number of training epochs, to optimize its performance."
   ]
  },
  {
   "cell_type": "markdown",
   "metadata": {
    "id": "VP-g80y2rfew"
   },
   "source": [
    "\n",
    "### Evaluation:\n",
    "Evaluate the performance of the model on the test set using standard metrics such as BLEU, ROUGE, or METEOR."
   ]
  },
  {
   "cell_type": "code",
   "execution_count": null,
   "metadata": {
    "colab": {
     "base_uri": "https://localhost:8080/",
     "height": 153,
     "referenced_widgets": [
      "d914b796d66c491eaed9c2d70b2dd916",
      "97f7297ebe70479fafc9c45444e4eac9",
      "621438d887ba44c7ac7eb0aa5190072d",
      "6b8934418df04998a7fdaa7c3b9ed67a",
      "a3f38cfd1a764918905d067598b02541",
      "f9172bcfe15244929b16fef5e8916caa",
      "e849794def5245cb894361fbc5286dc4",
      "00dc5fc07a36451a8c2ff6e40bb9c5e0",
      "c5ef30d8871740fcb726565d622ddaef",
      "b3c879ac813245e18f343e4ce0707c59",
      "4ecdacf9978d454c8ff7347ee3a7987e",
      "172bd93fed2e4dfcbd2204f21ed70e4f",
      "beb9244dcb4043109bf4c15ee991dcd6",
      "d0caff30d97c4a35af207940d4d28664",
      "77b256bc412d4167ad9e15b93e30044e",
      "a5f83a1dd73c4ad89010c2af53f29804",
      "22bea542a7d249b0b8900f9e874d94de",
      "be5e3e6caaba45eca85ddd5e147d89a8",
      "fa53955742c54505a550e0aa6439b237",
      "3081e2d0ecfe4dcdb1d5f306d5200724",
      "5ed8f4eaebab4b089d0b5d657ee6cbc6",
      "59cdd85dfd754c6abc2ee9bb9f35e3b8"
     ]
    },
    "id": "3FPLDd3yGUGN",
    "outputId": "59618d0c-b59f-47d2-fa18-704843c9f1f7"
   },
   "outputs": [],
   "source": [
    "from datasets import load_metric\n",
    "\n",
    "bleu = load_metric(\"bleu\")\n",
    "predictions = [[\"the\", \"picture\", \"the\", \"picture\",\n",
    "\t\t\t\t\"by\", \"me\"]]\n",
    "references = [\n",
    "\t[[\"the\", \"picture\", \"is\", \"clicked\", \"by\", \"me\"],\n",
    "\t[\"this\", \"picture\", \"was\", \"clicked\", \"by\", \"me\"]]\n",
    "]\n",
    "print(bleu.compute(predictions=predictions, references=references))\n"
   ]
  },
  {
   "cell_type": "code",
   "execution_count": null,
   "metadata": {
    "id": "01wKCzKYGXVp"
   },
   "outputs": [],
   "source": [
    "from rouge import Rouge\n",
    "\n",
    "rouge = Rouge()\n",
    "scores = rouge.get_scores(predictions, references)\n",
    "rouge_l_score = scores[0][\"rouge-l\"][\"f\"]\n",
    "print(rouge_l_score)"
   ]
  },
  {
   "cell_type": "markdown",
   "metadata": {
    "id": "R81CsmL3nnY4"
   },
   "source": [
    "### Deployment:\n",
    "Deploy the model for use in production by integrating it into a web or mobile application."
   ]
  },
  {
   "cell_type": "code",
   "execution_count": null,
   "metadata": {
    "id": "hZoueVi_qAKb"
   },
   "outputs": [],
   "source": []
  },
  {
   "cell_type": "markdown",
   "metadata": {
    "id": "1mNKy7p2th5R"
   },
   "source": [
    "## Reference\n"
   ]
  },
  {
   "cell_type": "markdown",
   "metadata": {
    "id": "iKlkFiiA8buF"
   },
   "source": [
    "https://www.tensorflow.org/text/tutorials/transformer\n",
    "\n",
    "https://www.tensorflow.org/text/tutorials/nmt_with_attention\n",
    "\n",
    "https://www.tensorflow.org/text/tutorials/bert_glue"
   ]
  },
  {
   "cell_type": "code",
   "execution_count": null,
   "metadata": {
    "id": "f_hVCMx3_Ty1"
   },
   "outputs": [],
   "source": []
  }
 ],
 "metadata": {
  "accelerator": "TPU",
  "colab": {
   "collapsed_sections": [
    "ip7wryjifqbQ",
    "f0d2BmuWf0Vw",
    "t7cF_O1Ea4lV",
    "s32MGXsoEzgr"
   ],
   "provenance": []
  },
  "kernelspec": {
   "display_name": "Python 3 (ipykernel)",
   "language": "python",
   "name": "python3"
  },
  "language_info": {
   "codemirror_mode": {
    "name": "ipython",
    "version": 3
   },
   "file_extension": ".py",
   "mimetype": "text/x-python",
   "name": "python",
   "nbconvert_exporter": "python",
   "pygments_lexer": "ipython3",
   "version": "3.9.16"
  },
  "toc-showmarkdowntxt": false,
  "widgets": {
   "application/vnd.jupyter.widget-state+json": {
    "00dc5fc07a36451a8c2ff6e40bb9c5e0": {
     "model_module": "@jupyter-widgets/base",
     "model_module_version": "1.2.0",
     "model_name": "LayoutModel",
     "state": {
      "_model_module": "@jupyter-widgets/base",
      "_model_module_version": "1.2.0",
      "_model_name": "LayoutModel",
      "_view_count": null,
      "_view_module": "@jupyter-widgets/base",
      "_view_module_version": "1.2.0",
      "_view_name": "LayoutView",
      "align_content": null,
      "align_items": null,
      "align_self": null,
      "border": null,
      "bottom": null,
      "display": null,
      "flex": null,
      "flex_flow": null,
      "grid_area": null,
      "grid_auto_columns": null,
      "grid_auto_flow": null,
      "grid_auto_rows": null,
      "grid_column": null,
      "grid_gap": null,
      "grid_row": null,
      "grid_template_areas": null,
      "grid_template_columns": null,
      "grid_template_rows": null,
      "height": null,
      "justify_content": null,
      "justify_items": null,
      "left": null,
      "margin": null,
      "max_height": null,
      "max_width": null,
      "min_height": null,
      "min_width": null,
      "object_fit": null,
      "object_position": null,
      "order": null,
      "overflow": null,
      "overflow_x": null,
      "overflow_y": null,
      "padding": null,
      "right": null,
      "top": null,
      "visibility": null,
      "width": null
     }
    },
    "172bd93fed2e4dfcbd2204f21ed70e4f": {
     "model_module": "@jupyter-widgets/controls",
     "model_module_version": "1.5.0",
     "model_name": "HBoxModel",
     "state": {
      "_dom_classes": [],
      "_model_module": "@jupyter-widgets/controls",
      "_model_module_version": "1.5.0",
      "_model_name": "HBoxModel",
      "_view_count": null,
      "_view_module": "@jupyter-widgets/controls",
      "_view_module_version": "1.5.0",
      "_view_name": "HBoxView",
      "box_style": "",
      "children": [
       "IPY_MODEL_beb9244dcb4043109bf4c15ee991dcd6",
       "IPY_MODEL_d0caff30d97c4a35af207940d4d28664",
       "IPY_MODEL_77b256bc412d4167ad9e15b93e30044e"
      ],
      "layout": "IPY_MODEL_a5f83a1dd73c4ad89010c2af53f29804"
     }
    },
    "22bea542a7d249b0b8900f9e874d94de": {
     "model_module": "@jupyter-widgets/base",
     "model_module_version": "1.2.0",
     "model_name": "LayoutModel",
     "state": {
      "_model_module": "@jupyter-widgets/base",
      "_model_module_version": "1.2.0",
      "_model_name": "LayoutModel",
      "_view_count": null,
      "_view_module": "@jupyter-widgets/base",
      "_view_module_version": "1.2.0",
      "_view_name": "LayoutView",
      "align_content": null,
      "align_items": null,
      "align_self": null,
      "border": null,
      "bottom": null,
      "display": null,
      "flex": null,
      "flex_flow": null,
      "grid_area": null,
      "grid_auto_columns": null,
      "grid_auto_flow": null,
      "grid_auto_rows": null,
      "grid_column": null,
      "grid_gap": null,
      "grid_row": null,
      "grid_template_areas": null,
      "grid_template_columns": null,
      "grid_template_rows": null,
      "height": null,
      "justify_content": null,
      "justify_items": null,
      "left": null,
      "margin": null,
      "max_height": null,
      "max_width": null,
      "min_height": null,
      "min_width": null,
      "object_fit": null,
      "object_position": null,
      "order": null,
      "overflow": null,
      "overflow_x": null,
      "overflow_y": null,
      "padding": null,
      "right": null,
      "top": null,
      "visibility": null,
      "width": null
     }
    },
    "3081e2d0ecfe4dcdb1d5f306d5200724": {
     "model_module": "@jupyter-widgets/controls",
     "model_module_version": "1.5.0",
     "model_name": "ProgressStyleModel",
     "state": {
      "_model_module": "@jupyter-widgets/controls",
      "_model_module_version": "1.5.0",
      "_model_name": "ProgressStyleModel",
      "_view_count": null,
      "_view_module": "@jupyter-widgets/base",
      "_view_module_version": "1.2.0",
      "_view_name": "StyleView",
      "bar_color": null,
      "description_width": ""
     }
    },
    "4ecdacf9978d454c8ff7347ee3a7987e": {
     "model_module": "@jupyter-widgets/controls",
     "model_module_version": "1.5.0",
     "model_name": "DescriptionStyleModel",
     "state": {
      "_model_module": "@jupyter-widgets/controls",
      "_model_module_version": "1.5.0",
      "_model_name": "DescriptionStyleModel",
      "_view_count": null,
      "_view_module": "@jupyter-widgets/base",
      "_view_module_version": "1.2.0",
      "_view_name": "StyleView",
      "description_width": ""
     }
    },
    "59cdd85dfd754c6abc2ee9bb9f35e3b8": {
     "model_module": "@jupyter-widgets/controls",
     "model_module_version": "1.5.0",
     "model_name": "DescriptionStyleModel",
     "state": {
      "_model_module": "@jupyter-widgets/controls",
      "_model_module_version": "1.5.0",
      "_model_name": "DescriptionStyleModel",
      "_view_count": null,
      "_view_module": "@jupyter-widgets/base",
      "_view_module_version": "1.2.0",
      "_view_name": "StyleView",
      "description_width": ""
     }
    },
    "5ed8f4eaebab4b089d0b5d657ee6cbc6": {
     "model_module": "@jupyter-widgets/base",
     "model_module_version": "1.2.0",
     "model_name": "LayoutModel",
     "state": {
      "_model_module": "@jupyter-widgets/base",
      "_model_module_version": "1.2.0",
      "_model_name": "LayoutModel",
      "_view_count": null,
      "_view_module": "@jupyter-widgets/base",
      "_view_module_version": "1.2.0",
      "_view_name": "LayoutView",
      "align_content": null,
      "align_items": null,
      "align_self": null,
      "border": null,
      "bottom": null,
      "display": null,
      "flex": null,
      "flex_flow": null,
      "grid_area": null,
      "grid_auto_columns": null,
      "grid_auto_flow": null,
      "grid_auto_rows": null,
      "grid_column": null,
      "grid_gap": null,
      "grid_row": null,
      "grid_template_areas": null,
      "grid_template_columns": null,
      "grid_template_rows": null,
      "height": null,
      "justify_content": null,
      "justify_items": null,
      "left": null,
      "margin": null,
      "max_height": null,
      "max_width": null,
      "min_height": null,
      "min_width": null,
      "object_fit": null,
      "object_position": null,
      "order": null,
      "overflow": null,
      "overflow_x": null,
      "overflow_y": null,
      "padding": null,
      "right": null,
      "top": null,
      "visibility": null,
      "width": null
     }
    },
    "621438d887ba44c7ac7eb0aa5190072d": {
     "model_module": "@jupyter-widgets/controls",
     "model_module_version": "1.5.0",
     "model_name": "FloatProgressModel",
     "state": {
      "_dom_classes": [],
      "_model_module": "@jupyter-widgets/controls",
      "_model_module_version": "1.5.0",
      "_model_name": "FloatProgressModel",
      "_view_count": null,
      "_view_module": "@jupyter-widgets/controls",
      "_view_module_version": "1.5.0",
      "_view_name": "ProgressView",
      "bar_style": "success",
      "description": "",
      "description_tooltip": null,
      "layout": "IPY_MODEL_00dc5fc07a36451a8c2ff6e40bb9c5e0",
      "max": 2478,
      "min": 0,
      "orientation": "horizontal",
      "style": "IPY_MODEL_c5ef30d8871740fcb726565d622ddaef",
      "value": 2478
     }
    },
    "6b8934418df04998a7fdaa7c3b9ed67a": {
     "model_module": "@jupyter-widgets/controls",
     "model_module_version": "1.5.0",
     "model_name": "HTMLModel",
     "state": {
      "_dom_classes": [],
      "_model_module": "@jupyter-widgets/controls",
      "_model_module_version": "1.5.0",
      "_model_name": "HTMLModel",
      "_view_count": null,
      "_view_module": "@jupyter-widgets/controls",
      "_view_module_version": "1.5.0",
      "_view_name": "HTMLView",
      "description": "",
      "description_tooltip": null,
      "layout": "IPY_MODEL_b3c879ac813245e18f343e4ce0707c59",
      "placeholder": "​",
      "style": "IPY_MODEL_4ecdacf9978d454c8ff7347ee3a7987e",
      "value": " 6.06k/? [00:00&lt;00:00, 141kB/s]"
     }
    },
    "77b256bc412d4167ad9e15b93e30044e": {
     "model_module": "@jupyter-widgets/controls",
     "model_module_version": "1.5.0",
     "model_name": "HTMLModel",
     "state": {
      "_dom_classes": [],
      "_model_module": "@jupyter-widgets/controls",
      "_model_module_version": "1.5.0",
      "_model_name": "HTMLModel",
      "_view_count": null,
      "_view_module": "@jupyter-widgets/controls",
      "_view_module_version": "1.5.0",
      "_view_name": "HTMLView",
      "description": "",
      "description_tooltip": null,
      "layout": "IPY_MODEL_5ed8f4eaebab4b089d0b5d657ee6cbc6",
      "placeholder": "​",
      "style": "IPY_MODEL_59cdd85dfd754c6abc2ee9bb9f35e3b8",
      "value": " 4.07k/? [00:00&lt;00:00, 181kB/s]"
     }
    },
    "97f7297ebe70479fafc9c45444e4eac9": {
     "model_module": "@jupyter-widgets/controls",
     "model_module_version": "1.5.0",
     "model_name": "HTMLModel",
     "state": {
      "_dom_classes": [],
      "_model_module": "@jupyter-widgets/controls",
      "_model_module_version": "1.5.0",
      "_model_name": "HTMLModel",
      "_view_count": null,
      "_view_module": "@jupyter-widgets/controls",
      "_view_module_version": "1.5.0",
      "_view_name": "HTMLView",
      "description": "",
      "description_tooltip": null,
      "layout": "IPY_MODEL_f9172bcfe15244929b16fef5e8916caa",
      "placeholder": "​",
      "style": "IPY_MODEL_e849794def5245cb894361fbc5286dc4",
      "value": "Downloading builder script: "
     }
    },
    "a3f38cfd1a764918905d067598b02541": {
     "model_module": "@jupyter-widgets/base",
     "model_module_version": "1.2.0",
     "model_name": "LayoutModel",
     "state": {
      "_model_module": "@jupyter-widgets/base",
      "_model_module_version": "1.2.0",
      "_model_name": "LayoutModel",
      "_view_count": null,
      "_view_module": "@jupyter-widgets/base",
      "_view_module_version": "1.2.0",
      "_view_name": "LayoutView",
      "align_content": null,
      "align_items": null,
      "align_self": null,
      "border": null,
      "bottom": null,
      "display": null,
      "flex": null,
      "flex_flow": null,
      "grid_area": null,
      "grid_auto_columns": null,
      "grid_auto_flow": null,
      "grid_auto_rows": null,
      "grid_column": null,
      "grid_gap": null,
      "grid_row": null,
      "grid_template_areas": null,
      "grid_template_columns": null,
      "grid_template_rows": null,
      "height": null,
      "justify_content": null,
      "justify_items": null,
      "left": null,
      "margin": null,
      "max_height": null,
      "max_width": null,
      "min_height": null,
      "min_width": null,
      "object_fit": null,
      "object_position": null,
      "order": null,
      "overflow": null,
      "overflow_x": null,
      "overflow_y": null,
      "padding": null,
      "right": null,
      "top": null,
      "visibility": null,
      "width": null
     }
    },
    "a5f83a1dd73c4ad89010c2af53f29804": {
     "model_module": "@jupyter-widgets/base",
     "model_module_version": "1.2.0",
     "model_name": "LayoutModel",
     "state": {
      "_model_module": "@jupyter-widgets/base",
      "_model_module_version": "1.2.0",
      "_model_name": "LayoutModel",
      "_view_count": null,
      "_view_module": "@jupyter-widgets/base",
      "_view_module_version": "1.2.0",
      "_view_name": "LayoutView",
      "align_content": null,
      "align_items": null,
      "align_self": null,
      "border": null,
      "bottom": null,
      "display": null,
      "flex": null,
      "flex_flow": null,
      "grid_area": null,
      "grid_auto_columns": null,
      "grid_auto_flow": null,
      "grid_auto_rows": null,
      "grid_column": null,
      "grid_gap": null,
      "grid_row": null,
      "grid_template_areas": null,
      "grid_template_columns": null,
      "grid_template_rows": null,
      "height": null,
      "justify_content": null,
      "justify_items": null,
      "left": null,
      "margin": null,
      "max_height": null,
      "max_width": null,
      "min_height": null,
      "min_width": null,
      "object_fit": null,
      "object_position": null,
      "order": null,
      "overflow": null,
      "overflow_x": null,
      "overflow_y": null,
      "padding": null,
      "right": null,
      "top": null,
      "visibility": null,
      "width": null
     }
    },
    "b3c879ac813245e18f343e4ce0707c59": {
     "model_module": "@jupyter-widgets/base",
     "model_module_version": "1.2.0",
     "model_name": "LayoutModel",
     "state": {
      "_model_module": "@jupyter-widgets/base",
      "_model_module_version": "1.2.0",
      "_model_name": "LayoutModel",
      "_view_count": null,
      "_view_module": "@jupyter-widgets/base",
      "_view_module_version": "1.2.0",
      "_view_name": "LayoutView",
      "align_content": null,
      "align_items": null,
      "align_self": null,
      "border": null,
      "bottom": null,
      "display": null,
      "flex": null,
      "flex_flow": null,
      "grid_area": null,
      "grid_auto_columns": null,
      "grid_auto_flow": null,
      "grid_auto_rows": null,
      "grid_column": null,
      "grid_gap": null,
      "grid_row": null,
      "grid_template_areas": null,
      "grid_template_columns": null,
      "grid_template_rows": null,
      "height": null,
      "justify_content": null,
      "justify_items": null,
      "left": null,
      "margin": null,
      "max_height": null,
      "max_width": null,
      "min_height": null,
      "min_width": null,
      "object_fit": null,
      "object_position": null,
      "order": null,
      "overflow": null,
      "overflow_x": null,
      "overflow_y": null,
      "padding": null,
      "right": null,
      "top": null,
      "visibility": null,
      "width": null
     }
    },
    "be5e3e6caaba45eca85ddd5e147d89a8": {
     "model_module": "@jupyter-widgets/controls",
     "model_module_version": "1.5.0",
     "model_name": "DescriptionStyleModel",
     "state": {
      "_model_module": "@jupyter-widgets/controls",
      "_model_module_version": "1.5.0",
      "_model_name": "DescriptionStyleModel",
      "_view_count": null,
      "_view_module": "@jupyter-widgets/base",
      "_view_module_version": "1.2.0",
      "_view_name": "StyleView",
      "description_width": ""
     }
    },
    "beb9244dcb4043109bf4c15ee991dcd6": {
     "model_module": "@jupyter-widgets/controls",
     "model_module_version": "1.5.0",
     "model_name": "HTMLModel",
     "state": {
      "_dom_classes": [],
      "_model_module": "@jupyter-widgets/controls",
      "_model_module_version": "1.5.0",
      "_model_name": "HTMLModel",
      "_view_count": null,
      "_view_module": "@jupyter-widgets/controls",
      "_view_module_version": "1.5.0",
      "_view_name": "HTMLView",
      "description": "",
      "description_tooltip": null,
      "layout": "IPY_MODEL_22bea542a7d249b0b8900f9e874d94de",
      "placeholder": "​",
      "style": "IPY_MODEL_be5e3e6caaba45eca85ddd5e147d89a8",
      "value": "Downloading extra modules: "
     }
    },
    "c5ef30d8871740fcb726565d622ddaef": {
     "model_module": "@jupyter-widgets/controls",
     "model_module_version": "1.5.0",
     "model_name": "ProgressStyleModel",
     "state": {
      "_model_module": "@jupyter-widgets/controls",
      "_model_module_version": "1.5.0",
      "_model_name": "ProgressStyleModel",
      "_view_count": null,
      "_view_module": "@jupyter-widgets/base",
      "_view_module_version": "1.2.0",
      "_view_name": "StyleView",
      "bar_color": null,
      "description_width": ""
     }
    },
    "d0caff30d97c4a35af207940d4d28664": {
     "model_module": "@jupyter-widgets/controls",
     "model_module_version": "1.5.0",
     "model_name": "FloatProgressModel",
     "state": {
      "_dom_classes": [],
      "_model_module": "@jupyter-widgets/controls",
      "_model_module_version": "1.5.0",
      "_model_name": "FloatProgressModel",
      "_view_count": null,
      "_view_module": "@jupyter-widgets/controls",
      "_view_module_version": "1.5.0",
      "_view_name": "ProgressView",
      "bar_style": "success",
      "description": "",
      "description_tooltip": null,
      "layout": "IPY_MODEL_fa53955742c54505a550e0aa6439b237",
      "max": 1554,
      "min": 0,
      "orientation": "horizontal",
      "style": "IPY_MODEL_3081e2d0ecfe4dcdb1d5f306d5200724",
      "value": 1554
     }
    },
    "d914b796d66c491eaed9c2d70b2dd916": {
     "model_module": "@jupyter-widgets/controls",
     "model_module_version": "1.5.0",
     "model_name": "HBoxModel",
     "state": {
      "_dom_classes": [],
      "_model_module": "@jupyter-widgets/controls",
      "_model_module_version": "1.5.0",
      "_model_name": "HBoxModel",
      "_view_count": null,
      "_view_module": "@jupyter-widgets/controls",
      "_view_module_version": "1.5.0",
      "_view_name": "HBoxView",
      "box_style": "",
      "children": [
       "IPY_MODEL_97f7297ebe70479fafc9c45444e4eac9",
       "IPY_MODEL_621438d887ba44c7ac7eb0aa5190072d",
       "IPY_MODEL_6b8934418df04998a7fdaa7c3b9ed67a"
      ],
      "layout": "IPY_MODEL_a3f38cfd1a764918905d067598b02541"
     }
    },
    "e849794def5245cb894361fbc5286dc4": {
     "model_module": "@jupyter-widgets/controls",
     "model_module_version": "1.5.0",
     "model_name": "DescriptionStyleModel",
     "state": {
      "_model_module": "@jupyter-widgets/controls",
      "_model_module_version": "1.5.0",
      "_model_name": "DescriptionStyleModel",
      "_view_count": null,
      "_view_module": "@jupyter-widgets/base",
      "_view_module_version": "1.2.0",
      "_view_name": "StyleView",
      "description_width": ""
     }
    },
    "f9172bcfe15244929b16fef5e8916caa": {
     "model_module": "@jupyter-widgets/base",
     "model_module_version": "1.2.0",
     "model_name": "LayoutModel",
     "state": {
      "_model_module": "@jupyter-widgets/base",
      "_model_module_version": "1.2.0",
      "_model_name": "LayoutModel",
      "_view_count": null,
      "_view_module": "@jupyter-widgets/base",
      "_view_module_version": "1.2.0",
      "_view_name": "LayoutView",
      "align_content": null,
      "align_items": null,
      "align_self": null,
      "border": null,
      "bottom": null,
      "display": null,
      "flex": null,
      "flex_flow": null,
      "grid_area": null,
      "grid_auto_columns": null,
      "grid_auto_flow": null,
      "grid_auto_rows": null,
      "grid_column": null,
      "grid_gap": null,
      "grid_row": null,
      "grid_template_areas": null,
      "grid_template_columns": null,
      "grid_template_rows": null,
      "height": null,
      "justify_content": null,
      "justify_items": null,
      "left": null,
      "margin": null,
      "max_height": null,
      "max_width": null,
      "min_height": null,
      "min_width": null,
      "object_fit": null,
      "object_position": null,
      "order": null,
      "overflow": null,
      "overflow_x": null,
      "overflow_y": null,
      "padding": null,
      "right": null,
      "top": null,
      "visibility": null,
      "width": null
     }
    },
    "fa53955742c54505a550e0aa6439b237": {
     "model_module": "@jupyter-widgets/base",
     "model_module_version": "1.2.0",
     "model_name": "LayoutModel",
     "state": {
      "_model_module": "@jupyter-widgets/base",
      "_model_module_version": "1.2.0",
      "_model_name": "LayoutModel",
      "_view_count": null,
      "_view_module": "@jupyter-widgets/base",
      "_view_module_version": "1.2.0",
      "_view_name": "LayoutView",
      "align_content": null,
      "align_items": null,
      "align_self": null,
      "border": null,
      "bottom": null,
      "display": null,
      "flex": null,
      "flex_flow": null,
      "grid_area": null,
      "grid_auto_columns": null,
      "grid_auto_flow": null,
      "grid_auto_rows": null,
      "grid_column": null,
      "grid_gap": null,
      "grid_row": null,
      "grid_template_areas": null,
      "grid_template_columns": null,
      "grid_template_rows": null,
      "height": null,
      "justify_content": null,
      "justify_items": null,
      "left": null,
      "margin": null,
      "max_height": null,
      "max_width": null,
      "min_height": null,
      "min_width": null,
      "object_fit": null,
      "object_position": null,
      "order": null,
      "overflow": null,
      "overflow_x": null,
      "overflow_y": null,
      "padding": null,
      "right": null,
      "top": null,
      "visibility": null,
      "width": null
     }
    }
   }
  }
 },
 "nbformat": 4,
 "nbformat_minor": 4
}
